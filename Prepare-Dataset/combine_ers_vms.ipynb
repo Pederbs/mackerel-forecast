{
 "cells": [
  {
   "cell_type": "code",
   "execution_count": 1,
   "id": "80e77712",
   "metadata": {},
   "outputs": [],
   "source": [
    "import pandas as pd\n",
    "from geopy.distance import geodesic"
   ]
  },
  {
   "cell_type": "code",
   "execution_count": 4,
   "id": "7159f32f",
   "metadata": {},
   "outputs": [
    {
     "name": "stderr",
     "output_type": "stream",
     "text": [
      "/tmp/ipykernel_170213/529539037.py:1: DtypeWarning: Columns (7,11,12,13) have mixed types. Specify dtype option on import or set low_memory=False.\n",
      "  complete = pd.read_csv('/home/anna/msc_oppgave/fish-forecast/TEST_MAC_ERS_VMS_COMPLETE.csv', sep=\";\")\n"
     ]
    },
    {
     "data": {
      "text/html": [
       "<div>\n",
       "<style scoped>\n",
       "    .dataframe tbody tr th:only-of-type {\n",
       "        vertical-align: middle;\n",
       "    }\n",
       "\n",
       "    .dataframe tbody tr th {\n",
       "        vertical-align: top;\n",
       "    }\n",
       "\n",
       "    .dataframe thead th {\n",
       "        text-align: right;\n",
       "    }\n",
       "</style>\n",
       "<table border=\"1\" class=\"dataframe\">\n",
       "  <thead>\n",
       "    <tr style=\"text-align: right;\">\n",
       "      <th></th>\n",
       "      <th>Starttidspunkt</th>\n",
       "      <th>Fartøyidentifikasjon</th>\n",
       "      <th>Source</th>\n",
       "      <th>CatchLat</th>\n",
       "      <th>CatchLon</th>\n",
       "      <th>Startposisjon bredde</th>\n",
       "      <th>Startposisjon lengde</th>\n",
       "      <th>Stopptidspunkt</th>\n",
       "      <th>Stopposisjon bredde</th>\n",
       "      <th>Stopposisjon lengde</th>\n",
       "      <th>Rundvekt</th>\n",
       "      <th>Method</th>\n",
       "      <th>Location</th>\n",
       "      <th>Date</th>\n",
       "      <th>distance_km</th>\n",
       "      <th>elapsed_time_hours</th>\n",
       "      <th>speed</th>\n",
       "    </tr>\n",
       "  </thead>\n",
       "  <tbody>\n",
       "    <tr>\n",
       "      <th>791015</th>\n",
       "      <td>2011-09-01 04:00:00</td>\n",
       "      <td>FYRHOLM - LKIB - H 0010B</td>\n",
       "      <td>ERS</td>\n",
       "      <td>60.269</td>\n",
       "      <td>3.469</td>\n",
       "      <td>60.122</td>\n",
       "      <td>3.238</td>\n",
       "      <td>2011-09-01 19:00:00</td>\n",
       "      <td>60.269</td>\n",
       "      <td>3.469</td>\n",
       "      <td>2000.0</td>\n",
       "      <td>stop</td>\n",
       "      <td>(60.269, 3.469)</td>\n",
       "      <td>2011-09-01</td>\n",
       "      <td>20.794978</td>\n",
       "      <td>15.000000</td>\n",
       "      <td>1.386332</td>\n",
       "    </tr>\n",
       "    <tr>\n",
       "      <th>791016</th>\n",
       "      <td>2011-09-01 04:00:00</td>\n",
       "      <td>FYRHOLM - LKIB - H 0010B</td>\n",
       "      <td>ERS</td>\n",
       "      <td>60.122</td>\n",
       "      <td>3.238</td>\n",
       "      <td>60.122</td>\n",
       "      <td>3.238</td>\n",
       "      <td>2011-09-01 19:00:00</td>\n",
       "      <td>60.269</td>\n",
       "      <td>3.469</td>\n",
       "      <td>2000.0</td>\n",
       "      <td>start</td>\n",
       "      <td>(60.122, 3.238)</td>\n",
       "      <td>2011-09-01</td>\n",
       "      <td>20.794978</td>\n",
       "      <td>15.000000</td>\n",
       "      <td>1.386332</td>\n",
       "    </tr>\n",
       "    <tr>\n",
       "      <th>791017</th>\n",
       "      <td>2011-09-01 04:13:00</td>\n",
       "      <td>AMBASSADOR - LJBI - R 0126K</td>\n",
       "      <td>ERS</td>\n",
       "      <td>60.770</td>\n",
       "      <td>2.434</td>\n",
       "      <td>60.520</td>\n",
       "      <td>2.150</td>\n",
       "      <td>2011-09-01 19:41:00</td>\n",
       "      <td>60.770</td>\n",
       "      <td>2.434</td>\n",
       "      <td>10000.0</td>\n",
       "      <td>stop</td>\n",
       "      <td>(60.77, 2.434)</td>\n",
       "      <td>2011-09-01</td>\n",
       "      <td>31.896104</td>\n",
       "      <td>15.466667</td>\n",
       "      <td>2.062248</td>\n",
       "    </tr>\n",
       "    <tr>\n",
       "      <th>791018</th>\n",
       "      <td>2011-09-01 04:13:00</td>\n",
       "      <td>AMBASSADOR - LJBI - R 0126K</td>\n",
       "      <td>ERS</td>\n",
       "      <td>60.520</td>\n",
       "      <td>2.150</td>\n",
       "      <td>60.520</td>\n",
       "      <td>2.150</td>\n",
       "      <td>2011-09-01 19:41:00</td>\n",
       "      <td>60.770</td>\n",
       "      <td>2.434</td>\n",
       "      <td>10000.0</td>\n",
       "      <td>start</td>\n",
       "      <td>(60.52, 2.15)</td>\n",
       "      <td>2011-09-01</td>\n",
       "      <td>31.896104</td>\n",
       "      <td>15.466667</td>\n",
       "      <td>2.062248</td>\n",
       "    </tr>\n",
       "    <tr>\n",
       "      <th>791019</th>\n",
       "      <td>2011-09-01 04:27:00</td>\n",
       "      <td>SHEIK - LLSO - VA0055S</td>\n",
       "      <td>ERS</td>\n",
       "      <td>60.855</td>\n",
       "      <td>2.031</td>\n",
       "      <td>60.368</td>\n",
       "      <td>2.080</td>\n",
       "      <td>2011-09-01 19:45:00</td>\n",
       "      <td>60.855</td>\n",
       "      <td>2.031</td>\n",
       "      <td>8000.0</td>\n",
       "      <td>stop</td>\n",
       "      <td>(60.855, 2.031)</td>\n",
       "      <td>2011-09-01</td>\n",
       "      <td>54.329126</td>\n",
       "      <td>15.300000</td>\n",
       "      <td>3.550923</td>\n",
       "    </tr>\n",
       "  </tbody>\n",
       "</table>\n",
       "</div>"
      ],
      "text/plain": [
       "             Starttidspunkt         Fartøyidentifikasjon Source  CatchLat  \\\n",
       "791015  2011-09-01 04:00:00     FYRHOLM - LKIB - H 0010B    ERS    60.269   \n",
       "791016  2011-09-01 04:00:00     FYRHOLM - LKIB - H 0010B    ERS    60.122   \n",
       "791017  2011-09-01 04:13:00  AMBASSADOR - LJBI - R 0126K    ERS    60.770   \n",
       "791018  2011-09-01 04:13:00  AMBASSADOR - LJBI - R 0126K    ERS    60.520   \n",
       "791019  2011-09-01 04:27:00       SHEIK - LLSO - VA0055S    ERS    60.855   \n",
       "\n",
       "        CatchLon  Startposisjon bredde  Startposisjon lengde  \\\n",
       "791015     3.469                60.122                 3.238   \n",
       "791016     3.238                60.122                 3.238   \n",
       "791017     2.434                60.520                 2.150   \n",
       "791018     2.150                60.520                 2.150   \n",
       "791019     2.031                60.368                 2.080   \n",
       "\n",
       "             Stopptidspunkt  Stopposisjon bredde  Stopposisjon lengde  \\\n",
       "791015  2011-09-01 19:00:00               60.269                3.469   \n",
       "791016  2011-09-01 19:00:00               60.269                3.469   \n",
       "791017  2011-09-01 19:41:00               60.770                2.434   \n",
       "791018  2011-09-01 19:41:00               60.770                2.434   \n",
       "791019  2011-09-01 19:45:00               60.855                2.031   \n",
       "\n",
       "        Rundvekt Method         Location        Date  distance_km  \\\n",
       "791015    2000.0   stop  (60.269, 3.469)  2011-09-01    20.794978   \n",
       "791016    2000.0  start  (60.122, 3.238)  2011-09-01    20.794978   \n",
       "791017   10000.0   stop   (60.77, 2.434)  2011-09-01    31.896104   \n",
       "791018   10000.0  start    (60.52, 2.15)  2011-09-01    31.896104   \n",
       "791019    8000.0   stop  (60.855, 2.031)  2011-09-01    54.329126   \n",
       "\n",
       "        elapsed_time_hours     speed  \n",
       "791015           15.000000  1.386332  \n",
       "791016           15.000000  1.386332  \n",
       "791017           15.466667  2.062248  \n",
       "791018           15.466667  2.062248  \n",
       "791019           15.300000  3.550923  "
      ]
     },
     "execution_count": 4,
     "metadata": {},
     "output_type": "execute_result"
    }
   ],
   "source": [
    "complete = pd.read_csv('/home/anna/msc_oppgave/fish-forecast/TEST_MAC_ERS_VMS_COMPLETE.csv', sep=\";\")\n",
    "\n",
    "complete.dropna().head()"
   ]
  },
  {
   "cell_type": "code",
   "execution_count": null,
   "id": "d2e3ba7f",
   "metadata": {},
   "outputs": [
    {
     "name": "stderr",
     "output_type": "stream",
     "text": [
      "/home/anna/msc_oppgave/fish-forecast/.venv/lib/python3.10/site-packages/pandas/core/nanops.py:1016: RuntimeWarning: invalid value encountered in subtract\n",
      "  sqr = _ensure_numeric((avg - values) ** 2)\n"
     ]
    },
    {
     "data": {
      "text/html": [
       "<div>\n",
       "<style scoped>\n",
       "    .dataframe tbody tr th:only-of-type {\n",
       "        vertical-align: middle;\n",
       "    }\n",
       "\n",
       "    .dataframe tbody tr th {\n",
       "        vertical-align: top;\n",
       "    }\n",
       "\n",
       "    .dataframe thead th {\n",
       "        text-align: right;\n",
       "    }\n",
       "</style>\n",
       "<table border=\"1\" class=\"dataframe\">\n",
       "  <thead>\n",
       "    <tr style=\"text-align: right;\">\n",
       "      <th></th>\n",
       "      <th>Starttidspunkt</th>\n",
       "      <th>CatchLat</th>\n",
       "      <th>CatchLon</th>\n",
       "      <th>Startposisjon bredde</th>\n",
       "      <th>Startposisjon lengde</th>\n",
       "      <th>Stopposisjon bredde</th>\n",
       "      <th>Stopposisjon lengde</th>\n",
       "      <th>Rundvekt</th>\n",
       "      <th>Date</th>\n",
       "      <th>distance_km</th>\n",
       "      <th>elapsed_time_hours</th>\n",
       "      <th>speed</th>\n",
       "    </tr>\n",
       "  </thead>\n",
       "  <tbody>\n",
       "    <tr>\n",
       "      <th>count</th>\n",
       "      <td>167090</td>\n",
       "      <td>167090.000000</td>\n",
       "      <td>167090.000000</td>\n",
       "      <td>35150.000000</td>\n",
       "      <td>35150.000000</td>\n",
       "      <td>35150.000000</td>\n",
       "      <td>35150.000000</td>\n",
       "      <td>3.515000e+04</td>\n",
       "      <td>167090</td>\n",
       "      <td>35150.000000</td>\n",
       "      <td>35150.000000</td>\n",
       "      <td>3.510500e+04</td>\n",
       "    </tr>\n",
       "    <tr>\n",
       "      <th>mean</th>\n",
       "      <td>2021-02-19 04:40:16.017499648</td>\n",
       "      <td>62.039057</td>\n",
       "      <td>1.993900</td>\n",
       "      <td>61.940982</td>\n",
       "      <td>1.605042</td>\n",
       "      <td>61.961021</td>\n",
       "      <td>1.640858</td>\n",
       "      <td>1.323548e+05</td>\n",
       "      <td>2021-02-18 16:08:42.602190336</td>\n",
       "      <td>9.554197</td>\n",
       "      <td>2.950776</td>\n",
       "      <td>inf</td>\n",
       "    </tr>\n",
       "    <tr>\n",
       "      <th>min</th>\n",
       "      <td>2011-07-31 06:41:00</td>\n",
       "      <td>57.563200</td>\n",
       "      <td>-3.133000</td>\n",
       "      <td>54.751000</td>\n",
       "      <td>-10.000000</td>\n",
       "      <td>0.422000</td>\n",
       "      <td>-5.000000</td>\n",
       "      <td>1.000000e+00</td>\n",
       "      <td>2011-07-31 00:00:00</td>\n",
       "      <td>0.000000</td>\n",
       "      <td>0.000000</td>\n",
       "      <td>0.000000e+00</td>\n",
       "    </tr>\n",
       "    <tr>\n",
       "      <th>25%</th>\n",
       "      <td>2018-10-17 15:00:30</td>\n",
       "      <td>60.099000</td>\n",
       "      <td>0.555000</td>\n",
       "      <td>60.006000</td>\n",
       "      <td>0.026000</td>\n",
       "      <td>60.016000</td>\n",
       "      <td>0.033000</td>\n",
       "      <td>2.500000e+04</td>\n",
       "      <td>2018-10-17 00:00:00</td>\n",
       "      <td>1.056721</td>\n",
       "      <td>1.483333</td>\n",
       "      <td>6.372057e-01</td>\n",
       "    </tr>\n",
       "    <tr>\n",
       "      <th>50%</th>\n",
       "      <td>2022-09-24 19:59:30</td>\n",
       "      <td>62.600000</td>\n",
       "      <td>1.977300</td>\n",
       "      <td>62.304000</td>\n",
       "      <td>1.550000</td>\n",
       "      <td>62.333000</td>\n",
       "      <td>1.567000</td>\n",
       "      <td>8.000000e+04</td>\n",
       "      <td>2022-09-24 00:00:00</td>\n",
       "      <td>2.132947</td>\n",
       "      <td>2.083333</td>\n",
       "      <td>1.176784e+00</td>\n",
       "    </tr>\n",
       "    <tr>\n",
       "      <th>75%</th>\n",
       "      <td>2023-11-02 06:09:30</td>\n",
       "      <td>63.820100</td>\n",
       "      <td>3.300000</td>\n",
       "      <td>63.795750</td>\n",
       "      <td>2.817000</td>\n",
       "      <td>63.814000</td>\n",
       "      <td>2.833000</td>\n",
       "      <td>1.850000e+05</td>\n",
       "      <td>2023-11-02 00:00:00</td>\n",
       "      <td>6.290538</td>\n",
       "      <td>3.166667</td>\n",
       "      <td>2.405506e+00</td>\n",
       "    </tr>\n",
       "    <tr>\n",
       "      <th>max</th>\n",
       "      <td>2024-11-22 02:14:00</td>\n",
       "      <td>72.231300</td>\n",
       "      <td>66.928700</td>\n",
       "      <td>68.233000</td>\n",
       "      <td>85.748000</td>\n",
       "      <td>89.133000</td>\n",
       "      <td>85.715000</td>\n",
       "      <td>3.200000e+06</td>\n",
       "      <td>2024-11-22 00:00:00</td>\n",
       "      <td>6876.631761</td>\n",
       "      <td>43.800000</td>\n",
       "      <td>inf</td>\n",
       "    </tr>\n",
       "    <tr>\n",
       "      <th>std</th>\n",
       "      <td>NaN</td>\n",
       "      <td>1.990663</td>\n",
       "      <td>1.885542</td>\n",
       "      <td>2.049915</td>\n",
       "      <td>1.973313</td>\n",
       "      <td>2.087142</td>\n",
       "      <td>1.977518</td>\n",
       "      <td>1.501115e+05</td>\n",
       "      <td>NaN</td>\n",
       "      <td>61.595771</td>\n",
       "      <td>2.781428</td>\n",
       "      <td>NaN</td>\n",
       "    </tr>\n",
       "  </tbody>\n",
       "</table>\n",
       "</div>"
      ],
      "text/plain": [
       "                      Starttidspunkt       CatchLat       CatchLon  \\\n",
       "count                         167090  167090.000000  167090.000000   \n",
       "mean   2021-02-19 04:40:16.017499648      62.039057       1.993900   \n",
       "min              2011-07-31 06:41:00      57.563200      -3.133000   \n",
       "25%              2018-10-17 15:00:30      60.099000       0.555000   \n",
       "50%              2022-09-24 19:59:30      62.600000       1.977300   \n",
       "75%              2023-11-02 06:09:30      63.820100       3.300000   \n",
       "max              2024-11-22 02:14:00      72.231300      66.928700   \n",
       "std                              NaN       1.990663       1.885542   \n",
       "\n",
       "       Startposisjon bredde  Startposisjon lengde  Stopposisjon bredde  \\\n",
       "count          35150.000000          35150.000000         35150.000000   \n",
       "mean              61.940982              1.605042            61.961021   \n",
       "min               54.751000            -10.000000             0.422000   \n",
       "25%               60.006000              0.026000            60.016000   \n",
       "50%               62.304000              1.550000            62.333000   \n",
       "75%               63.795750              2.817000            63.814000   \n",
       "max               68.233000             85.748000            89.133000   \n",
       "std                2.049915              1.973313             2.087142   \n",
       "\n",
       "       Stopposisjon lengde      Rundvekt                           Date  \\\n",
       "count         35150.000000  3.515000e+04                         167090   \n",
       "mean              1.640858  1.323548e+05  2021-02-18 16:08:42.602190336   \n",
       "min              -5.000000  1.000000e+00            2011-07-31 00:00:00   \n",
       "25%               0.033000  2.500000e+04            2018-10-17 00:00:00   \n",
       "50%               1.567000  8.000000e+04            2022-09-24 00:00:00   \n",
       "75%               2.833000  1.850000e+05            2023-11-02 00:00:00   \n",
       "max              85.715000  3.200000e+06            2024-11-22 00:00:00   \n",
       "std               1.977518  1.501115e+05                            NaN   \n",
       "\n",
       "        distance_km  elapsed_time_hours         speed  \n",
       "count  35150.000000        35150.000000  3.510500e+04  \n",
       "mean       9.554197            2.950776           inf  \n",
       "min        0.000000            0.000000  0.000000e+00  \n",
       "25%        1.056721            1.483333  6.372057e-01  \n",
       "50%        2.132947            2.083333  1.176784e+00  \n",
       "75%        6.290538            3.166667  2.405506e+00  \n",
       "max     6876.631761           43.800000           inf  \n",
       "std       61.595771            2.781428           NaN  "
      ]
     },
     "execution_count": 10,
     "metadata": {},
     "output_type": "execute_result"
    }
   ],
   "source": [
    "complete['Starttidspunkt'] = pd.to_datetime(complete['Starttidspunkt'], format='%Y-%m-%d %H:%M:%S')\n",
    "complete['Date'] = pd.to_datetime(complete['Date'], format='%Y-%m-%d')\n",
    "\n",
    "# populate all Date values == na with Starttidspunkt values\n",
    "complete['Date'] = complete['Date'].fillna(complete['Starttidspunkt'].dt.date)\n",
    "complete.head()\n",
    "\n",
    "# remove duplicated catch locations for each date\n",
    "complete = complete.drop_duplicates(subset=['Date', 'CatchLat', 'CatchLon'])\n",
    "complete.describe()"
   ]
  },
  {
   "cell_type": "code",
   "execution_count": 18,
   "id": "ce8d20fe",
   "metadata": {},
   "outputs": [
    {
     "name": "stdout",
     "output_type": "stream",
     "text": [
      "Unique dates in complete: 1170\n"
     ]
    },
    {
     "data": {
      "text/html": [
       "<div>\n",
       "<style scoped>\n",
       "    .dataframe tbody tr th:only-of-type {\n",
       "        vertical-align: middle;\n",
       "    }\n",
       "\n",
       "    .dataframe tbody tr th {\n",
       "        vertical-align: top;\n",
       "    }\n",
       "\n",
       "    .dataframe thead th {\n",
       "        text-align: right;\n",
       "    }\n",
       "</style>\n",
       "<table border=\"1\" class=\"dataframe\">\n",
       "  <thead>\n",
       "    <tr style=\"text-align: right;\">\n",
       "      <th></th>\n",
       "      <th>Starttidspunkt</th>\n",
       "      <th>Fartøyidentifikasjon</th>\n",
       "      <th>Source</th>\n",
       "      <th>CatchLat</th>\n",
       "      <th>CatchLon</th>\n",
       "      <th>Startposisjon bredde</th>\n",
       "      <th>Startposisjon lengde</th>\n",
       "      <th>Stopptidspunkt</th>\n",
       "      <th>Stopposisjon bredde</th>\n",
       "      <th>Stopposisjon lengde</th>\n",
       "      <th>Rundvekt</th>\n",
       "      <th>Method</th>\n",
       "      <th>Location</th>\n",
       "      <th>Date</th>\n",
       "      <th>distance_km</th>\n",
       "      <th>elapsed_time_hours</th>\n",
       "      <th>speed</th>\n",
       "    </tr>\n",
       "  </thead>\n",
       "  <tbody>\n",
       "    <tr>\n",
       "      <th>791015</th>\n",
       "      <td>2011-09-01 04:00:00</td>\n",
       "      <td>FYRHOLM - LKIB - H 0010B</td>\n",
       "      <td>ERS</td>\n",
       "      <td>60.269</td>\n",
       "      <td>3.469</td>\n",
       "      <td>60.122</td>\n",
       "      <td>3.238</td>\n",
       "      <td>2011-09-01 19:00:00</td>\n",
       "      <td>60.269</td>\n",
       "      <td>3.469</td>\n",
       "      <td>2000.0</td>\n",
       "      <td>stop</td>\n",
       "      <td>(60.269, 3.469)</td>\n",
       "      <td>2011-09-01</td>\n",
       "      <td>20.794978</td>\n",
       "      <td>15.000000</td>\n",
       "      <td>1.386332</td>\n",
       "    </tr>\n",
       "    <tr>\n",
       "      <th>791016</th>\n",
       "      <td>2011-09-01 04:00:00</td>\n",
       "      <td>FYRHOLM - LKIB - H 0010B</td>\n",
       "      <td>ERS</td>\n",
       "      <td>60.122</td>\n",
       "      <td>3.238</td>\n",
       "      <td>60.122</td>\n",
       "      <td>3.238</td>\n",
       "      <td>2011-09-01 19:00:00</td>\n",
       "      <td>60.269</td>\n",
       "      <td>3.469</td>\n",
       "      <td>2000.0</td>\n",
       "      <td>start</td>\n",
       "      <td>(60.122, 3.238)</td>\n",
       "      <td>2011-09-01</td>\n",
       "      <td>20.794978</td>\n",
       "      <td>15.000000</td>\n",
       "      <td>1.386332</td>\n",
       "    </tr>\n",
       "    <tr>\n",
       "      <th>791017</th>\n",
       "      <td>2011-09-01 04:13:00</td>\n",
       "      <td>AMBASSADOR - LJBI - R 0126K</td>\n",
       "      <td>ERS</td>\n",
       "      <td>60.770</td>\n",
       "      <td>2.434</td>\n",
       "      <td>60.520</td>\n",
       "      <td>2.150</td>\n",
       "      <td>2011-09-01 19:41:00</td>\n",
       "      <td>60.770</td>\n",
       "      <td>2.434</td>\n",
       "      <td>10000.0</td>\n",
       "      <td>stop</td>\n",
       "      <td>(60.77, 2.434)</td>\n",
       "      <td>2011-09-01</td>\n",
       "      <td>31.896104</td>\n",
       "      <td>15.466667</td>\n",
       "      <td>2.062248</td>\n",
       "    </tr>\n",
       "    <tr>\n",
       "      <th>791018</th>\n",
       "      <td>2011-09-01 04:13:00</td>\n",
       "      <td>AMBASSADOR - LJBI - R 0126K</td>\n",
       "      <td>ERS</td>\n",
       "      <td>60.520</td>\n",
       "      <td>2.150</td>\n",
       "      <td>60.520</td>\n",
       "      <td>2.150</td>\n",
       "      <td>2011-09-01 19:41:00</td>\n",
       "      <td>60.770</td>\n",
       "      <td>2.434</td>\n",
       "      <td>10000.0</td>\n",
       "      <td>start</td>\n",
       "      <td>(60.52, 2.15)</td>\n",
       "      <td>2011-09-01</td>\n",
       "      <td>31.896104</td>\n",
       "      <td>15.466667</td>\n",
       "      <td>2.062248</td>\n",
       "    </tr>\n",
       "    <tr>\n",
       "      <th>791019</th>\n",
       "      <td>2011-09-01 04:27:00</td>\n",
       "      <td>SHEIK - LLSO - VA0055S</td>\n",
       "      <td>ERS</td>\n",
       "      <td>60.855</td>\n",
       "      <td>2.031</td>\n",
       "      <td>60.368</td>\n",
       "      <td>2.080</td>\n",
       "      <td>2011-09-01 19:45:00</td>\n",
       "      <td>60.855</td>\n",
       "      <td>2.031</td>\n",
       "      <td>8000.0</td>\n",
       "      <td>stop</td>\n",
       "      <td>(60.855, 2.031)</td>\n",
       "      <td>2011-09-01</td>\n",
       "      <td>54.329126</td>\n",
       "      <td>15.300000</td>\n",
       "      <td>3.550923</td>\n",
       "    </tr>\n",
       "  </tbody>\n",
       "</table>\n",
       "</div>"
      ],
      "text/plain": [
       "            Starttidspunkt         Fartøyidentifikasjon Source  CatchLat  \\\n",
       "791015 2011-09-01 04:00:00     FYRHOLM - LKIB - H 0010B    ERS    60.269   \n",
       "791016 2011-09-01 04:00:00     FYRHOLM - LKIB - H 0010B    ERS    60.122   \n",
       "791017 2011-09-01 04:13:00  AMBASSADOR - LJBI - R 0126K    ERS    60.770   \n",
       "791018 2011-09-01 04:13:00  AMBASSADOR - LJBI - R 0126K    ERS    60.520   \n",
       "791019 2011-09-01 04:27:00       SHEIK - LLSO - VA0055S    ERS    60.855   \n",
       "\n",
       "        CatchLon  Startposisjon bredde  Startposisjon lengde  \\\n",
       "791015     3.469                60.122                 3.238   \n",
       "791016     3.238                60.122                 3.238   \n",
       "791017     2.434                60.520                 2.150   \n",
       "791018     2.150                60.520                 2.150   \n",
       "791019     2.031                60.368                 2.080   \n",
       "\n",
       "             Stopptidspunkt  Stopposisjon bredde  Stopposisjon lengde  \\\n",
       "791015  2011-09-01 19:00:00               60.269                3.469   \n",
       "791016  2011-09-01 19:00:00               60.269                3.469   \n",
       "791017  2011-09-01 19:41:00               60.770                2.434   \n",
       "791018  2011-09-01 19:41:00               60.770                2.434   \n",
       "791019  2011-09-01 19:45:00               60.855                2.031   \n",
       "\n",
       "        Rundvekt Method         Location       Date  distance_km  \\\n",
       "791015    2000.0   stop  (60.269, 3.469) 2011-09-01    20.794978   \n",
       "791016    2000.0  start  (60.122, 3.238) 2011-09-01    20.794978   \n",
       "791017   10000.0   stop   (60.77, 2.434) 2011-09-01    31.896104   \n",
       "791018   10000.0  start    (60.52, 2.15) 2011-09-01    31.896104   \n",
       "791019    8000.0   stop  (60.855, 2.031) 2011-09-01    54.329126   \n",
       "\n",
       "        elapsed_time_hours     speed  \n",
       "791015           15.000000  1.386332  \n",
       "791016           15.000000  1.386332  \n",
       "791017           15.466667  2.062248  \n",
       "791018           15.466667  2.062248  \n",
       "791019           15.300000  3.550923  "
      ]
     },
     "execution_count": 18,
     "metadata": {},
     "output_type": "execute_result"
    }
   ],
   "source": [
    "# find unique dates in complete\n",
    "unique_dates = complete['Date'].unique()\n",
    "print(f\"Unique dates in complete: {len(unique_dates)}\")\n",
    "complete[complete['Source']== 'ERS'].head()"
   ]
  },
  {
   "cell_type": "code",
   "execution_count": null,
   "id": "9c94f3ed",
   "metadata": {},
   "outputs": [
    {
     "name": "stdout",
     "output_type": "stream",
     "text": [
      "Index(['Starttidspunkt', 'Startposisjon bredde', 'Startposisjon lengde',\n",
      "       'Stopptidspunkt', 'Stopposisjon bredde', 'Stopposisjon lengde',\n",
      "       'Rundvekt', 'Fartøyidentifikasjon', 'CatchLat', 'CatchLon', 'Method',\n",
      "       'Location', 'Date'],\n",
      "      dtype='object')\n",
      "Number of rows with Rundvekt == 0: 47\n"
     ]
    }
   ],
   "source": [
    "\n",
    "path = \"/home/anna/msc_oppgave/fish-forecast/TEST_MAC_ERS.csv\"\n",
    "df_original = pd.read_csv(path, sep=\";\")\n",
    "print(df_original.columns)\n",
    "\n",
    "\n",
    "df_original_start = df_original[df_original['Method'] == 'start']\n",
    "\n",
    "# Filter out Rundvekt == 0\n",
    "df = df_original_start[df_original_start['Rundvekt'] != 0]\n",
    "print(f\"Number of rows with Rundvekt == 0: {df_original_start.shape[0] - df.shape[0]}\")\n",
    "\n",
    "# df = df1[df1['Method'] == 'stop']\n",
    "\n",
    "\n",
    "\n",
    "# compute distance between start and stop coordinates in km\n",
    "def compute_distance(row):\n",
    "    start_coords = (row['Startposisjon bredde'], row['Startposisjon lengde'])\n",
    "    stop_coords = (row['Stopposisjon bredde'], row['Stopposisjon lengde'])\n",
    "    return geodesic(start_coords, stop_coords).km\n",
    "\n",
    "test= {\n",
    "    \"SW\": {\"lat\": 57.666668, \"lon\": -3.166667},\n",
    "    \"SE\": {\"lat\": 57.666668, \"lon\":  7.5},\n",
    "    \"NE\": {\"lat\": 68.25, \"lon\":  7.5},\n",
    "    \"NW\": {\"lat\": 68.25, \"lon\": -3.166667}\n",
    "}\n",
    "\n",
    "# remove any catches that are not in the test area\n",
    "df = df[(df['CatchLat'] >= test['SW']['lat']) & \n",
    "        (df['CatchLat'] <= test['NE']['lat']) &\n",
    "        (df['CatchLon'] >= test['SW']['lon']) & \n",
    "        (df['CatchLon'] <= test['SE']['lon'])]"
   ]
  },
  {
   "cell_type": "code",
   "execution_count": 2,
   "id": "71ea2ea6",
   "metadata": {},
   "outputs": [],
   "source": [
    "df['distance_km'] = df.apply(compute_distance, axis=1)\n",
    "\n",
    "df['Starttidspunkt'] = pd.to_datetime(df['Starttidspunkt'], format='mixed', dayfirst=True)\n",
    "df['Stopptidspunkt'] = pd.to_datetime(df['Stopptidspunkt'], format='mixed', dayfirst=True)\n",
    "\n",
    "# get elapsed time in hours\n",
    "df['elapsed_time_hours'] = (df['Stopptidspunkt'] - df['Starttidspunkt']).dt.total_seconds() / 3600"
   ]
  },
  {
   "cell_type": "code",
   "execution_count": 3,
   "id": "cbf2afbe",
   "metadata": {},
   "outputs": [
    {
     "name": "stdout",
     "output_type": "stream",
     "text": [
      "Removed 30 rows with unrealistic speeds\n"
     ]
    }
   ],
   "source": [
    "df[\"speed\"] = df['distance_km'] / df['elapsed_time_hours']\n",
    "\n",
    "# filter out rows with speed over 20 km/h if distance_km < 1 km\n",
    "# this is to avoid removing unrealistic speeds for short distances\n",
    "\n",
    "df_filtered = df[~((df['distance_km'] < 1) & (df['speed'] > 20))]\n",
    "# df.to_csv(\"TEST_MAC_ERS_filtered.csv\", sep=';', index=False)\n",
    "\n",
    "print(f'Removed {df.shape[0] - df_filtered.shape[0]} rows with unrealistic speeds')\n",
    "\n"
   ]
  },
  {
   "cell_type": "markdown",
   "id": "193acc8e",
   "metadata": {},
   "source": [
    "### filtered catch instances per year"
   ]
  },
  {
   "cell_type": "code",
   "execution_count": 4,
   "id": "3c1680cb",
   "metadata": {},
   "outputs": [
    {
     "name": "stdout",
     "output_type": "stream",
     "text": [
      "year\n",
      "2022    3543\n",
      "2024    3131\n",
      "2021    2739\n",
      "2023    2435\n",
      "2014    1465\n",
      "2011    1315\n",
      "2020    1214\n",
      "2012    1162\n",
      "2018    1108\n",
      "2013    1080\n",
      "2016    1019\n",
      "2015     967\n",
      "2017     958\n",
      "2019     846\n",
      "Name: count, dtype: int64\n"
     ]
    },
    {
     "name": "stderr",
     "output_type": "stream",
     "text": [
      "/tmp/ipykernel_1460371/3025833788.py:3: SettingWithCopyWarning: \n",
      "A value is trying to be set on a copy of a slice from a DataFrame.\n",
      "Try using .loc[row_indexer,col_indexer] = value instead\n",
      "\n",
      "See the caveats in the documentation: https://pandas.pydata.org/pandas-docs/stable/user_guide/indexing.html#returning-a-view-versus-a-copy\n",
      "  df_show['year'] = df_show['Starttidspunkt'].dt.year\n"
     ]
    }
   ],
   "source": [
    "# print catches per year\n",
    "df_show = df[df['Method'] == 'start']\n",
    "df_show['year'] = df_show['Starttidspunkt'].dt.year\n",
    "print(df_show['year'].value_counts())"
   ]
  },
  {
   "cell_type": "code",
   "execution_count": 5,
   "id": "13438859",
   "metadata": {},
   "outputs": [
    {
     "name": "stdout",
     "output_type": "stream",
     "text": [
      "Unique dates with catches per year:\n",
      "    year  date\n",
      "0   2011    65\n",
      "1   2012    68\n",
      "2   2013    75\n",
      "3   2014    83\n",
      "4   2015    89\n",
      "5   2016    81\n",
      "6   2017    82\n",
      "7   2018    66\n",
      "8   2019    51\n",
      "9   2020    58\n",
      "10  2021   110\n",
      "11  2022   120\n",
      "12  2023    96\n",
      "13  2024   105\n"
     ]
    },
    {
     "name": "stderr",
     "output_type": "stream",
     "text": [
      "/tmp/ipykernel_1460371/389521436.py:2: SettingWithCopyWarning: \n",
      "A value is trying to be set on a copy of a slice from a DataFrame.\n",
      "Try using .loc[row_indexer,col_indexer] = value instead\n",
      "\n",
      "See the caveats in the documentation: https://pandas.pydata.org/pandas-docs/stable/user_guide/indexing.html#returning-a-view-versus-a-copy\n",
      "  df_show['date'] = df_show['Starttidspunkt'].dt.date\n"
     ]
    }
   ],
   "source": [
    "# find unique dates with catches given per year\n",
    "df_show['date'] = df_show['Starttidspunkt'].dt.date\n",
    "unique_dates = df_show.groupby('year')['date'].nunique().reset_index()\n",
    "print(\"Unique dates with catches per year:\")\n",
    "print(unique_dates)"
   ]
  },
  {
   "cell_type": "markdown",
   "id": "6c31c318",
   "metadata": {},
   "source": [
    "### Combine the VMS data"
   ]
  },
  {
   "cell_type": "code",
   "execution_count": 1,
   "id": "bbc51f15",
   "metadata": {},
   "outputs": [
    {
     "name": "stderr",
     "output_type": "stream",
     "text": [
      "/home/anna/msc_oppgave/fish-forecast/.venv/lib/python3.10/site-packages/tqdm/auto.py:21: TqdmWarning: IProgress not found. Please update jupyter and ipywidgets. See https://ipywidgets.readthedocs.io/en/stable/user_install.html\n",
      "  from .autonotebook import tqdm as notebook_tqdm\n",
      "/home/anna/msc_oppgave/fish-forecast/utilities.py:352: SettingWithCopyWarning: \n",
      "A value is trying to be set on a copy of a slice from a DataFrame.\n",
      "Try using .loc[row_indexer,col_indexer] = value instead\n",
      "\n",
      "See the caveats in the documentation: https://pandas.pydata.org/pandas-docs/stable/user_guide/indexing.html#returning-a-view-versus-a-copy\n",
      "  df_ers['Starttidspunkt'] = pd.to_datetime(df_ers['Starttidspunkt'], format='mixed', dayfirst=True)\n",
      "/home/anna/msc_oppgave/fish-forecast/utilities.py:353: SettingWithCopyWarning: \n",
      "A value is trying to be set on a copy of a slice from a DataFrame.\n",
      "Try using .loc[row_indexer,col_indexer] = value instead\n",
      "\n",
      "See the caveats in the documentation: https://pandas.pydata.org/pandas-docs/stable/user_guide/indexing.html#returning-a-view-versus-a-copy\n",
      "  df_ers['Stopptidspunkt'] = pd.to_datetime(df_ers['Stopptidspunkt'], format='mixed', dayfirst=True)\n"
     ]
    },
    {
     "name": "stdout",
     "output_type": "stream",
     "text": [
      "Number of VMS records: 9634\n",
      "VMS date: 2011-07-31 07:35:00 -> 2011-12-05 05:50:00\n",
      "Number of VMS records after initial time-filter:  9182\n"
     ]
    },
    {
     "name": "stderr",
     "output_type": "stream",
     "text": [
      "Filtering VMS records by ERS vessels: 100%|██████████| 497/497 [00:44<00:00, 11.19it/s]\n",
      "/home/anna/msc_oppgave/fish-forecast/utilities.py:352: SettingWithCopyWarning: \n",
      "A value is trying to be set on a copy of a slice from a DataFrame.\n",
      "Try using .loc[row_indexer,col_indexer] = value instead\n",
      "\n",
      "See the caveats in the documentation: https://pandas.pydata.org/pandas-docs/stable/user_guide/indexing.html#returning-a-view-versus-a-copy\n",
      "  df_ers['Starttidspunkt'] = pd.to_datetime(df_ers['Starttidspunkt'], format='mixed', dayfirst=True)\n",
      "/home/anna/msc_oppgave/fish-forecast/utilities.py:353: SettingWithCopyWarning: \n",
      "A value is trying to be set on a copy of a slice from a DataFrame.\n",
      "Try using .loc[row_indexer,col_indexer] = value instead\n",
      "\n",
      "See the caveats in the documentation: https://pandas.pydata.org/pandas-docs/stable/user_guide/indexing.html#returning-a-view-versus-a-copy\n",
      "  df_ers['Stopptidspunkt'] = pd.to_datetime(df_ers['Stopptidspunkt'], format='mixed', dayfirst=True)\n"
     ]
    },
    {
     "name": "stdout",
     "output_type": "stream",
     "text": [
      "Number of VMS records after filtering by ERS vessels: 9336\n",
      "497 unique vessels\n",
      "167 unique vessels\n",
      "Missing VMS vessels: {'BØMMELBAS - LLGZ - H 0175B', 'BOGASUND - JXVP - H 0021S', 'NESEBUEN - LCFH - VA0086LS', 'SILDASKJÆR - LMMF - SF0001V', 'MOSTEIN - LGBG - H 0221B', 'SJØGLANS - LIZI - AG0014K', 'THEA ELISE - LIKQ - N 0530MS', 'SJONGLØR - LFEP - SF0051SU', 'SILLE MARIE - LCPE - R 0110ES', 'H ØSTERVOLD - LKUX - H 0148AV', 'VESTBAS - LHRX - M 0116HØ', 'SJARMØR - LJZO - VL0184SU', 'SALVØY - LDQV - R 0005B', 'FRUHOLMEN - LHWO - H 0178AV', 'MALENE S - LMWR - H 0077AV', 'HAVFISK - LLGA - M 0200A', 'FISKEBANK - LEQI - M 0022SM', 'CETUS - JXML - R 0015K', 'HERØYFJORD - LAXI - M 0021HØ', 'EMMA - LCSR - M 0064MD', 'STØTTFJORD - LDXP - N 0100B', 'INGVARDSON - LEIA - H 0095K', 'HERØYHAV - LDFB - M 0250HØ', 'JOHAN BERG - LLWT - N 0145VR', 'SLAATTERØY - LGFV - VL0264AV', 'JØKUL - LALD - M 0108MD', 'BERG SENIOR - LIQO - N 0005VR', 'HASTING - LLMP - SF0097B', 'BALLSTADØY - LFGX - N 0099VV', 'ØSTANGER - 3YDD - H 0148AV', 'INGER HILDUR - LLRG - M 0103F', 'ÅKERØY - LDHM - N 0200DA', 'SENIOR - LAQD - N 0060B', 'SCOMBRUS JR - JXSF - R 0009H', 'VESTØY - LCSR - M 0064MD', 'STRAUMBERG - LDEF - N 0001LF', 'KVANNØY - LAQD - N 0060B', 'SEGLA - LLZL - T 0050LK', 'SLETTHOLMEN - LAVF - T 0110I', 'CAPRICE - LFGV - H 0313AV', 'ARNØYTIND - LGNJ - TF0008S', 'BUEFJORD - LJMF - SF0147A', 'LØNNØY - LJTD - H 0004B', 'MARIE - LMCW - M 0008M', 'EDNA SYNNØVE - LCGV - TR0018F', 'JULIANNE III - LCGQ - T 0021T', 'REMØY - LDSF - M 0099HØ', 'GAMBLER - LELC - M 0192HØ', 'FISKESKJER - LDXH - M 0625H', 'GOULD DOLLAR - LNHQ - SF0300A', 'HAVSKJER - LFUZ - M 0400A', 'ZENIT - LMWI - R 0111K', 'MORTEN EINAR - LCOV - H 0140AV', 'ÅKERØY II - LAXI - N 0300DA', 'ROGNE - JXAY - N 0040LN', 'EINARSON - LMCE - T 0016LK', 'ANDREA L - LHWW - SF0001V', 'EINAR ERLEND - LDHW - N 0025ME', 'GAMBLER - LELC - SF0046V', 'SYDVEST - LLAS - VL0053AV', 'TORBAS - LFMP - SF0004V', 'MIDØY VIKING - LCFQ - M 0100MD', 'KABA - 3YBZ - N 0303V', 'KNESTER - JWNI - H 0058AV', 'STOREGG - LLLP - M 0345A', 'HAVSNURP - LCOE - M 0195HØ', 'STRAND SENIOR - LFSY - M 0125H', 'BENJACO - 3YUG - VL0051K', 'SANDER ANDRE - LJBC - N 0066MS', 'VESTFART - LLRG - SF0028B', 'GERD JULIE - LDXP - N 0400V', 'HILLERSØY - LJWW - SF0246A', 'VIKANØY - LHTT - N 0210BØ', 'GUNNAR K - LJWW - SF0246A', 'STRAUMBERG - LDEF - N 0006V', 'REMØYBUEN - LLIQ - M 0009HØ', 'TOBIS - LFOB - H 0101AV', 'NORAFJELL - JXAY - N 0134LN', 'SMARAGD - LKOO - M 0065HØ', 'SKÅR SENIOR - LGGL - M 0200HØ', 'GUNNAR LANGVA - LFGY - M 0189A', 'SELVÅG - LJXW - N 0024ME', 'LØNNINGEN - LKLV - H 0020B', 'GOLLENES - LHBM - M 0311HØ', 'VIKANØY - LLWH - N 0007BØ', 'SANDER ANDRE II - LNYZ - N 0250MS', 'TILJE - LICN - SF0082B', 'HAVSNURP - LCOE - M 0195MD', 'VIKINGBANK - LLAS - R 0003K', 'SILLE MARIE - LHBQ - AG0002K', 'ARNØYFJORD - LMOV - NT0030NR', 'ORFJORD - LDAA - M 0008AV', 'HAVFISK - LJTD - M 0520A', 'SPJÆRINGEN SENIOR - LLGB - Ø 0150H', 'JARLE BERG - JWLC - N 0045VR', 'BØMMELHAV - LJYE - H 0078B', 'GENESIS - LLGS - M 0077HØ', 'CETUS - LFFK - R 0001K', 'VENDLA - LCYN - H 0004AV', 'NYSTRØM - 3YQP - M 0050MD', 'NORDERVEG - LGWK - H 0182AV', 'ASBJØRN SELSBANE - LDGP - T 0042T', 'STRAND SENIOR 2 - LJRS - M 0425H', 'ARNØYTIND - LJZH - T 0008S', 'ORDINAT - LJTD - H 0250AV', 'HERØYFJORD - LGSJ - M 0023HØ', 'VÅRBUD - LM3369 - SF0016SU', 'VIKINGBANK - LFVI - R 0011K', 'HARGO - LLAS - VL0063AV', 'BARHOLM - LIQO - VL0025ØN', 'SKARHOLMEN - LIKQ - N 0053BØ', 'SVANAUG ELISE - LLRD - TR0019F', 'SØRØYFISK - LJQQ - M 0020A', 'LIAHOLM - LMDJ - M 0011AV', 'STORSTEIN - LLMQ - TR0091AA', 'SELVÅG SENIOR - LGOQ - N 0001ME', 'ATLØY VIKING - LCGV - SF0008A', 'ORSKJÆR - LLVA - M 0174AV', 'DYRNESVÅG - LJUH - M 0158SM', 'MIRANDA - LDIW - N 0195V', 'TRØNDERHAV - LLJN - ST0030RS', 'FISKEBAS - LDFS - SF0230F', 'KNESTER - JWNI - N 0019DA', 'HELLEVIG 1 - LEUM - VA0330S', 'KROSSØY 1 - LNXT - VL0012BN', 'NORDSILD - LLRK - T 0008I', 'ROWENTA - LJBC - N 0666VV', 'DOGGI - LLIA - F 0014H', 'RADEK - LIZI - VL0072AV', 'EDNA SYNNØVE - LJNB - ST0018F', 'SKLINNABANKEN - LJQM - M 0050A', 'NYBO - LMFZ - M 0030M', 'SPJÆRINGEN - LLQX - Ø 0300H', 'RØDHOLMEN - LCMN - VN0118B', 'SÆVAR JR - LLVN - M 0200M', 'STØTTFJORD - LMCE - N 0001ME', 'RAMOEN - LDNV - M 0001VD', 'ØSTERBRIS - LDKM - H 0099AV', 'ØSTERBRIS 2 - LJME - H 0127AV', 'GERDA MARIE - LGFQ - H 0365AV', 'SANDER ANDRE - LELQ - N 0244MS', 'BØEN - LHWW - R 0007SD', 'INGRID MAJALA - LJZO - F 0184M', 'ORFJORD - LDAA - M 0058AV', 'OLAGUTT - LLRW - N 0001SO', 'K.M. ØSTERVOLD - LHWW - H 0208AV', 'BÅRAGUTT - JXPQ - T 0100T', 'LIAVÅG - LDUX - M 0088AV', 'LISE-BEATE - LLYL - T 0100LK', 'LIBAS - LFKW - VL0001ØN', 'NOTBAS - LIYG - T 0010S', 'STEINEVIK - JWNI - H 0058AV', 'NORDERVEG - LGWK - VL0181AV', 'SKUDE SENIOR - LCGU - R 0196K', 'RINGBAS - LHRX - M 0116HØ', 'MOSTEIN 1 - LGBG - H 0221B', 'GANGSTAD - LGSR - M 0006MD', 'BRATTSKJÆR - LDAA - NT0346V', 'ROWENTA - LLWF - N 0050MS', 'TOPAS - LHRX - M 0100G', 'ØSTANGER - 3YDD - H 0140AV', 'GARDAR - LKWZ - H 0034AV', 'FISKØY - LIOL - N 0067VV', 'EROS - LCNG - M 0029HØ', 'HAVSTÅL - LESG - M 0300A', 'INGER HILDUR - LLRG - M 0100F', 'KRANSVIK JR - LLLI - N 0180V', 'FISKEBANK - LEPW - M 0101SM', 'SCOMBRUS - LMCH - R 0017H', 'HARALD JOHAN - JXAM - H 0012AV', 'M.YTTERSTAD - LFTI - N 0307LN', 'ODD LUNDBERG - LFUO - T 0055G', 'ROWENTA - LJBC - N 0066MS', 'NESEJENTA - LFWP - AG0001LS', 'NERA - LK3243 - H 0006B', 'KLARA B - LERB - N 0003MS', 'HEPSØHAV - LARU - ST0001O', 'VOLDNES - LKUB - F 0080M', 'HERMES - LLOP - F 0007L', 'MYNTEVIK - LHRI - R 0258K', 'HARVEST - LDKY - H 0001AV', 'NORDSJØBAS - LFJF - M 0040HØ', 'ISHAVET - 3YYB - M 0011A', 'RUNING - JWQZ - M 0121A', 'ROGNE - JXAY - M 0042HØ', 'TOPAS - LJQM - M 0007G', 'SJØGLANS - LIZI - SF0008A', 'STEINSUND - LFJE - H 0227AV', 'SØRVIK - LCRI - ST0066F', 'LIAFJORD - LCOV - H 0003F', 'BUØY SR. - LK3243 - M 0089HØ', 'BALLSTADØY - LFGX - N 0003VV', 'VIKAFJORD - LJDJ - VL0033B', 'PETRELL - LLMQ - M 0200G', 'SLOTTSTEIN - LJDR - VL0225AV', 'MONSUN - LIUC - VA0041K', 'EMMA - LALD - M 0108MD', 'HAVFJORD - LGDF - VA0002S', 'ØKSNESVÆRING - LMCE - N 0160Ø', 'STARBEAM - LLAQ - M 0212H', 'KRANSVIK JR - LJDJ - N 0081V', 'NORDSØ - LFIZ - VA0097M', 'GLOMFJORD - LHBI - M 0370HØ', 'EMILIE H - LEAE - M 0090SJ', 'HAVSTRAND - LDBR - M 0525H', 'KREMMERVIK - 3YMI - H 0015AV', 'STEINEVIK - LAQD - VL0167AV', 'GRIMSHOLM - LAKF - T 0079T', 'LURØYBAS - JWVR - N 0111L', 'JOHAN FEYER - LJYE - R 0004ES', 'REMO - LDWS - Ø 0005H', 'SKOMVÆRHAV - LJDJ - N 0081V', 'REBEKKA L - JXQO - VL0043KI', 'KINGS BAY - LCNN - M 0022HØ', 'LURØYBAS - JWVR - N 0114L', 'TRONDSKJÆR - LFBC - T 0200LK', 'HAUGAGUT - LKUX - H 0050AV', 'VESTERHAV - LDQN - SF0001A', 'SENIOR - LDHM - N 0200B', 'ATLØY VIKING - LJDJ - SF0055A', 'LEINEBJØRN - LCOJ - M 0003HØ', 'LANGENES - JXJU - M 0035A', 'ARNØYFJORD - LMCE - TR0030ND', 'SVANAUG ELISE - LDAK - TR0119F', 'NYSKJER - LLMI - M 0515MD', 'NORDSILD - LLRK - T 0018I', 'KROSSØY - 3YMI - H 0017BN', 'TUNFISK - LLWG - H 0180K', 'LIGRUNN - LDAK - H 0002F', 'HUNTER - LCCZ - VA0002S', 'HUGØYBAS - LCNO - H 0032K', 'GARDAR - 3YBM - VL0024AV', 'BENJACO - LNYZ - H 0051K', 'HARMONI - LAKF - T 0079T', 'BRUSØYSKJÆR - LFTO - TR0400V', 'EINAR ERLEND - LLND - N 0045ME', 'SVANAUG ELISE - LLRD - M 0119HØ', 'ATLØY VIKING - LHTT - SF0022A', 'E.H. SENIOR - LLLD - T 0300TK', 'GUNNAR K - LEPP - N 0346Ø', 'AMELIA - LM7682 - H 0223AV', 'GENESIS - LLGS - M 0079HØ', 'MAGNARSON - LMBX - H 0088AV', 'BERNT OSKAR - 3YCU - N 0020MS', 'LEINEBJØRN - LCOJ - M 0006HØ', 'SILDASKJÆR - LMMF - M 0260HØ', 'HAVSNURP - LCOE - M 0095MD', 'MONSUN - LGPO - AG0003K', 'KRANSVIK JR - LLQX - N 0006V', 'VEIDING - LFPA - R 0069K', 'BRATTSKJÆR - 3YKA - TR0346ND', 'NORDSJØBAS - LHWW - M 0190HØ', 'VIBEKE HELENE - LLMQ - SF0001G', 'KATHRIN G - LCHJ - M 0020MD', 'REMO - LDWS - M 0012G', 'INGRID MAJALA - LCOE - TF0195M', 'STORVIG - LJCS - VA0081LS', 'MELØYFJORD - LFYY - N 0510ME', 'ODD LUNDBERG - LLNZ - T 0260G', 'LIAFJORD - LGYF - VL0003ØN', 'VESTBRIS - LCJG - VL0050G', 'VIKANØY - LFXX - N 0210BØ', 'FYRHOLM - LGSR - H 0015B', 'ALBACORE - LADH - SF0018F', 'SVENSGAM - JXAY - N 0134LN', 'VICTORIA MAY - LEVV - M 0267G', 'SJOHAV - LMMF - H 0260K', 'ANDREA L - LFMP - VL0004KI', 'HARDHAUS - LFNJ - VL0009AV', 'SKARHOLMEN - LNQL - N 0001BØ', 'BLUEFIN - LLAV - SF0012F', 'KVATRO - LJDJ - M 0052F', 'HAVRAND - LLWF - SF0040B', 'EINARSON - LELQ - TF0244SE', 'BØEN - LJSY - R 0085SD', 'SLETTHOLMEN - LAVF - N 0118L', 'VIBEKE HELENE - LLMQ - R 0106K', 'SKUDE - LNYH - R 0157K', 'MOSTEIN - JXUM - VL0778B', 'SILVER BAY - LIHW - H 0095B', 'ARNØYTIND SENIOR - LJZH - T 0008S', 'REMO - LDWS - H 0022FJ', 'MALENE S - LCZQ - H 0128AV', 'KVANNØY - LKUF - N 0400B', 'BUEFJORD - LLND - SF0045A', 'SVANAVÅG - LALN - VA0078S', 'KNUT OLAV - LESF - N 0003V', 'SKIPSHOLMEN - LJRS - H 0425AV', 'BØEN - 3YUG - R 0051SD', 'LIGRUNN II - JXXI - VL0145ØN', 'HÅFLU - LEQI - R 0022B', 'ALBACORE - LADH - SF0003A', 'HUGØYBAS - LCNO - H 0032B', 'STRAUMBAS - LEWL - R 0020V', 'VEA - LGGR - R 0030K', 'SILLE MARIE - LCPE - VA0110S', 'SKOLMEN - LJOB - N 0025VV', 'ORSKJÆR - LLVA - Ø 0003H', 'MELØYFJORD - 3YUG - N 0051ME', 'RADEK - LNXT - H 0002AV', 'FLIPPER - LJTV - VL0050AV', 'ABELONE MØGSTER - 3YMI - H 0015AV', 'NORDERVEG - LGWK - VL0182AV', 'MORTEN EINAR - LLNZ - H 0402AV', 'HÅFLU - LDQV - R 0005B', 'HAVSNURP - LHBV - M 0195M', 'LØNNINGEN - LKLV - H 0030B', 'KLONDYKE - LCCZ - M 0042A', 'SPRATTUS - LDFW - H 0018B', 'OLA RYGGEFJORD - JXUE - VL0180AV', 'SULEBAS - LECW - SF0100SU', 'MIDØY VIKING - LGUP - M 0014MD', 'LISE BEATE - LDQN - TF0100SE', 'ATLØY VIKING - LJSY - VL0055A', 'SUNNY LADY - LGDZ - M 0120HØ', 'KYSTFISK - LMOV - SF0003V', 'NORDHAVET - LEPQ - T 0001I', 'GAMBLER - LELC - SF0006V', 'TRYGVASON - LENJ - H 0020B', 'TRØNDERHAV - LJBI - ST0031RS', 'STRAUMBAS - LIOD - R 0062K', 'ENDRE DYRØY - LFOA - H 0021F', 'RAV - LFSW - TR0004O', 'MOLNES - LNKS - M 0069G', 'BØMMELFJORD - LMBX - H 0388B', 'HOVDEN VIKING - LEYN - SF0002S', 'REMO - LDWS - VL0003FJ', 'KAMILLA GRANDE - JWLM - N 0050Ø', 'ROGNE - LDGS - M 0070HØ', 'SALVØY - LECG - R 0333K'}\n",
      "Number of VMS records: 8121\n",
      "VMS date: 2012-05-02 18:56:00 -> 2012-12-05 00:34:00\n",
      "Number of VMS records after initial time-filter:  8121\n"
     ]
    },
    {
     "name": "stderr",
     "output_type": "stream",
     "text": [
      "Filtering VMS records by ERS vessels: 100%|██████████| 497/497 [00:39<00:00, 12.46it/s]\n",
      "/home/anna/msc_oppgave/fish-forecast/utilities.py:352: SettingWithCopyWarning: \n",
      "A value is trying to be set on a copy of a slice from a DataFrame.\n",
      "Try using .loc[row_indexer,col_indexer] = value instead\n",
      "\n",
      "See the caveats in the documentation: https://pandas.pydata.org/pandas-docs/stable/user_guide/indexing.html#returning-a-view-versus-a-copy\n",
      "  df_ers['Starttidspunkt'] = pd.to_datetime(df_ers['Starttidspunkt'], format='mixed', dayfirst=True)\n",
      "/home/anna/msc_oppgave/fish-forecast/utilities.py:353: SettingWithCopyWarning: \n",
      "A value is trying to be set on a copy of a slice from a DataFrame.\n",
      "Try using .loc[row_indexer,col_indexer] = value instead\n",
      "\n",
      "See the caveats in the documentation: https://pandas.pydata.org/pandas-docs/stable/user_guide/indexing.html#returning-a-view-versus-a-copy\n",
      "  df_ers['Stopptidspunkt'] = pd.to_datetime(df_ers['Stopptidspunkt'], format='mixed', dayfirst=True)\n"
     ]
    },
    {
     "name": "stdout",
     "output_type": "stream",
     "text": [
      "Number of VMS records after filtering by ERS vessels: 8005\n",
      "497 unique vessels\n",
      "167 unique vessels\n",
      "Missing VMS vessels: {'BØMMELBAS - LLGZ - H 0175B', 'NESEBUEN - LCFH - VA0086LS', 'ELVIRA III - LK3553 - R 0052K', 'LIAHOLM - LMDJ - M 0071AV', 'MOSTEIN - LGBG - H 0221B', 'SJØGLANS - LIZI - AG0014K', 'THEA ELISE - LIKQ - N 0530MS', 'SJONGLØR - LFEP - SF0051SU', 'SILLE MARIE - LCPE - R 0110ES', 'H ØSTERVOLD - LKUX - H 0148AV', 'RINGBAS - LHRX - SF0006V', 'DYRNESVÅG - LGGM - M 0435SM', 'VESTBAS - LHRX - M 0116HØ', 'NORAFJELL - LLCX - N 0034LN', 'SJARMØR - LJZO - VL0184SU', 'SALVØY - LDQV - R 0005B', 'MALENE S - LMWR - H 0077AV', 'HAVFISK - LLGA - M 0200A', 'ARNØYFJORD - LLGB - NT0050NR', 'CETUS - JXML - R 0015K', 'HERØYFJORD - LAXI - M 0021HØ', 'EMMA - LCSR - M 0064MD', 'ATLØYBUEN - JXSE - SF0033A', 'FLANDER - LKLA - H 0158B', 'STØTTFJORD - LDXP - N 0100B', 'INGVARDSON - LEIA - H 0095K', 'HERØYHAV - LDFB - M 0250HØ', 'JOHAN BERG - LLWT - N 0145VR', 'SLAATTERØY - LGFV - VL0264AV', 'JØKUL - LALD - M 0108MD', 'BERG SENIOR - LIQO - N 0005VR', 'HASTING - LLMP - SF0097B', 'BALLSTADØY - LFGX - N 0099VV', 'INGER HILDUR - LLRG - M 0103F', 'ÅKERØY - LDHM - N 0200DA', 'SENIOR - LAQD - N 0060B', 'VESTØY - LCSR - M 0064MD', 'FAGERVOLL - LCHL - M 0074A', 'STRAUMBERG - LDEF - N 0001LF', 'KVANNØY - LAQD - N 0060B', 'SEGLA - LLZL - T 0050LK', 'SLETTHOLMEN - LAVF - T 0110I', 'CAPRICE - LFGV - H 0313AV', 'ARNØYTIND - LGNJ - TF0008S', 'LØNNØY - LJTD - H 0004B', 'MARIE - LMCW - M 0008M', 'EDNA SYNNØVE - LCGV - TR0018F', 'AUSTERFJORD - LJZO - H 0084AV', 'REMØY - LDSF - M 0099HØ', 'GAMBLER - LELC - M 0192HØ', 'FISKESKJER - LDXH - M 0625H', 'SCOMBRUS - JXSF - R 0001H', 'HAVSKJER - LFUZ - M 0400A', 'ZENIT - LMWI - R 0111K', 'MORTEN EINAR - LCOV - H 0140AV', 'ÅKERØY II - LAXI - N 0300DA', 'EINARSON - LMCE - T 0016LK', 'ANDREA L - LHWW - SF0001V', 'EINAR ERLEND - LDHW - N 0025ME', 'SYDVEST - LLAS - VL0053AV', 'KVATRO - LJDJ - M 0055F', 'TORBAS - LFMP - SF0004V', 'KATHRIN G - LCCX - M 0001SJ', 'MIDØY VIKING - LCFQ - M 0100MD', 'KABA - 3YBZ - N 0303V', 'KNESTER - JWNI - H 0058AV', 'HAVSNURP - LCOE - M 0195HØ', 'STRAND SENIOR - LFSY - M 0125H', 'BENJACO - 3YUG - VL0051K', 'SANDER ANDRE - LJBC - N 0066MS', 'VESTFART - LLRG - SF0028B', 'GERD JULIE - LDXP - N 0400V', 'HILLERSØY - LJWW - SF0246A', 'GUNNAR K - LJWW - SF0246A', 'STRAUMBERG - LDEF - N 0006V', 'REMØYBUEN - LLIQ - M 0009HØ', 'TOBIS - LFOB - H 0101AV', 'NORAFJELL - JXAY - N 0134LN', 'SMARAGD - LKOO - M 0065HØ', 'JULIANNE III - LCGQ - N 0021LN', 'SKÅR SENIOR - LGGL - M 0200HØ', 'LIAFJELL - LLWB - H 0087F', 'GUNNAR LANGVA - LFGY - M 0189A', 'SELVÅG - LJXW - N 0024ME', 'LØNNINGEN - LKLV - H 0020B', 'GOLLENES - LHBM - M 0311HØ', 'VIKANØY - LLWH - N 0007BØ', 'SANDER ANDRE II - LNYZ - N 0250MS', 'TILJE - LICN - SF0082B', 'VIKINGBANK - LLAS - R 0003K', 'SILLE MARIE - LHBQ - AG0002K', 'ARNØYFJORD - LMOV - NT0030NR', 'ORFJORD - LDAA - M 0008AV', 'HAVFISK - LJTD - M 0520A', 'INGER HILDUR - LJUH - M 0101F', 'SPJÆRINGEN SENIOR - LLGB - Ø 0150H', 'JARLE BERG - JWLC - N 0045VR', 'BØMMELHAV - LJYE - H 0078B', 'GENESIS - LLGS - M 0077HØ', 'CETUS - LFFK - R 0001K', 'VENDLA - LCYN - H 0004AV', 'NYSTRØM - 3YQP - M 0050MD', 'NORDERVEG - LGWK - H 0182AV', 'ASBJØRN SELSBANE - LDGP - T 0042T', 'STRAND SENIOR 2 - LJRS - M 0425H', 'ARNØYTIND - LJZH - T 0008S', 'ORDINAT - LJTD - H 0250AV', 'KINGSHOLM - LJNB - M 0033SJ', 'HERØYFJORD - LGSJ - M 0023HØ', 'VÅRBUD - LM3369 - SF0016SU', 'VIKINGBANK - LFVI - R 0011K', 'HARGO - LLAS - VL0063AV', 'BARHOLM - LIQO - VL0025ØN', 'SKARHOLMEN - LIKQ - N 0053BØ', 'SVANAUG ELISE - LLRD - TR0019F', 'SØRØYFISK - LJQQ - M 0020A', 'INGRID MAJALA - LAKF - F 0225M', 'STORSTEIN - LLMQ - TR0091AA', 'SELVÅG SENIOR - LGOQ - N 0001ME', 'ORSKJÆR - LLVA - M 0174AV', 'MIRANDA - LDIW - N 0195V', 'FISKEBAS - LDFS - SF0230F', 'KNESTER - JWNI - N 0019DA', 'HELLEVIG 1 - LEUM - VA0330S', 'KROSSØY 1 - LNXT - VL0012BN', 'NORDSILD - LLRK - T 0008I', 'ROWENTA - LJBC - N 0666VV', 'DOGGI - LLIA - F 0014H', 'RADEK - LIZI - VL0072AV', 'EDNA SYNNØVE - LJNB - ST0018F', 'SKLINNABANKEN - LJQM - M 0050A', 'NYBO - LMFZ - M 0030M', 'SPJÆRINGEN - LLQX - Ø 0300H', 'RØDHOLMEN - LCMN - VN0118B', 'SÆVAR JR - LLVN - M 0200M', 'RAMOEN - LDNV - M 0001VD', 'ØSTERBRIS - LDKM - H 0099AV', 'ROGNE - JXAY - M 0004HØ', 'ØSTERBRIS 2 - LJME - H 0127AV', 'GERDA MARIE - LGFQ - H 0365AV', 'KABA - 3YBZ - H 0033O', 'TORBAS - LLBT - SF0099V', 'SANDER ANDRE - LELQ - N 0244MS', 'BØEN - LHWW - R 0007SD', 'EINARSON - LLQX - T 0005LK', 'ORFJORD - LDAA - M 0058AV', 'BALLSTADØY - LLLI - N 0185VV', 'BÅRAGUTT - JXPQ - T 0100T', 'LIAVÅG - LDUX - M 0088AV', 'LISE-BEATE - LLYL - T 0100LK', 'LIBAS - LFKW - VL0001ØN', 'NOTBAS - LIYG - T 0010S', 'STEINEVIK - JWNI - H 0058AV', 'NORDERVEG - LGWK - VL0181AV', 'SKUDE SENIOR - LCGU - R 0196K', 'BRATTSKJÆR - LLLP - NT0345V', 'MOSTEIN 1 - LGBG - H 0221B', 'GANGSTAD - LGSR - M 0006MD', 'BRATTSKJÆR - LDAA - NT0346V', 'ROWENTA - LLWF - N 0050MS', 'TOPAS - LHRX - M 0100G', 'ØSTANGER - 3YDD - H 0140AV', 'GARDAR - LKWZ - H 0034AV', 'FISKØY - LIOL - N 0067VV', 'EROS - LCNG - M 0029HØ', 'HAVSTÅL - LESG - M 0300A', 'KRANSVIK JR - LLLI - N 0180V', 'FISKEBANK - LEPW - M 0101SM', 'SCOMBRUS - LMCH - R 0017H', 'SVANAVÅG - LALN - R 0003ES', 'HARALD JOHAN - JXAM - H 0012AV', 'HAVSNURP - LLBM - M 0095MD', 'M.YTTERSTAD - LFTI - N 0307LN', 'ODD LUNDBERG - LFUO - T 0055G', 'ROWENTA - LJBC - N 0066MS', 'NESEJENTA - LFWP - AG0001LS', 'NERA - LK3243 - H 0006B', 'KLARA B - LERB - N 0003MS', 'VOLDNES - LKUB - F 0080M', 'HERMES - LLOP - F 0007L', 'MYNTEVIK - LHRI - R 0258K', 'HARVEST - LDKY - H 0001AV', 'NORDSJØBAS - LFJF - M 0040HØ', 'ISHAVET - 3YYB - M 0011A', 'RUNING - JWQZ - M 0121A', 'TOPAS - LJQM - M 0007G', 'SJØGLANS - LIZI - SF0008A', 'STEINSUND - LFJE - H 0227AV', 'BUØY SR. - LK3243 - M 0089HØ', 'BALLSTADØY - LFGX - N 0003VV', 'VIKAFJORD - LJDJ - VL0033B', 'PETRELL - LLMQ - M 0200G', 'SLOTTSTEIN - LJDR - VL0225AV', 'MONSUN - LIUC - VA0041K', 'EMMA - LALD - M 0108MD', 'HAVFJORD - LGDF - VA0002S', 'ØKSNESVÆRING - LMCE - N 0160Ø', 'STARBEAM - LLAQ - M 0212H', 'KRANSVIK JR - LJDJ - N 0081V', 'NORDSØ - LFIZ - VA0097M', 'GLOMFJORD - LHBI - M 0370HØ', 'EMILIE H - LEAE - M 0090SJ', 'HAVSTRAND - LDBR - M 0525H', 'KREMMERVIK - 3YMI - H 0015AV', 'STEINEVIK - LAQD - VL0167AV', 'GRIMSHOLM - LAKF - T 0079T', 'SKUDE SENIOR - LCGU - R 0004K', 'LURØYBAS - JWVR - N 0111L', 'REMO - LDWS - Ø 0005H', 'SKOMVÆRHAV - LJDJ - N 0081V', 'REBEKKA L - JXQO - VL0043KI', 'KINGS BAY - LCNN - M 0022HØ', 'LURØYBAS - JWVR - N 0114L', 'TRONDSKJÆR - LFBC - T 0200LK', 'HAUGAGUT - LKUX - H 0050AV', 'VESTERHAV - LDQN - SF0001A', 'SENIOR - LDHM - N 0200B', 'ATLØY VIKING - LJDJ - SF0055A', 'QUO VADIS - LMDF - R 0086K', 'LEINEBJØRN - LCOJ - M 0003HØ', 'LANGENES - JXJU - M 0035A', 'ARNØYFJORD - LMCE - TR0030ND', 'ORFJORD - LGLX - M 0008AV', 'SVANAUG ELISE - LDAK - TR0119F', 'OLAGUTT - LLRW - N 0007SO', 'NYSKJER - LLMI - M 0515MD', 'NORDSILD - LLRK - T 0018I', 'KROSSØY - 3YMI - H 0017BN', 'ÆSØYBUEN - LDUX - SF0008F', 'TUNFISK - LLWG - H 0180K', 'LIGRUNN - LDAK - H 0002F', 'HUGØYBAS - LCNO - H 0032K', 'GARDAR - 3YBM - VL0024AV', 'BENJACO - LNYZ - H 0051K', 'HARMONI - LAKF - T 0079T', 'BRUSØYSKJÆR - LFTO - TR0400V', 'SVANAUG ELISE - LLRD - M 0119HØ', 'ATLØY VIKING - LHTT - SF0022A', 'E.H. SENIOR - LLLD - T 0300TK', 'GUNNAR K - LEPP - N 0346Ø', 'AMELIA - LM7682 - H 0223AV', 'GENESIS - LLGS - M 0079HØ', 'MAGNARSON - LMBX - H 0088AV', 'BERNT OSKAR - 3YCU - N 0020MS', 'SILDASKJÆR - LMMF - M 0260HØ', 'HAVSNURP - LCOE - M 0095MD', 'MONSUN - LGPO - AG0003K', 'KRANSVIK JR - LLQX - N 0006V', 'HAVBAS - LHWO - T 0071T', 'VEIDING - LFPA - R 0069K', 'BRATTSKJÆR - 3YKA - TR0346ND', 'NORDSJØBAS - LHWW - M 0190HØ', 'VIBEKE HELENE - LLMQ - SF0001G', 'REMO - LDWS - M 0012G', 'INGRID MAJALA - LCOE - TF0195M', 'STORVIG - LJCS - VA0081LS', 'MELØYFJORD - LFYY - N 0510ME', 'ODD LUNDBERG - LLNZ - T 0260G', 'LIAFJORD - LGYF - VL0003ØN', 'VESTBRIS - LCJG - VL0050G', 'VIKANØY - LFXX - N 0210BØ', 'FYRHOLM - LGSR - H 0015B', 'SVENSGAM - JXAY - N 0134LN', 'VICTORIA MAY - LEVV - M 0267G', 'SJOHAV - LMMF - H 0260K', 'ANDREA L - LFMP - VL0004KI', 'HARDHAUS - LFNJ - VL0009AV', 'HAVRAND - LLWF - SF0040B', 'EINARSON - LELQ - TF0244SE', 'BØEN - LJSY - R 0085SD', 'SLETTHOLMEN - LAVF - N 0118L', 'VIBEKE HELENE - LLMQ - R 0106K', 'KANSTADFJORD - LIYY - N 0189LN', 'SKUDE - LNYH - R 0157K', 'MOSTEIN - JXUM - VL0778B', 'SILVER BAY - LIHW - H 0095B', 'ARNØYTIND SENIOR - LJZH - T 0008S', 'REMO - LDWS - H 0022FJ', 'MALENE S - LCZQ - H 0128AV', 'KVANNØY - LKUF - N 0400B', 'BUEFJORD - LLND - SF0045A', 'SVANAVÅG - LALN - VA0078S', 'KNUT OLAV - LESF - N 0003V', 'SKIPSHOLMEN - LJRS - H 0425AV', 'BØEN - 3YUG - R 0051SD', 'LIGRUNN II - JXXI - VL0145ØN', 'HÅFLU - LEQI - R 0022B', 'ALBACORE - LADH - SF0003A', 'STRAUMBAS - LEWL - R 0020V', 'VEA - LGGR - R 0030K', 'SILLE MARIE - LCPE - VA0110S', 'SKOLMEN - LJOB - N 0025VV', 'ORSKJÆR - LLVA - Ø 0003H', 'MELØYFJORD - 3YUG - N 0051ME', 'RADEK - LNXT - H 0002AV', 'FLIPPER - LJTV - VL0050AV', 'NORDERVEG - LGWK - VL0182AV', 'MORTEN EINAR - LLNZ - H 0402AV', 'HÅFLU - LDQV - R 0005B', 'HAVSNURP - LHBV - M 0195M', 'LØNNINGEN - LKLV - H 0030B', 'HÅFLU - LGQK - R 0035B', 'KLONDYKE - LCCZ - M 0042A', 'SPRATTUS - LDFW - H 0018B', 'OLA RYGGEFJORD - JXUE - VL0180AV', 'SULEBAS - LECW - SF0100SU', 'GANGSTAD - LLAQ - M 0024MD', 'MIDØY VIKING - LGUP - M 0014MD', 'LISE BEATE - LDQN - TF0100SE', 'ATLØY VIKING - LJSY - VL0055A', 'MYNTEVIK - LHRI - R 0058ES', 'SUNNY LADY - LGDZ - M 0120HØ', 'SÆVIKSON - LCFI - M 0072HØ', 'NORDHAVET - LEPQ - T 0001I', 'GAMBLER - LELC - SF0006V', 'TRYGVASON - LENJ - H 0020B', 'TRØNDERHAV - LJBI - ST0031RS', 'STRAUMBAS - LIOD - R 0062K', 'ENDRE DYRØY - LFOA - H 0021F', 'LEINEBJØRN - LLRG - M 0003HØ', 'SÆVIKTRÅL - LHYA - R 0233K', 'RAV - LFSW - TR0004O', 'MOLNES - LNKS - M 0069G', 'BØMMELFJORD - LMBX - H 0388B', 'HOVDEN VIKING - LEYN - SF0002S', 'REMO - LDWS - VL0003FJ', 'STOREGG - LEIA - M 0095A', 'KAMILLA GRANDE - JWLM - N 0050Ø', 'ROGNE - LDGS - M 0070HØ', 'SALVØY - LECG - R 0333K'}\n",
      "Number of VMS records: 8187\n",
      "VMS date: 2013-06-05 23:53:00 -> 2013-12-01 22:04:00\n",
      "Number of VMS records after initial time-filter:  8187\n"
     ]
    },
    {
     "name": "stderr",
     "output_type": "stream",
     "text": [
      "Filtering VMS records by ERS vessels: 100%|██████████| 497/497 [00:37<00:00, 13.13it/s]\n",
      "/home/anna/msc_oppgave/fish-forecast/utilities.py:352: SettingWithCopyWarning: \n",
      "A value is trying to be set on a copy of a slice from a DataFrame.\n",
      "Try using .loc[row_indexer,col_indexer] = value instead\n",
      "\n",
      "See the caveats in the documentation: https://pandas.pydata.org/pandas-docs/stable/user_guide/indexing.html#returning-a-view-versus-a-copy\n",
      "  df_ers['Starttidspunkt'] = pd.to_datetime(df_ers['Starttidspunkt'], format='mixed', dayfirst=True)\n",
      "/home/anna/msc_oppgave/fish-forecast/utilities.py:353: SettingWithCopyWarning: \n",
      "A value is trying to be set on a copy of a slice from a DataFrame.\n",
      "Try using .loc[row_indexer,col_indexer] = value instead\n",
      "\n",
      "See the caveats in the documentation: https://pandas.pydata.org/pandas-docs/stable/user_guide/indexing.html#returning-a-view-versus-a-copy\n",
      "  df_ers['Stopptidspunkt'] = pd.to_datetime(df_ers['Stopptidspunkt'], format='mixed', dayfirst=True)\n"
     ]
    },
    {
     "name": "stdout",
     "output_type": "stream",
     "text": [
      "Number of VMS records after filtering by ERS vessels: 7699\n",
      "497 unique vessels\n",
      "163 unique vessels\n",
      "Missing VMS vessels: {'NESEBUEN - LCFH - VA0086LS', 'ELVIRA III - LK3553 - R 0052K', 'LIAHOLM - LMDJ - M 0071AV', 'MOSTEIN - LGBG - H 0221B', 'SJØGLANS - LIZI - AG0014K', 'THEA ELISE - LIKQ - N 0530MS', 'H ØSTERVOLD - LKUX - H 0148AV', 'RINGBAS - LHRX - SF0006V', 'DYRNESVÅG - LGGM - M 0435SM', 'NORAFJELL - LLCX - N 0034LN', 'SJARMØR - LJZO - VL0184SU', 'SALVØY - LDQV - R 0005B', 'MALENE S - LMWR - H 0077AV', 'HAVFISK - LLGA - M 0200A', 'ARNØYFJORD - LLGB - NT0050NR', 'CETUS - JXML - R 0015K', 'HERØYFJORD - LAXI - M 0021HØ', 'EMMA - LCSR - M 0064MD', 'ATLØYBUEN - JXSE - SF0033A', 'FLANDER - LKLA - H 0158B', 'STØTTFJORD - LDXP - N 0100B', 'HERØYHAV - LDFB - M 0250HØ', 'JOHAN BERG - LLWT - N 0145VR', 'SLAATTERØY - LGFV - VL0264AV', 'JØKUL - LALD - M 0108MD', 'BERG SENIOR - LIQO - N 0005VR', 'HASTING - LLMP - SF0097B', 'BALLSTADØY - LFGX - N 0099VV', 'ØSTANGER - 3YDD - H 0148AV', 'ÅKERØY - LDHM - N 0200DA', 'SENIOR - LAQD - N 0060B', 'VESTØY - LCSR - M 0064MD', 'FAGERVOLL - LCHL - M 0074A', 'STRAUMBERG - LDEF - N 0001LF', 'SEGLA - LLZL - T 0050LK', 'SLETTHOLMEN - LAVF - T 0110I', 'CAPRICE - LFGV - H 0313AV', 'ARNØYTIND - LGNJ - TF0008S', 'BUEFJORD - LJMF - SF0147A', 'LØNNØY - LJTD - H 0004B', 'MARIE - LMCW - M 0008M', 'EDNA SYNNØVE - LCGV - TR0018F', 'AUSTERFJORD - LJZO - H 0084AV', 'REMØY - LDSF - M 0099HØ', 'SKLINNABANKEN - LJQM - N 0250BR', 'GAMBLER - LELC - M 0192HØ', 'FISKESKJER - LDXH - M 0625H', 'GOULD DOLLAR - LNHQ - SF0300A', 'SCOMBRUS - JXSF - R 0001H', 'HAVSKJER - LFUZ - M 0400A', 'ZENIT - LMWI - R 0111K', 'MORTEN EINAR - LCOV - H 0140AV', 'ÅKERØY II - LAXI - N 0300DA', 'ROGNE - JXAY - N 0040LN', 'EINARSON - LMCE - T 0016LK', 'ANDREA L - LHWW - SF0001V', 'EINAR ERLEND - LDHW - N 0025ME', 'SYDVEST - LLAS - VL0053AV', 'KVATRO - LJDJ - M 0055F', 'TORBAS - LFMP - SF0004V', 'KATHRIN G - LCCX - M 0001SJ', 'FRØYBAS - LLMQ - SF0075B', 'KABA - 3YBZ - N 0303V', 'KNESTER - JWNI - H 0058AV', 'HAVSNURP - LCOE - M 0195HØ', 'STRAND SENIOR - LFSY - M 0125H', 'BENJACO - 3YUG - VL0051K', 'SANDER ANDRE - LJBC - N 0066MS', 'VESTFART - LLRG - SF0028B', 'KVANNØY - LMBE - N 0400B', 'GERD JULIE - LDXP - N 0400V', 'HILLERSØY - LJWW - SF0246A', 'GUNNAR K - LJWW - SF0246A', 'STRAUMBERG - LDEF - N 0006V', 'REMØYBUEN - LLIQ - M 0009HØ', 'TOBIS - LFOB - H 0101AV', 'NORAFJELL - JXAY - N 0134LN', 'SMARAGD - LKOO - M 0065HØ', 'JULIANNE III - LCGQ - N 0021LN', 'SKÅR SENIOR - LGGL - M 0200HØ', 'LIAFJELL - LLWB - H 0087F', 'GUNNAR LANGVA - LFGY - M 0189A', 'SELVÅG - LJXW - N 0024ME', 'GOLLENES - LHBM - M 0311HØ', 'VIKANØY - LLWH - N 0007BØ', 'TILJE - LICN - SF0082B', 'B.M. DRIVENES - LM7682 - H 0223AV', 'VIKINGBANK - LLAS - R 0003K', 'SILLE MARIE - LHBQ - AG0002K', 'ARNØYFJORD - LMOV - NT0030NR', 'ORFJORD - LDAA - M 0008AV', 'HAVFISK - LJTD - M 0520A', 'INGER HILDUR - LJUH - M 0101F', 'SPJÆRINGEN SENIOR - LLGB - Ø 0150H', 'JARLE BERG - JWLC - N 0045VR', 'BØMMELHAV - LJYE - H 0078B', 'GENESIS - LLGS - M 0077HØ', 'CETUS - LFFK - R 0001K', 'ASBJØRN SELSBANE - LDGP - T 0042T', 'STRAND SENIOR 2 - LJRS - M 0425H', 'ARNØYTIND - LJZH - T 0008S', 'HERØYFJORD - LGSJ - M 0023HØ', 'VÅRBUD - LM3369 - SF0016SU', 'VIKINGBANK - LFVI - R 0011K', 'STÅLRINGEN - LLGZ - N 0075DA', 'HARGO - LLAS - VL0063AV', 'BARHOLM - LIQO - VL0025ØN', 'SKARHOLMEN - LIKQ - N 0053BØ', 'SVANAUG ELISE - LLRD - TR0019F', 'SØRØYFISK - LJQQ - M 0020A', 'INGRID MAJALA - LAKF - F 0225M', 'STORSTEIN - LLMQ - TR0091AA', 'SELVÅG SENIOR - LGOQ - N 0001ME', 'ORSKJÆR - LLVA - M 0174AV', 'MIRANDA - LDIW - N 0195V', 'VESTBAS - LJBC - M 0066HØ', 'FISKEBAS - LDFS - SF0230F', 'KNESTER - JWNI - N 0019DA', 'HELLEVIG 1 - LEUM - VA0330S', 'KROSSØY 1 - LNXT - VL0012BN', 'NORDSILD - LLRK - T 0008I', 'ROWENTA - LJBC - N 0666VV', 'DOGGI - LLIA - F 0014H', 'HERØYHAV - LJTD - M 0520HØ', 'PIRAJA - LMTJ - VA0095K', 'RADEK - LIZI - VL0072AV', 'VENDLA - LJTP - H 0040AV', 'KINGS BAY - LGWK - M 0021HØ', 'EDNA SYNNØVE - LJNB - ST0018F', 'NYBO - LMFZ - M 0030M', 'SPJÆRINGEN - LLQX - Ø 0300H', 'RØDHOLMEN - LCMN - VN0118B', 'SÆVAR JR - LLVN - M 0200M', 'RAMOEN - LDNV - M 0001VD', 'ØSTERBRIS - LDKM - H 0099AV', 'ROGNE - JXAY - M 0004HØ', 'ØSTERBRIS 2 - LJME - H 0127AV', 'GERDA MARIE - LGFQ - H 0365AV', 'KABA - 3YBZ - H 0033O', 'TORBAS - LLBT - SF0099V', 'SANDER ANDRE - LELQ - N 0244MS', 'BØEN - LHWW - R 0007SD', 'ORFJORD - LDAA - M 0058AV', 'BALLSTADØY - LLLI - N 0185VV', 'OLAGUTT - LLRW - N 0001SO', 'BÅRAGUTT - JXPQ - T 0100T', 'LIAVÅG - LDUX - M 0088AV', 'LISE-BEATE - LLYL - T 0100LK', 'LØNNINGEN - LALI - H 0200B', 'EROS - LIVA - M 0060HØ', 'LIBAS - LFKW - VL0001ØN', 'NOTBAS - LIYG - T 0010S', 'STEINEVIK - JWNI - H 0058AV', 'NORDERVEG - LGWK - VL0181AV', 'ORDINAT - LKLV - H 0090AV', 'RINGBAS - LHRX - M 0116HØ', 'BRATTSKJÆR - LLLP - NT0345V', 'MOSTEIN 1 - LGBG - H 0221B', 'GANGSTAD - LGSR - M 0006MD', 'BRATTSKJÆR - LDAA - NT0346V', 'ROWENTA - LLWF - N 0050MS', 'TOPAS - LHRX - M 0100G', 'GARDAR - LKWZ - H 0034AV', 'FISKØY - LIOL - N 0067VV', 'HAVSTÅL - LESG - M 0300A', 'INGER HILDUR - LLRG - M 0100F', 'KRANSVIK JR - LLLI - N 0180V', 'FISKEBANK - LEPW - M 0101SM', 'SVANAVÅG - LALN - R 0003ES', 'HARALD JOHAN - JXAM - H 0012AV', 'HAVSNURP - LLBM - M 0095MD', 'M.YTTERSTAD - LFTI - N 0307LN', 'ODD LUNDBERG - LFUO - T 0055G', 'ROWENTA - LJBC - N 0066MS', 'NESEJENTA - LFWP - AG0001LS', 'NERA - LK3243 - H 0006B', 'KLARA B - LERB - N 0003MS', 'VOLDNES - LKUB - F 0080M', 'HERMES - LLOP - F 0007L', 'HARVEST - LDKY - H 0001AV', 'BØMMELBAS - LHRE - H 0444B', 'NORDSJØBAS - LFJF - M 0040HØ', 'ISHAVET - 3YYB - M 0011A', 'RUNING - JWQZ - M 0121A', 'ROGNE - JXAY - M 0042HØ', 'TOPAS - LJQM - M 0007G', 'SJØGLANS - LIZI - SF0008A', 'STEINSUND - LFJE - H 0227AV', 'SØRVIK - LCRI - ST0066F', 'BUØY SR. - LK3243 - M 0089HØ', 'BALLSTADØY - LFGX - N 0003VV', 'VIKAFJORD - LJDJ - VL0033B', 'PETRELL - LLMQ - M 0200G', 'SLOTTSTEIN - LJDR - VL0225AV', 'MONSUN - LIUC - VA0041K', 'EMMA - LALD - M 0108MD', 'HAVFJORD - LGDF - VA0002S', 'ØKSNESVÆRING - LMCE - N 0160Ø', 'KRANSVIK JR - LJDJ - N 0081V', 'NORDSØ - LFIZ - VA0097M', 'GLOMFJORD - LHBI - M 0370HØ', 'EMILIE H - LEAE - M 0090SJ', 'HAVSTRAND - LDBR - M 0525H', 'KREMMERVIK - 3YMI - H 0015AV', 'STEINEVIK - LAQD - VL0167AV', 'GRIMSHOLM - LAKF - T 0079T', 'SKUDE SENIOR - LCGU - R 0004K', 'LURØYBAS - JWVR - N 0111L', 'JOHAN FEYER - LJYE - R 0004ES', 'REMO - LDWS - Ø 0005H', 'SKOMVÆRHAV - LJDJ - N 0081V', 'REBEKKA L - JXQO - VL0043KI', 'LURØYBAS - JWVR - N 0114L', 'TRONDSKJÆR - LFBC - T 0200LK', 'HAUGAGUT - LKUX - H 0050AV', 'VESTERHAV - LDQN - SF0001A', 'SJARMØR - LCGM - SF0017SU', 'SENIOR - LDHM - N 0200B', 'ATLØY VIKING - LJDJ - SF0055A', 'QUO VADIS - LMDF - R 0086K', 'LEINEBJØRN - LCOJ - M 0003HØ', 'LANGENES - JXJU - M 0035A', 'ARNØYFJORD - LMCE - TR0030ND', 'ORFJORD - LGLX - M 0008AV', 'SVANAUG ELISE - LDAK - TR0119F', 'OLAGUTT - LLRW - N 0007SO', 'NYSKJER - LLMI - M 0515MD', 'FISKEBAS - LHWW - SF0208F', 'NORDSILD - LLRK - T 0018I', 'KROSSØY - 3YMI - H 0017BN', 'ÆSØYBUEN - LDUX - SF0008F', 'TUNFISK - LLWG - H 0180K', 'HUNTER - LCCZ - VA0002S', 'LIGRUNN - LACT - H 0001F', 'HUGØYBAS - LCNO - H 0032K', 'GARDAR - 3YBM - VL0024AV', 'BENJACO - LNYZ - H 0051K', 'BRUSØYSKJÆR - LFTO - TR0400V', 'SVANAUG ELISE - LLRD - M 0119HØ', 'SULEBAS - LHLX - SF0030SU', 'ATLØY VIKING - LHTT - SF0022A', 'E.H. SENIOR - LLLD - T 0300TK', 'GUNNAR K - LEPP - N 0346Ø', 'GENESIS - LLGS - M 0079HØ', 'MAGNARSON - LMBX - H 0088AV', 'BERNT OSKAR - 3YCU - N 0020MS', 'SILDASKJÆR - LMMF - M 0260HØ', 'HAVSNURP - LCOE - M 0095MD', 'MONSUN - LGPO - AG0003K', 'HAUGAGUT - LAQD - H 0050AV', 'KRANSVIK JR - LLQX - N 0006V', 'HAVBAS - LHWO - T 0071T', 'SJOHAV - LLGI - H 0004K', 'VEIDING - LFPA - R 0069K', 'BRATTSKJÆR - 3YKA - TR0346ND', 'NORDSJØBAS - LHWW - M 0190HØ', 'VIBEKE HELENE - LLMQ - SF0001G', 'KATHRIN G - LCHJ - M 0020MD', 'INGRID MAJALA - LCOE - TF0195M', 'STORVIG - LJCS - VA0081LS', 'MELØYFJORD - LFYY - N 0510ME', 'ODD LUNDBERG - LLNZ - T 0260G', 'LIAFJORD - LGYF - VL0003ØN', 'VESTBRIS - LCJG - VL0050G', 'VIKANØY - LFXX - N 0210BØ', 'FYRHOLM - LGSR - H 0015B', 'ALBACORE - LADH - SF0018F', 'SVENSGAM - JXAY - N 0134LN', 'VICTORIA MAY - LEVV - M 0267G', 'SJOHAV - LMMF - H 0260K', 'ANDREA L - LFMP - VL0004KI', 'HARDHAUS - LFNJ - VL0009AV', 'EINARSON - LELQ - TF0244SE', 'BØEN - LJSY - R 0085SD', 'SLETTHOLMEN - LAVF - N 0118L', 'VIBEKE HELENE - LLMQ - R 0106K', 'KANSTADFJORD - LIYY - N 0189LN', 'SKUDE - LNYH - R 0157K', 'MOSTEIN - JXUM - VL0778B', 'SILVER BAY - LIHW - H 0095B', 'NORDERVEG - LLXW - H 0179AV', 'ARNØYTIND SENIOR - LJZH - T 0008S', 'REMO - LDWS - H 0022FJ', 'NYSKJER - LFFG - M 0072MD', 'KVANNØY - LKUF - N 0400B', 'BUEFJORD - LLND - SF0045A', 'KNUT OLAV - LESF - N 0003V', 'SKIPSHOLMEN - LJRS - H 0425AV', 'BØEN - 3YUG - R 0051SD', 'LIGRUNN II - JXXI - VL0145ØN', 'HARMONI - LAIJ - T 0074T', 'HÅFLU - LEQI - R 0022B', 'ALBACORE - LADH - SF0003A', 'STRAUMBAS - LEWL - R 0020V', 'VEA - LGGR - R 0030K', 'SILLE MARIE - LCPE - VA0110S', 'SKOLMEN - LJOB - N 0025VV', 'ORSKJÆR - LLVA - Ø 0003H', 'MELØYFJORD - 3YUG - N 0051ME', 'RADEK - LNXT - H 0002AV', 'FLIPPER - LJTV - VL0050AV', 'NORDERVEG - LGWK - VL0182AV', 'MORTEN EINAR - LLNZ - H 0402AV', 'HÅFLU - LDQV - R 0005B', 'HAVSNURP - LHBV - M 0195M', 'LØNNINGEN - LKLV - H 0030B', 'HÅFLU - LGQK - R 0035B', 'KLONDYKE - LCCZ - M 0042A', 'OLA RYGGEFJORD - JXUE - VL0180AV', 'SULEBAS - LECW - SF0100SU', 'SILLE MARIE - LCPE - VA0010S', 'GANGSTAD - LLAQ - M 0024MD', 'MIDØY VIKING - LGUP - M 0014MD', 'LISE BEATE - LDQN - TF0100SE', 'ATLØY VIKING - LJSY - VL0055A', 'MYNTEVIK - LHRI - R 0058ES', 'SUNNY LADY - LGDZ - M 0120HØ', 'SÆVIKSON - LCFI - M 0072HØ', 'NORDHAVET - LEPQ - T 0001I', 'GAMBLER - LELC - SF0006V', 'TRYGVASON - LENJ - H 0020B', 'TRØNDERHAV - LJBI - ST0031RS', 'STRAUMBAS - LIOD - R 0062K', 'ENDRE DYRØY - LFOA - H 0021F', 'LEINEBJØRN - LLRG - M 0003HØ', 'SÆVIKTRÅL - LHYA - R 0233K', 'RAV - LFSW - TR0004O', 'MOLNES - LNKS - M 0069G', 'BØMMELFJORD - LMBX - H 0388B', 'HOVDEN VIKING - LEYN - SF0002S', 'REMO - LDWS - VL0003FJ', 'STOREGG - LEIA - M 0095A', 'KAMILLA GRANDE - JWLM - N 0050Ø', 'SALVØY - LECG - R 0333K'}\n",
      "Number of VMS records: 11787\n",
      "VMS date: 2014-05-13 06:06:00 -> 2014-11-26 13:06:00\n",
      "Number of VMS records after initial time-filter:  11787\n"
     ]
    },
    {
     "name": "stderr",
     "output_type": "stream",
     "text": [
      "Filtering VMS records by ERS vessels: 100%|██████████| 497/497 [00:45<00:00, 10.84it/s]\n",
      "/home/anna/msc_oppgave/fish-forecast/utilities.py:352: SettingWithCopyWarning: \n",
      "A value is trying to be set on a copy of a slice from a DataFrame.\n",
      "Try using .loc[row_indexer,col_indexer] = value instead\n",
      "\n",
      "See the caveats in the documentation: https://pandas.pydata.org/pandas-docs/stable/user_guide/indexing.html#returning-a-view-versus-a-copy\n",
      "  df_ers['Starttidspunkt'] = pd.to_datetime(df_ers['Starttidspunkt'], format='mixed', dayfirst=True)\n",
      "/home/anna/msc_oppgave/fish-forecast/utilities.py:353: SettingWithCopyWarning: \n",
      "A value is trying to be set on a copy of a slice from a DataFrame.\n",
      "Try using .loc[row_indexer,col_indexer] = value instead\n",
      "\n",
      "See the caveats in the documentation: https://pandas.pydata.org/pandas-docs/stable/user_guide/indexing.html#returning-a-view-versus-a-copy\n",
      "  df_ers['Stopptidspunkt'] = pd.to_datetime(df_ers['Stopptidspunkt'], format='mixed', dayfirst=True)\n"
     ]
    },
    {
     "name": "stdout",
     "output_type": "stream",
     "text": [
      "Number of VMS records after filtering by ERS vessels: 10818\n",
      "497 unique vessels\n",
      "164 unique vessels\n",
      "Missing VMS vessels: {'ELVIRA III - LK3553 - R 0052K', 'SILDASKJÆR - LMMF - SF0001V', 'LIAHOLM - LMDJ - M 0071AV', 'MOSTEIN - LGBG - H 0221B', 'SHEIK - LLSO - VA0055S', 'SJØGLANS - LIZI - AG0014K', 'THEA ELISE - LIKQ - N 0530MS', 'SJONGLØR - LFEP - SF0051SU', 'SILLE MARIE - LCPE - R 0110ES', 'H ØSTERVOLD - LKUX - H 0148AV', 'RINGBAS - LHRX - SF0006V', 'DYRNESVÅG - LGGM - M 0435SM', 'NORAFJELL - LLCX - N 0034LN', 'SJARMØR - LJZO - VL0184SU', 'FRUHOLMEN - LHWO - H 0178AV', 'HAVFISK - LLGA - M 0200A', 'CETUS - JXML - R 0015K', 'HERØYFJORD - LAXI - M 0021HØ', 'EMMA - LCSR - M 0064MD', 'ATLØYBUEN - JXSE - SF0033A', 'FLANDER - LKLA - H 0158B', 'STØTTFJORD - LDXP - N 0100B', 'INGVARDSON - LEIA - H 0095K', 'JOHAN BERG - LLWT - N 0145VR', 'SLAATTERØY - LGFV - VL0264AV', 'JØKUL - LALD - M 0108MD', 'BERG SENIOR - LIQO - N 0005VR', 'HASTING - LLMP - SF0097B', 'BALLSTADØY - LFGX - N 0099VV', 'ØSTANGER - 3YDD - H 0148AV', 'ÅKERØY - LDHM - N 0200DA', 'SENIOR - LAQD - N 0060B', 'VESTØY - LCSR - M 0064MD', 'FAGERVOLL - LCHL - M 0074A', 'SEGLA - LLZL - T 0050LK', 'SLETTHOLMEN - LAVF - T 0110I', 'CAPRICE - LFGV - H 0313AV', 'ARNØYTIND - LGNJ - TF0008S', 'BUEFJORD - LJMF - SF0147A', 'LØNNØY - LJTD - H 0004B', 'MARIE - LMCW - M 0008M', 'EDNA SYNNØVE - LCGV - TR0018F', 'AUSTERFJORD - LJZO - H 0084AV', 'JULIANNE III - LCGQ - T 0021T', 'REMØY - LDSF - M 0099HØ', 'SKLINNABANKEN - LJQM - N 0250BR', 'GAMBLER - LELC - M 0192HØ', 'FISKESKJER - LDXH - M 0625H', 'GOULD DOLLAR - LNHQ - SF0300A', 'SCOMBRUS - JXSF - R 0001H', 'HAVSKJER - LFUZ - M 0400A', 'ZENIT - LMWI - R 0111K', 'MORTEN EINAR - LCOV - H 0140AV', 'ROGNE - JXAY - N 0040LN', 'EINARSON - LMCE - T 0016LK', 'ANDREA L - LHWW - SF0001V', 'SYDVEST - LLAS - VL0053AV', 'KVATRO - LJDJ - M 0055F', 'TORBAS - LFMP - SF0004V', 'KATHRIN G - LCCX - M 0001SJ', 'KABA - 3YBZ - N 0303V', 'KNESTER - JWNI - H 0058AV', 'HAVSNURP - LCOE - M 0195HØ', 'STRAND SENIOR - LFSY - M 0125H', 'BENJACO - 3YUG - VL0051K', 'VESTFART - LLRG - SF0028B', 'KVANNØY - LMBE - N 0400B', 'GERD JULIE - LDXP - N 0400V', 'HILLERSØY - LJWW - SF0246A', 'VIKANØY - LHTT - N 0210BØ', 'GUNNAR K - LJWW - SF0246A', 'STRAUMBERG - LDEF - N 0006V', 'TOBIS - LFOB - H 0101AV', 'TROMSBAS - LAWQ - T 0009T', 'SMARAGD - LKOO - M 0065HØ', 'JULIANNE III - LCGQ - N 0021LN', 'SKÅR SENIOR - LGGL - M 0200HØ', 'LIAFJELL - LLWB - H 0087F', 'GUNNAR LANGVA - LFGY - M 0189A', 'SELVÅG - LJXW - N 0024ME', 'GOLLENES - LHBM - M 0311HØ', 'SANDER ANDRE II - LNYZ - N 0250MS', 'TILJE - LICN - SF0082B', 'B.M. DRIVENES - LM7682 - H 0223AV', 'SILLE MARIE - LHBQ - AG0002K', 'ARNØYFJORD - LMOV - NT0030NR', 'ORFJORD - LDAA - M 0008AV', 'INGER HILDUR - LJUH - M 0101F', 'SPJÆRINGEN SENIOR - LLGB - Ø 0150H', 'JARLE BERG - JWLC - N 0045VR', 'LØNNØY JUNIOR - LIKL - H 0097B', 'BØMMELHAV - LJYE - H 0078B', 'GENESIS - LLGS - M 0077HØ', 'CETUS - LFFK - R 0001K', 'STRAND SENIOR 2 - LJRS - M 0425H', 'ARNØYTIND - LJZH - T 0008S', 'ORDINAT - LJTD - H 0250AV', 'KINGSHOLM - LJNB - M 0033SJ', 'HERØYFJORD - LGSJ - M 0023HØ', 'VÅRBUD - LM3369 - SF0016SU', 'VIKINGBANK - LFVI - R 0011K', 'STÅLRINGEN - LLGZ - N 0075DA', 'HARGO - LLAS - VL0063AV', 'BARHOLM - LIQO - VL0025ØN', 'SKARHOLMEN - LIKQ - N 0053BØ', 'SVANAUG ELISE - LLRD - TR0019F', 'SØRØYFISK - LJQQ - M 0020A', 'INGRID MAJALA - LAKF - F 0225M', 'STORSTEIN - LLMQ - TR0091AA', 'SELVÅG SENIOR - LGOQ - N 0001ME', 'ORSKJÆR - LLVA - M 0174AV', 'MIRANDA - LDIW - N 0195V', 'VESTBAS - LJBC - M 0066HØ', 'TRØNDERHAV - LLJN - ST0030RS', 'KNESTER - JWNI - N 0019DA', 'HELLEVIG 1 - LEUM - VA0330S', 'KROSSØY 1 - LNXT - VL0012BN', 'NORDSILD - LLRK - T 0008I', 'ROWENTA - LJBC - N 0666VV', 'DOGGI - LLIA - F 0014H', 'HERØYHAV - LJTD - M 0520HØ', 'RADEK - LIZI - VL0072AV', 'VENDLA - LJTP - H 0040AV', 'KINGS BAY - LGWK - M 0021HØ', 'NYBO - LMFZ - M 0030M', 'SPJÆRINGEN - LLQX - Ø 0300H', 'RØDHOLMEN - LCMN - VN0118B', 'SÆVAR JR - LLVN - M 0200M', 'RAMOEN - LDNV - M 0001VD', 'ROGNE - JXAY - M 0004HØ', 'GERDA MARIE - LGFQ - H 0365AV', 'KABA - 3YBZ - H 0033O', 'TORBAS - LLBT - SF0099V', 'SANDER ANDRE - LELQ - N 0244MS', 'BØEN - LHWW - R 0007SD', 'ORFJORD - LDAA - M 0058AV', 'BALLSTADØY - LLLI - N 0185VV', 'OLAGUTT - LLRW - N 0001SO', 'BÅRAGUTT - JXPQ - T 0100T', 'LIAVÅG - LDUX - M 0088AV', 'LISE-BEATE - LLYL - T 0100LK', 'LØNNINGEN - LALI - H 0200B', 'EROS - LIVA - M 0060HØ', 'LIBAS - LFKW - VL0001ØN', 'NOTBAS - LIYG - T 0010S', 'STEINEVIK - JWNI - H 0058AV', 'NORDERVEG - LGWK - VL0181AV', 'ORDINAT - LKLV - H 0090AV', 'RINGBAS - LHRX - M 0116HØ', 'BRATTSKJÆR - LLLP - NT0345V', 'HARVEST - LLAS - H 0003AV', 'GANGSTAD - LGSR - M 0006MD', 'MOSTEIN 1 - LGBG - H 0221B', 'ROWENTA - LLWF - N 0050MS', 'TOPAS - LHRX - M 0100G', 'STRAUMBERG - LIOD - N 0002LF', 'FISKØY - LIOL - N 0067VV', 'HAVSTÅL - LESG - M 0300A', 'INGER HILDUR - LLRG - M 0100F', 'VEAGUTT - LCFH - R 0001K', 'KRANSVIK JR - LLLI - N 0180V', 'FISKEBANK - LEPW - M 0101SM', 'SCOMBRUS - LMCH - R 0017H', 'SVANAVÅG - LALN - R 0003ES', 'HARALD JOHAN - JXAM - H 0012AV', 'HAVSNURP - LLBM - M 0095MD', 'M.YTTERSTAD - LFTI - N 0307LN', 'ODD LUNDBERG - LFUO - T 0055G', 'ROWENTA - LJBC - N 0066MS', 'NESEJENTA - LFWP - AG0001LS', 'NERA - LK3243 - H 0006B', 'KLARA B - LERB - N 0003MS', 'VOLDNES - LKUB - F 0080M', 'HERMES - LLOP - F 0007L', 'MYNTEVIK - LHRI - R 0258K', 'BØMMELBAS - LHRE - H 0444B', 'TUNFISK - JWWM - H 0260K', 'NORDSJØBAS - LFJF - M 0040HØ', 'ISHAVET - 3YYB - M 0011A', 'RUNING - JWQZ - M 0121A', 'ROGNE - JXAY - M 0042HØ', 'TOPAS - LJQM - M 0007G', 'SJØGLANS - LIZI - SF0008A', 'STEINSUND - LFJE - H 0227AV', 'SØRVIK - LCRI - ST0066F', 'BUØY SR. - LK3243 - M 0089HØ', 'BALLSTADØY - LFGX - N 0003VV', 'VIKAFJORD - LJDJ - VL0033B', 'PETRELL - LLMQ - M 0200G', 'SLOTTSTEIN - LJDR - VL0225AV', 'MONSUN - LIUC - VA0041K', 'EMMA - LALD - M 0108MD', 'HAVFJORD - LGDF - VA0002S', 'ØKSNESVÆRING - LMCE - N 0160Ø', 'KRANSVIK JR - LJDJ - N 0081V', 'NORDSØ - LFIZ - VA0097M', 'GLOMFJORD - LHBI - M 0370HØ', 'EMILIE H - LEAE - M 0090SJ', 'HAVSTRAND - LDBR - M 0525H', 'STEINEVIK - LAQD - VL0167AV', 'GRIMSHOLM - LAKF - T 0079T', 'SKUDE SENIOR - LCGU - R 0004K', 'LURØYBAS - JWVR - N 0111L', 'JOHAN FEYER - LJYE - R 0004ES', 'REMO - LDWS - Ø 0005H', 'SKOMVÆRHAV - LJDJ - N 0081V', 'REBEKKA L - JXQO - VL0043KI', 'NYSTRAND - JWOC - N 0015RT', 'LURØYBAS - JWVR - N 0114L', 'TRONDSKJÆR - LFBC - T 0200LK', 'HAUGAGUT - LKUX - H 0050AV', 'LEIK - LLZF - R 0044K', 'SENIOR - LDHM - N 0200B', 'ATLØY VIKING - LJDJ - SF0055A', 'QUO VADIS - LMDF - R 0086K', 'LANGENES - JXJU - M 0035A', 'ARNØYFJORD - LMCE - TR0030ND', 'SVANAUG ELISE - LDAK - TR0119F', 'OLAGUTT - LLRW - N 0007SO', 'NYSKJER - LLMI - M 0515MD', 'FISKEBAS - LHWW - SF0208F', 'NORDSILD - LLRK - T 0018I', 'KROSSØY - 3YMI - H 0017BN', 'ÆSØYBUEN - LDUX - SF0008F', 'TUNFISK - LLWG - H 0180K', 'HUNTER - LCCZ - VA0002S', 'LIGRUNN - LACT - H 0001F', 'HUGØYBAS - LCNO - H 0032K', 'GARDAR - 3YBM - VL0024AV', 'BENJACO - LNYZ - H 0051K', 'BRUSØYSKJÆR - LFTO - TR0400V', 'EINAR ERLEND - LLND - N 0045ME', 'SVANAUG ELISE - LLRD - M 0119HØ', 'GARDAR - LMOG - H 0011AV', 'SULEBAS - LHLX - SF0030SU', 'ATLØY VIKING - LHTT - SF0022A', 'E.H. SENIOR - LLLD - T 0300TK', 'GUNNAR K - LEPP - N 0346Ø', 'GENESIS - LLGS - M 0079HØ', 'MAGNARSON - LMBX - H 0088AV', 'BERNT OSKAR - 3YCU - N 0020MS', 'LEINEBJØRN - LCOJ - M 0006HØ', 'SMARAGD - LJXV - M 0064HØ', 'HAVSNURP - LCOE - M 0095MD', 'MONSUN - LGPO - AG0003K', 'HAUGAGUT - LAQD - H 0050AV', 'KRANSVIK JR - LLQX - N 0006V', 'HAVBAS - LHWO - T 0071T', 'SJOHAV - LLGI - H 0004K', 'VEIDING - LFPA - R 0069K', 'BRATTSKJÆR - 3YKA - TR0346ND', 'NORDSJØBAS - LHWW - M 0190HØ', 'VIBEKE HELENE - LLMQ - SF0001G', 'KATHRIN G - LCHJ - M 0020MD', 'VESTERVON - LLWG - SF0011A', 'REMO - LDWS - M 0012G', 'INGRID MAJALA - LCOE - TF0195M', 'STORVIG - LJCS - VA0081LS', 'MELØYFJORD - LFYY - N 0510ME', 'ODD LUNDBERG - LLNZ - T 0260G', 'LIAFJORD - LGYF - VL0003ØN', 'VESTBRIS - LCJG - VL0050G', 'VIKANØY - LFXX - N 0210BØ', 'ØSTERBRIS - LJME - H 0127AV', 'FYRHOLM - LGSR - H 0015B', 'SVENSGAM - JXAY - N 0134LN', 'VICTORIA MAY - LEVV - M 0267G', 'SJOHAV - LMMF - H 0260K', 'SENIOR - LGYT - N 0200B', 'ANDREA L - LFMP - VL0004KI', 'HARDHAUS - LFNJ - VL0009AV', 'HAVRAND - LLWF - SF0040B', 'EINARSON - LELQ - TF0244SE', 'BØEN - LJSY - R 0085SD', 'SLETTHOLMEN - LAVF - N 0118L', 'VIBEKE HELENE - LLMQ - R 0106K', 'KANSTADFJORD - LIYY - N 0189LN', 'SKUDE - LNYH - R 0157K', 'MOSTEIN - JXUM - VL0778B', 'SILVER BAY - LIHW - H 0095B', 'NORDERVEG - LLXW - H 0179AV', 'ARNØYTIND SENIOR - LJZH - T 0008S', 'NYSKJER - LFFG - M 0072MD', 'MALENE S - LCZQ - H 0128AV', 'KVANNØY - LKUF - N 0400B', 'SVANAVÅG - LALN - VA0078S', 'KNUT OLAV - LESF - N 0003V', 'SKIPSHOLMEN - LJRS - H 0425AV', 'BØEN - 3YUG - R 0051SD', 'LIGRUNN II - JXXI - VL0145ØN', 'HARMONI - LAIJ - T 0074T', 'HÅFLU - LEQI - R 0022B', 'ALBACORE - LADH - SF0003A', 'STRAUMBAS - LEWL - R 0020V', 'VEA - LGGR - R 0030K', 'SKOLMEN - LJOB - N 0025VV', 'ORSKJÆR - LLVA - Ø 0003H', 'MELØYFJORD - 3YUG - N 0051ME', 'RADEK - LNXT - H 0002AV', 'FLIPPER - LJTV - VL0050AV', 'ABELONE MØGSTER - 3YMI - H 0015AV', 'NORDERVEG - LGWK - VL0182AV', 'MORTEN EINAR - LLNZ - H 0402AV', 'HÅFLU - LDQV - R 0005B', 'HAVSNURP - LHBV - M 0195M', 'LØNNINGEN - LKLV - H 0030B', 'HÅFLU - LGQK - R 0035B', 'KLONDYKE - LCCZ - M 0042A', 'OLA RYGGEFJORD - JXUE - VL0180AV', 'SILLE MARIE - LCPE - VA0010S', 'GANGSTAD - LLAQ - M 0024MD', 'MIDØY VIKING - LGUP - M 0014MD', 'LISE BEATE - LDQN - TF0100SE', 'ATLØY VIKING - LJSY - VL0055A', 'MYNTEVIK - LHRI - R 0058ES', 'SUNNY LADY - LGDZ - M 0120HØ', 'SÆVIKSON - LCFI - M 0072HØ', 'NORDHAVET - LEPQ - T 0001I', 'GAMBLER - LELC - SF0006V', 'TRYGVASON - LENJ - H 0020B', 'TRØNDERHAV - LJBI - ST0031RS', 'STRAUMBAS - LIOD - R 0062K', 'ENDRE DYRØY - LFOA - H 0021F', 'LEINEBJØRN - LLRG - M 0003HØ', 'SÆVIKTRÅL - LHYA - R 0233K', 'RAV - LFSW - TR0004O', 'MOLNES - LNKS - M 0069G', 'BØMMELFJORD - LMBX - H 0388B', 'HOVDEN VIKING - LEYN - SF0002S', 'REMO - LDWS - VL0003FJ', 'STOREGG - LEIA - M 0095A', 'KAMILLA GRANDE - JWLM - N 0050Ø', 'SALVØY - LECG - R 0333K'}\n",
      "Number of VMS records: 6952\n",
      "VMS date: 2015-01-15 00:32:00 -> 2015-12-31 17:46:00\n",
      "Number of VMS records after initial time-filter:  6952\n"
     ]
    },
    {
     "name": "stderr",
     "output_type": "stream",
     "text": [
      "Filtering VMS records by ERS vessels: 100%|██████████| 497/497 [00:34<00:00, 14.50it/s]\n",
      "/home/anna/msc_oppgave/fish-forecast/utilities.py:352: SettingWithCopyWarning: \n",
      "A value is trying to be set on a copy of a slice from a DataFrame.\n",
      "Try using .loc[row_indexer,col_indexer] = value instead\n",
      "\n",
      "See the caveats in the documentation: https://pandas.pydata.org/pandas-docs/stable/user_guide/indexing.html#returning-a-view-versus-a-copy\n",
      "  df_ers['Starttidspunkt'] = pd.to_datetime(df_ers['Starttidspunkt'], format='mixed', dayfirst=True)\n",
      "/home/anna/msc_oppgave/fish-forecast/utilities.py:353: SettingWithCopyWarning: \n",
      "A value is trying to be set on a copy of a slice from a DataFrame.\n",
      "Try using .loc[row_indexer,col_indexer] = value instead\n",
      "\n",
      "See the caveats in the documentation: https://pandas.pydata.org/pandas-docs/stable/user_guide/indexing.html#returning-a-view-versus-a-copy\n",
      "  df_ers['Stopptidspunkt'] = pd.to_datetime(df_ers['Stopptidspunkt'], format='mixed', dayfirst=True)\n"
     ]
    },
    {
     "name": "stdout",
     "output_type": "stream",
     "text": [
      "Number of VMS records after filtering by ERS vessels: 6373\n",
      "497 unique vessels\n",
      "159 unique vessels\n",
      "Missing VMS vessels: {'NESEBUEN - LCFH - VA0086LS', 'ELVIRA III - LK3553 - R 0052K', 'SILDASKJÆR - LMMF - SF0001V', 'LIAHOLM - LMDJ - M 0071AV', 'MOSTEIN - LGBG - H 0221B', 'SHEIK - LLSO - VA0055S', 'SJØGLANS - LIZI - AG0014K', 'THEA ELISE - LIKQ - N 0530MS', 'SJONGLØR - LFEP - SF0051SU', 'SILLE MARIE - LCPE - R 0110ES', 'H ØSTERVOLD - LKUX - H 0148AV', 'RINGBAS - LHRX - SF0006V', 'DYRNESVÅG - LGGM - M 0435SM', 'NORAFJELL - LLCX - N 0034LN', 'SJARMØR - LJZO - VL0184SU', 'SALVØY - LDQV - R 0005B', 'FRUHOLMEN - LHWO - H 0178AV', 'HAVFISK - LLGA - M 0200A', 'ARNØYFJORD - LLGB - NT0050NR', 'CETUS - JXML - R 0015K', 'HERØYFJORD - LAXI - M 0021HØ', 'EMMA - LCSR - M 0064MD', 'ATLØYBUEN - JXSE - SF0033A', 'FLANDER - LKLA - H 0158B', 'STØTTFJORD - LDXP - N 0100B', 'SKULBAREN - JWLH - T 0111T', 'INGVARDSON - LEIA - H 0095K', 'SLAATTERØY - LGFV - VL0264AV', 'JØKUL - LALD - M 0108MD', 'BERG SENIOR - LIQO - N 0005VR', 'HASTING - LLMP - SF0097B', 'BALLSTADØY - LFGX - N 0099VV', 'ØSTANGER - 3YDD - H 0148AV', 'SCOMBRUS JR - JXSF - R 0009H', 'VESTØY - LCSR - M 0064MD', 'FAGERVOLL - LCHL - M 0074A', 'KVANNØY - LAQD - N 0060B', 'SEGLA - LLZL - T 0050LK', 'SLETTHOLMEN - LAVF - T 0110I', 'CAPRICE - LFGV - H 0313AV', 'ARNØYTIND - LGNJ - TF0008S', 'BUEFJORD - LJMF - SF0147A', 'LØNNØY - LJTD - H 0004B', 'MARIE - LMCW - M 0008M', 'EDNA SYNNØVE - LCGV - TR0018F', 'AUSTERFJORD - LJZO - H 0084AV', 'JULIANNE III - LCGQ - T 0021T', 'REMØY - LDSF - M 0099HØ', 'SKLINNABANKEN - LJQM - N 0250BR', 'GAMBLER - LELC - M 0192HØ', 'GOULD DOLLAR - LNHQ - SF0300A', 'SCOMBRUS - JXSF - R 0001H', 'HAVSKJER - LFUZ - M 0400A', 'ZENIT - LMWI - R 0111K', 'MORTEN EINAR - LCOV - H 0140AV', 'ÅKERØY II - LAXI - N 0300DA', 'ROGNE - JXAY - N 0040LN', 'EINARSON - LMCE - T 0016LK', 'ANDREA L - LHWW - SF0001V', 'GAMBLER - LELC - SF0046V', 'SYDVEST - LLAS - VL0053AV', 'KATHRIN G - LCCX - M 0001SJ', 'AMBASSADOR - LJBI - R 0126K', 'KABA - 3YBZ - N 0303V', 'KNESTER - JWNI - H 0058AV', 'HAVSNURP - LCOE - M 0195HØ', 'STRAND SENIOR - LFSY - M 0125H', 'BENJACO - 3YUG - VL0051K', 'VESTFART - LLRG - SF0028B', 'KVANNØY - LMBE - N 0400B', 'GERD JULIE - LDXP - N 0400V', 'HILLERSØY - LJWW - SF0246A', 'VIKANØY - LHTT - N 0210BØ', 'GUNNAR K - LJWW - SF0246A', 'STRAUMBERG - LDEF - N 0006V', 'TOBIS - LFOB - H 0101AV', 'TROMSBAS - LAWQ - T 0009T', 'SULEHAV - LJJZ - SF0001SU', 'JULIANNE III - LCGQ - N 0021LN', 'SKÅR SENIOR - LGGL - M 0200HØ', 'LIAFJELL - LLWB - H 0087F', 'GUNNAR LANGVA - LFGY - M 0189A', 'SELVÅG - LJXW - N 0024ME', 'LØNNINGEN - LKLV - H 0020B', 'HILLERSØY - LMKD - SF0220A', 'GOLLENES - LHBM - M 0311HØ', 'SANDER ANDRE II - LNYZ - N 0250MS', 'TILJE - LICN - SF0082B', 'B.M. DRIVENES - LM7682 - H 0223AV', 'SILLE MARIE - LHBQ - AG0002K', 'ARNØYFJORD - LMOV - NT0030NR', 'ORFJORD - LDAA - M 0008AV', 'INGER HILDUR - LJUH - M 0101F', 'SPJÆRINGEN SENIOR - LLGB - Ø 0150H', 'JARLE BERG - JWLC - N 0045VR', 'LØNNØY JUNIOR - LIKL - H 0097B', 'BØMMELHAV - LJYE - H 0078B', 'GENESIS - LLGS - M 0077HØ', 'CETUS - LFFK - R 0001K', 'FISKESKJER - LJXG - M 0525H', 'STRAND SENIOR 2 - LJRS - M 0425H', 'ARNØYTIND - LJZH - T 0008S', 'ORDINAT - LJTD - H 0250AV', 'KINGSHOLM - LJNB - M 0033SJ', 'HERØYFJORD - LGSJ - M 0023HØ', 'VÅRBUD - LM3369 - SF0016SU', 'VIKINGBANK - LFVI - R 0011K', 'STÅLRINGEN - LLGZ - N 0075DA', 'HARGO - LLAS - VL0063AV', 'BARHOLM - LIQO - VL0025ØN', 'SKARHOLMEN - LIKQ - N 0053BØ', 'SVANAUG ELISE - LLRD - TR0019F', 'SØRØYFISK - LJQQ - M 0020A', 'INGRID MAJALA - LAKF - F 0225M', 'STORSTEIN - LLMQ - TR0091AA', 'SELVÅG SENIOR - LGOQ - N 0001ME', 'ATLØY VIKING - LCGV - SF0008A', 'ORSKJÆR - LLVA - M 0174AV', 'MIRANDA - LDIW - N 0195V', 'VESTBAS - LJBC - M 0066HØ', 'TRØNDERHAV - LLJN - ST0030RS', 'KNESTER - JWNI - N 0019DA', 'HELLEVIG 1 - LEUM - VA0330S', 'KROSSØY 1 - LNXT - VL0012BN', 'NORDSILD - LLRK - T 0008I', 'ROWENTA - LJBC - N 0666VV', 'DOGGI - LLIA - F 0014H', 'HERØYHAV - LJTD - M 0520HØ', 'RADEK - LIZI - VL0072AV', 'VENDLA - LJTP - H 0040AV', 'KINGS BAY - LGWK - M 0021HØ', 'NYBO - LMFZ - M 0030M', 'SPJÆRINGEN - LLQX - Ø 0300H', 'RØDHOLMEN - LCMN - VN0118B', 'SÆVAR JR - LLVN - M 0200M', 'RAMOEN - LDNV - M 0001VD', 'ROGNE - JXAY - M 0004HØ', 'ØSTERBRIS 2 - LJME - H 0127AV', 'GERDA MARIE - LGFQ - H 0365AV', 'KABA - 3YBZ - H 0033O', 'TORBAS - LLBT - SF0099V', 'SANDER ANDRE - LELQ - N 0244MS', 'BØEN - LHWW - R 0007SD', 'ORFJORD - LDAA - M 0058AV', 'BALLSTADØY - LLLI - N 0185VV', 'K.M. ØSTERVOLD - LHWW - H 0208AV', 'BÅRAGUTT - JXPQ - T 0100T', 'LIAVÅG - LDUX - M 0088AV', 'LØNNINGEN - LALI - H 0200B', 'EROS - LIVA - M 0060HØ', 'LIBAS - LFKW - VL0001ØN', 'NOTBAS - LIYG - T 0010S', 'STEINEVIK - JWNI - H 0058AV', 'NORDERVEG - LGWK - VL0181AV', 'SKUDE SENIOR - LCGU - R 0196K', 'ORDINAT - LKLV - H 0090AV', 'RINGBAS - LHRX - M 0116HØ', 'BØMMELFJORD - LNXT - H 0083B', 'BRATTSKJÆR - LLLP - NT0345V', 'HARVEST - LLAS - H 0003AV', 'GANGSTAD - LGSR - M 0006MD', 'MOSTEIN 1 - LGBG - H 0221B', 'BRATTSKJÆR - LDAA - NT0346V', 'TOPAS - LHRX - M 0100G', 'STRAUMBERG - LIOD - N 0002LF', 'FISKØY - LIOL - N 0067VV', 'HAVSTÅL - LESG - M 0300A', 'INGER HILDUR - LLRG - M 0100F', 'VEAGUTT - LCFH - R 0001K', 'KRANSVIK JR - LLLI - N 0180V', 'FISKEBANK - LEPW - M 0101SM', 'SVANAVÅG - LALN - R 0003ES', 'HARALD JOHAN - JXAM - H 0012AV', 'HAVSNURP - LLBM - M 0095MD', 'ODD LUNDBERG - LFUO - T 0055G', 'ROWENTA - LJBC - N 0066MS', 'NESEJENTA - LFWP - AG0001LS', 'NERA - LK3243 - H 0006B', 'KLARA B - LERB - N 0003MS', 'STOKKØY - JXGY - H 0098B', 'VOLDNES - LKUB - F 0080M', 'HERMES - LLOP - F 0007L', 'MYNTEVIK - LHRI - R 0258K', 'BØMMELBAS - LHRE - H 0444B', 'TUNFISK - JWWM - H 0260K', 'NORDSJØBAS - LFJF - M 0040HØ', 'ISHAVET - 3YYB - M 0011A', 'RUNING - JWQZ - M 0121A', 'ROGNE - JXAY - M 0042HØ', 'TOPAS - LJQM - M 0007G', 'SJØGLANS - LIZI - SF0008A', 'STEINSUND - LFJE - H 0227AV', 'SØRVIK - LCRI - ST0066F', 'BUØY SR. - LK3243 - M 0089HØ', 'VIKAFJORD - LJDJ - VL0033B', 'PETRELL - LLMQ - M 0200G', 'SLOTTSTEIN - LJDR - VL0225AV', 'MONSUN - LIUC - VA0041K', 'EMMA - LALD - M 0108MD', 'HAVFJORD - LGDF - VA0002S', 'ØKSNESVÆRING - LMCE - N 0160Ø', 'STARBEAM - LLAQ - M 0212H', 'KRANSVIK JR - LJDJ - N 0081V', 'NORDSØ - LFIZ - VA0097M', 'GLOMFJORD - LHBI - M 0370HØ', 'EMILIE H - LEAE - M 0090SJ', 'HAVSTRAND - LDBR - M 0525H', 'STEINEVIK - LAQD - VL0167AV', 'GRIMSHOLM - LAKF - T 0079T', 'SKUDE SENIOR - LCGU - R 0004K', 'JOHAN FEYER - LJYE - R 0004ES', 'REMO - LDWS - Ø 0005H', 'SKOMVÆRHAV - LJDJ - N 0081V', 'REBEKKA L - JXQO - VL0043KI', 'NYSTRAND - JWOC - N 0015RT', 'LURØYBAS - JWVR - N 0114L', 'TRONDSKJÆR - LFBC - T 0200LK', 'LEIK - LLZF - R 0044K', 'SALVØY - LDQV - R 0012K', 'SVEBAS - LJTV - SF0008SU', 'SENIOR - LDHM - N 0200B', 'ATLØY VIKING - LJDJ - SF0055A', 'QUO VADIS - LMDF - R 0086K', 'LANGENES - JXJU - M 0035A', 'ARNØYFJORD - LMCE - TR0030ND', 'SVANAUG ELISE - LDAK - TR0119F', 'OLAGUTT - LLRW - N 0007SO', 'FISKEBAS - LHWW - SF0208F', 'NORDSILD - LLRK - T 0018I', 'KROSSØY - 3YMI - H 0017BN', 'ÆSØYBUEN - LDUX - SF0008F', 'TUNFISK - LLWG - H 0180K', 'HUNTER - LCCZ - VA0002S', 'LIGRUNN - LACT - H 0001F', 'HUGØYBAS - LCNO - H 0032K', 'GARDAR - 3YBM - VL0024AV', 'BENJACO - LNYZ - H 0051K', 'BRUSØYSKJÆR - LFTO - TR0400V', 'EINAR ERLEND - LLND - N 0045ME', 'SVANAUG ELISE - LLRD - M 0119HØ', 'GARDAR - LMOG - H 0011AV', 'SULEBAS - LHLX - SF0030SU', 'ATLØY VIKING - LHTT - SF0022A', 'GUNNAR K - LEPP - N 0346Ø', 'AMELIA - LM7682 - H 0223AV', 'GENESIS - LLGS - M 0079HØ', 'MAGNARSON - LMBX - H 0088AV', 'LEINEBJØRN - LCOJ - M 0006HØ', 'SMARAGD - LJXV - M 0064HØ', 'HAVSNURP - LCOE - M 0095MD', 'MONSUN - LGPO - AG0003K', 'HAUGAGUT - LAQD - H 0050AV', 'KRANSVIK JR - LLQX - N 0006V', 'HAVBAS - LHWO - T 0071T', 'SJOHAV - LLGI - H 0004K', 'VEIDING - LFPA - R 0069K', 'BRATTSKJÆR - 3YKA - TR0346ND', 'VIBEKE HELENE - LLMQ - SF0001G', 'KATHRIN G - LCHJ - M 0020MD', 'VESTERVON - LLWG - SF0011A', 'REMO - LDWS - M 0012G', 'INGRID MAJALA - LCOE - TF0195M', 'HERØYFJORD - LMHM - M 0010HØ', 'STORVIG - LJCS - VA0081LS', 'MELØYFJORD - LFYY - N 0510ME', 'ODD LUNDBERG - LLNZ - T 0260G', 'LIAFJORD - LGYF - VL0003ØN', 'VESTBRIS - LCJG - VL0050G', 'VIKANØY - LFXX - N 0210BØ', 'ØSTERBRIS - LJME - H 0127AV', 'FYRHOLM - LGSR - H 0015B', 'SVENSGAM - JXAY - N 0134LN', 'VICTORIA MAY - LEVV - M 0267G', 'SJOHAV - LMMF - H 0260K', 'SENIOR - LGYT - N 0200B', 'ANDREA L - LFMP - VL0004KI', 'HARDHAUS - LFNJ - VL0009AV', 'BLUEFIN - LLAV - SF0012F', 'KVATRO - LJDJ - M 0052F', 'HAVRAND - LLWF - SF0040B', 'EINARSON - LELQ - TF0244SE', 'BØEN - LJSY - R 0085SD', 'SLETTHOLMEN - LAVF - N 0118L', 'VIBEKE HELENE - LLMQ - R 0106K', 'KANSTADFJORD - LIYY - N 0189LN', 'SKUDE - LNYH - R 0157K', 'MOSTEIN - JXUM - VL0778B', 'SILVER BAY - LIHW - H 0095B', 'NORDERVEG - LLXW - H 0179AV', 'ARNØYTIND SENIOR - LJZH - T 0008S', 'NYSKJER - LFFG - M 0072MD', 'MALENE S - LCZQ - H 0128AV', 'BUEFJORD - LLND - SF0045A', 'SVANAVÅG - LALN - VA0078S', 'KNUT OLAV - LESF - N 0003V', 'SKIPSHOLMEN - LJRS - H 0425AV', 'BØEN - 3YUG - R 0051SD', 'LIGRUNN II - JXXI - VL0145ØN', 'HARMONI - LAIJ - T 0074T', 'HÅFLU - LEQI - R 0022B', 'ALBACORE - LADH - SF0003A', 'STRAUMBAS - LEWL - R 0020V', 'VEA - LGGR - R 0030K', 'ORSKJÆR - LLVA - Ø 0003H', 'MELØYFJORD - 3YUG - N 0051ME', 'RADEK - LNXT - H 0002AV', 'FLIPPER - LJTV - VL0050AV', 'ABELONE MØGSTER - 3YMI - H 0015AV', 'NORDERVEG - LGWK - VL0182AV', 'MORTEN EINAR - LLNZ - H 0402AV', 'HAVSNURP - LHBV - M 0195M', 'HÅFLU - LGQK - R 0035B', 'KLONDYKE - LCCZ - M 0042A', 'KAMØYFISK - LLDB - H 0180AV', 'OLA RYGGEFJORD - JXUE - VL0180AV', 'SILLE MARIE - LCPE - VA0010S', 'GANGSTAD - LLAQ - M 0024MD', 'MIDØY VIKING - LGUP - M 0014MD', 'LISE BEATE - LDQN - TF0100SE', 'ATLØY VIKING - LJSY - VL0055A', 'MYNTEVIK - LHRI - R 0058ES', 'SUNNY LADY - LGDZ - M 0120HØ', 'KYSTFISK - LMOV - SF0003V', 'SÆVIKSON - LCFI - M 0072HØ', 'NORDHAVET - LEPQ - T 0001I', 'TRYGVASON - LENJ - H 0020B', 'ENDRE DYRØY - LFOA - H 0021F', 'LEINEBJØRN - LLRG - M 0003HØ', 'SÆVIKTRÅL - LHYA - R 0233K', 'RAV - LFSW - TR0004O', 'MOLNES - LNKS - M 0069G', 'BØMMELFJORD - LMBX - H 0388B', 'HOVDEN VIKING - LEYN - SF0002S', 'REMO - LDWS - VL0003FJ', 'STOREGG - LEIA - M 0095A', 'KAMILLA GRANDE - JWLM - N 0050Ø', 'ÅKERØY - LAXI - N 0300DA', 'SALVØY - LECG - R 0333K'}\n",
      "Number of VMS records: 6310\n",
      "VMS date: 2016-01-21 10:38:00 -> 2016-12-12 14:42:00\n",
      "Number of VMS records after initial time-filter:  6310\n"
     ]
    },
    {
     "name": "stderr",
     "output_type": "stream",
     "text": [
      "Filtering VMS records by ERS vessels: 100%|██████████| 497/497 [00:37<00:00, 13.41it/s]\n",
      "/home/anna/msc_oppgave/fish-forecast/utilities.py:352: SettingWithCopyWarning: \n",
      "A value is trying to be set on a copy of a slice from a DataFrame.\n",
      "Try using .loc[row_indexer,col_indexer] = value instead\n",
      "\n",
      "See the caveats in the documentation: https://pandas.pydata.org/pandas-docs/stable/user_guide/indexing.html#returning-a-view-versus-a-copy\n",
      "  df_ers['Starttidspunkt'] = pd.to_datetime(df_ers['Starttidspunkt'], format='mixed', dayfirst=True)\n",
      "/home/anna/msc_oppgave/fish-forecast/utilities.py:353: SettingWithCopyWarning: \n",
      "A value is trying to be set on a copy of a slice from a DataFrame.\n",
      "Try using .loc[row_indexer,col_indexer] = value instead\n",
      "\n",
      "See the caveats in the documentation: https://pandas.pydata.org/pandas-docs/stable/user_guide/indexing.html#returning-a-view-versus-a-copy\n",
      "  df_ers['Stopptidspunkt'] = pd.to_datetime(df_ers['Stopptidspunkt'], format='mixed', dayfirst=True)\n"
     ]
    },
    {
     "name": "stdout",
     "output_type": "stream",
     "text": [
      "Number of VMS records after filtering by ERS vessels: 13762\n",
      "497 unique vessels\n",
      "164 unique vessels\n",
      "Missing VMS vessels: {'NESEBUEN - LCFH - VA0086LS', 'ELVIRA III - LK3553 - R 0052K', 'SILDASKJÆR - LMMF - SF0001V', 'LIAHOLM - LMDJ - M 0071AV', 'MOSTEIN - LGBG - H 0221B', 'SHEIK - LLSO - VA0055S', 'SJØGLANS - LIZI - AG0014K', 'THEA ELISE - LIKQ - N 0530MS', 'SJONGLØR - LFEP - SF0051SU', 'SILLE MARIE - LCPE - R 0110ES', 'H ØSTERVOLD - LKUX - H 0148AV', 'RINGBAS - LHRX - SF0006V', 'DYRNESVÅG - LGGM - M 0435SM', 'NORAFJELL - LLCX - N 0034LN', 'SJARMØR - LJZO - VL0184SU', 'SALVØY - LDQV - R 0005B', 'FRUHOLMEN - LHWO - H 0178AV', 'HAVFISK - LLGA - M 0200A', 'ARNØYFJORD - LLGB - NT0050NR', 'ATLØYBUEN - JXSE - SF0033A', 'FLANDER - LKLA - H 0158B', 'STØTTFJORD - LDXP - N 0100B', 'INGVARDSON - LEIA - H 0095K', 'SLAATTERØY - LGFV - VL0264AV', 'JØKUL - LALD - M 0108MD', 'BERG SENIOR - LIQO - N 0005VR', 'HASTING - LLMP - SF0097B', 'BALLSTADØY - LFGX - N 0099VV', 'ØSTANGER - 3YDD - H 0148AV', 'INGER HILDUR - LLRG - M 0103F', 'SCOMBRUS JR - JXSF - R 0009H', 'VESTØY - LCSR - M 0064MD', 'FAGERVOLL - LCHL - M 0074A', 'KVANNØY - LAQD - N 0060B', 'SLETTHOLMEN - LAVF - T 0110I', 'CAPRICE - LFGV - H 0313AV', 'ARNØYTIND - LGNJ - TF0008S', 'BUEFJORD - LJMF - SF0147A', 'LØNNØY - LJTD - H 0004B', 'MARIE - LMCW - M 0008M', 'EDNA SYNNØVE - LCGV - TR0018F', 'AUSTERFJORD - LJZO - H 0084AV', 'JULIANNE III - LCGQ - T 0021T', 'REMØY - LDSF - M 0099HØ', 'SKLINNABANKEN - LJQM - N 0250BR', 'GAMBLER - LELC - M 0192HØ', 'GOULD DOLLAR - LNHQ - SF0300A', 'SCOMBRUS - JXSF - R 0001H', 'HAVSKJER - LFUZ - M 0400A', 'ZENIT - LMWI - R 0111K', 'MORTEN EINAR - LCOV - H 0140AV', 'ÅKERØY II - LAXI - N 0300DA', 'ROGNE - JXAY - N 0040LN', 'EINARSON - LMCE - T 0016LK', 'ANDREA L - LHWW - SF0001V', 'GAMBLER - LELC - SF0046V', 'SYDVEST - LLAS - VL0053AV', 'KVATRO - LJDJ - M 0055F', 'KATHRIN G - LCCX - M 0001SJ', 'AMBASSADOR - LJBI - R 0126K', 'MIDØY VIKING - LCFQ - M 0100MD', 'KABA - 3YBZ - N 0303V', 'KNESTER - JWNI - H 0058AV', 'ODD LUNDBERG - LJRP - T 0111G', 'HAVSNURP - LCOE - M 0195HØ', 'STRAND SENIOR - LFSY - M 0125H', 'BENJACO - 3YUG - VL0051K', 'KVANNØY - LMBE - N 0400B', 'GERD JULIE - LDXP - N 0400V', 'HILLERSØY - LJWW - SF0246A', 'VIKANØY - LHTT - N 0210BØ', 'GUNNAR K - LJWW - SF0246A', 'STRAUMBERG - LDEF - N 0006V', 'TOBIS - LFOB - H 0101AV', 'TROMSBAS - LAWQ - T 0009T', 'STOKKE SENIOR - JWQZ - M 0012U', 'SULEHAV - LJJZ - SF0001SU', 'JULIANNE III - LCGQ - N 0021LN', 'SKÅR SENIOR - LGGL - M 0200HØ', 'LIAFJELL - LLWB - H 0087F', 'GUNNAR LANGVA - LFGY - M 0189A', 'SELVÅG - LJXW - N 0024ME', 'LØNNINGEN - LKLV - H 0020B', 'GOLLENES - LHBM - M 0311HØ', 'SANDER ANDRE II - LNYZ - N 0250MS', 'TILJE - LICN - SF0082B', 'B.M. DRIVENES - LM7682 - H 0223AV', 'SILLE MARIE - LHBQ - AG0002K', 'ORFJORD - LDAA - M 0008AV', 'INGER HILDUR - LJUH - M 0101F', 'SPJÆRINGEN SENIOR - LLGB - Ø 0150H', 'JARLE BERG - JWLC - N 0045VR', 'LØNNØY JUNIOR - LIKL - H 0097B', 'BØMMELHAV - LJYE - H 0078B', 'GENESIS - LLGS - M 0077HØ', 'CETUS - LFFK - R 0001K', 'FISKESKJER - LJXG - M 0525H', 'STRAND SENIOR 2 - LJRS - M 0425H', 'ARNØYTIND - LJZH - T 0008S', 'ORDINAT - LJTD - H 0250AV', 'KINGSHOLM - LJNB - M 0033SJ', 'HERØYFJORD - LGSJ - M 0023HØ', 'VÅRBUD - LM3369 - SF0016SU', 'VIKINGBANK - LFVI - R 0011K', 'STÅLRINGEN - LLGZ - N 0075DA', 'HARGO - LLAS - VL0063AV', 'BARHOLM - LIQO - VL0025ØN', 'SKARHOLMEN - LIKQ - N 0053BØ', 'SVANAUG ELISE - LLRD - TR0019F', 'SØRØYFISK - LJQQ - M 0020A', 'INGRID MAJALA - LAKF - F 0225M', 'STORSTEIN - LLMQ - TR0091AA', 'SELVÅG SENIOR - LGOQ - N 0001ME', 'ATLØY VIKING - LCGV - SF0008A', 'ORSKJÆR - LLVA - M 0174AV', 'MIRANDA - LDIW - N 0195V', 'VESTBAS - LJBC - M 0066HØ', 'TRØNDERHAV - LLJN - ST0030RS', 'KNESTER - JWNI - N 0019DA', 'HELLEVIG 1 - LEUM - VA0330S', 'KROSSØY 1 - LNXT - VL0012BN', 'NORDSILD - LLRK - T 0008I', 'ROWENTA - LJBC - N 0666VV', 'DOGGI - LLIA - F 0014H', 'HERØYHAV - LJTD - M 0520HØ', 'PIRAJA - LMTJ - VA0095K', 'RADEK - LIZI - VL0072AV', 'VENDLA - LJTP - H 0040AV', 'KINGS BAY - LGWK - M 0021HØ', 'NYBO - LMFZ - M 0030M', 'SPJÆRINGEN - LLQX - Ø 0300H', 'RØDHOLMEN - LCMN - VN0118B', 'SÆVAR JR - LLVN - M 0200M', 'RAMOEN - LDNV - M 0001VD', 'ROGNE - JXAY - M 0004HØ', 'ØSTERBRIS 2 - LJME - H 0127AV', 'GERDA MARIE - LGFQ - H 0365AV', 'KABA - 3YBZ - H 0033O', 'TORBAS - LLBT - SF0099V', 'SANDER ANDRE - LELQ - N 0244MS', 'BØEN - LHWW - R 0007SD', 'VESTFART - LKDQ - SF0005B', 'ORFJORD - LDAA - M 0058AV', 'BALLSTADØY - LLLI - N 0185VV', 'K.M. ØSTERVOLD - LHWW - H 0208AV', 'BÅRAGUTT - JXPQ - T 0100T', 'LIAVÅG - LDUX - M 0088AV', 'LØNNINGEN - LALI - H 0200B', 'EROS - LIVA - M 0060HØ', 'BØEN - LJSY - R 0085ES', 'LIBAS - LFKW - VL0001ØN', 'NOTBAS - LIYG - T 0010S', 'STEINEVIK - JWNI - H 0058AV', 'NORDERVEG - LGWK - VL0181AV', 'SKUDE SENIOR - LCGU - R 0196K', 'ORDINAT - LKLV - H 0090AV', 'RINGBAS - LHRX - M 0116HØ', 'BØMMELFJORD - LNXT - H 0083B', 'BRATTSKJÆR - LLLP - NT0345V', 'HARVEST - LLAS - H 0003AV', 'MOSTEIN 1 - LGBG - H 0221B', 'OCEAN - LGUP - M 0004A', 'LØNNØY - LLXE - H 0007B', 'ROWENTA - LLWF - N 0050MS', 'TOPAS - LHRX - M 0100G', 'ØSTANGER - 3YDD - H 0140AV', 'STRAUMBERG - LIOD - N 0002LF', 'FISKØY - LIOL - N 0067VV', 'HAVSTÅL - LESG - M 0300A', 'INGER HILDUR - LLRG - M 0100F', 'VEAGUTT - LCFH - R 0001K', 'KRANSVIK JR - LLLI - N 0180V', 'FISKEBANK - LEPW - M 0101SM', 'SVANAVÅG - LALN - R 0003ES', 'HARALD JOHAN - JXAM - H 0012AV', 'HAVSNURP - LLBM - M 0095MD', 'ODD LUNDBERG - LFUO - T 0055G', 'ROWENTA - LJBC - N 0066MS', 'NESEJENTA - LFWP - AG0001LS', 'NERA - LK3243 - H 0006B', 'KLARA B - LERB - N 0003MS', 'VOLDNES - LKUB - F 0080M', 'HERMES - LLOP - F 0007L', 'MYNTEVIK - LHRI - R 0258K', 'BØMMELBAS - LHRE - H 0444B', 'TUNFISK - JWWM - H 0260K', 'NORDSJØBAS - LFJF - M 0040HØ', 'ISHAVET - 3YYB - M 0011A', 'RUNING - JWQZ - M 0121A', 'ROGNE - JXAY - M 0042HØ', 'TOPAS - LJQM - M 0007G', 'SJØGLANS - LIZI - SF0008A', 'STEINSUND - LFJE - H 0227AV', 'SØRVIK - LCRI - ST0066F', 'BUØY SR. - LK3243 - M 0089HØ', 'VIKAFJORD - LJDJ - VL0033B', 'PETRELL - LLMQ - M 0200G', 'SLOTTSTEIN - LJDR - VL0225AV', 'MONSUN - LIUC - VA0041K', 'EMMA - LALD - M 0108MD', 'HAVFJORD - LGDF - VA0002S', 'ØKSNESVÆRING - LMCE - N 0160Ø', 'STARBEAM - LLAQ - M 0212H', 'KRANSVIK JR - LJDJ - N 0081V', 'NORDSØ - LFIZ - VA0097M', 'EMILIE H - LEAE - M 0090SJ', 'HAVSTRAND - LDBR - M 0525H', 'STEINEVIK - LAQD - VL0167AV', 'SKUDE SENIOR - LCGU - R 0004K', 'LURØYBAS - JWVR - N 0111L', 'JOHAN FEYER - LJYE - R 0004ES', 'REMO - LDWS - Ø 0005H', 'SKOMVÆRHAV - LJDJ - N 0081V', 'REBEKKA L - JXQO - VL0043KI', 'NYSTRAND - JWOC - N 0015RT', 'CETUS - LLYM - R 0094K', 'LURØYBAS - JWVR - N 0114L', 'TRONDSKJÆR - LFBC - T 0200LK', 'LEIK - LLZF - R 0044K', 'SALVØY - LDQV - R 0012K', 'SENIOR - LDHM - N 0200B', 'ATLØY VIKING - LJDJ - SF0055A', 'QUO VADIS - LMDF - R 0086K', 'LANGENES - JXJU - M 0035A', 'ARNØYFJORD - LMCE - TR0030ND', 'SVANAUG ELISE - LDAK - TR0119F', 'OLAGUTT - LLRW - N 0007SO', 'FISKEBAS - LHWW - SF0208F', 'KROSSØY - 3YMI - H 0017BN', 'ÆSØYBUEN - LDUX - SF0008F', 'HUNTER - LCCZ - VA0002S', 'LIGRUNN - LACT - H 0001F', 'GARDAR - 3YBM - VL0024AV', 'BENJACO - LNYZ - H 0051K', 'HARMONI - LAKF - T 0079T', 'BRUSØYSKJÆR - LFTO - TR0400V', 'EINAR ERLEND - LLND - N 0045ME', 'SVANAUG ELISE - LLRD - M 0119HØ', 'GARDAR - LMOG - H 0011AV', 'SULEBAS - LHLX - SF0030SU', 'E.H. SENIOR - LLLD - T 0300TK', 'GUNNAR K - LEPP - N 0346Ø', 'RADEK - LAHA - H 0008AV', 'AMELIA - LM7682 - H 0223AV', 'MAGNARSON - LMBX - H 0088AV', 'LEINEBJØRN - LCOJ - M 0006HØ', 'SILDASKJÆR - LMMF - M 0260HØ', 'SMARAGD - LJXV - M 0064HØ', 'HAVSNURP - LCOE - M 0095MD', 'HAVSTÅL - LLNZ - M 0260A', 'MONSUN - LGPO - AG0003K', 'HAUGAGUT - LAQD - H 0050AV', 'KRANSVIK JR - LLQX - N 0006V', 'HAVBAS - LHWO - T 0071T', 'VEIDING - LFPA - R 0069K', 'BRATTSKJÆR - 3YKA - TR0346ND', 'VIBEKE HELENE - LLMQ - SF0001G', 'KATHRIN G - LCHJ - M 0020MD', 'VESTERVON - LLWG - SF0011A', 'REMO - LDWS - M 0012G', 'INGRID MAJALA - LCOE - TF0195M', 'HERØYFJORD - LMHM - M 0010HØ', 'STORVIG - LJCS - VA0081LS', 'MELØYFJORD - LFYY - N 0510ME', 'LIAFJORD - LGYF - VL0003ØN', 'VESTBRIS - LCJG - VL0050G', 'VIKANØY - LFXX - N 0210BØ', 'ØSTERBRIS - LJME - H 0127AV', 'FYRHOLM - LGSR - H 0015B', 'SVENSGAM - JXAY - N 0134LN', 'VICTORIA MAY - LEVV - M 0267G', 'SJOHAV - LMMF - H 0260K', 'SENIOR - LGYT - N 0200B', 'ANDREA L - LFMP - VL0004KI', 'HARDHAUS - LFNJ - VL0009AV', 'KVATRO - LJDJ - M 0052F', 'HAVRAND - LLWF - SF0040B', 'EINARSON - LELQ - TF0244SE', 'SLETTHOLMEN - LAVF - N 0118L', 'VIBEKE HELENE - LLMQ - R 0106K', 'KANSTADFJORD - LIYY - N 0189LN', 'MOSTEIN - JXUM - VL0778B', 'SILVER BAY - LIHW - H 0095B', 'NORDERVEG - LLXW - H 0179AV', 'ARNØYTIND SENIOR - LJZH - T 0008S', 'NYSKJER - LFFG - M 0072MD', 'MALENE S - LCZQ - H 0128AV', 'SVANAVÅG - LALN - VA0078S', 'KNUT OLAV - LESF - N 0003V', 'SKIPSHOLMEN - LJRS - H 0425AV', 'BØEN - 3YUG - R 0051SD', 'LIGRUNN II - JXXI - VL0145ØN', 'HARMONI - LAIJ - T 0074T', 'HÅFLU - LEQI - R 0022B', 'ALBACORE - LADH - SF0003A', 'HUGØYBAS - LCNO - H 0032B', 'STRAUMBAS - LEWL - R 0020V', 'VEA - LGGR - R 0030K', 'ORSKJÆR - LLVA - Ø 0003H', 'TRAAL - JXML - R 0015K', 'FLIPPER - LJTV - VL0050AV', 'ABELONE MØGSTER - 3YMI - H 0015AV', 'NORDERVEG - LGWK - VL0182AV', 'MORTEN EINAR - LLNZ - H 0402AV', 'HAVSNURP - LHBV - M 0195M', 'HÅFLU - LGQK - R 0035B', 'KAMØYFISK - LLDB - H 0180AV', 'SPRATTUS - LDFW - H 0018B', 'OLA RYGGEFJORD - JXUE - VL0180AV', 'SILLE MARIE - LCPE - VA0010S', 'GANGSTAD - LLAQ - M 0024MD', 'MIDØY VIKING - LGUP - M 0014MD', 'LISE BEATE - LDQN - TF0100SE', 'ATLØY VIKING - LJSY - VL0055A', 'MYNTEVIK - LHRI - R 0058ES', 'SUNNY LADY - LGDZ - M 0120HØ', 'KYSTFISK - LMOV - SF0003V', 'SÆVIKSON - LCFI - M 0072HØ', 'NORDHAVET - LEPQ - T 0001I', 'TRYGVASON - LENJ - H 0020B', 'ENDRE DYRØY - LFOA - H 0021F', 'LEINEBJØRN - LLRG - M 0003HØ', 'SÆVIKTRÅL - LHYA - R 0233K', 'RAV - LFSW - TR0004O', 'MOLNES - LNKS - M 0069G', 'BØMMELFJORD - LMBX - H 0388B', 'ARTUS - LLGS - M 0079HØ', 'HOVDEN VIKING - LEYN - SF0002S', 'REMO - LDWS - VL0003FJ', 'STOREGG - LEIA - M 0095A', 'KAMILLA GRANDE - JWLM - N 0050Ø', 'ÅKERØY - LAXI - N 0300DA', 'SALVØY - LECG - R 0333K'}\n",
      "Number of VMS records: 5326\n",
      "VMS date: 2017-01-06 10:08:00 -> 2017-12-11 05:14:00\n",
      "Number of VMS records after initial time-filter:  5326\n"
     ]
    },
    {
     "name": "stderr",
     "output_type": "stream",
     "text": [
      "Filtering VMS records by ERS vessels: 100%|██████████| 497/497 [00:32<00:00, 15.32it/s]\n",
      "/home/anna/msc_oppgave/fish-forecast/utilities.py:352: SettingWithCopyWarning: \n",
      "A value is trying to be set on a copy of a slice from a DataFrame.\n",
      "Try using .loc[row_indexer,col_indexer] = value instead\n",
      "\n",
      "See the caveats in the documentation: https://pandas.pydata.org/pandas-docs/stable/user_guide/indexing.html#returning-a-view-versus-a-copy\n",
      "  df_ers['Starttidspunkt'] = pd.to_datetime(df_ers['Starttidspunkt'], format='mixed', dayfirst=True)\n",
      "/home/anna/msc_oppgave/fish-forecast/utilities.py:353: SettingWithCopyWarning: \n",
      "A value is trying to be set on a copy of a slice from a DataFrame.\n",
      "Try using .loc[row_indexer,col_indexer] = value instead\n",
      "\n",
      "See the caveats in the documentation: https://pandas.pydata.org/pandas-docs/stable/user_guide/indexing.html#returning-a-view-versus-a-copy\n",
      "  df_ers['Stopptidspunkt'] = pd.to_datetime(df_ers['Stopptidspunkt'], format='mixed', dayfirst=True)\n"
     ]
    },
    {
     "name": "stdout",
     "output_type": "stream",
     "text": [
      "Number of VMS records after filtering by ERS vessels: 6234\n",
      "497 unique vessels\n",
      "165 unique vessels\n",
      "Missing VMS vessels: {'NESEBUEN - LCFH - VA0086LS', 'ELVIRA III - LK3553 - R 0052K', 'SILDASKJÆR - LMMF - SF0001V', 'LIAHOLM - LMDJ - M 0071AV', 'MOSTEIN - LGBG - H 0221B', 'SHEIK - LLSO - VA0055S', 'SJØGLANS - LIZI - AG0014K', 'THEA ELISE - LIKQ - N 0530MS', 'SJONGLØR - LFEP - SF0051SU', 'SILLE MARIE - LCPE - R 0110ES', 'H ØSTERVOLD - LKUX - H 0148AV', 'RINGBAS - LHRX - SF0006V', 'DYRNESVÅG - LGGM - M 0435SM', 'NORAFJELL - LLCX - N 0034LN', 'SJARMØR - LJZO - VL0184SU', 'SALVØY - LDQV - R 0005B', 'FRUHOLMEN - LHWO - H 0178AV', 'HAVFISK - LLGA - M 0200A', 'FISKEBANK - LEQI - M 0022SM', 'ARNØYFJORD - LLGB - NT0050NR', 'CETUS - JXML - R 0015K', 'ATLØYBUEN - JXSE - SF0033A', 'FLANDER - LKLA - H 0158B', 'STØTTFJORD - LDXP - N 0100B', 'INGVARDSON - LEIA - H 0095K', 'SLAATTERØY - LGFV - VL0264AV', 'JØKUL - LALD - M 0108MD', 'BERG SENIOR - LIQO - N 0005VR', 'HASTING - LLMP - SF0097B', 'BALLSTADØY - LFGX - N 0099VV', 'ØSTANGER - 3YDD - H 0148AV', 'INGER HILDUR - LLRG - M 0103F', 'SCOMBRUS JR - JXSF - R 0009H', 'VESTØY - LCSR - M 0064MD', 'FAGERVOLL - LCHL - M 0074A', 'KVANNØY - LAQD - N 0060B', 'SLETTHOLMEN - LAVF - T 0110I', 'CAPRICE - LFGV - H 0313AV', 'ARNØYTIND - LGNJ - TF0008S', 'BUEFJORD - LJMF - SF0147A', 'MARIE - LMCW - M 0008M', 'EDNA SYNNØVE - LCGV - TR0018F', 'AUSTERFJORD - LJZO - H 0084AV', 'JULIANNE III - LCGQ - T 0021T', 'REMØY - LDSF - M 0099HØ', 'SKLINNABANKEN - LJQM - N 0250BR', 'GOULD DOLLAR - LNHQ - SF0300A', 'SCOMBRUS - JXSF - R 0001H', 'HAVSKJER - LFUZ - M 0400A', 'ZENIT - LMWI - R 0111K', 'MORTEN EINAR - LCOV - H 0140AV', 'ÅKERØY II - LAXI - N 0300DA', 'ROGNE - JXAY - N 0040LN', 'EINARSON - LMCE - T 0016LK', 'GAMBLER - LELC - SF0046V', 'SYDVEST - LLAS - VL0053AV', 'KVATRO - LJDJ - M 0055F', 'TORBAS - LFMP - SF0004V', 'KATHRIN G - LCCX - M 0001SJ', 'AMBASSADOR - LJBI - R 0126K', 'HOVDEN VIKING - JWLM - SF0004S', 'MIDØY VIKING - LCFQ - M 0100MD', 'KABA - 3YBZ - N 0303V', 'KNESTER - JWNI - H 0058AV', 'ODD LUNDBERG - LJRP - T 0111G', 'HAVSNURP - LCOE - M 0195HØ', 'STRAND SENIOR - LFSY - M 0125H', 'BENJACO - 3YUG - VL0051K', 'SANDER ANDRE - LJBC - N 0066MS', 'KVANNØY - LMBE - N 0400B', 'GERD JULIE - LDXP - N 0400V', 'HILLERSØY - LJWW - SF0246A', 'VIKANØY - LHTT - N 0210BØ', 'STRAUMBERG - LDEF - N 0006V', 'TOBIS - LFOB - H 0101AV', 'TROMSBAS - LAWQ - T 0009T', 'STOKKE SENIOR - JWQZ - M 0012U', 'NORAFJELL - JXAY - N 0134LN', 'SULEHAV - LJJZ - SF0001SU', 'JULIANNE III - LCGQ - N 0021LN', 'SKÅR SENIOR - LGGL - M 0200HØ', 'LIAFJELL - LLWB - H 0087F', 'GUNNAR LANGVA - LFGY - M 0189A', 'SELVÅG - LJXW - N 0024ME', 'LØNNINGEN - LKLV - H 0020B', 'GOLLENES - LHBM - M 0311HØ', 'SANDER ANDRE II - LNYZ - N 0250MS', 'TILJE - LICN - SF0082B', 'B.M. DRIVENES - LM7682 - H 0223AV', 'SILLE MARIE - LHBQ - AG0002K', 'ORFJORD - LDAA - M 0008AV', 'HAVFISK - LJTD - M 0520A', 'INGER HILDUR - LJUH - M 0101F', 'JARLE BERG - JWLC - N 0045VR', 'LØNNØY JUNIOR - LIKL - H 0097B', 'BØMMELHAV - LJYE - H 0078B', 'GENESIS - LLGS - M 0077HØ', 'CETUS - LFFK - R 0001K', 'FISKESKJER - LJXG - M 0525H', 'STRAND SENIOR 2 - LJRS - M 0425H', 'ARNØYTIND - LJZH - T 0008S', 'ORDINAT - LJTD - H 0250AV', 'KINGSHOLM - LJNB - M 0033SJ', 'HERØYFJORD - LGSJ - M 0023HØ', 'VÅRBUD - LM3369 - SF0016SU', 'VIKINGBANK - LFVI - R 0011K', 'STÅLRINGEN - LLGZ - N 0075DA', 'HARGO - LLAS - VL0063AV', 'BARHOLM - LIQO - VL0025ØN', 'SKARHOLMEN - LIKQ - N 0053BØ', 'SVANAUG ELISE - LLRD - TR0019F', 'SØRØYFISK - LJQQ - M 0020A', 'INGRID MAJALA - LAKF - F 0225M', 'STORSTEIN - LLMQ - TR0091AA', 'SELVÅG SENIOR - LGOQ - N 0001ME', 'ATLØY VIKING - LCGV - SF0008A', 'ORSKJÆR - LLVA - M 0174AV', 'MIRANDA - LDIW - N 0195V', 'VESTBAS - LJBC - M 0066HØ', 'TRØNDERHAV - LLJN - ST0030RS', 'KROSSØY 1 - LNXT - VL0012BN', 'ROWENTA - LJBC - N 0666VV', 'DOGGI - LLIA - F 0014H', 'HERØYHAV - LJTD - M 0520HØ', 'RADEK - LIZI - VL0072AV', 'VENDLA - LJTP - H 0040AV', 'KINGS BAY - LGWK - M 0021HØ', 'SKLINNABANKEN - LJQM - M 0050A', 'NYBO - LMFZ - M 0030M', 'SPJÆRINGEN - LLQX - Ø 0300H', 'RØDHOLMEN - LCMN - VN0118B', 'SÆVAR JR - LLVN - M 0200M', 'STØTTFJORD - LMCE - N 0001ME', 'RAMOEN - LDNV - M 0001VD', 'ROGNE - JXAY - M 0004HØ', 'ØSTERBRIS 2 - LJME - H 0127AV', 'GERDA MARIE - LGFQ - H 0365AV', 'KABA - 3YBZ - H 0033O', 'TORBAS - LLBT - SF0099V', 'SANDER ANDRE - LELQ - N 0244MS', 'BØEN - LHWW - R 0007SD', 'VESTFART - LKDQ - SF0005B', 'ORFJORD - LDAA - M 0058AV', 'BALLSTADØY - LLLI - N 0185VV', 'K.M. ØSTERVOLD - LHWW - H 0208AV', 'LIAVÅG - LDUX - M 0088AV', 'LØNNINGEN - LALI - H 0200B', 'EROS - LIVA - M 0060HØ', 'BØEN - LJSY - R 0085ES', 'LIBAS - LFKW - VL0001ØN', 'NOTBAS - LIYG - T 0010S', 'STEINEVIK - JWNI - H 0058AV', 'NORDERVEG - LGWK - VL0181AV', 'SKUDE SENIOR - LCGU - R 0196K', 'ORDINAT - LKLV - H 0090AV', 'RINGBAS - LHRX - M 0116HØ', 'BØMMELFJORD - LNXT - H 0083B', 'BRATTSKJÆR - LLLP - NT0345V', 'HARVEST - LLAS - H 0003AV', 'GANGSTAD - LGSR - M 0006MD', 'MOSTEIN 1 - LGBG - H 0221B', 'OCEAN - LGUP - M 0004A', 'LØNNØY - LLXE - H 0007B', 'ROWENTA - LLWF - N 0050MS', 'TOPAS - LHRX - M 0100G', 'ØSTANGER - 3YDD - H 0140AV', 'STRAUMBERG - LIOD - N 0002LF', 'FISKØY - LIOL - N 0067VV', 'INGER HILDUR - LLRG - M 0100F', 'VEAGUTT - LCFH - R 0001K', 'KRANSVIK JR - LLLI - N 0180V', 'SCOMBRUS - LMCH - R 0017H', 'SVANAVÅG - LALN - R 0003ES', 'HARALD JOHAN - JXAM - H 0012AV', 'HAVSNURP - LLBM - M 0095MD', 'MELØYPYNT - LK2103 - ST0002R', 'ODD LUNDBERG - LFUO - T 0055G', 'NESEJENTA - LFWP - AG0001LS', 'NERA - LK3243 - H 0006B', 'KLARA B - LERB - N 0003MS', 'STOKKØY - JXGY - H 0098B', 'VOLDNES - LKUB - F 0080M', 'FYRHOLM - LKIB - H 0010B', 'HERMES - LLOP - F 0007L', 'MYNTEVIK - LHRI - R 0258K', 'BØMMELBAS - LHRE - H 0444B', 'TUNFISK - JWWM - H 0260K', 'NORDSJØBAS - LFJF - M 0040HØ', 'TOPAS - JWLD - M 0124G', 'ISHAVET - 3YYB - M 0011A', 'SJØGLANS - LIZI - SF0008A', 'ROGNE - JXAY - M 0042HØ', 'STEINSUND - LFJE - H 0227AV', 'SØRVIK - LCRI - ST0066F', 'BALLSTADØY - LFGX - N 0003VV', 'VIKAFJORD - LJDJ - VL0033B', 'PETRELL - LLMQ - M 0200G', 'SLOTTSTEIN - LJDR - VL0225AV', 'EMMA - LALD - M 0108MD', 'HAVFJORD - LGDF - VA0002S', 'STARBEAM - LLAQ - M 0212H', 'KRANSVIK JR - LJDJ - N 0081V', 'NORDSØ - LFIZ - VA0097M', 'GLOMFJORD - LHBI - M 0370HØ', 'EMILIE H - LEAE - M 0090SJ', 'HAVSTRAND - LDBR - M 0525H', 'STEINEVIK - LAQD - VL0167AV', 'SKUDE SENIOR - LCGU - R 0004K', 'LURØYBAS - JWVR - N 0111L', 'JOHAN FEYER - LJYE - R 0004ES', 'REMO - LDWS - Ø 0005H', 'SKOMVÆRHAV - LJDJ - N 0081V', 'REBEKKA L - JXQO - VL0043KI', 'NYSTRAND - JWOC - N 0015RT', 'CETUS - LLYM - R 0094K', 'TRONDSKJÆR - LFBC - T 0200LK', 'LEIK - LLZF - R 0044K', 'SALVØY - LDQV - R 0012K', 'SENIOR - LDHM - N 0200B', 'QUO VADIS - LMDF - R 0086K', 'LANGENES - JXJU - M 0035A', 'ARNØYFJORD - LMCE - TR0030ND', 'SVANAUG ELISE - LDAK - TR0119F', 'OLAGUTT - LLRW - N 0007SO', 'FISKEBAS - LHWW - SF0208F', 'NORDSILD - LLRK - T 0018I', 'KROSSØY - 3YMI - H 0017BN', 'ÆSØYBUEN - LDUX - SF0008F', 'HUNTER - LCCZ - VA0002S', 'LIGRUNN - LACT - H 0001F', 'HUGØYBAS - LCNO - H 0032K', 'GARDAR - 3YBM - VL0024AV', 'HARMONI - LAKF - T 0079T', 'BRUSØYSKJÆR - LFTO - TR0400V', 'EINAR ERLEND - LLND - N 0045ME', 'SVANAUG ELISE - LLRD - M 0119HØ', 'GARDAR - LMOG - H 0011AV', 'SULEBAS - LHLX - SF0030SU', 'ATLØY VIKING - LHTT - SF0022A', 'E.H. SENIOR - LLLD - T 0300TK', 'GUNNAR K - LEPP - N 0346Ø', 'RADEK - LAHA - H 0008AV', 'AMELIA - LM7682 - H 0223AV', 'LEINEBJØRN - LCOJ - M 0006HØ', 'SILDASKJÆR - LMMF - M 0260HØ', 'SMARAGD - LJXV - M 0064HØ', 'HAVSNURP - LCOE - M 0095MD', 'HAVSTÅL - LLNZ - M 0260A', 'MONSUN - LGPO - AG0003K', 'HAUGAGUT - LAQD - H 0050AV', 'KRANSVIK JR - LLQX - N 0006V', 'HAVBAS - LHWO - T 0071T', 'VEIDING - LFPA - R 0069K', 'BRATTSKJÆR - 3YKA - TR0346ND', 'NORDSJØBAS - LHWW - M 0190HØ', 'VIBEKE HELENE - LLMQ - SF0001G', 'KATHRIN G - LCHJ - M 0020MD', 'VESTERVON - LLWG - SF0011A', 'REMO - LDWS - M 0012G', 'INGRID MAJALA - LCOE - TF0195M', 'HERØYFJORD - LMHM - M 0010HØ', 'STORVIG - LJCS - VA0081LS', 'MELØYFJORD - LFYY - N 0510ME', 'LIAFJORD - LGYF - VL0003ØN', 'VESTBRIS - LCJG - VL0050G', 'VIKANØY - LFXX - N 0210BØ', 'ØSTERBRIS - LJME - H 0127AV', 'FYRHOLM - LGSR - H 0015B', 'ALBACORE - LADH - SF0018F', 'H. ØSTERVOLD - LMBX - H 0088AV', 'VICTORIA MAY - LEVV - M 0267G', 'SJOHAV - LMMF - H 0260K', 'SENIOR - LGYT - N 0200B', 'ANDREA L - LFMP - VL0004KI', 'HARDHAUS - LFNJ - VL0009AV', 'KVATRO - LJDJ - M 0052F', 'HAVRAND - LLWF - SF0040B', 'EINARSON - LELQ - TF0244SE', 'SLETTHOLMEN - LAVF - N 0118L', 'VIBEKE HELENE - LLMQ - R 0106K', 'KANSTADFJORD - LIYY - N 0189LN', 'SKUDE - LNYH - R 0157K', 'MOSTEIN - JXUM - VL0778B', 'NORDERVEG - LLXW - H 0179AV', 'ARNØYTIND SENIOR - LJZH - T 0008S', 'REMO - LDWS - H 0022FJ', 'NYSKJER - LFFG - M 0072MD', 'MALENE S - LCZQ - H 0128AV', 'SVANAVÅG - LALN - VA0078S', 'KNUT OLAV - LESF - N 0003V', 'SKIPSHOLMEN - LJRS - H 0425AV', 'BØEN - 3YUG - R 0051SD', 'LIGRUNN II - JXXI - VL0145ØN', 'HARMONI - LAIJ - T 0074T', 'TRYGVASON - LNUN - H 0718B', 'VIBEKE HELENE - JWTU - SF0033G', 'HUGØYBAS - LCNO - H 0032B', 'VEA - LGGR - R 0030K', 'ORSKJÆR - LLVA - Ø 0003H', 'TRAAL - JXML - R 0015K', 'FLIPPER - LJTV - VL0050AV', 'ABELONE MØGSTER - 3YMI - H 0015AV', 'NORDERVEG - LGWK - VL0182AV', 'MORTEN EINAR - LLNZ - H 0402AV', 'HÅFLU - LDQV - R 0005B', 'HAVSNURP - LHBV - M 0195M', 'HÅFLU - LGQK - R 0035B', 'KLONDYKE - LCCZ - M 0042A', 'LIBAS - LMQI - H 0005F', 'KAMØYFISK - LLDB - H 0180AV', 'OLA RYGGEFJORD - JXUE - VL0180AV', 'SILLE MARIE - LCPE - VA0010S', 'GANGSTAD - LLAQ - M 0024MD', 'LISE BEATE - LDQN - TF0100SE', 'ATLØY VIKING - LJSY - VL0055A', 'MYNTEVIK - LHRI - R 0058ES', 'SUNNY LADY - LGDZ - M 0120HØ', 'KYSTFISK - LMOV - SF0003V', 'SÆVIKSON - LCFI - M 0072HØ', 'NORDHAVET - LEPQ - T 0001I', 'STRAUMBAS - LIOD - R 0062K', 'ENDRE DYRØY - LFOA - H 0021F', 'LEINEBJØRN - LLRG - M 0003HØ', 'SÆVIKTRÅL - LHYA - R 0233K', 'RAV - LFSW - TR0004O', 'MOLNES - LNKS - M 0069G', 'BØMMELFJORD - LMBX - H 0388B', 'ARTUS - LLGS - M 0079HØ', 'HOVDEN VIKING - LEYN - SF0002S', 'REMO - LDWS - VL0003FJ', 'STOREGG - LEIA - M 0095A', 'ÅKERØY - LAXI - N 0300DA'}\n",
      "Number of VMS records: 5227\n",
      "VMS date: 2018-01-04 12:56:00 -> 2018-12-30 05:22:00\n",
      "Number of VMS records after initial time-filter:  5227\n"
     ]
    },
    {
     "name": "stderr",
     "output_type": "stream",
     "text": [
      "Filtering VMS records by ERS vessels: 100%|██████████| 497/497 [00:33<00:00, 14.89it/s]\n",
      "/home/anna/msc_oppgave/fish-forecast/utilities.py:352: SettingWithCopyWarning: \n",
      "A value is trying to be set on a copy of a slice from a DataFrame.\n",
      "Try using .loc[row_indexer,col_indexer] = value instead\n",
      "\n",
      "See the caveats in the documentation: https://pandas.pydata.org/pandas-docs/stable/user_guide/indexing.html#returning-a-view-versus-a-copy\n",
      "  df_ers['Starttidspunkt'] = pd.to_datetime(df_ers['Starttidspunkt'], format='mixed', dayfirst=True)\n",
      "/home/anna/msc_oppgave/fish-forecast/utilities.py:353: SettingWithCopyWarning: \n",
      "A value is trying to be set on a copy of a slice from a DataFrame.\n",
      "Try using .loc[row_indexer,col_indexer] = value instead\n",
      "\n",
      "See the caveats in the documentation: https://pandas.pydata.org/pandas-docs/stable/user_guide/indexing.html#returning-a-view-versus-a-copy\n",
      "  df_ers['Stopptidspunkt'] = pd.to_datetime(df_ers['Stopptidspunkt'], format='mixed', dayfirst=True)\n"
     ]
    },
    {
     "name": "stdout",
     "output_type": "stream",
     "text": [
      "Number of VMS records after filtering by ERS vessels: 8011\n",
      "497 unique vessels\n",
      "154 unique vessels\n",
      "Missing VMS vessels: {'NESEBUEN - LCFH - VA0086LS', 'ELVIRA III - LK3553 - R 0052K', 'SILDASKJÆR - LMMF - SF0001V', 'LIAHOLM - LMDJ - M 0071AV', 'MOSTEIN - LGBG - H 0221B', 'SHEIK - LLSO - VA0055S', 'SJØGLANS - LIZI - AG0014K', 'THEA ELISE - LIKQ - N 0530MS', 'SJONGLØR - LFEP - SF0051SU', 'SILLE MARIE - LCPE - R 0110ES', 'H ØSTERVOLD - LKUX - H 0148AV', 'RINGBAS - LHRX - SF0006V', 'DYRNESVÅG - LGGM - M 0435SM', 'NORAFJELL - LLCX - N 0034LN', 'SJARMØR - LJZO - VL0184SU', 'SALVØY - LDQV - R 0005B', 'FRUHOLMEN - LHWO - H 0178AV', 'HAVFISK - LLGA - M 0200A', 'FISKEBANK - LEQI - M 0022SM', 'ARNØYFJORD - LLGB - NT0050NR', 'CETUS - JXML - R 0015K', 'ATLØYBUEN - JXSE - SF0033A', 'FLANDER - LKLA - H 0158B', 'STØTTFJORD - LDXP - N 0100B', 'INGVARDSON - LEIA - H 0095K', 'RAV - LMFZ - ST0008O', 'SLAATTERØY - LGFV - VL0264AV', 'JØKUL - LALD - M 0108MD', 'BERG SENIOR - LIQO - N 0005VR', 'HASTING - LLMP - SF0097B', 'ØSTANGER - 3YDD - H 0148AV', 'INGER HILDUR - LLRG - M 0103F', 'SCOMBRUS JR - JXSF - R 0009H', 'VESTØY - LCSR - M 0064MD', 'FAGERVOLL - LCHL - M 0074A', 'KVANNØY - LAQD - N 0060B', 'SEGLA - LLZL - T 0050LK', 'CAPRICE - LFGV - H 0313AV', 'ARNØYTIND - LGNJ - TF0008S', 'BUEFJORD - LJMF - SF0147A', 'LØNNØY - LJTD - H 0004B', 'MARIE - LMCW - M 0008M', 'EDNA SYNNØVE - LCGV - TR0018F', 'AUSTERFJORD - LJZO - H 0084AV', 'JULIANNE III - LCGQ - T 0021T', 'SKLINNABANKEN - LJQM - N 0250BR', 'GAMBLER - LELC - M 0192HØ', 'GOULD DOLLAR - LNHQ - SF0300A', 'SCOMBRUS - JXSF - R 0001H', 'HAVSKJER - LFUZ - M 0400A', 'ZENIT - LMWI - R 0111K', 'MORTEN EINAR - LCOV - H 0140AV', 'ÅKERØY II - LAXI - N 0300DA', 'ROGNE - JXAY - N 0040LN', 'GAMBLER - LELC - SF0046V', 'SYDVEST - LLAS - VL0053AV', 'KVATRO - LJDJ - M 0055F', 'TORBAS - LFMP - SF0004V', 'KATHRIN G - LCCX - M 0001SJ', 'AMBASSADOR - LJBI - R 0126K', 'MORTEN EINAR - JWQU - H 0005AV', 'FRØYBAS - LLMQ - SF0075B', 'HOVDEN VIKING - JWLM - SF0004S', 'MIDØY VIKING - LCFQ - M 0100MD', 'KABA - 3YBZ - N 0303V', 'ODD LUNDBERG - LJRP - T 0111G', 'HAVSNURP - LCOE - M 0195HØ', 'STRAND SENIOR - LFSY - M 0125H', 'BENJACO - 3YUG - VL0051K', 'SANDER ANDRE - LJBC - N 0066MS', 'KVANNØY - LMBE - N 0400B', 'GERD JULIE - LDXP - N 0400V', 'VIKANØY - LHTT - N 0210BØ', 'GUNNAR K - LJWW - SF0246A', 'STRAUMBERG - LDEF - N 0006V', 'REMØYBUEN - LLIQ - M 0009HØ', 'TOBIS - LFOB - H 0101AV', 'TROMSBAS - LAWQ - T 0009T', 'STOKKE SENIOR - JWQZ - M 0012U', 'NORAFJELL - JXAY - N 0134LN', 'SULEHAV - LJJZ - SF0001SU', 'JULIANNE III - LCGQ - N 0021LN', 'SKÅR SENIOR - LGGL - M 0200HØ', 'LIAFJELL - LLWB - H 0087F', 'GUNNAR LANGVA - LFGY - M 0189A', 'SELVÅG - LJXW - N 0024ME', 'LØNNINGEN - LKLV - H 0020B', 'HILLERSØY - LMKD - SF0220A', 'GOLLENES - LHBM - M 0311HØ', 'SANDER ANDRE II - LNYZ - N 0250MS', 'TILJE - LICN - SF0082B', 'B.M. DRIVENES - LM7682 - H 0223AV', 'SILLE MARIE - LHBQ - AG0002K', 'ORFJORD - LDAA - M 0008AV', 'KNESTER - JWNI - H 0009AV', 'HAVFISK - LJTD - M 0520A', 'INGER HILDUR - LJUH - M 0101F', 'JARLE BERG - JWLC - N 0045VR', 'LØNNØY JUNIOR - LIKL - H 0097B', 'BØMMELHAV - LJYE - H 0078B', 'CETUS - LFFK - R 0001K', 'NYSTRØM - 3YQP - M 0050MD', 'FISKESKJER - LJXG - M 0525H', 'ARNØYTIND - LJZH - T 0008S', 'ORDINAT - LJTD - H 0250AV', 'KINGSHOLM - LJNB - M 0033SJ', 'HERØYFJORD - LGSJ - M 0023HØ', 'VÅRBUD - LM3369 - SF0016SU', 'VIKINGBANK - LFVI - R 0011K', 'STÅLRINGEN - LLGZ - N 0075DA', 'HARGO - LLAS - VL0063AV', 'BARHOLM - LIQO - VL0025ØN', 'SVANAUG ELISE - LLRD - TR0019F', 'INGRID MAJALA - LAKF - F 0225M', 'STORSTEIN - LLMQ - TR0091AA', 'SELVÅG SENIOR - LGOQ - N 0001ME', 'ATLØY VIKING - LCGV - SF0008A', 'ORSKJÆR - LLVA - M 0174AV', 'MIRANDA - LDIW - N 0195V', 'VESTBAS - LJBC - M 0066HØ', 'TRØNDERHAV - LLJN - ST0030RS', 'GUNNAR K - LJWW - N 0246Ø', 'KNESTER - JWNI - N 0019DA', 'KROSSØY 1 - LNXT - VL0012BN', 'ROWENTA - LJBC - N 0666VV', 'DOGGI - LLIA - F 0014H', 'HERØYHAV - LJTD - M 0520HØ', 'RADEK - LIZI - VL0072AV', 'VENDLA - LJTP - H 0040AV', 'SIGLAR - LCIJ - H 0035F', 'KINGS BAY - LGWK - M 0021HØ', 'SKLINNABANKEN - LJQM - M 0050A', 'NYBO - LMFZ - M 0030M', 'SPJÆRINGEN - LLQX - Ø 0300H', 'RØDHOLMEN - LCMN - VN0118B', 'SÆVAR JR - LLVN - M 0200M', 'STØTTFJORD - LMCE - N 0001ME', 'RAMOEN - LDNV - M 0001VD', 'ROGNE - JXAY - M 0004HØ', 'ØSTERBRIS 2 - LJME - H 0127AV', 'KROSSØY - LIZI - H 0034BN', 'GERDA MARIE - LGFQ - H 0365AV', 'KABA - 3YBZ - H 0033O', 'TORBAS - LLBT - SF0099V', 'BØEN - LHWW - R 0007SD', 'VESTFART - LKDQ - SF0005B', 'EINARSON - LLQX - T 0005LK', 'BALLSTADØY - LLLI - N 0185VV', 'K.M. ØSTERVOLD - LHWW - H 0208AV', 'LIAVÅG - LDUX - M 0088AV', 'LØNNINGEN - LALI - H 0200B', 'EROS - LIVA - M 0060HØ', 'BØEN - LJSY - R 0085ES', 'LIBAS - LFKW - VL0001ØN', 'NOTBAS - LIYG - T 0010S', 'STEINEVIK - JWNI - H 0058AV', 'NORDERVEG - LGWK - VL0181AV', 'SKUDE SENIOR - LCGU - R 0196K', 'ORDINAT - LKLV - H 0090AV', 'RINGBAS - LHRX - M 0116HØ', 'BØMMELFJORD - LNXT - H 0083B', 'BRATTSKJÆR - LLLP - NT0345V', 'HARVEST - LLAS - H 0003AV', 'GANGSTAD - LGSR - M 0006MD', 'MOSTEIN 1 - LGBG - H 0221B', 'OCEAN - LGUP - M 0004A', 'LØNNØY - LLXE - H 0007B', 'BRATTSKJÆR - LDAA - NT0346V', 'ROWENTA - LLWF - N 0050MS', 'TOPAS - LHRX - M 0100G', 'ØSTANGER - 3YDD - H 0140AV', 'STRAUMBERG - LIOD - N 0002LF', 'FISKØY - LIOL - N 0067VV', 'INGER HILDUR - LLRG - M 0100F', 'VEAGUTT - LCFH - R 0001K', 'KRANSVIK JR - LLLI - N 0180V', 'SCOMBRUS - LMCH - R 0017H', 'SVANAVÅG - LALN - R 0003ES', 'HARALD JOHAN - JXAM - H 0012AV', 'HAVSNURP - LLBM - M 0095MD', 'MELØYPYNT - LK2103 - ST0002R', 'ODD LUNDBERG - LFUO - T 0055G', 'NESEJENTA - LFWP - AG0001LS', 'NERA - LK3243 - H 0006B', 'KLARA B - LERB - N 0003MS', 'STOKKØY - JXGY - H 0098B', 'VOLDNES - LKUB - F 0080M', 'FYRHOLM - LKIB - H 0010B', 'HERMES - LLOP - F 0007L', 'MYNTEVIK - LHRI - R 0258K', 'BØMMELBAS - LHRE - H 0444B', 'TUNFISK - JWWM - H 0260K', 'TOPAS - JWLD - M 0124G', 'ISHAVET - 3YYB - M 0011A', 'ROGNE - JXAY - M 0042HØ', 'SØRVIK - LCRI - ST0066F', 'BUØY SR. - LK3243 - M 0089HØ', 'BALLSTADØY - LFGX - N 0003VV', 'VIKAFJORD - LJDJ - VL0033B', 'ENDRE DYRØY - LLNU - H 0015F', 'PETRELL - LLMQ - M 0200G', 'SLOTTSTEIN - LJDR - VL0225AV', 'EMMA - LALD - M 0108MD', 'HAVFJORD - LGDF - VA0002S', 'STARBEAM - LLAQ - M 0212H', 'KRANSVIK JR - LJDJ - N 0081V', 'NORDSØ - LFIZ - VA0097M', 'GLOMFJORD - LHBI - M 0370HØ', 'HAVSTRAND - LDBR - M 0525H', 'KREMMERVIK - 3YMI - H 0015AV', 'STEINEVIK - LAQD - VL0167AV', 'SKUDE SENIOR - LCGU - R 0004K', 'LURØYBAS - JWVR - N 0111L', 'JOHAN FEYER - LJYE - R 0004ES', 'HARDHAUS - LMBN - H 0120AV', 'REMO - LDWS - Ø 0005H', 'SKOMVÆRHAV - LJDJ - N 0081V', 'REBEKKA L - JXQO - VL0043KI', 'NYSTRAND - JWOC - N 0015RT', 'CETUS - LLYM - R 0094K', 'TRONDSKJÆR - LFBC - T 0200LK', 'LEIK - LLZF - R 0044K', 'SALVØY - LDQV - R 0012K', 'SENIOR - LDHM - N 0200B', 'QUO VADIS - LMDF - R 0086K', 'LANGENES - JXJU - M 0035A', 'ARNØYFJORD - LMCE - TR0030ND', 'ORFJORD - LGLX - M 0008AV', 'SVANAUG ELISE - LDAK - TR0119F', 'OLAGUTT - LLRW - N 0007SO', 'NYSKJER - LLMI - M 0515MD', 'FISKEBAS - LHWW - SF0208F', 'NORDSILD - LLRK - T 0018I', 'ÆSØYBUEN - LDUX - SF0008F', 'MOSTEIN - LIBC - H 0569B', 'HUNTER - LCCZ - VA0002S', 'LIGRUNN - LACT - H 0001F', 'HUGØYBAS - LCNO - H 0032K', 'GARDAR - 3YBM - VL0024AV', 'HARMONI - LAKF - T 0079T', 'BRUSØYSKJÆR - LFTO - TR0400V', 'EINAR ERLEND - LLND - N 0045ME', 'GARDAR - LMOG - H 0011AV', 'SULEBAS - LHLX - SF0030SU', 'ATLØY VIKING - LHTT - SF0022A', 'E.H. SENIOR - LLLD - T 0300TK', 'RADEK - LAHA - H 0008AV', 'AMELIA - LM7682 - H 0223AV', 'GENESIS - LLGS - M 0079HØ', 'LEINEBJØRN - LCOJ - M 0006HØ', 'SILDASKJÆR - LMMF - M 0260HØ', 'SMARAGD - LJXV - M 0064HØ', 'HAVSNURP - LCOE - M 0095MD', 'HAVSTÅL - LLNZ - M 0260A', 'MONSUN - LGPO - AG0003K', 'HAUGAGUT - LAQD - H 0050AV', 'KRANSVIK JR - LLQX - N 0006V', 'HAVBAS - LHWO - T 0071T', 'SJOHAV - LLGI - H 0004K', 'VEIDING - LFPA - R 0069K', 'BRATTSKJÆR - 3YKA - TR0346ND', 'NORDSJØBAS - LHWW - M 0190HØ', 'KATHRIN G - LCHJ - M 0020MD', 'VESTERVON - LLWG - SF0011A', 'REMO - LDWS - M 0012G', 'INGRID MAJALA - LCOE - TF0195M', 'HERØYFJORD - LMHM - M 0010HØ', 'STORVIG - LJCS - VA0081LS', 'MELØYFJORD - LFYY - N 0510ME', 'ODD LUNDBERG - LLNZ - T 0260G', 'LIAFJORD - LGYF - VL0003ØN', 'VESTBRIS - LCJG - VL0050G', 'VIKANØY - LFXX - N 0210BØ', 'ØSTERBRIS - LJME - H 0127AV', 'ALBACORE - LADH - SF0018F', 'SVENSGAM - JXAY - N 0134LN', 'H. ØSTERVOLD - LMBX - H 0088AV', 'VICTORIA MAY - LEVV - M 0267G', 'SENIOR - LGYT - N 0200B', 'ANDREA L - LFMP - VL0004KI', 'HARDHAUS - LFNJ - VL0009AV', 'SKARHOLMEN - LNQL - N 0001BØ', 'KVATRO - LJDJ - M 0052F', 'HAVRAND - LLWF - SF0040B', 'EINARSON - LELQ - TF0244SE', 'SLETTHOLMEN - LAVF - N 0118L', 'VIBEKE HELENE - LLMQ - R 0106K', 'KANSTADFJORD - LIYY - N 0189LN', 'SKUDE - LNYH - R 0157K', 'MOSTEIN - JXUM - VL0778B', 'NORDERVEG - LLXW - H 0179AV', 'STRAND SENIOR - LJRS - M 0425H', 'ARNØYTIND SENIOR - LJZH - T 0008S', 'SJØGLANS - LIKQ - SF0002A', 'REMO - LDWS - H 0022FJ', 'NYSKJER - LFFG - M 0072MD', 'MALENE S - LCZQ - H 0128AV', 'SVANAVÅG - LALN - VA0078S', 'KNUT OLAV - LESF - N 0003V', 'SKIPSHOLMEN - LJRS - H 0425AV', 'BØEN - 3YUG - R 0051SD', 'LIGRUNN II - JXXI - VL0145ØN', 'HARMONI - LAIJ - T 0074T', 'TRYGVASON - LNUN - H 0718B', 'HUGØYBAS - LCNO - H 0032B', 'VIBEKE HELENE - JWTU - SF0033G', 'VEA - LGGR - R 0030K', 'ORSKJÆR - LLVA - Ø 0003H', 'TRAAL - JXML - R 0015K', 'FLIPPER - LJTV - VL0050AV', 'ABELONE MØGSTER - 3YMI - H 0015AV', 'NORDERVON - LJGD - H 0181AV', 'NORDERVEG - LGWK - VL0182AV', 'HÅFLU - LDQV - R 0005B', 'HAVSNURP - LHBV - M 0195M', 'LØNNINGEN - LKLV - H 0030B', 'HÅFLU - LGQK - R 0035B', 'KLONDYKE - LCCZ - M 0042A', 'LIBAS - LMQI - H 0005F', 'KAMØYFISK - LLDB - H 0180AV', 'SPRATTUS - LDFW - H 0018B', 'OLA RYGGEFJORD - JXUE - VL0180AV', 'SILLE MARIE - LCPE - VA0010S', 'GANGSTAD - LLAQ - M 0024MD', 'LISE BEATE - LDQN - TF0100SE', 'ATLØY VIKING - LJSY - VL0055A', 'MYNTEVIK - LHRI - R 0058ES', 'SUNNY LADY - LGDZ - M 0120HØ', 'KYSTFISK - LMOV - SF0003V', 'SÆVIKSON - LCFI - M 0072HØ', 'NORDHAVET - LEPQ - T 0001I', 'GAMBLER - LELC - SF0006V', 'STRAUMBAS - LIOD - R 0062K', 'LEINEBJØRN - LLRG - M 0003HØ', 'SÆVIKTRÅL - LHYA - R 0233K', 'RAV - LFSW - TR0004O', 'MOLNES - LNKS - M 0069G', 'BØMMELFJORD - LMBX - H 0388B', 'ARTUS - LLGS - M 0079HØ', 'HOVDEN VIKING - LEYN - SF0002S', 'REMO - LDWS - VL0003FJ', 'STOREGG - LEIA - M 0095A', 'ÅKERØY - LAXI - N 0300DA'}\n",
      "Number of VMS records: 3946\n",
      "VMS date: 2019-01-03 19:42:00 -> 2019-12-07 17:30:00\n",
      "Number of VMS records after initial time-filter:  3946\n"
     ]
    },
    {
     "name": "stderr",
     "output_type": "stream",
     "text": [
      "Filtering VMS records by ERS vessels: 100%|██████████| 497/497 [00:31<00:00, 16.00it/s]\n",
      "/home/anna/msc_oppgave/fish-forecast/utilities.py:352: SettingWithCopyWarning: \n",
      "A value is trying to be set on a copy of a slice from a DataFrame.\n",
      "Try using .loc[row_indexer,col_indexer] = value instead\n",
      "\n",
      "See the caveats in the documentation: https://pandas.pydata.org/pandas-docs/stable/user_guide/indexing.html#returning-a-view-versus-a-copy\n",
      "  df_ers['Starttidspunkt'] = pd.to_datetime(df_ers['Starttidspunkt'], format='mixed', dayfirst=True)\n",
      "/home/anna/msc_oppgave/fish-forecast/utilities.py:353: SettingWithCopyWarning: \n",
      "A value is trying to be set on a copy of a slice from a DataFrame.\n",
      "Try using .loc[row_indexer,col_indexer] = value instead\n",
      "\n",
      "See the caveats in the documentation: https://pandas.pydata.org/pandas-docs/stable/user_guide/indexing.html#returning-a-view-versus-a-copy\n",
      "  df_ers['Stopptidspunkt'] = pd.to_datetime(df_ers['Stopptidspunkt'], format='mixed', dayfirst=True)\n"
     ]
    },
    {
     "name": "stdout",
     "output_type": "stream",
     "text": [
      "Number of VMS records after filtering by ERS vessels: 6384\n",
      "497 unique vessels\n",
      "147 unique vessels\n",
      "Missing VMS vessels: {'NESEBUEN - LCFH - VA0086LS', 'ELVIRA III - LK3553 - R 0052K', 'SILDASKJÆR - LMMF - SF0001V', 'LIAHOLM - LMDJ - M 0071AV', 'MOSTEIN - LGBG - H 0221B', 'SHEIK - LLSO - VA0055S', 'SJØGLANS - LIZI - AG0014K', 'THEA ELISE - LIKQ - N 0530MS', 'SJONGLØR - LFEP - SF0051SU', 'SILLE MARIE - LCPE - R 0110ES', 'RINGBAS - LHRX - SF0006V', 'DYRNESVÅG - LGGM - M 0435SM', 'NORAFJELL - LLCX - N 0034LN', 'SJARMØR - LJZO - VL0184SU', 'SALVØY - LDQV - R 0005B', 'FRUHOLMEN - LHWO - H 0178AV', 'HAVFISK - LLGA - M 0200A', 'FISKEBANK - LEQI - M 0022SM', 'ARNØYFJORD - LLGB - NT0050NR', 'CETUS - JXML - R 0015K', 'ATLØYBUEN - JXSE - SF0033A', 'FLANDER - LKLA - H 0158B', 'INGVARDSON - LEIA - H 0095K', 'RAV - LMFZ - ST0008O', 'SLAATTERØY - LGFV - VL0264AV', 'JØKUL - LALD - M 0108MD', 'BERG SENIOR - LIQO - N 0005VR', 'BALLSTADØY - LFGX - N 0099VV', 'ØSTANGER - 3YDD - H 0148AV', 'TOJAKO - LIYG - M 0070AV', 'INGER HILDUR - LLRG - M 0103F', 'SCOMBRUS JR - JXSF - R 0009H', 'VESTØY - LCSR - M 0064MD', 'FAGERVOLL - LCHL - M 0074A', 'KVANNØY - LAQD - N 0060B', 'SLETTHOLMEN - LAVF - T 0110I', 'CAPRICE - LFGV - H 0313AV', 'ARNØYTIND - LGNJ - TF0008S', 'BUEFJORD - LJMF - SF0147A', 'LØNNØY - LJTD - H 0004B', 'MARIE - LMCW - M 0008M', 'EDNA SYNNØVE - LCGV - TR0018F', 'AUSTERFJORD - LJZO - H 0084AV', 'JULIANNE III - LCGQ - T 0021T', 'REMØY - LDSF - M 0099HØ', 'SKLINNABANKEN - LJQM - N 0250BR', 'GAMBLER - LELC - M 0192HØ', 'GOULD DOLLAR - LNHQ - SF0300A', 'SCOMBRUS - JXSF - R 0001H', 'HAVSKJER - LFUZ - M 0400A', 'ZENIT - LMWI - R 0111K', 'MORTEN EINAR - LCOV - H 0140AV', 'ÅKERØY II - LAXI - N 0300DA', 'ROGNE - JXAY - N 0040LN', 'SYDVEST - LLAS - VL0053AV', 'KVATRO - LJDJ - M 0055F', 'TORBAS - LFMP - SF0004V', 'KATHRIN G - LCCX - M 0001SJ', 'AMBASSADOR - LJBI - R 0126K', 'MORTEN EINAR - JWQU - H 0005AV', 'FRØYBAS - LLMQ - SF0075B', 'HOVDEN VIKING - JWLM - SF0004S', 'MIDØY VIKING - LCFQ - M 0100MD', 'KABA - 3YBZ - N 0303V', 'ODD LUNDBERG - LJRP - T 0111G', 'BENJACO - 3YUG - VL0051K', 'SANDER ANDRE - LJBC - N 0066MS', 'KVANNØY - LMBE - N 0400B', 'GERD JULIE - LDXP - N 0400V', 'VIKANØY - LHTT - N 0210BØ', 'GUNNAR K - LJWW - SF0246A', 'STRAUMBERG - LDEF - N 0006V', 'REMØYBUEN - LLIQ - M 0009HØ', 'TOBIS - LFOB - H 0101AV', 'TROMSBAS - LAWQ - T 0009T', 'STOKKE SENIOR - JWQZ - M 0012U', 'NORAFJELL - JXAY - N 0134LN', 'SULEHAV - LJJZ - SF0001SU', 'JULIANNE III - LCGQ - N 0021LN', 'SKÅR SENIOR - LGGL - M 0200HØ', 'LIAFJELL - LLWB - H 0087F', 'GUNNAR LANGVA - LFGY - M 0189A', 'SELVÅG - LJXW - N 0024ME', 'LØNNINGEN - LKLV - H 0020B', 'SVANAUG ELISE - LLRD - ST0019F', 'HILLERSØY - LMKD - SF0220A', 'GOLLENES - LHBM - M 0311HØ', 'SANDER ANDRE II - LNYZ - N 0250MS', 'TILJE - LICN - SF0082B', 'TRØNDERKARI - LLVN - NT0200V', 'HAVSNURP - LCOE - M 0195MD', 'B.M. DRIVENES - LM7682 - H 0223AV', 'SILLE MARIE - LHBQ - AG0002K', 'ORFJORD - LDAA - M 0008AV', 'KNESTER - JWNI - H 0009AV', 'HAVFISK - LJTD - M 0520A', 'INGER HILDUR - LJUH - M 0101F', 'SPJÆRINGEN SENIOR - LLGB - Ø 0150H', 'JARLE BERG - JWLC - N 0045VR', 'LØNNØY JUNIOR - LIKL - H 0097B', 'BØMMELHAV - LJYE - H 0078B', 'GENESIS - LLGS - M 0077HØ', 'FISKESKJER - LJXG - M 0525H', 'STRAND SENIOR 2 - LJRS - M 0425H', 'ARNØYTIND - LJZH - T 0008S', 'ORDINAT - LJTD - H 0250AV', 'KINGSHOLM - LJNB - M 0033SJ', 'HERØYFJORD - LGSJ - M 0023HØ', 'VÅRBUD - LM3369 - SF0016SU', 'VIKINGBANK - LFVI - R 0011K', 'STÅLRINGEN - LLGZ - N 0075DA', 'HARGO - LLAS - VL0063AV', 'BARHOLM - LIQO - VL0025ØN', 'INGRID MAJALA - LAKF - F 0225M', 'STORSTEIN - LLMQ - TR0091AA', 'SELVÅG SENIOR - LGOQ - N 0001ME', 'ATLØY VIKING - LCGV - SF0008A', 'ORSKJÆR - LLVA - M 0174AV', 'VESTBAS - LJBC - M 0066HØ', 'TRØNDERHAV - LLJN - ST0030RS', 'GUNNAR K - LJWW - N 0246Ø', 'KNESTER - JWNI - N 0019DA', 'KROSSØY 1 - LNXT - VL0012BN', 'NORDSILD - LLRK - T 0008I', 'DOGGI - LLIA - F 0014H', 'HERØYHAV - LJTD - M 0520HØ', 'RADEK - LIZI - VL0072AV', 'VENDLA - LJTP - H 0040AV', 'SIGLAR - LCIJ - H 0035F', 'KINGS BAY - LGWK - M 0021HØ', 'EDNA SYNNØVE - LJNB - ST0018F', 'SKLINNABANKEN - LJQM - M 0050A', 'NYBO - LMFZ - M 0030M', 'RØDHOLMEN - LCMN - VN0118B', 'SÆVAR JR - LLVN - M 0200M', 'STØTTFJORD - LMCE - N 0001ME', 'RAMOEN - LDNV - M 0001VD', 'ROGNE - JXAY - M 0004HØ', 'ØSTERBRIS 2 - LJME - H 0127AV', 'KROSSØY - LIZI - H 0034BN', 'GERDA MARIE - LGFQ - H 0365AV', 'KABA - 3YBZ - H 0033O', 'TORBAS - LLBT - SF0099V', 'BØEN - LHWW - R 0007SD', 'VESTFART - LKDQ - SF0005B', 'EINARSON - LLQX - T 0005LK', 'BALLSTADØY - LLLI - N 0185VV', 'OLAGUTT - LLRW - N 0001SO', 'K.M. ØSTERVOLD - LHWW - H 0208AV', 'LIAVÅG - LDUX - M 0088AV', 'LISE-BEATE - LLYL - T 0100LK', 'LØNNINGEN - LALI - H 0200B', 'EROS - LIVA - M 0060HØ', 'BØEN - LJSY - R 0085ES', 'LIBAS - LFKW - VL0001ØN', 'STEINEVIK - JWNI - H 0058AV', 'NORDERVEG - LGWK - VL0181AV', 'SKUDE SENIOR - LCGU - R 0196K', 'ORDINAT - LKLV - H 0090AV', 'RINGBAS - LHRX - M 0116HØ', 'RØDHOLMEN - LCMN - N 0118LN', 'BØMMELFJORD - LNXT - H 0083B', 'BRATTSKJÆR - LLLP - NT0345V', 'HARVEST - LLAS - H 0003AV', 'GANGSTAD - LGSR - M 0006MD', 'MOSTEIN 1 - LGBG - H 0221B', 'OCEAN - LGUP - M 0004A', 'LØNNØY - LLXE - H 0007B', 'BRATTSKJÆR - LDAA - NT0346V', 'ROWENTA - LLWF - N 0050MS', 'TOPAS - LHRX - M 0100G', 'ØSTANGER - 3YDD - H 0140AV', 'STRAUMBERG - LIOD - N 0002LF', 'FISKØY - LIOL - N 0067VV', 'INGER HILDUR - LLRG - M 0100F', 'VEAGUTT - LCFH - R 0001K', 'KRANSVIK JR - LLLI - N 0180V', 'FISKEBANK - LEPW - M 0101SM', 'SCOMBRUS - LMCH - R 0017H', 'SVANAVÅG - LALN - R 0003ES', 'HARALD JOHAN - JXAM - H 0012AV', 'HAVSNURP - LLBM - M 0095MD', 'MELØYPYNT - LK2103 - ST0002R', 'ROWENTA - LJBC - N 0066MS', 'NESEJENTA - LFWP - AG0001LS', 'KLARA B - LERB - N 0003MS', 'STOKKØY - JXGY - H 0098B', 'VOLDNES - LKUB - F 0080M', 'FYRHOLM - LKIB - H 0010B', 'HERMES - LLOP - F 0007L', 'MYNTEVIK - LHRI - R 0258K', 'BØMMELBAS - LHRE - H 0444B', 'TUNFISK - JWWM - H 0260K', 'TOPAS - JWLD - M 0124G', 'ISHAVET - 3YYB - M 0011A', 'ROGNE - JXAY - M 0042HØ', 'STEINSUND - LFJE - H 0227AV', 'SØRVIK - LCRI - ST0066F', 'BUØY SR. - LK3243 - M 0089HØ', 'BALLSTADØY - LFGX - N 0003VV', 'VIKAFJORD - LJDJ - VL0033B', 'ENDRE DYRØY - LLNU - H 0015F', 'PETRELL - LLMQ - M 0200G', 'SLOTTSTEIN - LJDR - VL0225AV', 'MONSUN - LIUC - VA0041K', 'EMMA - LALD - M 0108MD', 'HAVFJORD - LGDF - VA0002S', 'ØKSNESVÆRING - LMCE - N 0160Ø', 'STARBEAM - LLAQ - M 0212H', 'HERØY - LIQW - M 0620HØ', 'KRANSVIK JR - LJDJ - N 0081V', 'NORDSØ - LFIZ - VA0097M', 'GLOMFJORD - LHBI - M 0370HØ', 'EMILIE H - LEAE - M 0090SJ', 'HAVSTRAND - LDBR - M 0525H', 'KREMMERVIK - 3YMI - H 0015AV', 'STEINEVIK - LAQD - VL0167AV', 'SKUDE SENIOR - LCGU - R 0004K', 'LURØYBAS - JWVR - N 0111L', 'JOHAN FEYER - LJYE - R 0004ES', 'REMO - LDWS - Ø 0005H', 'SKOMVÆRHAV - LJDJ - N 0081V', 'REBEKKA L - JXQO - VL0043KI', 'NYSTRAND - JWOC - N 0015RT', 'CETUS - LLYM - R 0094K', 'HAUGAGUT - LKUX - H 0050AV', 'LEIK - LLZF - R 0044K', 'SALVØY - LDQV - R 0012K', 'SENIOR - LDHM - N 0200B', 'QUO VADIS - LMDF - R 0086K', 'LANGENES - JXJU - M 0035A', 'ARNØYFJORD - LMCE - TR0030ND', 'ORFJORD - LGLX - M 0008AV', 'SVANAUG ELISE - LDAK - TR0119F', 'OLAGUTT - LLRW - N 0007SO', 'NYSKJER - LLMI - M 0515MD', 'FISKEBAS - LHWW - SF0208F', 'NORDSILD - LLRK - T 0018I', 'ÆSØYBUEN - LDUX - SF0008F', 'FLORA - LM9256 - M 0001S', 'HUNTER - LCCZ - VA0002S', 'LIGRUNN - LACT - H 0001F', 'HUGØYBAS - LCNO - H 0032K', 'GARDAR - 3YBM - VL0024AV', 'HARMONI - LAKF - T 0079T', 'EINAR ERLEND - LLND - N 0045ME', 'SVANAUG ELISE - LLRD - M 0119HØ', 'GARDAR - LMOG - H 0011AV', 'SULEBAS - LHLX - SF0030SU', 'ATLØY VIKING - LHTT - SF0022A', 'E.H. SENIOR - LLLD - T 0300TK', 'RADEK - LAHA - H 0008AV', 'AMELIA - LM7682 - H 0223AV', 'GENESIS - LLGS - M 0079HØ', 'MAGNARSON - LMBX - H 0088AV', 'BERNT OSKAR - 3YCU - N 0020MS', 'LEINEBJØRN - LCOJ - M 0006HØ', 'SILDASKJÆR - LMMF - M 0260HØ', 'SMARAGD - LJXV - M 0064HØ', 'HAVSNURP - LCOE - M 0095MD', 'HAVSTÅL - LLNZ - M 0260A', 'MONSUN - LGPO - AG0003K', 'HAUGAGUT - LAQD - H 0050AV', 'KRANSVIK JR - LLQX - N 0006V', 'HAVBAS - LHWO - T 0071T', 'SJOHAV - LLGI - H 0004K', 'VEIDING - LFPA - R 0069K', 'BRATTSKJÆR - 3YKA - TR0346ND', 'NORDSJØBAS - LHWW - M 0190HØ', 'KATHRIN G - LCHJ - M 0020MD', 'VESTERVON - LLWG - SF0011A', 'REMO - LDWS - M 0012G', 'INGRID MAJALA - LCOE - TF0195M', 'HERØYFJORD - LMHM - M 0010HØ', 'STORVIG - LJCS - VA0081LS', 'MELØYFJORD - LFYY - N 0510ME', 'ODD LUNDBERG - LLNZ - T 0260G', 'LIAFJORD - LGYF - VL0003ØN', 'VESTBRIS - LCJG - VL0050G', 'VIKANØY - LFXX - N 0210BØ', 'ØSTERBRIS - LJME - H 0127AV', 'ALBACORE - LADH - SF0018F', 'SVENSGAM - JXAY - N 0134LN', 'H. ØSTERVOLD - LMBX - H 0088AV', 'VICTORIA MAY - LEVV - M 0267G', 'SENIOR - LGYT - N 0200B', 'ANDREA L - LFMP - VL0004KI', 'HARDHAUS - LFNJ - VL0009AV', 'SKARHOLMEN - LNQL - N 0001BØ', 'SLETTHOLMEN - LAVF - N 0110L', 'KVATRO - LJDJ - M 0052F', 'HAVRAND - LLWF - SF0040B', 'EINARSON - LELQ - TF0244SE', 'VIBEKE HELENE - LLMQ - R 0106K', 'KANSTADFJORD - LIYY - N 0189LN', 'SKUDE - LNYH - R 0157K', 'MOSTEIN - JXUM - VL0778B', 'SILVER BAY - LIHW - H 0095B', 'NORDERVEG - LLXW - H 0179AV', 'STRAND SENIOR - LJRS - M 0425H', 'ARNØYTIND SENIOR - LJZH - T 0008S', 'SJØGLANS - LIKQ - SF0002A', 'REMO - LDWS - H 0022FJ', 'NYSKJER - LFFG - M 0072MD', 'MALENE S - LCZQ - H 0128AV', 'SVANAVÅG - LALN - VA0078S', 'BØEN - 3YUG - R 0051SD', 'LIGRUNN II - JXXI - VL0145ØN', 'HARMONI - LAIJ - T 0074T', 'HÅFLU - LEQI - R 0022B', 'TRYGVASON - LNUN - H 0718B', 'VIBEKE HELENE - JWTU - SF0033G', 'HUGØYBAS - LCNO - H 0032B', 'VEA - LGGR - R 0030K', 'ORSKJÆR - LLVA - Ø 0003H', 'TRAAL - JXML - R 0015K', 'FLIPPER - LJTV - VL0050AV', 'ABELONE MØGSTER - 3YMI - H 0015AV', 'NORDERVON - LJGD - H 0181AV', 'NORDERVEG - LGWK - VL0182AV', 'MORTEN EINAR - LLNZ - H 0402AV', 'HÅFLU - LDQV - R 0005B', 'HAVSNURP - LHBV - M 0195M', 'LØNNINGEN - LKLV - H 0030B', 'HÅFLU - LGQK - R 0035B', 'KLONDYKE - LCCZ - M 0042A', 'LIBAS - LMQI - H 0005F', 'KAMØYFISK - LLDB - H 0180AV', 'SPRATTUS - LDFW - H 0018B', 'OLA RYGGEFJORD - JXUE - VL0180AV', 'SILLE MARIE - LCPE - VA0010S', 'GANGSTAD - LLAQ - M 0024MD', 'LISE BEATE - LDQN - TF0100SE', 'ATLØY VIKING - LJSY - VL0055A', 'MYNTEVIK - LHRI - R 0058ES', 'SUNNY LADY - LGDZ - M 0120HØ', 'KYSTFISK - LMOV - SF0003V', 'SÆVIKSON - LCFI - M 0072HØ', 'GAMBLER - LELC - SF0006V', 'TRYGVASON - LENJ - H 0020B', 'STRAUMBAS - LIOD - R 0062K', 'LEINEBJØRN - LLRG - M 0003HØ', 'SÆVIKTRÅL - LHYA - R 0233K', 'BØMMELFJORD - LMBX - H 0388B', 'ARTUS - LLGS - M 0079HØ', 'REMO - LDWS - VL0003FJ', 'STOREGG - LEIA - M 0095A', 'KAMILLA GRANDE - JWLM - N 0050Ø', 'ÅKERØY - LAXI - N 0300DA', 'SALVØY - LECG - R 0333K'}\n",
      "Number of VMS records: 6020\n",
      "VMS date: 2020-01-04 17:22:00 -> 2020-11-15 20:24:00\n",
      "Number of VMS records after initial time-filter:  6020\n"
     ]
    },
    {
     "name": "stderr",
     "output_type": "stream",
     "text": [
      "Filtering VMS records by ERS vessels: 100%|██████████| 497/497 [00:32<00:00, 15.07it/s]\n",
      "/home/anna/msc_oppgave/fish-forecast/utilities.py:352: SettingWithCopyWarning: \n",
      "A value is trying to be set on a copy of a slice from a DataFrame.\n",
      "Try using .loc[row_indexer,col_indexer] = value instead\n",
      "\n",
      "See the caveats in the documentation: https://pandas.pydata.org/pandas-docs/stable/user_guide/indexing.html#returning-a-view-versus-a-copy\n",
      "  df_ers['Starttidspunkt'] = pd.to_datetime(df_ers['Starttidspunkt'], format='mixed', dayfirst=True)\n",
      "/home/anna/msc_oppgave/fish-forecast/utilities.py:353: SettingWithCopyWarning: \n",
      "A value is trying to be set on a copy of a slice from a DataFrame.\n",
      "Try using .loc[row_indexer,col_indexer] = value instead\n",
      "\n",
      "See the caveats in the documentation: https://pandas.pydata.org/pandas-docs/stable/user_guide/indexing.html#returning-a-view-versus-a-copy\n",
      "  df_ers['Stopptidspunkt'] = pd.to_datetime(df_ers['Stopptidspunkt'], format='mixed', dayfirst=True)\n"
     ]
    },
    {
     "name": "stdout",
     "output_type": "stream",
     "text": [
      "Number of VMS records after filtering by ERS vessels: 10997\n",
      "497 unique vessels\n",
      "146 unique vessels\n",
      "Missing VMS vessels: {'NESEBUEN - LCFH - VA0086LS', 'ELVIRA III - LK3553 - R 0052K', 'SILDASKJÆR - LMMF - SF0001V', 'LIAHOLM - LMDJ - M 0071AV', 'MOSTEIN - LGBG - H 0221B', 'SHEIK - LLSO - VA0055S', 'SJØGLANS - LIZI - AG0014K', 'THEA ELISE - LIKQ - N 0530MS', 'SJONGLØR - LFEP - SF0051SU', 'SILLE MARIE - LCPE - R 0110ES', 'RINGBAS - LHRX - SF0006V', 'DYRNESVÅG - LGGM - M 0435SM', 'NORAFJELL - LLCX - N 0034LN', 'SJARMØR - LJZO - VL0184SU', 'SALVØY - LDQV - R 0005B', 'FRUHOLMEN - LHWO - H 0178AV', 'FISKEBANK - LEQI - M 0022SM', 'ARNØYFJORD - LLGB - NT0050NR', 'CETUS - JXML - R 0015K', 'HERØYFJORD - LAXI - M 0021HØ', 'ATLØYBUEN - JXSE - SF0033A', 'FLANDER - LKLA - H 0158B', 'INGVARDSON - LEIA - H 0095K', 'RAV - LMFZ - ST0008O', 'HASTING - LLMP - SF0097B', 'BALLSTADØY - LFGX - N 0099VV', 'ØSTANGER - 3YDD - H 0148AV', 'TOJAKO - LIYG - M 0070AV', 'INGER HILDUR - LLRG - M 0103F', 'ÅKERØY - LDHM - N 0200DA', 'SENIOR - LAQD - N 0060B', 'SCOMBRUS JR - JXSF - R 0009H', 'VESTØY - LCSR - M 0064MD', 'FAGERVOLL - LCHL - M 0074A', 'KVANNØY - LAQD - N 0060B', 'SLETTHOLMEN - LAVF - T 0110I', 'CAPRICE - LFGV - H 0313AV', 'HAVSKJER - LLGA - M 0200A', 'ARNØYTIND - LGNJ - TF0008S', 'BUEFJORD - LJMF - SF0147A', 'LØNNØY - LJTD - H 0004B', 'MARIE - LMCW - M 0008M', 'EDNA SYNNØVE - LCGV - TR0018F', 'AUSTERFJORD - LJZO - H 0084AV', 'JULIANNE III - LCGQ - T 0021T', 'REMØY - LDSF - M 0099HØ', 'SKLINNABANKEN - LJQM - N 0250BR', 'GAMBLER - LELC - M 0192HØ', 'GOULD DOLLAR - LNHQ - SF0300A', 'SCOMBRUS - JXSF - R 0001H', 'HAVSKJER - LFUZ - M 0400A', 'ZENIT - LMWI - R 0111K', 'SLAATTERØY - LMMS - H 0010AV', 'MORTEN EINAR - LCOV - H 0140AV', 'ÅKERØY II - LAXI - N 0300DA', 'ROGNE - JXAY - N 0040LN', 'SYDVEST - LLAS - VL0053AV', 'KVATRO - LJDJ - M 0055F', 'TORBAS - LFMP - SF0004V', 'KATHRIN G - LCCX - M 0001SJ', 'AMBASSADOR - LJBI - R 0126K', 'MORTEN EINAR - JWQU - H 0005AV', 'MIDØY VIKING - LCFQ - M 0100MD', 'FRØYBAS - LLMQ - SF0075B', 'HOVDEN VIKING - JWLM - SF0004S', 'KABA - 3YBZ - N 0303V', 'ODD LUNDBERG - LJRP - T 0111G', 'HAVSNURP - LCOE - M 0195HØ', 'BENJACO - 3YUG - VL0051K', 'SANDER ANDRE - LJBC - N 0066MS', 'KVANNØY - LMBE - N 0400B', 'GERD JULIE - LDXP - N 0400V', 'VIKANØY - LHTT - N 0210BØ', 'GUNNAR K - LJWW - SF0246A', 'STRAUMBERG - LDEF - N 0006V', 'REMØYBUEN - LLIQ - M 0009HØ', 'TOBIS - LFOB - H 0101AV', 'TROMSBAS - LAWQ - T 0009T', 'STOKKE SENIOR - JWQZ - M 0012U', 'NORAFJELL - JXAY - N 0134LN', 'SULEHAV - LJJZ - SF0001SU', 'JULIANNE III - LCGQ - N 0021LN', 'SKÅR SENIOR - LGGL - M 0200HØ', 'LIAFJELL - LLWB - H 0087F', 'SELVÅG - LJXW - N 0024ME', 'LØNNINGEN - LKLV - H 0020B', 'SVANAUG ELISE - LLRD - ST0019F', 'HILLERSØY - LMKD - SF0220A', 'GOLLENES - LHBM - M 0311HØ', 'SANDER ANDRE II - LNYZ - N 0250MS', 'TILJE - LICN - SF0082B', 'TRØNDERKARI - LLVN - NT0200V', 'HAVSNURP - LCOE - M 0195MD', 'B.M. DRIVENES - LM7682 - H 0223AV', 'VIKINGBANK - LLAS - R 0003K', 'SILLE MARIE - LHBQ - AG0002K', 'KNESTER - JWNI - H 0009AV', 'HAVFISK - LJTD - M 0520A', 'INGER HILDUR - LJUH - M 0101F', 'SPJÆRINGEN SENIOR - LLGB - Ø 0150H', 'JARLE BERG - JWLC - N 0045VR', 'LØNNØY JUNIOR - LIKL - H 0097B', 'BØMMELHAV - LJYE - H 0078B', 'GENESIS - LLGS - M 0077HØ', 'CETUS - LFFK - R 0001K', 'NORDERVEG - LGWK - H 0182AV', 'FISKESKJER - LJXG - M 0525H', 'STRAND SENIOR 2 - LJRS - M 0425H', 'ORDINAT - LJTD - H 0250AV', 'KINGSHOLM - LJNB - M 0033SJ', 'HERØYFJORD - LGSJ - M 0023HØ', 'VÅRBUD - LM3369 - SF0016SU', 'VIKINGBANK - LFVI - R 0011K', 'STÅLRINGEN - LLGZ - N 0075DA', 'HARGO - LLAS - VL0063AV', 'BARHOLM - LIQO - VL0025ØN', 'INGRID MAJALA - LAKF - F 0225M', 'STORSTEIN - LLMQ - TR0091AA', 'SELVÅG SENIOR - LGOQ - N 0001ME', 'ATLØY VIKING - LCGV - SF0008A', 'ORSKJÆR - LLVA - M 0174AV', 'MIRANDA - LDIW - N 0195V', 'VESTBAS - LJBC - M 0066HØ', 'TRØNDERHAV - LLJN - ST0030RS', 'GUNNAR K - LJWW - N 0246Ø', 'KNESTER - JWNI - N 0019DA', 'KROSSØY 1 - LNXT - VL0012BN', 'NORDSILD - LLRK - T 0008I', 'VESTVIKING - JXAM - H 0012AV', 'DOGGI - LLIA - F 0014H', 'HERØYHAV - LJTD - M 0520HØ', 'GULARØY - LIQO - M 0005AV', 'RADEK - LIZI - VL0072AV', 'VENDLA - LJTP - H 0040AV', 'SIGLAR - LCIJ - H 0035F', 'KINGS BAY - LGWK - M 0021HØ', 'SKLINNABANKEN - LJQM - M 0050A', 'NYBO - LMFZ - M 0030M', 'SÆVAR JR - LLVN - M 0200M', 'STØTTFJORD - LMCE - N 0001ME', 'RAMOEN - LDNV - M 0001VD', 'ROGNE - JXAY - M 0004HØ', 'ØSTERBRIS 2 - LJME - H 0127AV', 'KROSSØY - LIZI - H 0034BN', 'KABA - 3YBZ - H 0033O', 'TORBAS - LLBT - SF0099V', 'BØEN - LHWW - R 0007SD', 'VESTFART - LKDQ - SF0005B', 'JØKUL - LALD - M 0108HØ', 'EINARSON - LLQX - T 0005LK', 'ORFJORD - LDAA - M 0058AV', 'BALLSTADØY - LLLI - N 0185VV', 'OLAGUTT - LLRW - N 0001SO', 'K.M. ØSTERVOLD - LHWW - H 0208AV', 'LIAVÅG - LDUX - M 0088AV', 'LISE-BEATE - LLYL - T 0100LK', 'LØNNINGEN - LALI - H 0200B', 'EROS - LIVA - M 0060HØ', 'BØEN - LJSY - R 0085ES', 'LIBAS - LFKW - VL0001ØN', 'NOTBAS - LIYG - T 0010S', 'STEINEVIK - JWNI - H 0058AV', 'NORDERVEG - LGWK - VL0181AV', 'SKUDE SENIOR - LCGU - R 0196K', 'ORDINAT - LKLV - H 0090AV', 'RINGBAS - LHRX - M 0116HØ', 'RØDHOLMEN - LCMN - N 0118LN', 'BØMMELFJORD - LNXT - H 0083B', 'BRATTSKJÆR - LLLP - NT0345V', 'HARVEST - LLAS - H 0003AV', 'GANGSTAD - LGSR - M 0006MD', 'MOSTEIN 1 - LGBG - H 0221B', 'OCEAN - LGUP - M 0004A', 'LØNNØY - LLXE - H 0007B', 'BRATTSKJÆR - LDAA - NT0346V', 'ROWENTA - LLWF - N 0050MS', 'TOPAS - LHRX - M 0100G', 'ØSTANGER - 3YDD - H 0140AV', 'STRAUMBERG - LIOD - N 0002LF', 'FISKØY - LIOL - N 0067VV', 'INGER HILDUR - LLRG - M 0100F', 'VEAGUTT - LCFH - R 0001K', 'KRANSVIK JR - LLLI - N 0180V', 'FISKEBANK - LEPW - M 0101SM', 'SCOMBRUS - LMCH - R 0017H', 'SVANAVÅG - LALN - R 0003ES', 'HARALD JOHAN - JXAM - H 0012AV', 'HAVSNURP - LLBM - M 0095MD', 'MELØYPYNT - LK2103 - ST0002R', 'ROWENTA - LJBC - N 0066MS', 'NESEJENTA - LFWP - AG0001LS', 'KLARA B - LERB - N 0003MS', 'STOKKØY - JXGY - H 0098B', 'VOLDNES - LKUB - F 0080M', 'FYRHOLM - LKIB - H 0010B', 'MYNTEVIK - LHRI - R 0258K', 'BØMMELBAS - LHRE - H 0444B', 'TUNFISK - JWWM - H 0260K', 'TOPAS - JWLD - M 0124G', 'ISHAVET - 3YYB - M 0011A', 'ROGNE - JXAY - M 0042HØ', 'STEINSUND - LFJE - H 0227AV', 'SØRVIK - LCRI - ST0066F', 'LIAFJORD - LCOV - H 0003F', 'BUØY SR. - LK3243 - M 0089HØ', 'BALLSTADØY - LFGX - N 0003VV', 'GOLLENES - LCOH - M 0031HØ', 'VIKAFJORD - LJDJ - VL0033B', 'ENDRE DYRØY - LLNU - H 0015F', 'PETRELL - LLMQ - M 0200G', 'SLOTTSTEIN - LJDR - VL0225AV', 'MONSUN - LIUC - VA0041K', 'EMMA - LALD - M 0108MD', 'ØKSNESVÆRING - LMCE - N 0160Ø', 'STARBEAM - LLAQ - M 0212H', 'HERØY - LIQW - M 0620HØ', 'GLOMFJORD - LHBI - M 0370HØ', 'EMILIE H - LEAE - M 0090SJ', 'HAVSTRAND - LDBR - M 0525H', 'KREMMERVIK - 3YMI - H 0015AV', 'SKUDE SENIOR - LCGU - R 0004K', 'LURØYBAS - JWVR - N 0111L', 'JOHAN FEYER - LJYE - R 0004ES', 'REMO - LDWS - Ø 0005H', 'SKOMVÆRHAV - LJDJ - N 0081V', 'REBEKKA L - JXQO - VL0043KI', 'NYSTRAND - JWOC - N 0015RT', 'CETUS - LLYM - R 0094K', 'HAUGAGUT - LKUX - H 0050AV', 'LEIK - LLZF - R 0044K', 'SALVØY - LDQV - R 0012K', 'HAVGLANS - LCUZ - H 0005ØN', 'ATLØY VIKING - LJDJ - SF0055A', 'QUO VADIS - LMDF - R 0086K', 'LANGENES - JXJU - M 0035A', 'ARNØYFJORD - LMCE - TR0030ND', 'ORFJORD - LGLX - M 0008AV', 'SVANAUG ELISE - LDAK - TR0119F', 'NYSKJER - LLMI - M 0515MD', 'FISKEBAS - LHWW - SF0208F', 'NORDSILD - LLRK - T 0018I', 'ÆSØYBUEN - LDUX - SF0008F', 'FLORA - LM9256 - M 0001S', 'MOSTEIN - LIBC - H 0569B', 'HUNTER - LCCZ - VA0002S', 'LIGRUNN - LACT - H 0001F', 'HUGØYBAS - LCNO - H 0032K', 'GARDAR - 3YBM - VL0024AV', 'HARMONI - LAKF - T 0079T', 'EINAR ERLEND - LLND - N 0045ME', 'SVANAUG ELISE - LLRD - M 0119HØ', 'GARDAR - LMOG - H 0011AV', 'SULEBAS - LHLX - SF0030SU', 'ATLØY VIKING - LHTT - SF0022A', 'E.H. SENIOR - LLLD - T 0300TK', 'RADEK - LAHA - H 0008AV', 'AMELIA - LM7682 - H 0223AV', 'GENESIS - LLGS - M 0079HØ', 'MAGNARSON - LMBX - H 0088AV', 'BERNT OSKAR - 3YCU - N 0020MS', 'LEINEBJØRN - LCOJ - M 0006HØ', 'SILDASKJÆR - LMMF - M 0260HØ', 'SMARAGD - LJXV - M 0064HØ', 'HAVSTÅL - LLNZ - M 0260A', 'MONSUN - LGPO - AG0003K', 'HAUGAGUT - LAQD - H 0050AV', 'KRANSVIK JR - LLQX - N 0006V', 'HAVBAS - LHWO - T 0071T', 'GUNNAR LANGVA - LMMC - M 0139A', 'SJOHAV - LLGI - H 0004K', 'BRATTSKJÆR - 3YKA - TR0346ND', 'NORDSJØBAS - LHWW - M 0190HØ', 'KATHRIN G - LCHJ - M 0020MD', 'VESTERVON - LLWG - SF0011A', 'REMO - LDWS - M 0012G', 'INGRID MAJALA - LCOE - TF0195M', 'HERØYFJORD - LMHM - M 0010HØ', 'MELØYFJORD - LFYY - N 0510ME', 'ODD LUNDBERG - LLNZ - T 0260G', 'LIAFJORD - LGYF - VL0003ØN', 'VIKANØY - LFXX - N 0210BØ', 'ØSTERBRIS - LJME - H 0127AV', 'ALBACORE - LADH - SF0018F', 'SVENSGAM - JXAY - N 0134LN', 'H. ØSTERVOLD - LMBX - H 0088AV', 'SENIOR - LGYT - N 0200B', 'ANDREA L - LFMP - VL0004KI', 'HARDHAUS - LFNJ - VL0009AV', 'SKARHOLMEN - LNQL - N 0001BØ', 'SLETTHOLMEN - LAVF - N 0110L', 'KVATRO - LJDJ - M 0052F', 'HAVRAND - LLWF - SF0040B', 'VESTBRIS - LMCW - SF0050G', 'EINARSON - LELQ - TF0244SE', 'BØEN - LJSY - R 0085SD', 'VIBEKE HELENE - LLMQ - R 0106K', 'KANSTADFJORD - LIYY - N 0189LN', 'SKUDE - LNYH - R 0157K', 'MOSTEIN - JXUM - VL0778B', 'SILVER BAY - LIHW - H 0095B', 'GERDA MARIE - LAUP - H 0032AV', 'NORDERVEG - LLXW - H 0179AV', 'ARNØYTIND SENIOR - LJZH - T 0008S', 'STRAND SENIOR - LJRS - M 0425H', 'SJØGLANS - LIKQ - SF0002A', 'NYSKJER - LFFG - M 0072MD', 'MALENE S - LCZQ - H 0128AV', 'SVANAVÅG - LALN - VA0078S', 'SKIPSHOLMEN - LJRS - H 0425AV', 'BØEN - 3YUG - R 0051SD', 'LIGRUNN II - JXXI - VL0145ØN', 'HARMONI - LAIJ - T 0074T', 'TRYGVASON - LNUN - H 0718B', 'VIBEKE HELENE - JWTU - SF0033G', 'HUGØYBAS - LCNO - H 0032B', 'STRAUMBAS - LEWL - R 0020V', 'VEA - LGGR - R 0030K', 'SILLE MARIE - LCPE - VA0110S', 'ORSKJÆR - LLVA - Ø 0003H', 'TRAAL - JXML - R 0015K', 'FLIPPER - LJTV - VL0050AV', 'ABELONE MØGSTER - 3YMI - H 0015AV', 'NORDERVON - LJGD - H 0181AV', 'MORTEN EINAR - LLNZ - H 0402AV', 'HÅFLU - LDQV - R 0005B', 'HAVSNURP - LHBV - M 0195M', 'LØNNINGEN - LKLV - H 0030B', 'HÅFLU - LGQK - R 0035B', 'KLONDYKE - LCCZ - M 0042A', 'LIBAS - LMQI - H 0005F', 'KAMØYFISK - LLDB - H 0180AV', 'SPRATTUS - LDFW - H 0018B', 'OLA RYGGEFJORD - JXUE - VL0180AV', 'SILLE MARIE - LCPE - VA0010S', 'GANGSTAD - LLAQ - M 0024MD', 'LISE BEATE - LDQN - TF0100SE', 'MYNTEVIK - LHRI - R 0058ES', 'SUNNY LADY - LGDZ - M 0120HØ', 'KYSTFISK - LMOV - SF0003V', 'SÆVIKSON - LCFI - M 0072HØ', 'GAMBLER - LELC - SF0006V', 'TRYGVASON - LENJ - H 0020B', 'STRAUMBAS - LIOD - R 0062K', 'LEINEBJØRN - LLRG - M 0003HØ', 'SÆVIKTRÅL - LHYA - R 0233K', 'ARTUS - LLGS - M 0079HØ', 'REMO - LDWS - VL0003FJ', 'STOREGG - LEIA - M 0095A', 'KAMILLA GRANDE - JWLM - N 0050Ø', 'ÅKERØY - LAXI - N 0300DA', 'SALVØY - LECG - R 0333K'}\n",
      "Number of VMS records: 21584\n",
      "VMS date: 2021-05-09 12:46:00 -> 2021-11-17 17:46:00\n",
      "Number of VMS records after initial time-filter:  21584\n"
     ]
    },
    {
     "name": "stderr",
     "output_type": "stream",
     "text": [
      "Filtering VMS records by ERS vessels: 100%|██████████| 497/497 [01:05<00:00,  7.61it/s]\n"
     ]
    },
    {
     "name": "stdout",
     "output_type": "stream",
     "text": [
      "Number of VMS records after filtering by ERS vessels: 66848\n",
      "497 unique vessels\n",
      "141 unique vessels\n",
      "Missing VMS vessels: {'NESEBUEN - LCFH - VA0086LS', 'ELVIRA III - LK3553 - R 0052K', 'SILDASKJÆR - LMMF - SF0001V', 'LIAHOLM - LMDJ - M 0071AV', 'MOSTEIN - LGBG - H 0221B', 'SHEIK - LLSO - VA0055S', 'SJØGLANS - LIZI - AG0014K', 'THEA ELISE - LIKQ - N 0530MS', 'SJONGLØR - LFEP - SF0051SU', 'SILLE MARIE - LCPE - R 0110ES', 'RINGBAS - LHRX - SF0006V', 'DYRNESVÅG - LGGM - M 0435SM', 'NORAFJELL - LLCX - N 0034LN', 'SJARMØR - LJZO - VL0184SU', 'SALVØY - LDQV - R 0005B', 'FRUHOLMEN - LHWO - H 0178AV', 'FISKEBANK - LEQI - M 0022SM', 'ARNØYFJORD - LLGB - NT0050NR', 'CETUS - JXML - R 0015K', 'HERØYFJORD - LAXI - M 0021HØ', 'ATLØYBUEN - JXSE - SF0033A', 'FLANDER - LKLA - H 0158B', 'INGVARDSON - LEIA - H 0095K', 'RAV - LMFZ - ST0008O', 'BERG SENIOR - LIQO - N 0005VR', 'HASTING - LLMP - SF0097B', 'BALLSTADØY - LFGX - N 0099VV', 'ØSTANGER - 3YDD - H 0148AV', 'TOJAKO - LIYG - M 0070AV', 'INGER HILDUR - LLRG - M 0103F', 'ÅKERØY - LDHM - N 0200DA', 'SENIOR - LAQD - N 0060B', 'SCOMBRUS JR - JXSF - R 0009H', 'VESTØY - LCSR - M 0064MD', 'FAGERVOLL - LCHL - M 0074A', 'STRAUMBERG - LDEF - N 0001LF', 'KVANNØY - LAQD - N 0060B', 'SLETTHOLMEN - LAVF - T 0110I', 'CAPRICE - LFGV - H 0313AV', 'STAALØY - 3YKA - H 0095AV', 'HAVSKJER - LLGA - M 0200A', 'ARNØYTIND - LGNJ - TF0008S', 'BUEFJORD - LJMF - SF0147A', 'MARIE - LMCW - M 0008M', 'EDNA SYNNØVE - LCGV - TR0018F', 'AUSTERFJORD - LJZO - H 0084AV', 'JULIANNE III - LCGQ - T 0021T', 'REMØY - LDSF - M 0099HØ', 'SKLINNABANKEN - LJQM - N 0250BR', 'GAMBLER - LELC - M 0192HØ', 'GOULD DOLLAR - LNHQ - SF0300A', 'SCOMBRUS - JXSF - R 0001H', 'ZENIT - LMWI - R 0111K', 'SLAATTERØY - LMMS - H 0010AV', 'ÅKERØY II - LAXI - N 0300DA', 'ROGNE - JXAY - N 0040LN', 'EINARSON - LMCE - T 0016LK', 'KVATRO - LJDJ - M 0055F', 'TORBAS - LFMP - SF0004V', 'KATHRIN G - LCCX - M 0001SJ', 'AMBASSADOR - LJBI - R 0126K', 'MORTEN EINAR - JWQU - H 0005AV', 'FRØYBAS - LLMQ - SF0075B', 'HOVDEN VIKING - JWLM - SF0004S', 'MIDØY VIKING - LCFQ - M 0100MD', 'KABA - 3YBZ - N 0303V', 'ODD LUNDBERG - LJRP - T 0111G', 'HAVSNURP - LCOE - M 0195HØ', 'BENJACO - 3YUG - VL0051K', 'SANDER ANDRE - LJBC - N 0066MS', 'KVANNØY - LMBE - N 0400B', 'GERD JULIE - LDXP - N 0400V', 'VIKANØY - LHTT - N 0210BØ', 'GUNNAR K - LJWW - SF0246A', 'REMØYBUEN - LLIQ - M 0009HØ', 'TROMSBAS - LAWQ - T 0009T', 'STOKKE SENIOR - JWQZ - M 0012U', 'NORAFJELL - JXAY - N 0134LN', 'SULEHAV - LJJZ - SF0001SU', 'JULIANNE III - LCGQ - N 0021LN', 'SKÅR SENIOR - LGGL - M 0200HØ', 'LIAFJELL - LLWB - H 0087F', 'SELVÅG - LJXW - N 0024ME', 'LØNNINGEN - LKLV - H 0020B', 'SVANAUG ELISE - LLRD - ST0019F', 'HILLERSØY - LMKD - SF0220A', 'GOLLENES - LHBM - M 0311HØ', 'VIKANØY - LLWH - N 0007BØ', 'SANDER ANDRE II - LNYZ - N 0250MS', 'TILJE - LICN - SF0082B', 'TRØNDERKARI - LLVN - NT0200V', 'HAVSNURP - LCOE - M 0195MD', 'B.M. DRIVENES - LM7682 - H 0223AV', 'VIKINGBANK - LLAS - R 0003K', 'SILLE MARIE - LHBQ - AG0002K', 'ARNØYFJORD - LMOV - NT0030NR', 'KNESTER - JWNI - H 0009AV', 'HAVFISK - LJTD - M 0520A', 'INGER HILDUR - LJUH - M 0101F', 'SPJÆRINGEN SENIOR - LLGB - Ø 0150H', 'JARLE BERG - JWLC - N 0045VR', 'LØNNØY JUNIOR - LIKL - H 0097B', 'BØMMELHAV - LJYE - H 0078B', 'GENESIS - LLGS - M 0077HØ', 'NORDERVEG - LGWK - H 0182AV', 'FISKESKJER - LJXG - M 0525H', 'STRAND SENIOR 2 - LJRS - M 0425H', 'ARNØYTIND - LJZH - T 0008S', 'ORDINAT - LJTD - H 0250AV', 'KINGSHOLM - LJNB - M 0033SJ', 'VÅRBUD - LM3369 - SF0016SU', 'STÅLRINGEN - LLGZ - N 0075DA', 'HARGO - LLAS - VL0063AV', 'BARHOLM - LIQO - VL0025ØN', 'SØRØYFISK - LJQQ - M 0020A', 'INGRID MAJALA - LAKF - F 0225M', 'STORSTEIN - LLMQ - TR0091AA', 'SELVÅG SENIOR - LGOQ - N 0001ME', 'ATLØY VIKING - LCGV - SF0008A', 'ORSKJÆR - LLVA - M 0174AV', 'MIRANDA - LDIW - N 0195V', 'VESTBAS - LJBC - M 0066HØ', 'TRØNDERHAV - LLJN - ST0030RS', 'GUNNAR K - LJWW - N 0246Ø', 'KNESTER - JWNI - N 0019DA', 'KROSSØY 1 - LNXT - VL0012BN', 'NORDSILD - LLRK - T 0008I', 'ROWENTA - LJBC - N 0666VV', 'DOGGI - LLIA - F 0014H', 'HERØYHAV - LJTD - M 0520HØ', 'GULARØY - LIQO - M 0005AV', 'RADEK - LIZI - VL0072AV', 'VENDLA - LJTP - H 0040AV', 'SIGLAR - LCIJ - H 0035F', 'KINGS BAY - LGWK - M 0021HØ', 'STORMFUGLEN - LIWS - M 0038AV', 'SKLINNABANKEN - LJQM - M 0050A', 'NYBO - LMFZ - M 0030M', 'STØTTFJORD - LMCE - N 0001ME', 'RAMOEN - LDNV - M 0001VD', 'ROGNE - JXAY - M 0004HØ', 'ØSTERBRIS 2 - LJME - H 0127AV', 'KROSSØY - LIZI - H 0034BN', 'KABA - 3YBZ - H 0033O', 'TORBAS - LLBT - SF0099V', 'BØEN - LHWW - R 0007SD', 'VESTFART - LKDQ - SF0005B', 'JØKUL - LALD - M 0108HØ', 'EINARSON - LLQX - T 0005LK', 'ORFJORD - LDAA - M 0058AV', 'BALLSTADØY - LLLI - N 0185VV', 'OLAGUTT - LLRW - N 0001SO', 'K.M. ØSTERVOLD - LHWW - H 0208AV', 'LIAVÅG - LDUX - M 0088AV', 'LISE-BEATE - LLYL - T 0100LK', 'LØNNINGEN - LALI - H 0200B', 'EROS - LIVA - M 0060HØ', 'BØEN - LJSY - R 0085ES', 'NOTBAS - LIYG - T 0010S', 'STEINEVIK - JWNI - H 0058AV', 'NORDERVEG - LGWK - VL0181AV', 'SKUDE SENIOR - LCGU - R 0196K', 'ORDINAT - LKLV - H 0090AV', 'RINGBAS - LHRX - M 0116HØ', 'RØDHOLMEN - LCMN - N 0118LN', 'BØMMELFJORD - LNXT - H 0083B', 'BRATTSKJÆR - LLLP - NT0345V', 'HARVEST - LLAS - H 0003AV', 'GANGSTAD - LGSR - M 0006MD', 'OCEAN - LGUP - M 0004A', 'LØNNØY - LLXE - H 0007B', 'BRATTSKJÆR - LDAA - NT0346V', 'ROWENTA - LLWF - N 0050MS', 'TOPAS - LHRX - M 0100G', 'ØSTANGER - 3YDD - H 0140AV', 'STRAUMBERG - LIOD - N 0002LF', 'FISKØY - LIOL - N 0067VV', 'INGER HILDUR - LLRG - M 0100F', 'VEAGUTT - LCFH - R 0001K', 'KRANSVIK JR - LLLI - N 0180V', 'SCOMBRUS - LMCH - R 0017H', 'SVANAVÅG - LALN - R 0003ES', 'HARALD JOHAN - JXAM - H 0012AV', 'HAVSNURP - LLBM - M 0095MD', 'MELØYPYNT - LK2103 - ST0002R', 'ROWENTA - LJBC - N 0066MS', 'NESEJENTA - LFWP - AG0001LS', 'KLARA B - LERB - N 0003MS', 'STOKKØY - JXGY - H 0098B', 'VOLDNES - LKUB - F 0080M', 'FYRHOLM - LKIB - H 0010B', 'HERMES - LLOP - F 0007L', 'MYNTEVIK - LHRI - R 0258K', 'BØMMELBAS - LHRE - H 0444B', 'TUNFISK - JWWM - H 0260K', 'TOPAS - JWLD - M 0124G', 'ISHAVET - 3YYB - M 0011A', 'ROGNE - JXAY - M 0042HØ', 'STEINSUND - LFJE - H 0227AV', 'SØRVIK - LCRI - ST0066F', 'LIAFJORD - LCOV - H 0003F', 'BUØY SR. - LK3243 - M 0089HØ', 'BALLSTADØY - LFGX - N 0003VV', 'VIKAFJORD - LJDJ - VL0033B', 'ENDRE DYRØY - LLNU - H 0015F', 'PETRELL - LLMQ - M 0200G', 'SLOTTSTEIN - LJDR - VL0225AV', 'MONSUN - LIUC - VA0041K', 'EMMA - LALD - M 0108MD', 'HAVFJORD - LGDF - VA0002S', 'ØKSNESVÆRING - LMCE - N 0160Ø', 'STARBEAM - LLAQ - M 0212H', 'HERØY - LIQW - M 0620HØ', 'KRANSVIK JR - LJDJ - N 0081V', 'NORDSØ - LFIZ - VA0097M', 'GLOMFJORD - LHBI - M 0370HØ', 'EMILIE H - LEAE - M 0090SJ', 'HAVSTRAND - LDBR - M 0525H', 'KREMMERVIK - 3YMI - H 0015AV', 'SKUDE SENIOR - LCGU - R 0004K', 'LURØYBAS - JWVR - N 0111L', 'JOHAN FEYER - LJYE - R 0004ES', 'HARDHAUS - LMBN - H 0120AV', 'REMO - LDWS - Ø 0005H', 'SKOMVÆRHAV - LJDJ - N 0081V', 'REBEKKA L - JXQO - VL0043KI', 'NYSTRAND - JWOC - N 0015RT', 'CETUS - LLYM - R 0094K', 'HAUGAGUT - LKUX - H 0050AV', 'LEIK - LLZF - R 0044K', 'SALVØY - LDQV - R 0012K', 'HAVGLANS - LCUZ - H 0005ØN', 'SVEBAS - LJTV - SF0008SU', 'ATLØY VIKING - LJDJ - SF0055A', 'QUO VADIS - LMDF - R 0086K', 'LANGENES - JXJU - M 0035A', 'ARNØYFJORD - LMCE - TR0030ND', 'ORFJORD - LGLX - M 0008AV', 'SVANAUG ELISE - LDAK - TR0119F', 'OLAGUTT - LLRW - N 0007SO', 'NYSKJER - LLMI - M 0515MD', 'FISKEBAS - LHWW - SF0208F', 'NORDSILD - LLRK - T 0018I', 'ÆSØYBUEN - LDUX - SF0008F', 'FLORA - LM9256 - M 0001S', 'MOSTEIN - LIBC - H 0569B', 'HUNTER - LCCZ - VA0002S', 'LIGRUNN - LACT - H 0001F', 'HUGØYBAS - LCNO - H 0032K', 'GARDAR - 3YBM - VL0024AV', 'HARMONI - LAKF - T 0079T', 'EINAR ERLEND - LLND - N 0045ME', 'SVANAUG ELISE - LLRD - M 0119HØ', 'GARDAR - LMOG - H 0011AV', 'SULEBAS - LHLX - SF0030SU', 'ATLØY VIKING - LHTT - SF0022A', 'E.H. SENIOR - LLLD - T 0300TK', 'RADEK - LAHA - H 0008AV', 'AMELIA - LM7682 - H 0223AV', 'GENESIS - LLGS - M 0079HØ', 'MAGNARSON - LMBX - H 0088AV', 'BERNT OSKAR - 3YCU - N 0020MS', 'LEINEBJØRN - LCOJ - M 0006HØ', 'SILDASKJÆR - LMMF - M 0260HØ', 'SMARAGD - LJXV - M 0064HØ', 'HAVSTÅL - LLNZ - M 0260A', 'MONSUN - LGPO - AG0003K', 'HAUGAGUT - LAQD - H 0050AV', 'KRANSVIK JR - LLQX - N 0006V', 'HAVBAS - LHWO - T 0071T', 'GUNNAR LANGVA - LMMC - M 0139A', 'SJOHAV - LLGI - H 0004K', 'VEIDING - LFPA - R 0069K', 'NORDSJØBAS - LHWW - M 0190HØ', 'VIBEKE HELENE - LLMQ - SF0001G', 'KATHRIN G - LCHJ - M 0020MD', 'VESTERVON - LLWG - SF0011A', 'REMO - LDWS - M 0012G', 'INGRID MAJALA - LCOE - TF0195M', 'HERØYFJORD - LMHM - M 0010HØ', 'STORVIG - LJCS - VA0081LS', 'ODD LUNDBERG - LLNZ - T 0260G', 'LIAFJORD - LGYF - VL0003ØN', 'VIKANØY - LFXX - N 0210BØ', 'ØSTERBRIS - LJME - H 0127AV', 'FYRHOLM - LGSR - H 0015B', 'ALBACORE - LADH - SF0018F', 'SVENSGAM - JXAY - N 0134LN', 'H. ØSTERVOLD - LMBX - H 0088AV', 'VICTORIA MAY - LEVV - M 0267G', 'SENIOR - LGYT - N 0200B', 'ANDREA L - LFMP - VL0004KI', 'SKARHOLMEN - LNQL - N 0001BØ', 'SLETTHOLMEN - LAVF - N 0110L', 'KVATRO - LJDJ - M 0052F', 'HAVRAND - LLWF - SF0040B', 'VESTBRIS - LMCW - SF0050G', 'EINARSON - LELQ - TF0244SE', 'BØEN - LJSY - R 0085SD', 'KANSTADFJORD - LIYY - N 0189LN', 'SKUDE - LNYH - R 0157K', 'MOSTEIN - JXUM - VL0778B', 'SILVER BAY - LIHW - H 0095B', 'GERDA MARIE - LAUP - H 0032AV', 'NORDERVEG - LLXW - H 0179AV', 'STRAND SENIOR - LJRS - M 0425H', 'ARNØYTIND SENIOR - LJZH - T 0008S', 'SJØGLANS - LIKQ - SF0002A', 'REMO - LDWS - H 0022FJ', 'NYSKJER - LFFG - M 0072MD', 'MALENE S - LCZQ - H 0128AV', 'SVANAVÅG - LALN - VA0078S', 'SKIPSHOLMEN - LJRS - H 0425AV', 'BØEN - 3YUG - R 0051SD', 'LIGRUNN II - JXXI - VL0145ØN', 'HARMONI - LAIJ - T 0074T', 'TRYGVASON - LNUN - H 0718B', 'VIBEKE HELENE - JWTU - SF0033G', 'HUGØYBAS - LCNO - H 0032B', 'VEA - LGGR - R 0030K', 'SKOLMEN - LJOB - N 0025VV', 'ORSKJÆR - LLVA - Ø 0003H', 'TRAAL - JXML - R 0015K', 'MELØYFJORD - 3YUG - N 0051ME', 'FLIPPER - LJTV - VL0050AV', 'ABELONE MØGSTER - 3YMI - H 0015AV', 'NORDERVON - LJGD - H 0181AV', 'MORTEN EINAR - LLNZ - H 0402AV', 'HÅFLU - LDQV - R 0005B', 'HAVSNURP - LHBV - M 0195M', 'HÅFLU - LGQK - R 0035B', 'KLONDYKE - LCCZ - M 0042A', 'LIBAS - LMQI - H 0005F', 'KAMØYFISK - LLDB - H 0180AV', 'SPRATTUS - LDFW - H 0018B', 'OLA RYGGEFJORD - JXUE - VL0180AV', 'SILLE MARIE - LCPE - VA0010S', 'GANGSTAD - LLAQ - M 0024MD', 'MIDØY VIKING - LGUP - M 0014MD', 'LISE BEATE - LDQN - TF0100SE', 'MYNTEVIK - LHRI - R 0058ES', 'SUNNY LADY - LGDZ - M 0120HØ', 'KYSTFISK - LMOV - SF0003V', 'SÆVIKSON - LCFI - M 0072HØ', 'GAMBLER - LELC - SF0006V', 'TRØNDERHAV - LJBI - ST0031RS', 'STRAUMBAS - LIOD - R 0062K', 'LEINEBJØRN - LLRG - M 0003HØ', 'SÆVIKTRÅL - LHYA - R 0233K', 'MOLNES - LNKS - M 0069G', 'ARTUS - LLGS - M 0079HØ', 'REMO - LDWS - VL0003FJ', 'STOREGG - LEIA - M 0095A', 'KAMILLA GRANDE - JWLM - N 0050Ø', 'ÅKERØY - LAXI - N 0300DA', 'SALVØY - LECG - R 0333K'}\n"
     ]
    },
    {
     "name": "stderr",
     "output_type": "stream",
     "text": [
      "/home/anna/msc_oppgave/fish-forecast/utilities.py:352: SettingWithCopyWarning: \n",
      "A value is trying to be set on a copy of a slice from a DataFrame.\n",
      "Try using .loc[row_indexer,col_indexer] = value instead\n",
      "\n",
      "See the caveats in the documentation: https://pandas.pydata.org/pandas-docs/stable/user_guide/indexing.html#returning-a-view-versus-a-copy\n",
      "  df_ers['Starttidspunkt'] = pd.to_datetime(df_ers['Starttidspunkt'], format='mixed', dayfirst=True)\n",
      "/home/anna/msc_oppgave/fish-forecast/utilities.py:353: SettingWithCopyWarning: \n",
      "A value is trying to be set on a copy of a slice from a DataFrame.\n",
      "Try using .loc[row_indexer,col_indexer] = value instead\n",
      "\n",
      "See the caveats in the documentation: https://pandas.pydata.org/pandas-docs/stable/user_guide/indexing.html#returning-a-view-versus-a-copy\n",
      "  df_ers['Stopptidspunkt'] = pd.to_datetime(df_ers['Stopptidspunkt'], format='mixed', dayfirst=True)\n"
     ]
    },
    {
     "name": "stdout",
     "output_type": "stream",
     "text": [
      "Number of VMS records: 115249\n",
      "VMS date: 2022-06-07 16:10:00 -> 2022-12-01 23:30:00\n",
      "Number of VMS records after initial time-filter:  115249\n"
     ]
    },
    {
     "name": "stderr",
     "output_type": "stream",
     "text": [
      "Filtering VMS records by ERS vessels: 100%|██████████| 497/497 [04:02<00:00,  2.05it/s]\n"
     ]
    },
    {
     "name": "stdout",
     "output_type": "stream",
     "text": [
      "Number of VMS records after filtering by ERS vessels: 217026\n",
      "497 unique vessels\n",
      "143 unique vessels\n",
      "Missing VMS vessels: {'NESEBUEN - LCFH - VA0086LS', 'ELVIRA III - LK3553 - R 0052K', 'SILDASKJÆR - LMMF - SF0001V', 'LIAHOLM - LMDJ - M 0071AV', 'SHEIK - LLSO - VA0055S', 'THEA ELISE - LIKQ - N 0530MS', 'SILLE MARIE - LCPE - R 0110ES', 'RINGBAS - LHRX - SF0006V', 'DYRNESVÅG - LGGM - M 0435SM', 'NORAFJELL - LLCX - N 0034LN', 'SALVØY - LDQV - R 0005B', 'FRUHOLMEN - LHWO - H 0178AV', 'HAVFISK - LLGA - M 0200A', 'FISKEBANK - LEQI - M 0022SM', 'ARNØYFJORD - LLGB - NT0050NR', 'CETUS - JXML - R 0015K', 'HERØYFJORD - LAXI - M 0021HØ', 'EMMA - LCSR - M 0064MD', 'ATLØYBUEN - JXSE - SF0033A', 'FLANDER - LKLA - H 0158B', 'INGVARDSON - LEIA - H 0095K', 'RAV - LMFZ - ST0008O', 'JØKUL - LALD - M 0108MD', 'BERG SENIOR - LIQO - N 0005VR', 'HASTING - LLMP - SF0097B', 'BALLSTADØY - LFGX - N 0099VV', 'ØSTANGER - 3YDD - H 0148AV', 'TOJAKO - LIYG - M 0070AV', 'INGER HILDUR - LLRG - M 0103F', 'ÅKERØY - LDHM - N 0200DA', 'SENIOR - LAQD - N 0060B', 'SCOMBRUS JR - JXSF - R 0009H', 'FAGERVOLL - LCHL - M 0074A', 'STRAUMBERG - LDEF - N 0001LF', 'KVANNØY - LAQD - N 0060B', 'SLETTHOLMEN - LAVF - T 0110I', 'CAPRICE - LFGV - H 0313AV', 'STAALØY - 3YKA - H 0095AV', 'HAVSKJER - LLGA - M 0200A', 'ARNØYTIND - LGNJ - TF0008S', 'BUEFJORD - LJMF - SF0147A', 'MARIE - LMCW - M 0008M', 'EDNA SYNNØVE - LCGV - TR0018F', 'AUSTERFJORD - LJZO - H 0084AV', 'JULIANNE III - LCGQ - T 0021T', 'REMØY - LDSF - M 0099HØ', 'SKLINNABANKEN - LJQM - N 0250BR', 'GAMBLER - LELC - M 0192HØ', 'GOULD DOLLAR - LNHQ - SF0300A', 'SCOMBRUS - JXSF - R 0001H', 'ZENIT - LMWI - R 0111K', 'SLAATTERØY - LMMS - H 0010AV', 'ÅKERØY II - LAXI - N 0300DA', 'ROGNE - JXAY - N 0040LN', 'EINARSON - LMCE - T 0016LK', 'SYDVEST - LLAS - VL0053AV', 'KVATRO - LJDJ - M 0055F', 'TORBAS - LFMP - SF0004V', 'KATHRIN G - LCCX - M 0001SJ', 'AMBASSADOR - LJBI - R 0126K', 'MORTEN EINAR - JWQU - H 0005AV', 'FRØYBAS - LLMQ - SF0075B', 'HOVDEN VIKING - JWLM - SF0004S', 'MIDØY VIKING - LCFQ - M 0100MD', 'KABA - 3YBZ - N 0303V', 'KNESTER - JWNI - H 0058AV', 'ODD LUNDBERG - LJRP - T 0111G', 'HAVSNURP - LCOE - M 0195HØ', 'BENJACO - 3YUG - VL0051K', 'SANDER ANDRE - LJBC - N 0066MS', 'KVANNØY - LMBE - N 0400B', 'GERD JULIE - LDXP - N 0400V', 'VIKANØY - LHTT - N 0210BØ', 'GUNNAR K - LJWW - SF0246A', 'REMØYBUEN - LLIQ - M 0009HØ', 'TOBIS - LFOB - H 0101AV', 'TROMSBAS - LAWQ - T 0009T', 'STOKKE SENIOR - JWQZ - M 0012U', 'NORAFJELL - JXAY - N 0134LN', 'SULEHAV - LJJZ - SF0001SU', 'JULIANNE III - LCGQ - N 0021LN', 'LIAFJELL - LLWB - H 0087F', 'SELVÅG - LJXW - N 0024ME', 'LØNNINGEN - LKLV - H 0020B', 'SVANAUG ELISE - LLRD - ST0019F', 'HILLERSØY - LMKD - SF0220A', 'GOLLENES - LHBM - M 0311HØ', 'VIKANØY - LLWH - N 0007BØ', 'SANDER ANDRE II - LNYZ - N 0250MS', 'TILJE - LICN - SF0082B', 'TRØNDERKARI - LLVN - NT0200V', 'HAVSNURP - LCOE - M 0195MD', 'B.M. DRIVENES - LM7682 - H 0223AV', 'VIKINGBANK - LLAS - R 0003K', 'SILLE MARIE - LHBQ - AG0002K', 'KNESTER - JWNI - H 0009AV', 'HAVFISK - LJTD - M 0520A', 'INGER HILDUR - LJUH - M 0101F', 'SPJÆRINGEN SENIOR - LLGB - Ø 0150H', 'JARLE BERG - JWLC - N 0045VR', 'LØNNØY JUNIOR - LIKL - H 0097B', 'BØMMELHAV - LJYE - H 0078B', 'GENESIS - LLGS - M 0077HØ', 'NORDERVEG - LGWK - H 0182AV', 'FISKESKJER - LJXG - M 0525H', 'STRAND SENIOR 2 - LJRS - M 0425H', 'ARNØYTIND - LJZH - T 0008S', 'ORDINAT - LJTD - H 0250AV', 'KINGSHOLM - LJNB - M 0033SJ', 'VÅRBUD - LM3369 - SF0016SU', 'STÅLRINGEN - LLGZ - N 0075DA', 'BARHOLM - LIQO - VL0025ØN', 'SØRØYFISK - LJQQ - M 0020A', 'INGRID MAJALA - LAKF - F 0225M', 'STORSTEIN - LLMQ - TR0091AA', 'SELVÅG SENIOR - LGOQ - N 0001ME', 'ATLØY VIKING - LCGV - SF0008A', 'ORSKJÆR - LLVA - M 0174AV', 'MIRANDA - LDIW - N 0195V', 'VESTBAS - LJBC - M 0066HØ', 'TRØNDERHAV - LLJN - ST0030RS', 'GUNNAR K - LJWW - N 0246Ø', 'KNESTER - JWNI - N 0019DA', 'HELLEVIG 1 - LEUM - VA0330S', 'KROSSØY 1 - LNXT - VL0012BN', 'NORDSILD - LLRK - T 0008I', 'ROWENTA - LJBC - N 0666VV', 'VESTVIKING - JXAM - H 0012AV', 'DOGGI - LLIA - F 0014H', 'HERØYHAV - LJTD - M 0520HØ', 'GULARØY - LIQO - M 0005AV', 'RADEK - LIZI - VL0072AV', 'VENDLA - LJTP - H 0040AV', 'SIGLAR - LCIJ - H 0035F', 'KINGS BAY - LGWK - M 0021HØ', 'EDNA SYNNØVE - LJNB - ST0018F', 'STORMFUGLEN - LIWS - M 0038AV', 'SKLINNABANKEN - LJQM - M 0050A', 'RØDHOLMEN - LCMN - VN0118B', 'STØTTFJORD - LMCE - N 0001ME', 'RAMOEN - LDNV - M 0001VD', 'ROGNE - JXAY - M 0004HØ', 'ØSTERBRIS 2 - LJME - H 0127AV', 'KROSSØY - LIZI - H 0034BN', 'KABA - 3YBZ - H 0033O', 'TORBAS - LLBT - SF0099V', 'BØEN - LHWW - R 0007SD', 'INGRID MAJALA - LJZO - F 0184M', 'VESTFART - LKDQ - SF0005B', 'JØKUL - LALD - M 0108HØ', 'EINARSON - LLQX - T 0005LK', 'FRANTSEN JUNIOR - LJDR - T 0025I', 'ORFJORD - LDAA - M 0058AV', 'BALLSTADØY - LLLI - N 0185VV', 'OLAGUTT - LLRW - N 0001SO', 'K.M. ØSTERVOLD - LHWW - H 0208AV', 'LIAVÅG - LDUX - M 0088AV', 'LISE-BEATE - LLYL - T 0100LK', 'LØNNINGEN - LALI - H 0200B', 'EROS - LIVA - M 0060HØ', 'BØEN - LJSY - R 0085ES', 'NOTBAS - LIYG - T 0010S', 'NORDERVEG - LGWK - VL0181AV', 'SKUDE SENIOR - LCGU - R 0196K', 'ORDINAT - LKLV - H 0090AV', 'RINGBAS - LHRX - M 0116HØ', 'BØMMELFJORD - LNXT - H 0083B', 'BRATTSKJÆR - LLLP - NT0345V', 'HARVEST - LLAS - H 0003AV', 'GANGSTAD - LGSR - M 0006MD', 'OCEAN - LGUP - M 0004A', 'LØNNØY - LLXE - H 0007B', 'BRATTSKJÆR - LDAA - NT0346V', 'ROWENTA - LLWF - N 0050MS', 'TOPAS - LHRX - M 0100G', 'ØSTANGER - 3YDD - H 0140AV', 'STRAUMBERG - LIOD - N 0002LF', 'GARDAR - LKWZ - H 0034AV', 'FISKØY - LIOL - N 0067VV', 'INGER HILDUR - LLRG - M 0100F', 'VEAGUTT - LCFH - R 0001K', 'KRANSVIK JR - LLLI - N 0180V', 'SCOMBRUS - LMCH - R 0017H', 'SVANAVÅG - LALN - R 0003ES', 'HAVSNURP - LLBM - M 0095MD', 'MELØYPYNT - LK2103 - ST0002R', 'ROWENTA - LJBC - N 0066MS', 'KLARA B - LERB - N 0003MS', 'STOKKØY - JXGY - H 0098B', 'VOLDNES - LKUB - F 0080M', 'FYRHOLM - LKIB - H 0010B', 'HERMES - LLOP - F 0007L', 'MYNTEVIK - LHRI - R 0258K', 'BØMMELBAS - LHRE - H 0444B', 'TUNFISK - JWWM - H 0260K', 'TOPAS - JWLD - M 0124G', 'ISHAVET - 3YYB - M 0011A', 'TOPAS - LJQM - M 0007G', 'ROGNE - JXAY - M 0042HØ', 'SJØGLANS - LIZI - SF0008A', 'STEINSUND - LFJE - H 0227AV', 'SØRVIK - LCRI - ST0066F', 'LIAFJORD - LCOV - H 0003F', 'BUØY SR. - LK3243 - M 0089HØ', 'BALLSTADØY - LFGX - N 0003VV', 'GOLLENES - LCOH - M 0031HØ', 'VIKAFJORD - LJDJ - VL0033B', 'ENDRE DYRØY - LLNU - H 0015F', 'MONSUN - LIUC - VA0041K', 'HAVFJORD - LGDF - VA0002S', 'ØKSNESVÆRING - LMCE - N 0160Ø', 'STARBEAM - LLAQ - M 0212H', 'HERØY - LIQW - M 0620HØ', 'KRANSVIK JR - LJDJ - N 0081V', 'NORDSØ - LFIZ - VA0097M', 'GLOMFJORD - LHBI - M 0370HØ', 'EMILIE H - LEAE - M 0090SJ', 'HAVSTRAND - LDBR - M 0525H', 'KREMMERVIK - 3YMI - H 0015AV', 'STEINEVIK - LAQD - VL0167AV', 'SKUDE SENIOR - LCGU - R 0004K', 'LURØYBAS - JWVR - N 0111L', 'JOHAN FEYER - LJYE - R 0004ES', 'HARDHAUS - LMBN - H 0120AV', 'REMO - LDWS - Ø 0005H', 'SKOMVÆRHAV - LJDJ - N 0081V', 'REBEKKA L - JXQO - VL0043KI', 'NYSTRAND - JWOC - N 0015RT', 'CETUS - LLYM - R 0094K', 'HAUGAGUT - LKUX - H 0050AV', 'VESTERHAV - LDQN - SF0001A', 'LEIK - LLZF - R 0044K', 'SJARMØR - LCGM - SF0017SU', 'SALVØY - LDQV - R 0012K', 'SVEBAS - LJTV - SF0008SU', 'ATLØY VIKING - LJDJ - SF0055A', 'QUO VADIS - LMDF - R 0086K', 'LANGENES - JXJU - M 0035A', 'ARNØYFJORD - LMCE - TR0030ND', 'ORFJORD - LGLX - M 0008AV', 'SVANAUG ELISE - LDAK - TR0119F', 'NYSKJER - LLMI - M 0515MD', 'FISKEBAS - LHWW - SF0208F', 'NORDSILD - LLRK - T 0018I', 'ÆSØYBUEN - LDUX - SF0008F', 'FLORA - LM9256 - M 0001S', 'MOSTEIN - LIBC - H 0569B', 'HUNTER - LCCZ - VA0002S', 'LIGRUNN - LACT - H 0001F', 'HUGØYBAS - LCNO - H 0032K', 'GARDAR - 3YBM - VL0024AV', 'HARMONI - LAKF - T 0079T', 'EINAR ERLEND - LLND - N 0045ME', 'SVANAUG ELISE - LLRD - M 0119HØ', 'GARDAR - LMOG - H 0011AV', 'SULEBAS - LHLX - SF0030SU', 'ATLØY VIKING - LHTT - SF0022A', 'E.H. SENIOR - LLLD - T 0300TK', 'RADEK - LAHA - H 0008AV', 'AMELIA - LM7682 - H 0223AV', 'GENESIS - LLGS - M 0079HØ', 'MAGNARSON - LMBX - H 0088AV', 'BERNT OSKAR - 3YCU - N 0020MS', 'LEINEBJØRN - LCOJ - M 0006HØ', 'NYBO - LJBD - M 0056MD', 'SILDASKJÆR - LMMF - M 0260HØ', 'SMARAGD - LJXV - M 0064HØ', 'HAVSNURP - LCOE - M 0095MD', 'HAVSTÅL - LLNZ - M 0260A', 'HAUGAGUT - LAQD - H 0050AV', 'KRANSVIK JR - LLQX - N 0006V', 'HAVBAS - LHWO - T 0071T', 'GUNNAR LANGVA - LMMC - M 0139A', 'SJOHAV - LLGI - H 0004K', 'VEIDING - LFPA - R 0069K', 'NORDSJØBAS - LHWW - M 0190HØ', 'VIBEKE HELENE - LLMQ - SF0001G', 'KATHRIN G - LCHJ - M 0020MD', 'VESTERVON - LLWG - SF0011A', 'REMO - LDWS - M 0012G', 'HERØYFJORD - LMHM - M 0010HØ', 'STORVIG - LJCS - VA0081LS', 'ODD LUNDBERG - LLNZ - T 0260G', 'LIAFJORD - LGYF - VL0003ØN', 'ØSTERBRIS - LJME - H 0127AV', 'ALBACORE - LADH - SF0018F', 'VEA - LMMJ - R 0007K', 'SVENSGAM - JXAY - N 0134LN', 'H. ØSTERVOLD - LMBX - H 0088AV', 'VICTORIA MAY - LEVV - M 0267G', 'SENIOR - LGYT - N 0200B', 'ANDREA L - LFMP - VL0004KI', 'SKARHOLMEN - LNQL - N 0001BØ', 'SLETTHOLMEN - LAVF - N 0110L', 'KVATRO - LJDJ - M 0052F', 'HAVRAND - LLWF - SF0040B', 'VESTBRIS - LMCW - SF0050G', 'EINARSON - LELQ - TF0244SE', 'BØEN - LJSY - R 0085SD', 'VIBEKE HELENE - LLMQ - R 0106K', 'KANSTADFJORD - LIYY - N 0189LN', 'SKUDE - LNYH - R 0157K', 'MOSTEIN - JXUM - VL0778B', 'GERDA MARIE - LAUP - H 0032AV', 'NORDERVEG - LLXW - H 0179AV', 'STRAND SENIOR - LJRS - M 0425H', 'ARNØYTIND SENIOR - LJZH - T 0008S', 'SJØGLANS - LIKQ - SF0002A', 'REMO - LDWS - H 0022FJ', 'NYSKJER - LFFG - M 0072MD', 'MALENE S - LCZQ - H 0128AV', 'SVANAVÅG - LALN - VA0078S', 'SKIPSHOLMEN - LJRS - H 0425AV', 'LIGRUNN II - JXXI - VL0145ØN', 'HARMONI - LAIJ - T 0074T', 'HÅFLU - LEQI - R 0022B', 'TRYGVASON - LNUN - H 0718B', 'VIBEKE HELENE - JWTU - SF0033G', 'HUGØYBAS - LCNO - H 0032B', 'VEA - LGGR - R 0030K', 'ORSKJÆR - LLVA - Ø 0003H', 'TRAAL - JXML - R 0015K', 'MELØYFJORD - 3YUG - N 0051ME', 'RADEK - LNXT - H 0002AV', 'ABELONE MØGSTER - 3YMI - H 0015AV', 'NORDERVON - LJGD - H 0181AV', 'MORTEN EINAR - LLNZ - H 0402AV', 'HÅFLU - LDQV - R 0005B', 'HAVSNURP - LHBV - M 0195M', 'HÅFLU - LGQK - R 0035B', 'KLONDYKE - LCCZ - M 0042A', 'LIBAS - LMQI - H 0005F', 'KAMØYFISK - LLDB - H 0180AV', 'SPRATTUS - LDFW - H 0018B', 'OLA RYGGEFJORD - JXUE - VL0180AV', 'SILLE MARIE - LCPE - VA0010S', 'GANGSTAD - LLAQ - M 0024MD', 'MIDØY VIKING - LGUP - M 0014MD', 'MYNTEVIK - LHRI - R 0058ES', 'SUNNY LADY - LGDZ - M 0120HØ', 'KYSTFISK - LMOV - SF0003V', 'SÆVIKSON - LCFI - M 0072HØ', 'GAMBLER - LELC - SF0006V', 'TRØNDERHAV - LJBI - ST0031RS', 'STRAUMBAS - LIOD - R 0062K', 'LEINEBJØRN - LLRG - M 0003HØ', 'SÆVIKTRÅL - LHYA - R 0233K', 'MOLNES - LNKS - M 0069G', 'ARTUS - LLGS - M 0079HØ', 'REMO - LDWS - VL0003FJ', 'STOREGG - LEIA - M 0095A', 'KAMILLA GRANDE - JWLM - N 0050Ø', 'ÅKERØY - LAXI - N 0300DA', 'SALVØY - LECG - R 0333K'}\n"
     ]
    },
    {
     "name": "stderr",
     "output_type": "stream",
     "text": [
      "/home/anna/msc_oppgave/fish-forecast/utilities.py:352: SettingWithCopyWarning: \n",
      "A value is trying to be set on a copy of a slice from a DataFrame.\n",
      "Try using .loc[row_indexer,col_indexer] = value instead\n",
      "\n",
      "See the caveats in the documentation: https://pandas.pydata.org/pandas-docs/stable/user_guide/indexing.html#returning-a-view-versus-a-copy\n",
      "  df_ers['Starttidspunkt'] = pd.to_datetime(df_ers['Starttidspunkt'], format='mixed', dayfirst=True)\n",
      "/home/anna/msc_oppgave/fish-forecast/utilities.py:353: SettingWithCopyWarning: \n",
      "A value is trying to be set on a copy of a slice from a DataFrame.\n",
      "Try using .loc[row_indexer,col_indexer] = value instead\n",
      "\n",
      "See the caveats in the documentation: https://pandas.pydata.org/pandas-docs/stable/user_guide/indexing.html#returning-a-view-versus-a-copy\n",
      "  df_ers['Stopptidspunkt'] = pd.to_datetime(df_ers['Stopptidspunkt'], format='mixed', dayfirst=True)\n"
     ]
    },
    {
     "name": "stdout",
     "output_type": "stream",
     "text": [
      "Number of VMS records: 85015\n",
      "VMS date: 2023-04-16 06:29:00 -> 2023-12-11 15:40:00\n",
      "Number of VMS records after initial time-filter:  85015\n"
     ]
    },
    {
     "name": "stderr",
     "output_type": "stream",
     "text": [
      "Filtering VMS records by ERS vessels: 100%|██████████| 497/497 [03:19<00:00,  2.49it/s]\n"
     ]
    },
    {
     "name": "stdout",
     "output_type": "stream",
     "text": [
      "Number of VMS records after filtering by ERS vessels: 280408\n",
      "497 unique vessels\n",
      "146 unique vessels\n",
      "Missing VMS vessels: {'NESEBUEN - LCFH - VA0086LS', 'ELVIRA III - LK3553 - R 0052K', 'SILDASKJÆR - LMMF - SF0001V', 'LIAHOLM - LMDJ - M 0071AV', 'MOSTEIN - LGBG - H 0221B', 'SHEIK - LLSO - VA0055S', 'SJONGLØR - LFEP - SF0051SU', 'SILLE MARIE - LCPE - R 0110ES', 'RINGBAS - LHRX - SF0006V', 'DYRNESVÅG - LGGM - M 0435SM', 'VESTBAS - LHRX - M 0116HØ', 'NORAFJELL - LLCX - N 0034LN', 'SALVØY - LDQV - R 0005B', 'FRUHOLMEN - LHWO - H 0178AV', 'HAVFISK - LLGA - M 0200A', 'FISKEBANK - LEQI - M 0022SM', 'ARNØYFJORD - LLGB - NT0050NR', 'CETUS - JXML - R 0015K', 'HERØYFJORD - LAXI - M 0021HØ', 'EMMA - LCSR - M 0064MD', 'ATLØYBUEN - JXSE - SF0033A', 'FLANDER - LKLA - H 0158B', 'STØTTFJORD - LDXP - N 0100B', 'INGVARDSON - LEIA - H 0095K', 'RAV - LMFZ - ST0008O', 'JØKUL - LALD - M 0108MD', 'BERG SENIOR - LIQO - N 0005VR', 'HASTING - LLMP - SF0097B', 'BALLSTADØY - LFGX - N 0099VV', 'ØSTANGER - 3YDD - H 0148AV', 'TOJAKO - LIYG - M 0070AV', 'INGER HILDUR - LLRG - M 0103F', 'ÅKERØY - LDHM - N 0200DA', 'SENIOR - LAQD - N 0060B', 'SCOMBRUS JR - JXSF - R 0009H', 'VESTØY - LCSR - M 0064MD', 'FAGERVOLL - LCHL - M 0074A', 'STRAUMBERG - LDEF - N 0001LF', 'KVANNØY - LAQD - N 0060B', 'SLETTHOLMEN - LAVF - T 0110I', 'STAALØY - 3YKA - H 0095AV', 'HAVSKJER - LLGA - M 0200A', 'BUEFJORD - LJMF - SF0147A', 'EDNA SYNNØVE - LCGV - TR0018F', 'AUSTERFJORD - LJZO - H 0084AV', 'JULIANNE III - LCGQ - T 0021T', 'SKLINNABANKEN - LJQM - N 0250BR', 'GAMBLER - LELC - M 0192HØ', 'GOULD DOLLAR - LNHQ - SF0300A', 'SCOMBRUS - JXSF - R 0001H', 'ZENIT - LMWI - R 0111K', 'SLAATTERØY - LMMS - H 0010AV', 'ÅKERØY II - LAXI - N 0300DA', 'ROGNE - JXAY - N 0040LN', 'EINARSON - LMCE - T 0016LK', 'ANDREA L - LHWW - SF0001V', 'GAMBLER - LELC - SF0046V', 'SYDVEST - LLAS - VL0053AV', 'KVATRO - LJDJ - M 0055F', 'TORBAS - LFMP - SF0004V', 'KATHRIN G - LCCX - M 0001SJ', 'AMBASSADOR - LJBI - R 0126K', 'MORTEN EINAR - JWQU - H 0005AV', 'FRØYBAS - LLMQ - SF0075B', 'HOVDEN VIKING - JWLM - SF0004S', 'MIDØY VIKING - LCFQ - M 0100MD', 'KABA - 3YBZ - N 0303V', 'KNESTER - JWNI - H 0058AV', 'ODD LUNDBERG - LJRP - T 0111G', 'HAVSNURP - LCOE - M 0195HØ', 'SANDER ANDRE - LJBC - N 0066MS', 'KVANNØY - LMBE - N 0400B', 'VIKANØY - LHTT - N 0210BØ', 'GUNNAR K - LJWW - SF0246A', 'REMØYBUEN - LLIQ - M 0009HØ', 'TOBIS - LFOB - H 0101AV', 'TROMSBAS - LAWQ - T 0009T', 'STOKKE SENIOR - JWQZ - M 0012U', 'NORAFJELL - JXAY - N 0134LN', 'SULEHAV - LJJZ - SF0001SU', 'JULIANNE III - LCGQ - N 0021LN', 'LIAFJELL - LLWB - H 0087F', 'SELVÅG SENIOR - LJXW - N 0024ME', 'LØNNINGEN - LKLV - H 0020B', 'SVANAUG ELISE - LLRD - ST0019F', 'HILLERSØY - LMKD - SF0220A', 'VIKANØY - LLWH - N 0007BØ', 'SANDER ANDRE II - LNYZ - N 0250MS', 'TILJE - LICN - SF0082B', 'TRØNDERKARI - LLVN - NT0200V', 'HAVSNURP - LCOE - M 0195MD', 'B.M. DRIVENES - LM7682 - H 0223AV', 'VIKINGBANK - LLAS - R 0003K', 'ARNØYFJORD - LMOV - NT0030NR', 'KNESTER - JWNI - H 0009AV', 'HAVFISK - LJTD - M 0520A', 'INGER HILDUR - LJUH - M 0101F', 'SPJÆRINGEN SENIOR - LLGB - Ø 0150H', 'JARLE BERG - JWLC - N 0045VR', 'LØNNØY JUNIOR - LIKL - H 0097B', 'BØMMELHAV - LJYE - H 0078B', 'GENESIS - LLGS - M 0077HØ', 'NORDERVEG - LGWK - H 0182AV', 'FISKESKJER - LJXG - M 0525H', 'STRAND SENIOR 2 - LJRS - M 0425H', 'ARNØYTIND - LJZH - T 0008S', 'ORDINAT - LJTD - H 0250AV', 'KINGSHOLM - LJNB - M 0033SJ', 'VÅRBUD - LM3369 - SF0016SU', 'STÅLRINGEN - LLGZ - N 0075DA', 'BARHOLM - LIQO - VL0025ØN', 'SKARHOLMEN - LIKQ - N 0053BØ', 'SØRØYFISK - LJQQ - M 0020A', 'INGRID MAJALA - LAKF - F 0225M', 'ATLØY VIKING - LCGV - SF0008A', 'MIRANDA - LDIW - N 0195V', 'VESTBAS - LJBC - M 0066HØ', 'TRØNDERHAV - LLJN - ST0030RS', 'GUNNAR K - LJWW - N 0246Ø', 'KNESTER - JWNI - N 0019DA', 'HELLEVIG 1 - LEUM - VA0330S', 'KROSSØY 1 - LNXT - VL0012BN', 'NORDSILD - LLRK - T 0008I', 'ROWENTA - LJBC - N 0666VV', 'VESTVIKING - JXAM - H 0012AV', 'DOGGI - LLIA - F 0014H', 'HERØYHAV - LJTD - M 0520HØ', 'GULARØY - LIQO - M 0005AV', 'RADEK - LIZI - VL0072AV', 'VENDLA - LJTP - H 0040AV', 'SIGLAR - LCIJ - H 0035F', 'KINGS BAY - LGWK - M 0021HØ', 'EDNA SYNNØVE - LJNB - ST0018F', 'STORMFUGLEN - LIWS - M 0038AV', 'SKLINNABANKEN - LJQM - M 0050A', 'RØDHOLMEN - LCMN - VN0118B', 'STØTTFJORD - LMCE - N 0001ME', 'RAMOEN - LDNV - M 0001VD', 'ROGNE - JXAY - M 0004HØ', 'ØSTERBRIS 2 - LJME - H 0127AV', 'KROSSØY - LIZI - H 0034BN', 'KABA - 3YBZ - H 0033O', 'TORBAS - LLBT - SF0099V', 'SANDER ANDRE - LELQ - N 0244MS', 'INGRID MAJALA - LJZO - F 0184M', 'VESTFART - LKDQ - SF0005B', 'JØKUL - LALD - M 0108HØ', 'EINARSON - LLQX - T 0005LK', 'FRANTSEN JUNIOR - LJDR - T 0025I', 'ORFJORD - LDAA - M 0058AV', 'BALLSTADØY - LLLI - N 0185VV', 'OLAGUTT - LLRW - N 0001SO', 'K.M. ØSTERVOLD - LHWW - H 0208AV', 'LIAVÅG - LDUX - M 0088AV', 'LISE-BEATE - LLYL - T 0100LK', 'LØNNINGEN - LALI - H 0200B', 'EROS - LIVA - M 0060HØ', 'BØEN - LJSY - R 0085ES', 'NOTBAS - LIYG - T 0010S', 'SKUDE SENIOR - LCGU - R 0196K', 'ORDINAT - LKLV - H 0090AV', 'RINGBAS - LHRX - M 0116HØ', 'BØMMELFJORD - LNXT - H 0083B', 'BRATTSKJÆR - LLLP - NT0345V', 'HARVEST - LLAS - H 0003AV', 'GANGSTAD - LGSR - M 0006MD', 'MOSTEIN 1 - LGBG - H 0221B', 'OCEAN - LGUP - M 0004A', 'LØNNØY - LLXE - H 0007B', 'BRATTSKJÆR - LDAA - NT0346V', 'ROWENTA - LLWF - N 0050MS', 'ØSTANGER - 3YDD - H 0140AV', 'STRAUMBERG - LIOD - N 0002LF', 'GARDAR - LKWZ - H 0034AV', 'FISKØY - LIOL - N 0067VV', 'INGER HILDUR - LLRG - M 0100F', 'VEAGUTT - LCFH - R 0001K', 'KRANSVIK JR - LLLI - N 0180V', 'PAUL SENIOR - LLVA - M 0174AV', 'SCOMBRUS - LMCH - R 0017H', 'SVANAVÅG - LALN - R 0003ES', 'HAVSNURP - LLBM - M 0095MD', 'MELØYPYNT - LK2103 - ST0002R', 'ROWENTA - LJBC - N 0066MS', 'NESEJENTA - LFWP - AG0001LS', 'KLARA B - LERB - N 0003MS', 'STOKKØY - JXGY - H 0098B', 'VOLDNES - LKUB - F 0080M', 'FYRHOLM - LKIB - H 0010B', 'HERMES - LLOP - F 0007L', 'MYNTEVIK - LHRI - R 0258K', 'BØMMELBAS - LHRE - H 0444B', 'TUNFISK - JWWM - H 0260K', 'TOPAS - JWLD - M 0124G', 'ISHAVET - 3YYB - M 0011A', 'TOPAS - LJQM - M 0007G', 'ROGNE - JXAY - M 0042HØ', 'SJØGLANS - LIZI - SF0008A', 'STEINSUND - LFJE - H 0227AV', 'SØRVIK - LCRI - ST0066F', 'LIAFJORD - LCOV - H 0003F', 'BUØY SR. - LK3243 - M 0089HØ', 'BALLSTADØY - LFGX - N 0003VV', 'GOLLENES - LCOH - M 0031HØ', 'VIKAFJORD - LJDJ - VL0033B', 'ENDRE DYRØY - LLNU - H 0015F', 'PETRELL - LLMQ - M 0200G', 'SLOTTSTEIN - LJDR - VL0225AV', 'MONSUN - LIUC - VA0041K', 'HAVFJORD - LGDF - VA0002S', 'ØKSNESVÆRING - LMCE - N 0160Ø', 'STARBEAM - LLAQ - M 0212H', 'HERØY - LIQW - M 0620HØ', 'KRANSVIK JR - LJDJ - N 0081V', 'NORDSØ - LFIZ - VA0097M', 'GLOMFJORD - LHBI - M 0370HØ', 'EMILIE H - LEAE - M 0090SJ', 'HAVSTRAND - LDBR - M 0525H', 'KREMMERVIK - 3YMI - H 0015AV', 'STEINEVIK - LAQD - VL0167AV', 'SKUDE SENIOR - LCGU - R 0004K', 'LURØYBAS - JWVR - N 0111L', 'JOHAN FEYER - LJYE - R 0004ES', 'HARDHAUS - LMBN - H 0120AV', 'REMO - LDWS - Ø 0005H', 'REBEKKA L - JXQO - VL0043KI', 'NYSTRAND - JWOC - N 0015RT', 'CETUS - LLYM - R 0094K', 'HAUGAGUT - LKUX - H 0050AV', 'VESTERHAV - LDQN - SF0001A', 'LEIK - LLZF - R 0044K', 'SJARMØR - LCGM - SF0017SU', 'SALVØY - LDQV - R 0012K', 'SVEBAS - LJTV - SF0008SU', 'ATLØY VIKING - LJDJ - SF0055A', 'QUO VADIS - LMDF - R 0086K', 'ORFJORD - LGLX - M 0008AV', 'SVANAUG ELISE - LDAK - TR0119F', 'OLAGUTT - LLRW - N 0007SO', 'NYSKJER - LLMI - M 0515MD', 'FISKEBAS - LHWW - SF0208F', 'NORDSILD - LLRK - T 0018I', 'ÆSØYBUEN - LDUX - SF0008F', 'FLORA - LM9256 - M 0001S', 'MOSTEIN - LIBC - H 0569B', 'HUNTER - LCCZ - VA0002S', 'LIGRUNN - LACT - H 0001F', 'HUGØYBAS - LCNO - H 0032K', 'GARDAR - 3YBM - VL0024AV', 'BENJACO - LNYZ - H 0051K', 'HARMONI - LAKF - T 0079T', 'EINAR ERLEND - LLND - N 0045ME', 'SVANAUG ELISE - LLRD - M 0119HØ', 'GARDAR - LMOG - H 0011AV', 'SULEBAS - LHLX - SF0030SU', 'ATLØY VIKING - LHTT - SF0022A', 'E.H. SENIOR - LLLD - T 0300TK', 'RADEK - LAHA - H 0008AV', 'AMELIA - LM7682 - H 0223AV', 'GENESIS - LLGS - M 0079HØ', 'MAGNARSON - LMBX - H 0088AV', 'BERNT OSKAR - 3YCU - N 0020MS', 'LEINEBJØRN - LCOJ - M 0006HØ', 'NYBO - LJBD - M 0056MD', 'SILDASKJÆR - LMMF - M 0260HØ', 'SMARAGD - LJXV - M 0064HØ', 'HAVSNURP - LCOE - M 0095MD', 'HAVSTÅL - LLNZ - M 0260A', 'HAUGAGUT - LAQD - H 0050AV', 'KRANSVIK JR - LLQX - N 0006V', 'HAVBAS - LHWO - T 0071T', 'GUNNAR LANGVA - LMMC - M 0139A', 'SJOHAV - LLGI - H 0004K', 'VEIDING - LFPA - R 0069K', 'NORDSJØBAS - LHWW - M 0190HØ', 'VIBEKE HELENE - LLMQ - SF0001G', 'KATHRIN G - LCHJ - M 0020MD', 'VESTERVON - LLWG - SF0011A', 'REMO - LDWS - M 0012G', 'HERØYFJORD - LMHM - M 0010HØ', 'STORVIG - LJCS - VA0081LS', 'ODD LUNDBERG - LLNZ - T 0260G', 'LIAFJORD - LGYF - VL0003ØN', 'ØSTERBRIS - LJME - H 0127AV', 'FYRHOLM - LGSR - H 0015B', 'ALBACORE - LADH - SF0018F', 'VEA - LMMJ - R 0007K', 'SVENSGAM - JXAY - N 0134LN', 'H. ØSTERVOLD - LMBX - H 0088AV', 'VICTORIA MAY - LEVV - M 0267G', 'SENIOR - LGYT - N 0200B', 'SKARHOLMEN - LNQL - N 0001BØ', 'SLETTHOLMEN - LAVF - N 0110L', 'KVATRO - LJDJ - M 0052F', 'HAVRAND - LLWF - SF0040B', 'VESTBRIS - LMCW - SF0050G', 'BØEN - LJSY - R 0085SD', 'VIBEKE HELENE - LLMQ - R 0106K', 'KANSTADFJORD - LIYY - N 0189LN', 'SKUDE - LNYH - R 0157K', 'SILVER BAY - LIHW - H 0095B', 'GERDA MARIE - LAUP - H 0032AV', 'NORDERVEG - LLXW - H 0179AV', 'STRAND SENIOR - LJRS - M 0425H', 'ARNØYTIND SENIOR - LJZH - T 0008S', 'SJØGLANS - LIKQ - SF0002A', 'REMO - LDWS - H 0022FJ', 'NYSKJER - LFFG - M 0072MD', 'MALENE S - LCZQ - H 0128AV', 'SVANAVÅG - LALN - VA0078S', 'SKIPSHOLMEN - LJRS - H 0425AV', 'BØEN - 3YUG - R 0051SD', 'LIGRUNN II - JXXI - VL0145ØN', 'HARMONI - LAIJ - T 0074T', 'TRYGVASON - LNUN - H 0718B', 'VIBEKE HELENE - JWTU - SF0033G', 'HUGØYBAS - LCNO - H 0032B', 'SILLE MARIE - LCPE - VA0110S', 'ORSKJÆR - LLVA - Ø 0003H', 'TRAAL - JXML - R 0015K', 'MELØYFJORD - 3YUG - N 0051ME', 'ABELONE MØGSTER - 3YMI - H 0015AV', 'NORDERVON - LJGD - H 0181AV', 'NORDERVEG - LGWK - VL0182AV', 'MORTEN EINAR - LLNZ - H 0402AV', 'HÅFLU - LDQV - R 0005B', 'HAVSNURP - LHBV - M 0195M', 'HÅFLU - LGQK - R 0035B', 'KLONDYKE - LCCZ - M 0042A', 'LIBAS - LMQI - H 0005F', 'KAMØYFISK - LLDB - H 0180AV', 'SPRATTUS - LDFW - H 0018B', 'SILLE MARIE - LCPE - VA0010S', 'GANGSTAD - LLAQ - M 0024MD', 'MIDØY VIKING - LGUP - M 0014MD', 'MYNTEVIK - LHRI - R 0058ES', 'KYSTFISK - LMOV - SF0003V', 'SÆVIKSON - LCFI - M 0072HØ', 'GAMBLER - LELC - SF0006V', 'SJØBRIS - JWSG - M 0122HØ', 'TRØNDERHAV - LJBI - ST0031RS', 'STRAUMBAS - LIOD - R 0062K', 'LEINEBJØRN - LLRG - M 0003HØ', 'SÆVIKTRÅL - LHYA - R 0233K', 'MOLNES - LNKS - M 0069G', 'ARTUS - LLGS - M 0079HØ', 'REMO - LDWS - VL0003FJ', 'STOREGG - LEIA - M 0095A', 'KAMILLA GRANDE - JWLM - N 0050Ø', 'ÅKERØY - LAXI - N 0300DA', 'SALVØY - LECG - R 0333K'}\n"
     ]
    },
    {
     "name": "stderr",
     "output_type": "stream",
     "text": [
      "/home/anna/msc_oppgave/fish-forecast/utilities.py:352: SettingWithCopyWarning: \n",
      "A value is trying to be set on a copy of a slice from a DataFrame.\n",
      "Try using .loc[row_indexer,col_indexer] = value instead\n",
      "\n",
      "See the caveats in the documentation: https://pandas.pydata.org/pandas-docs/stable/user_guide/indexing.html#returning-a-view-versus-a-copy\n",
      "  df_ers['Starttidspunkt'] = pd.to_datetime(df_ers['Starttidspunkt'], format='mixed', dayfirst=True)\n",
      "/home/anna/msc_oppgave/fish-forecast/utilities.py:353: SettingWithCopyWarning: \n",
      "A value is trying to be set on a copy of a slice from a DataFrame.\n",
      "Try using .loc[row_indexer,col_indexer] = value instead\n",
      "\n",
      "See the caveats in the documentation: https://pandas.pydata.org/pandas-docs/stable/user_guide/indexing.html#returning-a-view-versus-a-copy\n",
      "  df_ers['Stopptidspunkt'] = pd.to_datetime(df_ers['Stopptidspunkt'], format='mixed', dayfirst=True)\n"
     ]
    },
    {
     "name": "stdout",
     "output_type": "stream",
     "text": [
      "Number of VMS records: 95816\n",
      "VMS date: 2024-06-11 18:20:00 -> 2024-11-22 02:14:00\n",
      "Number of VMS records after initial time-filter:  95816\n"
     ]
    },
    {
     "name": "stderr",
     "output_type": "stream",
     "text": [
      "Filtering VMS records by ERS vessels: 100%|██████████| 497/497 [02:48<00:00,  2.96it/s]\n"
     ]
    },
    {
     "name": "stdout",
     "output_type": "stream",
     "text": [
      "Number of VMS records after filtering by ERS vessels: 149482\n",
      "497 unique vessels\n",
      "156 unique vessels\n",
      "Missing VMS vessels: {'NESEBUEN - LCFH - VA0086LS', 'ELVIRA III - LK3553 - R 0052K', 'SILDASKJÆR - LMMF - SF0001V', 'LIAHOLM - LMDJ - M 0071AV', 'MOSTEIN - LGBG - H 0221B', 'SHEIK - LLSO - VA0055S', 'SJØGLANS - LIZI - AG0014K', 'THEA ELISE - LIKQ - N 0530MS', 'SILLE MARIE - LCPE - R 0110ES', 'RINGBAS - LHRX - SF0006V', 'DYRNESVÅG - LGGM - M 0435SM', 'VESTBAS - LHRX - M 0116HØ', 'NORAFJELL - LLCX - N 0034LN', 'SALVØY - LDQV - R 0005B', 'FRUHOLMEN - LHWO - H 0178AV', 'HAVFISK - LLGA - M 0200A', 'FISKEBANK - LEQI - M 0022SM', 'ARNØYFJORD - LLGB - NT0050NR', 'CETUS - JXML - R 0015K', 'HERØYFJORD - LAXI - M 0021HØ', 'EMMA - LCSR - M 0064MD', 'ATLØYBUEN - JXSE - SF0033A', 'FLANDER - LKLA - H 0158B', 'STØTTFJORD - LDXP - N 0100B', 'INGVARDSON - LEIA - H 0095K', 'RAV - LMFZ - ST0008O', 'JØKUL - LALD - M 0108MD', 'BERG SENIOR - LIQO - N 0005VR', 'HASTING - LLMP - SF0097B', 'BALLSTADØY - LFGX - N 0099VV', 'ØSTANGER - 3YDD - H 0148AV', 'TOJAKO - LIYG - M 0070AV', 'INGER HILDUR - LLRG - M 0103F', 'ÅKERØY - LDHM - N 0200DA', 'SENIOR - LAQD - N 0060B', 'SCOMBRUS JR - JXSF - R 0009H', 'VESTØY - LCSR - M 0064MD', 'FAGERVOLL - LCHL - M 0074A', 'STRAUMBERG - LDEF - N 0001LF', 'KVANNØY - LAQD - N 0060B', 'SLETTHOLMEN - LAVF - T 0110I', 'STAALØY - 3YKA - H 0095AV', 'HAVSKJER - LLGA - M 0200A', 'BUEFJORD - LJMF - SF0147A', 'LØNNØY - LJTD - H 0004B', 'AUSTERFJORD - LJZO - H 0084AV', 'JULIANNE III - LCGQ - T 0021T', 'REMØY - LDSF - M 0099HØ', 'SKLINNABANKEN - LJQM - N 0250BR', 'GAMBLER - LELC - M 0192HØ', 'GOULD DOLLAR - LNHQ - SF0300A', 'SCOMBRUS - JXSF - R 0001H', 'SLAATTERØY - LMMS - H 0010AV', 'ÅKERØY II - LAXI - N 0300DA', 'ROGNE - JXAY - N 0040LN', 'EINARSON - LMCE - T 0016LK', 'ANDREA L - LHWW - SF0001V', 'GAMBLER - LELC - SF0046V', 'SYDVEST - LLAS - VL0053AV', 'KVATRO - LJDJ - M 0055F', 'TORBAS - LFMP - SF0004V', 'KATHRIN G - LCCX - M 0001SJ', 'AMBASSADOR - LJBI - R 0126K', 'MORTEN EINAR - JWQU - H 0005AV', 'FRØYBAS - LLMQ - SF0075B', 'HOVDEN VIKING - JWLM - SF0004S', 'MIDØY VIKING - LCFQ - M 0100MD', 'KABA - 3YBZ - N 0303V', 'KNESTER - JWNI - H 0058AV', 'ODD LUNDBERG - LJRP - T 0111G', 'HAVSNURP - LCOE - M 0195HØ', 'SANDER ANDRE - LJBC - N 0066MS', 'KVANNØY - LMBE - N 0400B', 'VIKANØY - LHTT - N 0210BØ', 'GUNNAR K - LJWW - SF0246A', 'REMØYBUEN - LLIQ - M 0009HØ', 'TOBIS - LFOB - H 0101AV', 'TROMSBAS - LAWQ - T 0009T', 'STOKKE SENIOR - JWQZ - M 0012U', 'NORAFJELL - JXAY - N 0134LN', 'SULEHAV - LJJZ - SF0001SU', 'JULIANNE III - LCGQ - N 0021LN', 'LIAFJELL - LLWB - H 0087F', 'SELVÅG - LJXW - N 0024ME', 'SELVÅG SENIOR - LJXW - N 0024ME', 'LØNNINGEN - LKLV - H 0020B', 'SVANAUG ELISE - LLRD - ST0019F', 'HILLERSØY - LMKD - SF0220A', 'GOLLENES - LHBM - M 0311HØ', 'VIKANØY - LLWH - N 0007BØ', 'SANDER ANDRE II - LNYZ - N 0250MS', 'TILJE - LICN - SF0082B', 'TRØNDERKARI - LLVN - NT0200V', 'HAVSNURP - LCOE - M 0195MD', 'B.M. DRIVENES - LM7682 - H 0223AV', 'VIKINGBANK - LLAS - R 0003K', 'ARNØYFJORD - LMOV - NT0030NR', 'KNESTER - JWNI - H 0009AV', 'HAVFISK - LJTD - M 0520A', 'INGER HILDUR - LJUH - M 0101F', 'SPJÆRINGEN SENIOR - LLGB - Ø 0150H', 'LØNNØY JUNIOR - LIKL - H 0097B', 'BØMMELHAV - LJYE - H 0078B', 'GENESIS - LLGS - M 0077HØ', 'NORDERVEG - LGWK - H 0182AV', 'FISKESKJER - LJXG - M 0525H', 'STRAND SENIOR 2 - LJRS - M 0425H', 'ARNØYTIND - LJZH - T 0008S', 'ORDINAT - LJTD - H 0250AV', 'KINGSHOLM - LJNB - M 0033SJ', 'VÅRBUD - LM3369 - SF0016SU', 'STÅLRINGEN - LLGZ - N 0075DA', 'SKARHOLMEN - LIKQ - N 0053BØ', 'SVANAUG ELISE - LLRD - TR0019F', 'SØRØYFISK - LJQQ - M 0020A', 'INGRID MAJALA - LAKF - F 0225M', 'ATLØY VIKING - LCGV - SF0008A', 'ORSKJÆR - LLVA - M 0174AV', 'MIRANDA - LDIW - N 0195V', 'VESTBAS - LJBC - M 0066HØ', 'TRØNDERHAV - LLJN - ST0030RS', 'GUNNAR K - LJWW - N 0246Ø', 'KNESTER - JWNI - N 0019DA', 'NORDSILD - LLRK - T 0008I', 'ROWENTA - LJBC - N 0666VV', 'VESTVIKING - JXAM - H 0012AV', 'HERØYHAV - LJTD - M 0520HØ', 'GULARØY - LIQO - M 0005AV', 'VENDLA - LJTP - H 0040AV', 'SIGLAR - LCIJ - H 0035F', 'KINGS BAY - LGWK - M 0021HØ', 'EDNA SYNNØVE - LJNB - ST0018F', 'STORMFUGLEN - LIWS - M 0038AV', 'SKLINNABANKEN - LJQM - M 0050A', 'RØDHOLMEN - LCMN - VN0118B', 'STØTTFJORD - LMCE - N 0001ME', 'ROGNE - JXAY - M 0004HØ', 'ØSTERBRIS 2 - LJME - H 0127AV', 'KROSSØY - LIZI - H 0034BN', 'KABA - 3YBZ - H 0033O', 'TORBAS - LLBT - SF0099V', 'SANDER ANDRE - LELQ - N 0244MS', 'INGRID MAJALA - LJZO - F 0184M', 'VESTFART - LKDQ - SF0005B', 'JØKUL - LALD - M 0108HØ', 'EINARSON - LLQX - T 0005LK', 'FRANTSEN JUNIOR - LJDR - T 0025I', 'ORFJORD - LDAA - M 0058AV', 'BALLSTADØY - LLLI - N 0185VV', 'OLAGUTT - LLRW - N 0001SO', 'K.M. ØSTERVOLD - LHWW - H 0208AV', 'BÅRAGUTT - JXPQ - T 0100T', 'LIAVÅG - LDUX - M 0088AV', 'LISE-BEATE - LLYL - T 0100LK', 'LØNNINGEN - LALI - H 0200B', 'EROS - LIVA - M 0060HØ', 'BØEN - LJSY - R 0085ES', 'NOTBAS - LIYG - T 0010S', 'SKUDE SENIOR - LCGU - R 0196K', 'ORDINAT - LKLV - H 0090AV', 'RINGBAS - LHRX - M 0116HØ', 'BØMMELFJORD - LNXT - H 0083B', 'BRATTSKJÆR - LLLP - NT0345V', 'HARVEST - LLAS - H 0003AV', 'GANGSTAD - LGSR - M 0006MD', 'MOSTEIN 1 - LGBG - H 0221B', 'OCEAN - LGUP - M 0004A', 'LØNNØY - LLXE - H 0007B', 'BRATTSKJÆR - LDAA - NT0346V', 'ROWENTA - LLWF - N 0050MS', 'ØSTANGER - 3YDD - H 0140AV', 'STRAUMBERG - LIOD - N 0002LF', 'GARDAR - LKWZ - H 0034AV', 'FISKØY - LIOL - N 0067VV', 'INGER HILDUR - LLRG - M 0100F', 'VEAGUTT - LCFH - R 0001K', 'PAUL SENIOR - LLVA - M 0174AV', 'SCOMBRUS - LMCH - R 0017H', 'SVANAVÅG - LALN - R 0003ES', 'HAVSNURP - LLBM - M 0095MD', 'MELØYPYNT - LK2103 - ST0002R', 'BIRKELAND - LMWI - H 0087AV', 'ROWENTA - LJBC - N 0066MS', 'STOKKØY - JXGY - H 0098B', 'FYRHOLM - LKIB - H 0010B', 'HERMES - LLOP - F 0007L', 'MYNTEVIK - LHRI - R 0258K', 'BØMMELBAS - LHRE - H 0444B', 'TUNFISK - JWWM - H 0260K', 'TOPAS - JWLD - M 0124G', 'TOPAS - LJQM - M 0007G', 'ROGNE - JXAY - M 0042HØ', 'SJØGLANS - LIZI - SF0008A', 'STEINSUND - LFJE - H 0227AV', 'SØRVIK - LCRI - ST0066F', 'LIAFJORD - LCOV - H 0003F', 'BUØY SR. - LK3243 - M 0089HØ', 'BALLSTADØY - LFGX - N 0003VV', 'GOLLENES - LCOH - M 0031HØ', 'ENDRE DYRØY - LLNU - H 0015F', 'PETRELL - LLMQ - M 0200G', 'SLOTTSTEIN - LJDR - VL0225AV', 'MONSUN - LIUC - VA0041K', 'HAVFJORD - LGDF - VA0002S', 'ØKSNESVÆRING - LMCE - N 0160Ø', 'STARBEAM - LLAQ - M 0212H', 'HERØY - LIQW - M 0620HØ', 'KRANSVIK JR - LJDJ - N 0081V', 'NORDSØ - LFIZ - VA0097M', 'GLOMFJORD - LHBI - M 0370HØ', 'EMILIE H - LEAE - M 0090SJ', 'KREMMERVIK - 3YMI - H 0015AV', 'STEINEVIK - LAQD - VL0167AV', 'SKUDE SENIOR - LCGU - R 0004K', 'LURØYBAS - JWVR - N 0111L', 'JOHAN FEYER - LJYE - R 0004ES', 'HARDHAUS - LMBN - H 0120AV', 'SKOMVÆRHAV - LJDJ - N 0081V', 'NYSTRAND - JWOC - N 0015RT', 'CETUS - LLYM - R 0094K', 'HAUGAGUT - LKUX - H 0050AV', 'VESTERHAV - LDQN - SF0001A', 'LEIK - LLZF - R 0044K', 'SJARMØR - LCGM - SF0017SU', 'SALVØY - LDQV - R 0012K', 'SVEBAS - LJTV - SF0008SU', 'ATLØY VIKING - LJDJ - SF0055A', 'QUO VADIS - LMDF - R 0086K', 'LEINEBJØRN - LCOJ - M 0003HØ', 'LANGENES - JXJU - M 0035A', 'ARNØYFJORD - LMCE - TR0030ND', 'ORFJORD - LGLX - M 0008AV', 'NYSKJER - LLMI - M 0515MD', 'FISKEBAS - LHWW - SF0208F', 'NORDSILD - LLRK - T 0018I', 'KROSSØY - 3YMI - H 0017BN', 'ÆSØYBUEN - LDUX - SF0008F', 'LIGRUNN - LDAK - H 0002F', 'FLORA - LM9256 - M 0001S', 'MOSTEIN - LIBC - H 0569B', 'HUNTER - LCCZ - VA0002S', 'LIGRUNN - LACT - H 0001F', 'HUGØYBAS - LCNO - H 0032K', 'BENJACO - LNYZ - H 0051K', 'HARMONI - LAKF - T 0079T', 'EINAR ERLEND - LLND - N 0045ME', 'SVANAUG ELISE - LLRD - M 0119HØ', 'GARDAR - LMOG - H 0011AV', 'SULEBAS - LHLX - SF0030SU', 'ATLØY VIKING - LHTT - SF0022A', 'E.H. SENIOR - LLLD - T 0300TK', 'RADEK - LAHA - H 0008AV', 'AMELIA - LM7682 - H 0223AV', 'GENESIS - LLGS - M 0079HØ', 'MAGNARSON - LMBX - H 0088AV', 'BERNT OSKAR - 3YCU - N 0020MS', 'LEINEBJØRN - LCOJ - M 0006HØ', 'NYBO - LJBD - M 0056MD', 'SILDASKJÆR - LMMF - M 0260HØ', 'SMARAGD - LJXV - M 0064HØ', 'HAVSNURP - LCOE - M 0095MD', 'HAVSTÅL - LLNZ - M 0260A', 'HAUGAGUT - LAQD - H 0050AV', 'KRANSVIK JR - LLQX - N 0006V', 'HAVBAS - LHWO - T 0071T', 'GUNNAR LANGVA - LMMC - M 0139A', 'SJOHAV - LLGI - H 0004K', 'VEIDING - LFPA - R 0069K', 'NORDSJØBAS - LHWW - M 0190HØ', 'VIBEKE HELENE - LLMQ - SF0001G', 'KATHRIN G - LCHJ - M 0020MD', 'VESTERVON - LLWG - SF0011A', 'REMO - LDWS - M 0012G', 'HERØYFJORD - LMHM - M 0010HØ', 'STORVIG - LJCS - VA0081LS', 'ODD LUNDBERG - LLNZ - T 0260G', 'ØSTERBRIS - LJME - H 0127AV', 'ALBACORE - LADH - SF0018F', 'VEA - LMMJ - R 0007K', 'SVENSGAM - JXAY - N 0134LN', 'H. ØSTERVOLD - LMBX - H 0088AV', 'VICTORIA MAY - LEVV - M 0267G', 'SENIOR - LGYT - N 0200B', 'SKARHOLMEN - LNQL - N 0001BØ', 'SLETTHOLMEN - LAVF - N 0110L', 'KVATRO - LJDJ - M 0052F', 'HAVRAND - LLWF - SF0040B', 'VESTBRIS - LMCW - SF0050G', 'BØEN - LJSY - R 0085SD', 'VIBEKE HELENE - LLMQ - R 0106K', 'KANSTADFJORD - LIYY - N 0189LN', 'SKUDE - LNYH - R 0157K', 'SILVER BAY - LIHW - H 0095B', 'GERDA MARIE - LAUP - H 0032AV', 'NORDERVEG - LLXW - H 0179AV', 'STRAND SENIOR - LJRS - M 0425H', 'SJØGLANS - LIKQ - SF0002A', 'REMO - LDWS - H 0022FJ', 'NYSKJER - LFFG - M 0072MD', 'MALENE S - LCZQ - H 0128AV', 'SVANAVÅG - LALN - VA0078S', 'SKIPSHOLMEN - LJRS - H 0425AV', 'BØEN - 3YUG - R 0051SD', 'HARMONI - LAIJ - T 0074T', 'TRYGVASON - LNUN - H 0718B', 'VIBEKE HELENE - JWTU - SF0033G', 'HUGØYBAS - LCNO - H 0032B', 'SILLE MARIE - LCPE - VA0110S', 'TRAAL - JXML - R 0015K', 'MELØYFJORD - 3YUG - N 0051ME', 'RADEK - LNXT - H 0002AV', 'ABELONE MØGSTER - 3YMI - H 0015AV', 'NORDERVON - LJGD - H 0181AV', 'NORDERVEG - LGWK - VL0182AV', 'MORTEN EINAR - LLNZ - H 0402AV', 'HÅFLU - LDQV - R 0005B', 'HÅFLU - LGQK - R 0035B', 'KLONDYKE - LCCZ - M 0042A', 'LIBAS - LMQI - H 0005F', 'KAMØYFISK - LLDB - H 0180AV', 'SPRATTUS - LDFW - H 0018B', 'SILLE MARIE - LCPE - VA0010S', 'GANGSTAD - LLAQ - M 0024MD', 'MIDØY VIKING - LGUP - M 0014MD', 'MYNTEVIK - LHRI - R 0058ES', 'KYSTFISK - LMOV - SF0003V', 'SÆVIKSON - LCFI - M 0072HØ', 'GAMBLER - LELC - SF0006V', 'SJØBRIS - JWSG - M 0122HØ', 'TRØNDERHAV - LJBI - ST0031RS', 'STRAUMBAS - LIOD - R 0062K', 'LEINEBJØRN - LLRG - M 0003HØ', 'SÆVIKTRÅL - LHYA - R 0233K', 'MOLNES - LNKS - M 0069G', 'ARTUS - LLGS - M 0079HØ', 'REMO - LDWS - VL0003FJ', 'STOREGG - LEIA - M 0095A', 'KAMILLA GRANDE - JWLM - N 0050Ø', 'ROGNE - LDGS - M 0070HØ', 'ÅKERØY - LAXI - N 0300DA', 'SALVØY - LECG - R 0333K'}\n"
     ]
    }
   ],
   "source": [
    "from utilities import find_vms_records\n",
    "from pathlib import Path\n",
    "import pandas as pd\n",
    "\n",
    "\n",
    "\n",
    "ERS_PATH = '/home/anna/msc_oppgave/fish-forecast/TEST_MAC_ERS_filtered.csv'\n",
    "df_ers = pd.read_csv(ERS_PATH, sep=';')\n",
    "df_ers['Source'] = 'ERS'\n",
    "df_ers_start = df_ers[df_ers['Method'] == 'start']\n",
    "\n",
    "all_mac_ERS_VMS = df_ers_start.copy()\n",
    "\n",
    "for year in range(2011, 2025):\n",
    "    VMS_PATH = f'/home/anna/msc_oppgave/fish-forecast/VMS-plots/filtered_vms_ALL-MAC_{year}.csv'\n",
    "    df_vms = pd.read_csv(VMS_PATH, sep=';', low_memory=False)\n",
    "    df_vms['Source'] = 'VMS'\n",
    "\n",
    "    df_vms['Fartøyidentifikasjon'] = (df_vms['Fartøynavn'].astype(str) + \" - \" + \n",
    "                                      df_vms['Radiokallesignal'].astype(str) + \" - \" + \n",
    "                                      df_vms['Registreringsmerke'].astype(str))\n",
    "    df_vms = find_vms_records(df_ers_start, df_vms, year)\n",
    "    df_vms.to_csv(f\"check-imgs/filtered_vms_test-MAC_{year}.csv\", sep=';', index=False)\n",
    "    all_mac_ERS_VMS = pd.concat([all_mac_ERS_VMS, df_vms], ignore_index=True)\n",
    "# add stop location back to the dataframe\n",
    "df_ers_stop = df_ers[df_ers['Method'] == 'stop']\n",
    "\n",
    "all_mac_ERS_VMS = pd.concat([all_mac_ERS_VMS, df_ers_stop], ignore_index=True)\n",
    "\n",
    "\n",
    "all_mac_ERS_VMS.to_csv(\"TEST_MAC_ERS_VMS.csv\", sep=';', index=False)\n"
   ]
  },
  {
   "cell_type": "markdown",
   "id": "43342fea",
   "metadata": {},
   "source": [
    "Melding ID;Meldingstype (kode);Meldingstype;Tidspunkt (UTC);Breddegrad;Lengdegrad;Kurs;Fart;Radiokallesignal;Registreringsmerke;Fartøynavn;Fartøykommune;Fartøyfylke;Største lengde;Motorkraft;Bruttotonnasje 1969;Bruttotonnasje annen;Fartøytype (kode);Fartøytype;Bruttotonnasje;MeldingID;Meldingstype(kode);Størstelengde"
   ]
  },
  {
   "cell_type": "markdown",
   "id": "f9c1a856",
   "metadata": {},
   "source": [
    "### add the stop location back in the df"
   ]
  },
  {
   "cell_type": "code",
   "execution_count": 4,
   "id": "c83d1267",
   "metadata": {},
   "outputs": [],
   "source": [
    "import pandas as pd\n",
    "ERS_PATH = '/home/peder/git/fish-forecast/TEST_MAC_ERS_VMS_rmComma.csv'\n",
    "df_ers = pd.read_csv(ERS_PATH, sep=';')\n",
    "df_ers = df_ers[df_ers['Method'] == 'stop']\n",
    "\n",
    "df_vms = pd.read_csv(\"TEST_MAC_ERS_VMS_rmComma.csv\", sep=';')\n",
    "\n",
    "# add the stop location back to the df and reset the index\n",
    "fixed_vms = pd.concat([df_vms, df_ers], ignore_index=True)\n",
    "fixed_vms.to_csv(\"TEST_MAC_ERS_VMS_rmComma_with_stop.csv\", sep=';', index=False)"
   ]
  },
  {
   "cell_type": "code",
   "execution_count": 7,
   "id": "1ab4f187",
   "metadata": {},
   "outputs": [
    {
     "data": {
      "text/plain": [
       "Index(['Starttidspunkt', 'Startposisjon bredde', 'Startposisjon lengde',\n",
       "       'Stopptidspunkt', 'Stopposisjon bredde', 'Stopposisjon lengde',\n",
       "       'Rundvekt', 'Fartøyidentifikasjon', 'CatchLat', 'CatchLon', 'Method',\n",
       "       'Location', 'Date', 'distance_km', 'elapsed_time_hours', 'speed',\n",
       "       'Source'],\n",
       "      dtype='object')"
      ]
     },
     "execution_count": 7,
     "metadata": {},
     "output_type": "execute_result"
    }
   ],
   "source": [
    "all_mac_ERS_VMS.columns"
   ]
  },
  {
   "cell_type": "code",
   "execution_count": 23,
   "id": "a51add66",
   "metadata": {},
   "outputs": [
    {
     "name": "stdout",
     "output_type": "stream",
     "text": [
      "13623511\n"
     ]
    },
    {
     "name": "stderr",
     "output_type": "stream",
     "text": [
      "/tmp/ipykernel_1460371/142611739.py:4: SettingWithCopyWarning: \n",
      "A value is trying to be set on a copy of a slice from a DataFrame.\n",
      "Try using .loc[row_indexer,col_indexer] = value instead\n",
      "\n",
      "See the caveats in the documentation: https://pandas.pydata.org/pandas-docs/stable/user_guide/indexing.html#returning-a-view-versus-a-copy\n",
      "  df_vms_show['Starttidspunkt'] = pd.to_datetime(df_vms_show['Starttidspunkt'], format='mixed', dayfirst=True)\n"
     ]
    }
   ],
   "source": [
    "df_vms_show = all_mac_ERS_VMS[all_mac_ERS_VMS['Source'] == 'VMS']\n",
    "print(df_vms_show.size)\n",
    "# make starttidspunkt a datetime object\n",
    "df_vms_show['Starttidspunkt'] = pd.to_datetime(df_vms_show['Starttidspunkt'], format='mixed', dayfirst=True)"
   ]
  },
  {
   "cell_type": "code",
   "execution_count": null,
   "id": "a9120ec5",
   "metadata": {},
   "outputs": [
    {
     "name": "stdout",
     "output_type": "stream",
     "text": [
      "VMS instances per year:\n",
      "year\n",
      "2023    280408\n",
      "2022    217026\n",
      "2024    149482\n",
      "2021     66848\n",
      "2016     13762\n",
      "2020     10997\n",
      "2014     10818\n",
      "2011      9336\n",
      "2018      8011\n",
      "2012      8005\n",
      "2013      7699\n",
      "2019      6384\n",
      "2015      6373\n",
      "2017      6234\n",
      "Name: count, dtype: int64\n"
     ]
    },
    {
     "name": "stderr",
     "output_type": "stream",
     "text": [
      "/tmp/ipykernel_1460371/2242994232.py:2: SettingWithCopyWarning: \n",
      "A value is trying to be set on a copy of a slice from a DataFrame.\n",
      "Try using .loc[row_indexer,col_indexer] = value instead\n",
      "\n",
      "See the caveats in the documentation: https://pandas.pydata.org/pandas-docs/stable/user_guide/indexing.html#returning-a-view-versus-a-copy\n",
      "  df_vms_show['year'] = df_vms_show['Starttidspunkt'].dt.year\n"
     ]
    }
   ],
   "source": [
    "print('VMS instances per year:')\n",
    "df_vms_show['year'] = df_vms_show['Starttidspunkt'].dt.year\n",
    "print(df_vms_show['year'].value_counts())\n",
    "df_vms_show"
   ]
  },
  {
   "cell_type": "code",
   "execution_count": 24,
   "id": "c30f9c92",
   "metadata": {},
   "outputs": [
    {
     "name": "stderr",
     "output_type": "stream",
     "text": [
      "\u001b[32m00:23:30.779\u001b[0m | \u001b[34m\u001b[1mDEBUG   \u001b[0m | \u001b[36m/home/anna/msc_oppgave/fish-forecast/plot_data.py\u001b[0m:\u001b[36m212\u001b[0m - \u001b[34m\u001b[1mSkipping row 185982 element 0 due to error in location: not enough values to unpack (expected 2, got 1)\u001b[0m\n",
      "\u001b[32m00:23:30.783\u001b[0m | \u001b[34m\u001b[1mDEBUG   \u001b[0m | \u001b[36m/home/anna/msc_oppgave/fish-forecast/plot_data.py\u001b[0m:\u001b[36m212\u001b[0m - \u001b[34m\u001b[1mSkipping row 186051 element 0 due to error in location: not enough values to unpack (expected 2, got 1)\u001b[0m\n",
      "\u001b[32m00:23:30.798\u001b[0m | \u001b[34m\u001b[1mDEBUG   \u001b[0m | \u001b[36m/home/anna/msc_oppgave/fish-forecast/plot_data.py\u001b[0m:\u001b[36m212\u001b[0m - \u001b[34m\u001b[1mSkipping row 186327 element 0 due to error in location: not enough values to unpack (expected 2, got 1)\u001b[0m\n",
      "\u001b[32m00:23:30.802\u001b[0m | \u001b[34m\u001b[1mDEBUG   \u001b[0m | \u001b[36m/home/anna/msc_oppgave/fish-forecast/plot_data.py\u001b[0m:\u001b[36m212\u001b[0m - \u001b[34m\u001b[1mSkipping row 186383 element 0 due to error in location: not enough values to unpack (expected 2, got 1)\u001b[0m\n",
      "\u001b[32m00:23:30.806\u001b[0m | \u001b[34m\u001b[1mDEBUG   \u001b[0m | \u001b[36m/home/anna/msc_oppgave/fish-forecast/plot_data.py\u001b[0m:\u001b[36m212\u001b[0m - \u001b[34m\u001b[1mSkipping row 186439 element 0 due to error in location: not enough values to unpack (expected 2, got 1)\u001b[0m\n",
      "\u001b[32m00:23:30.810\u001b[0m | \u001b[34m\u001b[1mDEBUG   \u001b[0m | \u001b[36m/home/anna/msc_oppgave/fish-forecast/plot_data.py\u001b[0m:\u001b[36m212\u001b[0m - \u001b[34m\u001b[1mSkipping row 186495 element 0 due to error in location: not enough values to unpack (expected 2, got 1)\u001b[0m\n",
      "\u001b[32m00:23:30.813\u001b[0m | \u001b[34m\u001b[1mDEBUG   \u001b[0m | \u001b[36m/home/anna/msc_oppgave/fish-forecast/plot_data.py\u001b[0m:\u001b[36m212\u001b[0m - \u001b[34m\u001b[1mSkipping row 186551 element 0 due to error in location: not enough values to unpack (expected 2, got 1)\u001b[0m\n",
      "\u001b[32m00:23:30.817\u001b[0m | \u001b[34m\u001b[1mDEBUG   \u001b[0m | \u001b[36m/home/anna/msc_oppgave/fish-forecast/plot_data.py\u001b[0m:\u001b[36m212\u001b[0m - \u001b[34m\u001b[1mSkipping row 186607 element 0 due to error in location: not enough values to unpack (expected 2, got 1)\u001b[0m\n",
      "\u001b[32m00:23:30.821\u001b[0m | \u001b[34m\u001b[1mDEBUG   \u001b[0m | \u001b[36m/home/anna/msc_oppgave/fish-forecast/plot_data.py\u001b[0m:\u001b[36m212\u001b[0m - \u001b[34m\u001b[1mSkipping row 186663 element 0 due to error in location: not enough values to unpack (expected 2, got 1)\u001b[0m\n",
      "\u001b[32m00:23:30.825\u001b[0m | \u001b[34m\u001b[1mDEBUG   \u001b[0m | \u001b[36m/home/anna/msc_oppgave/fish-forecast/plot_data.py\u001b[0m:\u001b[36m212\u001b[0m - \u001b[34m\u001b[1mSkipping row 186719 element 0 due to error in location: not enough values to unpack (expected 2, got 1)\u001b[0m\n",
      "\u001b[32m00:23:30.829\u001b[0m | \u001b[34m\u001b[1mDEBUG   \u001b[0m | \u001b[36m/home/anna/msc_oppgave/fish-forecast/plot_data.py\u001b[0m:\u001b[36m212\u001b[0m - \u001b[34m\u001b[1mSkipping row 186775 element 0 due to error in location: not enough values to unpack (expected 2, got 1)\u001b[0m\n",
      "\u001b[32m00:23:30.833\u001b[0m | \u001b[34m\u001b[1mDEBUG   \u001b[0m | \u001b[36m/home/anna/msc_oppgave/fish-forecast/plot_data.py\u001b[0m:\u001b[36m212\u001b[0m - \u001b[34m\u001b[1mSkipping row 186831 element 0 due to error in location: not enough values to unpack (expected 2, got 1)\u001b[0m\n",
      "\u001b[32m00:23:30.837\u001b[0m | \u001b[34m\u001b[1mDEBUG   \u001b[0m | \u001b[36m/home/anna/msc_oppgave/fish-forecast/plot_data.py\u001b[0m:\u001b[36m212\u001b[0m - \u001b[34m\u001b[1mSkipping row 186887 element 0 due to error in location: not enough values to unpack (expected 2, got 1)\u001b[0m\n",
      "\u001b[32m00:23:30.841\u001b[0m | \u001b[34m\u001b[1mDEBUG   \u001b[0m | \u001b[36m/home/anna/msc_oppgave/fish-forecast/plot_data.py\u001b[0m:\u001b[36m212\u001b[0m - \u001b[34m\u001b[1mSkipping row 186943 element 0 due to error in location: not enough values to unpack (expected 2, got 1)\u001b[0m\n",
      "\u001b[32m00:23:30.845\u001b[0m | \u001b[34m\u001b[1mDEBUG   \u001b[0m | \u001b[36m/home/anna/msc_oppgave/fish-forecast/plot_data.py\u001b[0m:\u001b[36m212\u001b[0m - \u001b[34m\u001b[1mSkipping row 186999 element 0 due to error in location: not enough values to unpack (expected 2, got 1)\u001b[0m\n",
      "\u001b[32m00:23:30.849\u001b[0m | \u001b[34m\u001b[1mDEBUG   \u001b[0m | \u001b[36m/home/anna/msc_oppgave/fish-forecast/plot_data.py\u001b[0m:\u001b[36m212\u001b[0m - \u001b[34m\u001b[1mSkipping row 187055 element 0 due to error in location: not enough values to unpack (expected 2, got 1)\u001b[0m\n",
      "\u001b[32m00:23:30.853\u001b[0m | \u001b[34m\u001b[1mDEBUG   \u001b[0m | \u001b[36m/home/anna/msc_oppgave/fish-forecast/plot_data.py\u001b[0m:\u001b[36m212\u001b[0m - \u001b[34m\u001b[1mSkipping row 187111 element 0 due to error in location: not enough values to unpack (expected 2, got 1)\u001b[0m\n",
      "\u001b[32m00:23:30.857\u001b[0m | \u001b[34m\u001b[1mDEBUG   \u001b[0m | \u001b[36m/home/anna/msc_oppgave/fish-forecast/plot_data.py\u001b[0m:\u001b[36m212\u001b[0m - \u001b[34m\u001b[1mSkipping row 187167 element 0 due to error in location: not enough values to unpack (expected 2, got 1)\u001b[0m\n",
      "\u001b[32m00:23:30.861\u001b[0m | \u001b[34m\u001b[1mDEBUG   \u001b[0m | \u001b[36m/home/anna/msc_oppgave/fish-forecast/plot_data.py\u001b[0m:\u001b[36m212\u001b[0m - \u001b[34m\u001b[1mSkipping row 187223 element 0 due to error in location: not enough values to unpack (expected 2, got 1)\u001b[0m\n",
      "\u001b[32m00:23:30.866\u001b[0m | \u001b[34m\u001b[1mDEBUG   \u001b[0m | \u001b[36m/home/anna/msc_oppgave/fish-forecast/plot_data.py\u001b[0m:\u001b[36m212\u001b[0m - \u001b[34m\u001b[1mSkipping row 187279 element 0 due to error in location: not enough values to unpack (expected 2, got 1)\u001b[0m\n",
      "\u001b[32m00:23:34.479\u001b[0m | \u001b[34m\u001b[1mDEBUG   \u001b[0m | \u001b[36m/home/anna/msc_oppgave/fish-forecast/plot_data.py\u001b[0m:\u001b[36m212\u001b[0m - \u001b[34m\u001b[1mSkipping row 255039 element 0 due to error in location: not enough values to unpack (expected 2, got 1)\u001b[0m\n",
      "\u001b[32m00:23:34.481\u001b[0m | \u001b[34m\u001b[1mDEBUG   \u001b[0m | \u001b[36m/home/anna/msc_oppgave/fish-forecast/plot_data.py\u001b[0m:\u001b[36m212\u001b[0m - \u001b[34m\u001b[1mSkipping row 255073 element 0 due to error in location: not enough values to unpack (expected 2, got 1)\u001b[0m\n",
      "\u001b[32m00:23:35.084\u001b[0m | \u001b[34m\u001b[1mDEBUG   \u001b[0m | \u001b[36m/home/anna/msc_oppgave/fish-forecast/plot_data.py\u001b[0m:\u001b[36m212\u001b[0m - \u001b[34m\u001b[1mSkipping row 266276 element 0 due to error in location: not enough values to unpack (expected 2, got 1)\u001b[0m\n",
      "\u001b[32m00:23:35.086\u001b[0m | \u001b[34m\u001b[1mDEBUG   \u001b[0m | \u001b[36m/home/anna/msc_oppgave/fish-forecast/plot_data.py\u001b[0m:\u001b[36m212\u001b[0m - \u001b[34m\u001b[1mSkipping row 266316 element 0 due to error in location: not enough values to unpack (expected 2, got 1)\u001b[0m\n",
      "\u001b[32m00:23:35.090\u001b[0m | \u001b[34m\u001b[1mDEBUG   \u001b[0m | \u001b[36m/home/anna/msc_oppgave/fish-forecast/plot_data.py\u001b[0m:\u001b[36m212\u001b[0m - \u001b[34m\u001b[1mSkipping row 266356 element 0 due to error in location: not enough values to unpack (expected 2, got 1)\u001b[0m\n",
      "\u001b[32m00:23:35.093\u001b[0m | \u001b[34m\u001b[1mDEBUG   \u001b[0m | \u001b[36m/home/anna/msc_oppgave/fish-forecast/plot_data.py\u001b[0m:\u001b[36m212\u001b[0m - \u001b[34m\u001b[1mSkipping row 266396 element 0 due to error in location: not enough values to unpack (expected 2, got 1)\u001b[0m\n",
      "\u001b[32m00:23:35.095\u001b[0m | \u001b[34m\u001b[1mDEBUG   \u001b[0m | \u001b[36m/home/anna/msc_oppgave/fish-forecast/plot_data.py\u001b[0m:\u001b[36m212\u001b[0m - \u001b[34m\u001b[1mSkipping row 266436 element 0 due to error in location: not enough values to unpack (expected 2, got 1)\u001b[0m\n",
      "\u001b[32m00:23:35.098\u001b[0m | \u001b[34m\u001b[1mDEBUG   \u001b[0m | \u001b[36m/home/anna/msc_oppgave/fish-forecast/plot_data.py\u001b[0m:\u001b[36m212\u001b[0m - \u001b[34m\u001b[1mSkipping row 266476 element 0 due to error in location: not enough values to unpack (expected 2, got 1)\u001b[0m\n",
      "\u001b[32m00:23:35.101\u001b[0m | \u001b[34m\u001b[1mDEBUG   \u001b[0m | \u001b[36m/home/anna/msc_oppgave/fish-forecast/plot_data.py\u001b[0m:\u001b[36m212\u001b[0m - \u001b[34m\u001b[1mSkipping row 266516 element 0 due to error in location: not enough values to unpack (expected 2, got 1)\u001b[0m\n",
      "\u001b[32m00:23:35.104\u001b[0m | \u001b[34m\u001b[1mDEBUG   \u001b[0m | \u001b[36m/home/anna/msc_oppgave/fish-forecast/plot_data.py\u001b[0m:\u001b[36m212\u001b[0m - \u001b[34m\u001b[1mSkipping row 266556 element 0 due to error in location: not enough values to unpack (expected 2, got 1)\u001b[0m\n",
      "\u001b[32m00:23:35.516\u001b[0m | \u001b[34m\u001b[1mDEBUG   \u001b[0m | \u001b[36m/home/anna/msc_oppgave/fish-forecast/plot_data.py\u001b[0m:\u001b[36m212\u001b[0m - \u001b[34m\u001b[1mSkipping row 274157 element 1 due to error in location: not enough values to unpack (expected 2, got 1)\u001b[0m\n",
      "\u001b[32m00:23:35.517\u001b[0m | \u001b[34m\u001b[1mDEBUG   \u001b[0m | \u001b[36m/home/anna/msc_oppgave/fish-forecast/plot_data.py\u001b[0m:\u001b[36m212\u001b[0m - \u001b[34m\u001b[1mSkipping row 274173 element 1 due to error in location: not enough values to unpack (expected 2, got 1)\u001b[0m\n",
      "\u001b[32m00:23:35.518\u001b[0m | \u001b[34m\u001b[1mDEBUG   \u001b[0m | \u001b[36m/home/anna/msc_oppgave/fish-forecast/plot_data.py\u001b[0m:\u001b[36m212\u001b[0m - \u001b[34m\u001b[1mSkipping row 274189 element 1 due to error in location: not enough values to unpack (expected 2, got 1)\u001b[0m\n",
      "\u001b[32m00:23:35.520\u001b[0m | \u001b[34m\u001b[1mDEBUG   \u001b[0m | \u001b[36m/home/anna/msc_oppgave/fish-forecast/plot_data.py\u001b[0m:\u001b[36m212\u001b[0m - \u001b[34m\u001b[1mSkipping row 274205 element 1 due to error in location: not enough values to unpack (expected 2, got 1)\u001b[0m\n",
      "\u001b[32m00:23:35.521\u001b[0m | \u001b[34m\u001b[1mDEBUG   \u001b[0m | \u001b[36m/home/anna/msc_oppgave/fish-forecast/plot_data.py\u001b[0m:\u001b[36m212\u001b[0m - \u001b[34m\u001b[1mSkipping row 274221 element 1 due to error in location: not enough values to unpack (expected 2, got 1)\u001b[0m\n",
      "\u001b[32m00:23:35.523\u001b[0m | \u001b[34m\u001b[1mDEBUG   \u001b[0m | \u001b[36m/home/anna/msc_oppgave/fish-forecast/plot_data.py\u001b[0m:\u001b[36m212\u001b[0m - \u001b[34m\u001b[1mSkipping row 274237 element 1 due to error in location: not enough values to unpack (expected 2, got 1)\u001b[0m\n",
      "\u001b[32m00:23:35.524\u001b[0m | \u001b[34m\u001b[1mDEBUG   \u001b[0m | \u001b[36m/home/anna/msc_oppgave/fish-forecast/plot_data.py\u001b[0m:\u001b[36m212\u001b[0m - \u001b[34m\u001b[1mSkipping row 274253 element 1 due to error in location: not enough values to unpack (expected 2, got 1)\u001b[0m\n",
      "\u001b[32m00:23:35.525\u001b[0m | \u001b[34m\u001b[1mDEBUG   \u001b[0m | \u001b[36m/home/anna/msc_oppgave/fish-forecast/plot_data.py\u001b[0m:\u001b[36m212\u001b[0m - \u001b[34m\u001b[1mSkipping row 274269 element 1 due to error in location: not enough values to unpack (expected 2, got 1)\u001b[0m\n",
      "\u001b[32m00:23:35.526\u001b[0m | \u001b[34m\u001b[1mDEBUG   \u001b[0m | \u001b[36m/home/anna/msc_oppgave/fish-forecast/plot_data.py\u001b[0m:\u001b[36m212\u001b[0m - \u001b[34m\u001b[1mSkipping row 274285 element 1 due to error in location: not enough values to unpack (expected 2, got 1)\u001b[0m\n",
      "\u001b[32m00:23:35.528\u001b[0m | \u001b[34m\u001b[1mDEBUG   \u001b[0m | \u001b[36m/home/anna/msc_oppgave/fish-forecast/plot_data.py\u001b[0m:\u001b[36m212\u001b[0m - \u001b[34m\u001b[1mSkipping row 274301 element 1 due to error in location: not enough values to unpack (expected 2, got 1)\u001b[0m\n",
      "\u001b[32m00:23:35.529\u001b[0m | \u001b[34m\u001b[1mDEBUG   \u001b[0m | \u001b[36m/home/anna/msc_oppgave/fish-forecast/plot_data.py\u001b[0m:\u001b[36m212\u001b[0m - \u001b[34m\u001b[1mSkipping row 274317 element 1 due to error in location: not enough values to unpack (expected 2, got 1)\u001b[0m\n",
      "\u001b[32m00:23:35.530\u001b[0m | \u001b[34m\u001b[1mDEBUG   \u001b[0m | \u001b[36m/home/anna/msc_oppgave/fish-forecast/plot_data.py\u001b[0m:\u001b[36m212\u001b[0m - \u001b[34m\u001b[1mSkipping row 274333 element 1 due to error in location: not enough values to unpack (expected 2, got 1)\u001b[0m\n",
      "\u001b[32m00:23:35.532\u001b[0m | \u001b[34m\u001b[1mDEBUG   \u001b[0m | \u001b[36m/home/anna/msc_oppgave/fish-forecast/plot_data.py\u001b[0m:\u001b[36m212\u001b[0m - \u001b[34m\u001b[1mSkipping row 274349 element 1 due to error in location: not enough values to unpack (expected 2, got 1)\u001b[0m\n",
      "\u001b[32m00:23:35.533\u001b[0m | \u001b[34m\u001b[1mDEBUG   \u001b[0m | \u001b[36m/home/anna/msc_oppgave/fish-forecast/plot_data.py\u001b[0m:\u001b[36m212\u001b[0m - \u001b[34m\u001b[1mSkipping row 274365 element 1 due to error in location: not enough values to unpack (expected 2, got 1)\u001b[0m\n",
      "\u001b[32m00:23:35.534\u001b[0m | \u001b[34m\u001b[1mDEBUG   \u001b[0m | \u001b[36m/home/anna/msc_oppgave/fish-forecast/plot_data.py\u001b[0m:\u001b[36m212\u001b[0m - \u001b[34m\u001b[1mSkipping row 274381 element 1 due to error in location: not enough values to unpack (expected 2, got 1)\u001b[0m\n",
      "\u001b[32m00:23:35.536\u001b[0m | \u001b[34m\u001b[1mDEBUG   \u001b[0m | \u001b[36m/home/anna/msc_oppgave/fish-forecast/plot_data.py\u001b[0m:\u001b[36m212\u001b[0m - \u001b[34m\u001b[1mSkipping row 274397 element 1 due to error in location: not enough values to unpack (expected 2, got 1)\u001b[0m\n",
      "\u001b[32m00:23:35.537\u001b[0m | \u001b[34m\u001b[1mDEBUG   \u001b[0m | \u001b[36m/home/anna/msc_oppgave/fish-forecast/plot_data.py\u001b[0m:\u001b[36m212\u001b[0m - \u001b[34m\u001b[1mSkipping row 274413 element 1 due to error in location: not enough values to unpack (expected 2, got 1)\u001b[0m\n",
      "\u001b[32m00:23:35.539\u001b[0m | \u001b[34m\u001b[1mDEBUG   \u001b[0m | \u001b[36m/home/anna/msc_oppgave/fish-forecast/plot_data.py\u001b[0m:\u001b[36m212\u001b[0m - \u001b[34m\u001b[1mSkipping row 274429 element 1 due to error in location: not enough values to unpack (expected 2, got 1)\u001b[0m\n",
      "\u001b[32m00:23:35.540\u001b[0m | \u001b[34m\u001b[1mDEBUG   \u001b[0m | \u001b[36m/home/anna/msc_oppgave/fish-forecast/plot_data.py\u001b[0m:\u001b[36m212\u001b[0m - \u001b[34m\u001b[1mSkipping row 274445 element 1 due to error in location: not enough values to unpack (expected 2, got 1)\u001b[0m\n",
      "\u001b[32m00:23:35.542\u001b[0m | \u001b[34m\u001b[1mDEBUG   \u001b[0m | \u001b[36m/home/anna/msc_oppgave/fish-forecast/plot_data.py\u001b[0m:\u001b[36m212\u001b[0m - \u001b[34m\u001b[1mSkipping row 274461 element 1 due to error in location: not enough values to unpack (expected 2, got 1)\u001b[0m\n",
      "\u001b[32m00:23:35.544\u001b[0m | \u001b[34m\u001b[1mDEBUG   \u001b[0m | \u001b[36m/home/anna/msc_oppgave/fish-forecast/plot_data.py\u001b[0m:\u001b[36m212\u001b[0m - \u001b[34m\u001b[1mSkipping row 274477 element 1 due to error in location: not enough values to unpack (expected 2, got 1)\u001b[0m\n",
      "\u001b[32m00:23:35.545\u001b[0m | \u001b[34m\u001b[1mDEBUG   \u001b[0m | \u001b[36m/home/anna/msc_oppgave/fish-forecast/plot_data.py\u001b[0m:\u001b[36m212\u001b[0m - \u001b[34m\u001b[1mSkipping row 274493 element 1 due to error in location: not enough values to unpack (expected 2, got 1)\u001b[0m\n",
      "\u001b[32m00:23:35.547\u001b[0m | \u001b[34m\u001b[1mDEBUG   \u001b[0m | \u001b[36m/home/anna/msc_oppgave/fish-forecast/plot_data.py\u001b[0m:\u001b[36m212\u001b[0m - \u001b[34m\u001b[1mSkipping row 274509 element 1 due to error in location: not enough values to unpack (expected 2, got 1)\u001b[0m\n",
      "\u001b[32m00:23:35.548\u001b[0m | \u001b[34m\u001b[1mDEBUG   \u001b[0m | \u001b[36m/home/anna/msc_oppgave/fish-forecast/plot_data.py\u001b[0m:\u001b[36m212\u001b[0m - \u001b[34m\u001b[1mSkipping row 274525 element 1 due to error in location: not enough values to unpack (expected 2, got 1)\u001b[0m\n",
      "\u001b[32m00:23:35.549\u001b[0m | \u001b[34m\u001b[1mDEBUG   \u001b[0m | \u001b[36m/home/anna/msc_oppgave/fish-forecast/plot_data.py\u001b[0m:\u001b[36m212\u001b[0m - \u001b[34m\u001b[1mSkipping row 274541 element 1 due to error in location: not enough values to unpack (expected 2, got 1)\u001b[0m\n",
      "\u001b[32m00:23:35.550\u001b[0m | \u001b[34m\u001b[1mDEBUG   \u001b[0m | \u001b[36m/home/anna/msc_oppgave/fish-forecast/plot_data.py\u001b[0m:\u001b[36m212\u001b[0m - \u001b[34m\u001b[1mSkipping row 274557 element 1 due to error in location: not enough values to unpack (expected 2, got 1)\u001b[0m\n",
      "\u001b[32m00:23:35.552\u001b[0m | \u001b[34m\u001b[1mDEBUG   \u001b[0m | \u001b[36m/home/anna/msc_oppgave/fish-forecast/plot_data.py\u001b[0m:\u001b[36m212\u001b[0m - \u001b[34m\u001b[1mSkipping row 274573 element 1 due to error in location: not enough values to unpack (expected 2, got 1)\u001b[0m\n",
      "\u001b[32m00:23:35.553\u001b[0m | \u001b[34m\u001b[1mDEBUG   \u001b[0m | \u001b[36m/home/anna/msc_oppgave/fish-forecast/plot_data.py\u001b[0m:\u001b[36m212\u001b[0m - \u001b[34m\u001b[1mSkipping row 274589 element 1 due to error in location: not enough values to unpack (expected 2, got 1)\u001b[0m\n",
      "\u001b[32m00:23:35.555\u001b[0m | \u001b[34m\u001b[1mDEBUG   \u001b[0m | \u001b[36m/home/anna/msc_oppgave/fish-forecast/plot_data.py\u001b[0m:\u001b[36m212\u001b[0m - \u001b[34m\u001b[1mSkipping row 274605 element 1 due to error in location: not enough values to unpack (expected 2, got 1)\u001b[0m\n",
      "\u001b[32m00:23:35.556\u001b[0m | \u001b[34m\u001b[1mDEBUG   \u001b[0m | \u001b[36m/home/anna/msc_oppgave/fish-forecast/plot_data.py\u001b[0m:\u001b[36m212\u001b[0m - \u001b[34m\u001b[1mSkipping row 274621 element 1 due to error in location: not enough values to unpack (expected 2, got 1)\u001b[0m\n",
      "\u001b[32m00:23:35.557\u001b[0m | \u001b[34m\u001b[1mDEBUG   \u001b[0m | \u001b[36m/home/anna/msc_oppgave/fish-forecast/plot_data.py\u001b[0m:\u001b[36m212\u001b[0m - \u001b[34m\u001b[1mSkipping row 274637 element 1 due to error in location: not enough values to unpack (expected 2, got 1)\u001b[0m\n",
      "\u001b[32m00:23:35.559\u001b[0m | \u001b[34m\u001b[1mDEBUG   \u001b[0m | \u001b[36m/home/anna/msc_oppgave/fish-forecast/plot_data.py\u001b[0m:\u001b[36m212\u001b[0m - \u001b[34m\u001b[1mSkipping row 274653 element 1 due to error in location: not enough values to unpack (expected 2, got 1)\u001b[0m\n",
      "\u001b[32m00:23:37.658\u001b[0m | \u001b[34m\u001b[1mDEBUG   \u001b[0m | \u001b[36m/home/anna/msc_oppgave/fish-forecast/plot_data.py\u001b[0m:\u001b[36m212\u001b[0m - \u001b[34m\u001b[1mSkipping row 314638 element 1 due to error in location: not enough values to unpack (expected 2, got 1)\u001b[0m\n",
      "\u001b[32m00:23:37.660\u001b[0m | \u001b[34m\u001b[1mDEBUG   \u001b[0m | \u001b[36m/home/anna/msc_oppgave/fish-forecast/plot_data.py\u001b[0m:\u001b[36m212\u001b[0m - \u001b[34m\u001b[1mSkipping row 314670 element 1 due to error in location: not enough values to unpack (expected 2, got 1)\u001b[0m\n"
     ]
    },
    {
     "data": {
      "image/png": "[encoded data removed]",
      "text/plain": [
       "<Figure size 640x480 with 1 Axes>"
      ]
     },
     "metadata": {},
     "output_type": "display_data"
    }
   ],
   "source": [
    "from plot_data import plot_all_catches\n",
    "plot_all_catches(df_vms_show, test)"
   ]
  },
  {
   "cell_type": "code",
   "execution_count": 21,
   "id": "bb6f7c1a",
   "metadata": {},
   "outputs": [
    {
     "name": "stdout",
     "output_type": "stream",
     "text": [
      "Unique dates with catches per year:\n",
      "    year  date\n",
      "0   2011    66\n",
      "1   2012    69\n",
      "2   2013    72\n",
      "3   2014    82\n",
      "4   2015    88\n",
      "5   2016    77\n",
      "6   2017    83\n",
      "7   2018    66\n",
      "8   2019    51\n",
      "9   2020    56\n",
      "10  2021   112\n",
      "11  2022   122\n",
      "12  2023    98\n",
      "13  2024   105\n"
     ]
    },
    {
     "name": "stderr",
     "output_type": "stream",
     "text": [
      "/tmp/ipykernel_1460371/347105699.py:2: SettingWithCopyWarning: \n",
      "A value is trying to be set on a copy of a slice from a DataFrame.\n",
      "Try using .loc[row_indexer,col_indexer] = value instead\n",
      "\n",
      "See the caveats in the documentation: https://pandas.pydata.org/pandas-docs/stable/user_guide/indexing.html#returning-a-view-versus-a-copy\n",
      "  df_vms_show['date'] = df_vms_show['Starttidspunkt'].dt.date\n"
     ]
    }
   ],
   "source": [
    "# find unique dates with catches given per year\n",
    "df_vms_show['date'] = df_vms_show['Starttidspunkt'].dt.date\n",
    "unique_dates = df_vms_show.groupby('year')['date'].nunique().reset_index()\n",
    "print(\"Unique dates with catches per year:\")\n",
    "print(unique_dates)"
   ]
  },
  {
   "cell_type": "code",
   "execution_count": null,
   "id": "cadec6c7",
   "metadata": {},
   "outputs": [],
   "source": [
    "\n",
    "# combine all VMS data and ERS data for one complete dataset\n",
    "\n",
    "VMS_FOLDER = '/home/anna/msc_oppgave/fish-forecast/VMS-plots/OLD'\n",
    "ERS_PATH = '/home/anna/msc_oppgave/fish-forecast/TEST_MAC_ERS_filtered.csv'\n",
    "df_ers = pd.read_csv(ERS_PATH, sep=';')\n",
    "df_ers['Source'] = 'ERS'\n",
    "df_complete = df_ers.copy()\n",
    "drop_columns_static = ['Meldingstype', 'Kurs','Fart', 'Radiokallesignal', 'Registreringsmerke', \n",
    "                       'Fartøynavn', 'Fartøytype']\n",
    "drop_columns_dynamic = ['Melding ID', 'Meldingstype (kode)', 'Største lengde', 'Største lengde', \n",
    "                        'Motorkraft', 'Fartøyfylke', 'Fartøykommune', 'Bruttotonnasje 1969', \n",
    "                        'Bruttotonnasje annen', 'Fartøytype (kode)', 'Bruttotonnasje', 'MeldingID', \n",
    "                        'Meldingstype(kode)', 'Størstelengde']\n",
    "\n",
    "vms_files = list(Path(VMS_FOLDER).glob(f\"*.csv\"))\n",
    "for f in vms_files:\n",
    "    df_vms = pd.read_csv(f, sep=';')\n",
    "    df_vms.drop(columns=drop_columns_static, inplace=True)\n",
    "    df_vms['Source'] = 'VMS'\n",
    "\n",
    "    df_vms['Breddegrad'] = df_vms['Breddegrad'].astype(str).str.replace(',', '.').astype(float)\n",
    "    df_vms['Lengdegrad'] = df_vms['Lengdegrad'].astype(str).str.replace(',', '.').astype(float)\n",
    "\n",
    "    df_vms['Tidspunkt (UTC)'] = pd.to_datetime(df_vms['Tidspunkt (UTC)'], format='mixed')\n",
    "    df_vms['Starttidspunkt'] = df_vms['Tidspunkt (UTC)'].dt.strftime('%Y-%m-%d %H:%M:%S')\n",
    "    df_vms['Date'] = df_vms['Tidspunkt (UTC)'].dt.strftime('%Y-%m-%d')\n",
    "    df_vms['CatchLat'] = df_vms['Breddegrad']\n",
    "    df_vms['CatchLon'] = df_vms['Lengdegrad']\n",
    "    df_vms['Location'] = list(zip(df_vms['CatchLat'], df_vms['CatchLon']))\n",
    "    df_vms.drop(columns=['Breddegrad', 'Lengdegrad', 'Tidspunkt (UTC)'], inplace=True)\n",
    "    df_complete = pd.concat([df_complete, df_vms], ignore_index=True)\n",
    "\n",
    "df_complete.drop(columns=drop_columns_dynamic, inplace=True)\n",
    "\n",
    "df_complete['Timestamp'] = pd.to_datetime(df_complete['Starttidspunkt'], format='mixed')\n",
    "df_complete.sort_values(by='Timestamp', inplace=True)\n",
    "df_complete = df_complete.drop(columns=['Timestamp'])\n",
    "\n",
    "df_complete.reset_index(drop=True, inplace=True)\n",
    "df_complete.to_csv(f\"ERS_VMS_test_area_filtered_{2011}_{2024}_jul_nov.csv\", sep=';', index=False)"
   ]
  },
  {
   "cell_type": "code",
   "execution_count": 4,
   "id": "10e30492",
   "metadata": {},
   "outputs": [
    {
     "name": "stdout",
     "output_type": "stream",
     "text": [
      "Speed distribution:\n",
      "count    12158.000000\n",
      "mean         0.398546\n",
      "std          0.898776\n",
      "min          0.000000\n",
      "25%          0.000000\n",
      "50%          0.299940\n",
      "75%          0.552876\n",
      "max         19.409417\n",
      "Name: speed, dtype: float64\n"
     ]
    },
    {
     "data": {
      "image/png": "[encoded data removed]",
      "text/plain": [
       "<Figure size 640x480 with 1 Axes>"
      ]
     },
     "metadata": {},
     "output_type": "display_data"
    }
   ],
   "source": [
    "\n",
    "df_speed = df[df['distance_km'] < 1]\n",
    "# drop rows with elapsed time of zero to avoid division by zero\n",
    "df_speed = df_speed[df_speed['elapsed_time_hours'] > 0]\n",
    "\n",
    "# plot the speed distribution\n",
    "df_speed.speed.plot(kind='hist', bins=50, title='Speed Distribution (km/h)', xlabel='Speed (km/h)', ylabel='Frequency')\n",
    "print(\"Speed distribution:\")\n",
    "print(df_speed['speed'].describe())"
   ]
  },
  {
   "cell_type": "code",
   "execution_count": 5,
   "id": "0da40c2d",
   "metadata": {},
   "outputs": [
    {
     "name": "stdout",
     "output_type": "stream",
     "text": [
      "Top speed distribution:\n",
      "count    0.0\n",
      "mean     NaN\n",
      "std      NaN\n",
      "min      NaN\n",
      "25%      NaN\n",
      "50%      NaN\n",
      "75%      NaN\n",
      "max      NaN\n",
      "Name: speed, dtype: float64\n"
     ]
    }
   ],
   "source": [
    "df_top_speed = df_speed[df_speed['speed'] > 20]\n",
    "print(\"Top speed distribution:\")\n",
    "print(df_top_speed['speed'].describe())"
   ]
  },
  {
   "cell_type": "code",
   "execution_count": 6,
   "id": "2f1fa36a",
   "metadata": {},
   "outputs": [
    {
     "data": {
      "application/vnd.microsoft.datawrangler.viewer.v0+json": {
       "columns": [
        {
         "name": "index",
         "rawType": "int64",
         "type": "integer"
        },
        {
         "name": "Answer",
         "rawType": "int64",
         "type": "integer"
        }
       ],
       "ref": "ece9991c-ef42-4557-bdc4-d99e61c16e69",
       "rows": [
        [
         "0",
         "0"
        ]
       ],
       "shape": {
        "columns": 1,
        "rows": 1
       }
      },
      "text/html": [
       "<div>\n",
       "<style scoped>\n",
       "    .dataframe tbody tr th:only-of-type {\n",
       "        vertical-align: middle;\n",
       "    }\n",
       "\n",
       "    .dataframe tbody tr th {\n",
       "        vertical-align: top;\n",
       "    }\n",
       "\n",
       "    .dataframe thead th {\n",
       "        text-align: right;\n",
       "    }\n",
       "</style>\n",
       "<table border=\"1\" class=\"dataframe\">\n",
       "  <thead>\n",
       "    <tr style=\"text-align: right;\">\n",
       "      <th></th>\n",
       "      <th>Answer</th>\n",
       "    </tr>\n",
       "  </thead>\n",
       "  <tbody>\n",
       "    <tr>\n",
       "      <th>0</th>\n",
       "      <td>0</td>\n",
       "    </tr>\n",
       "  </tbody>\n",
       "</table>\n",
       "</div>"
      ],
      "text/plain": [
       "   Answer\n",
       "0       0"
      ]
     },
     "execution_count": 6,
     "metadata": {},
     "output_type": "execute_result"
    }
   ],
   "source": [
    "df_weight = pd.DataFrame({'Answer': [df[df['Rundvekt'] == 0].shape[0]]})\n",
    "df_weight"
   ]
  }
 ],
 "metadata": {
  "kernelspec": {
   "display_name": ".venv",
   "language": "python",
   "name": "python3"
  },
  "language_info": {
   "codemirror_mode": {
    "name": "ipython",
    "version": 3
   },
   "file_extension": ".py",
   "mimetype": "text/x-python",
   "name": "python",
   "nbconvert_exporter": "python",
   "pygments_lexer": "ipython3",
   "version": "3.10.12"
  }
 },
 "nbformat": 4,
 "nbformat_minor": 5
}
