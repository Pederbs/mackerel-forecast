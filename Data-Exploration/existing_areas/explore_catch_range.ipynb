{
 "cells": [
  {
   "cell_type": "code",
   "execution_count": 1,
   "id": "03cc987f",
   "metadata": {},
   "outputs": [
    {
     "name": "stderr",
     "output_type": "stream",
     "text": [
      "/home/anna/msc_oppgave/fish-forecast/.venv/lib/python3.10/site-packages/tqdm/auto.py:21: TqdmWarning: IProgress not found. Please update jupyter and ipywidgets. See https://ipywidgets.readthedocs.io/en/stable/user_install.html\n",
      "  from .autonotebook import tqdm as notebook_tqdm\n"
     ]
    }
   ],
   "source": [
    "import pandas as pd\n",
    "from pathlib import Path\n",
    "import sys\n",
    "from time import time\n",
    "sys.path.append(str(Path.cwd().parents[1]))\n",
    "\n",
    "from logger import logger\n",
    "from utilities import get_region_border, set_catch_ratio\n",
    "from plot_data import plot_all_catches\n",
    "from fetch_data import fetch_data_from_fiskeridirektoratet, fetch_data_from_copernicus_marine"
   ]
  },
  {
   "cell_type": "code",
   "execution_count": null,
   "id": "ef207f39",
   "metadata": {},
   "outputs": [
    {
     "name": "stderr",
     "output_type": "stream",
     "text": [
      "\u001b[32m19:59:30.273\u001b[0m | \u001b[34m\u001b[1mDEBUG   \u001b[0m | \u001b[36m/home/anna/msc_oppgave/fish-forecast/fetch_data.py\u001b[0m:\u001b[36m102\u001b[0m - \u001b[34m\u001b[1mSearching years: 2011 - 2011\u001b[0m\n",
      "\u001b[32m19:59:30.274\u001b[0m | \u001b[34m\u001b[1mDEBUG   \u001b[0m | \u001b[36m/home/anna/msc_oppgave/fish-forecast/fetch_data.py\u001b[0m:\u001b[36m112\u001b[0m - \u001b[34m\u001b[1mSearching for fish species: MAC\u001b[0m\n",
      "\u001b[32m19:59:35.535\u001b[0m | \u001b[34m\u001b[1mDEBUG   \u001b[0m | \u001b[36m/home/anna/msc_oppgave/fish-forecast/fetch_data.py\u001b[0m:\u001b[36m130\u001b[0m - \u001b[34m\u001b[1mFirst and last entry for year 2011: 01.06.2011 09:56:00 - 25.08.2011 06:54:00\u001b[0m\n",
      "\u001b[32m19:59:35.535\u001b[0m | \u001b[34m\u001b[1mDEBUG   \u001b[0m | \u001b[36m/home/anna/msc_oppgave/fish-forecast/fetch_data.py\u001b[0m:\u001b[36m132\u001b[0m - \u001b[34m\u001b[1mData for year 2011 shape: (1573, 9)\u001b[0m\n",
      "\u001b[32m19:59:35.547\u001b[0m | \u001b[34m\u001b[1mDEBUG   \u001b[0m | \u001b[36m/home/anna/msc_oppgave/fish-forecast/fetch_data.py\u001b[0m:\u001b[36m143\u001b[0m - \u001b[34m\u001b[1mDataframe shape after removing outside ROI catch: (1573, 12)\u001b[0m\n",
      "\u001b[32m19:59:35.551\u001b[0m | \u001b[1mINFO    \u001b[0m | \u001b[36m/home/anna/msc_oppgave/fish-forecast/fetch_data.py\u001b[0m:\u001b[36m175\u001b[0m - \u001b[1mFinal dataset shape: (1573, 5)\u001b[0m\n",
      "\u001b[32m19:59:35.566\u001b[0m | \u001b[1mINFO    \u001b[0m | \u001b[36m/home/anna/msc_oppgave/fish-forecast/utilities.py\u001b[0m:\u001b[36m133\u001b[0m - \u001b[1mPeriod used (%): 105/183 = 57.38% -> Days w/o: 78\u001b[0m\n",
      "\u001b[32m19:59:35.569\u001b[0m | \u001b[1mINFO    \u001b[0m | \u001b[36m/home/anna/msc_oppgave/fish-forecast/utilities.py\u001b[0m:\u001b[36m171\u001b[0m - \u001b[1mDates with catch (%): 100.00-> Goal: 100.00 -> 105 days\u001b[0m\n",
      "\u001b[32m19:59:35.570\u001b[0m | \u001b[34m\u001b[1mDEBUG   \u001b[0m | \u001b[36m/home/anna/msc_oppgave/fish-forecast/fetch_data.py\u001b[0m:\u001b[36m102\u001b[0m - \u001b[34m\u001b[1mSearching years: 2012 - 2012\u001b[0m\n",
      "\u001b[32m19:59:35.571\u001b[0m | \u001b[34m\u001b[1mDEBUG   \u001b[0m | \u001b[36m/home/anna/msc_oppgave/fish-forecast/fetch_data.py\u001b[0m:\u001b[36m112\u001b[0m - \u001b[34m\u001b[1mSearching for fish species: MAC\u001b[0m\n",
      "\u001b[32m19:59:41.102\u001b[0m | \u001b[34m\u001b[1mDEBUG   \u001b[0m | \u001b[36m/home/anna/msc_oppgave/fish-forecast/fetch_data.py\u001b[0m:\u001b[36m130\u001b[0m - \u001b[34m\u001b[1mFirst and last entry for year 2012: 04.06.2012 20:37:00 - 25.11.2012 03:23:00\u001b[0m\n",
      "\u001b[32m19:59:41.102\u001b[0m | \u001b[34m\u001b[1mDEBUG   \u001b[0m | \u001b[36m/home/anna/msc_oppgave/fish-forecast/fetch_data.py\u001b[0m:\u001b[36m132\u001b[0m - \u001b[34m\u001b[1mData for year 2012 shape: (1276, 9)\u001b[0m\n",
      "\u001b[32m19:59:41.113\u001b[0m | \u001b[34m\u001b[1mDEBUG   \u001b[0m | \u001b[36m/home/anna/msc_oppgave/fish-forecast/fetch_data.py\u001b[0m:\u001b[36m143\u001b[0m - \u001b[34m\u001b[1mDataframe shape after removing outside ROI catch: (1276, 12)\u001b[0m\n",
      "\u001b[32m19:59:41.115\u001b[0m | \u001b[1mINFO    \u001b[0m | \u001b[36m/home/anna/msc_oppgave/fish-forecast/fetch_data.py\u001b[0m:\u001b[36m175\u001b[0m - \u001b[1mFinal dataset shape: (1276, 5)\u001b[0m\n",
      "\u001b[32m19:59:41.131\u001b[0m | \u001b[1mINFO    \u001b[0m | \u001b[36m/home/anna/msc_oppgave/fish-forecast/utilities.py\u001b[0m:\u001b[36m133\u001b[0m - \u001b[1mPeriod used (%): 94/183 = 51.37% -> Days w/o: 89\u001b[0m\n",
      "\u001b[32m19:59:41.134\u001b[0m | \u001b[1mINFO    \u001b[0m | \u001b[36m/home/anna/msc_oppgave/fish-forecast/utilities.py\u001b[0m:\u001b[36m171\u001b[0m - \u001b[1mDates with catch (%): 100.00-> Goal: 100.00 -> 94 days\u001b[0m\n",
      "\u001b[32m19:59:41.136\u001b[0m | \u001b[34m\u001b[1mDEBUG   \u001b[0m | \u001b[36m/home/anna/msc_oppgave/fish-forecast/fetch_data.py\u001b[0m:\u001b[36m102\u001b[0m - \u001b[34m\u001b[1mSearching years: 2013 - 2013\u001b[0m\n",
      "\u001b[32m19:59:41.137\u001b[0m | \u001b[34m\u001b[1mDEBUG   \u001b[0m | \u001b[36m/home/anna/msc_oppgave/fish-forecast/fetch_data.py\u001b[0m:\u001b[36m112\u001b[0m - \u001b[34m\u001b[1mSearching for fish species: MAC\u001b[0m\n",
      "\u001b[32m19:59:46.703\u001b[0m | \u001b[34m\u001b[1mDEBUG   \u001b[0m | \u001b[36m/home/anna/msc_oppgave/fish-forecast/fetch_data.py\u001b[0m:\u001b[36m130\u001b[0m - \u001b[34m\u001b[1mFirst and last entry for year 2013: 05.06.2013 23:48:00 - 25.11.2013 21:44:00\u001b[0m\n",
      "\u001b[32m19:59:46.703\u001b[0m | \u001b[34m\u001b[1mDEBUG   \u001b[0m | \u001b[36m/home/anna/msc_oppgave/fish-forecast/fetch_data.py\u001b[0m:\u001b[36m132\u001b[0m - \u001b[34m\u001b[1mData for year 2013 shape: (1353, 9)\u001b[0m\n",
      "\u001b[32m19:59:46.725\u001b[0m | \u001b[34m\u001b[1mDEBUG   \u001b[0m | \u001b[36m/home/anna/msc_oppgave/fish-forecast/fetch_data.py\u001b[0m:\u001b[36m143\u001b[0m - \u001b[34m\u001b[1mDataframe shape after removing outside ROI catch: (1352, 12)\u001b[0m\n",
      "\u001b[32m19:59:46.732\u001b[0m | \u001b[1mINFO    \u001b[0m | \u001b[36m/home/anna/msc_oppgave/fish-forecast/fetch_data.py\u001b[0m:\u001b[36m175\u001b[0m - \u001b[1mFinal dataset shape: (1352, 5)\u001b[0m\n",
      "\u001b[32m19:59:46.739\u001b[0m | \u001b[1mINFO    \u001b[0m | \u001b[36m/home/anna/msc_oppgave/fish-forecast/utilities.py\u001b[0m:\u001b[36m133\u001b[0m - \u001b[1mPeriod used (%): 119/183 = 65.03% -> Days w/o: 64\u001b[0m\n",
      "\u001b[32m19:59:46.743\u001b[0m | \u001b[1mINFO    \u001b[0m | \u001b[36m/home/anna/msc_oppgave/fish-forecast/utilities.py\u001b[0m:\u001b[36m171\u001b[0m - \u001b[1mDates with catch (%): 100.00-> Goal: 100.00 -> 119 days\u001b[0m\n",
      "\u001b[32m19:59:46.745\u001b[0m | \u001b[34m\u001b[1mDEBUG   \u001b[0m | \u001b[36m/home/anna/msc_oppgave/fish-forecast/fetch_data.py\u001b[0m:\u001b[36m102\u001b[0m - \u001b[34m\u001b[1mSearching years: 2014 - 2014\u001b[0m\n",
      "\u001b[32m19:59:46.746\u001b[0m | \u001b[34m\u001b[1mDEBUG   \u001b[0m | \u001b[36m/home/anna/msc_oppgave/fish-forecast/fetch_data.py\u001b[0m:\u001b[36m112\u001b[0m - \u001b[34m\u001b[1mSearching for fish species: MAC\u001b[0m\n",
      "\u001b[32m19:59:52.167\u001b[0m | \u001b[34m\u001b[1mDEBUG   \u001b[0m | \u001b[36m/home/anna/msc_oppgave/fish-forecast/fetch_data.py\u001b[0m:\u001b[36m130\u001b[0m - \u001b[34m\u001b[1mFirst and last entry for year 2014: 01.06.2014 18:50:00 - 26.11.2014 12:07:00\u001b[0m\n",
      "\u001b[32m19:59:52.168\u001b[0m | \u001b[34m\u001b[1mDEBUG   \u001b[0m | \u001b[36m/home/anna/msc_oppgave/fish-forecast/fetch_data.py\u001b[0m:\u001b[36m132\u001b[0m - \u001b[34m\u001b[1mData for year 2014 shape: (1934, 9)\u001b[0m\n",
      "\u001b[32m19:59:52.191\u001b[0m | \u001b[34m\u001b[1mDEBUG   \u001b[0m | \u001b[36m/home/anna/msc_oppgave/fish-forecast/fetch_data.py\u001b[0m:\u001b[36m143\u001b[0m - \u001b[34m\u001b[1mDataframe shape after removing outside ROI catch: (1933, 12)\u001b[0m\n",
      "\u001b[32m19:59:52.196\u001b[0m | \u001b[1mINFO    \u001b[0m | \u001b[36m/home/anna/msc_oppgave/fish-forecast/fetch_data.py\u001b[0m:\u001b[36m175\u001b[0m - \u001b[1mFinal dataset shape: (1933, 5)\u001b[0m\n",
      "\u001b[32m19:59:52.201\u001b[0m | \u001b[1mINFO    \u001b[0m | \u001b[36m/home/anna/msc_oppgave/fish-forecast/utilities.py\u001b[0m:\u001b[36m133\u001b[0m - \u001b[1mPeriod used (%): 117/183 = 63.93% -> Days w/o: 66\u001b[0m\n",
      "\u001b[32m19:59:52.204\u001b[0m | \u001b[1mINFO    \u001b[0m | \u001b[36m/home/anna/msc_oppgave/fish-forecast/utilities.py\u001b[0m:\u001b[36m171\u001b[0m - \u001b[1mDates with catch (%): 100.00-> Goal: 100.00 -> 117 days\u001b[0m\n",
      "\u001b[32m19:59:52.205\u001b[0m | \u001b[34m\u001b[1mDEBUG   \u001b[0m | \u001b[36m/home/anna/msc_oppgave/fish-forecast/fetch_data.py\u001b[0m:\u001b[36m102\u001b[0m - \u001b[34m\u001b[1mSearching years: 2015 - 2015\u001b[0m\n",
      "\u001b[32m19:59:52.206\u001b[0m | \u001b[34m\u001b[1mDEBUG   \u001b[0m | \u001b[36m/home/anna/msc_oppgave/fish-forecast/fetch_data.py\u001b[0m:\u001b[36m112\u001b[0m - \u001b[34m\u001b[1mSearching for fish species: MAC\u001b[0m\n",
      "\u001b[32m19:59:57.714\u001b[0m | \u001b[34m\u001b[1mDEBUG   \u001b[0m | \u001b[36m/home/anna/msc_oppgave/fish-forecast/fetch_data.py\u001b[0m:\u001b[36m130\u001b[0m - \u001b[34m\u001b[1mFirst and last entry for year 2015: 05.06.2015 22:45:00 - 24.11.2015 15:46:00\u001b[0m\n",
      "\u001b[32m19:59:57.715\u001b[0m | \u001b[34m\u001b[1mDEBUG   \u001b[0m | \u001b[36m/home/anna/msc_oppgave/fish-forecast/fetch_data.py\u001b[0m:\u001b[36m132\u001b[0m - \u001b[34m\u001b[1mData for year 2015 shape: (1422, 9)\u001b[0m\n",
      "\u001b[32m19:59:57.737\u001b[0m | \u001b[34m\u001b[1mDEBUG   \u001b[0m | \u001b[36m/home/anna/msc_oppgave/fish-forecast/fetch_data.py\u001b[0m:\u001b[36m143\u001b[0m - \u001b[34m\u001b[1mDataframe shape after removing outside ROI catch: (1421, 12)\u001b[0m\n",
      "\u001b[32m19:59:57.740\u001b[0m | \u001b[1mINFO    \u001b[0m | \u001b[36m/home/anna/msc_oppgave/fish-forecast/fetch_data.py\u001b[0m:\u001b[36m175\u001b[0m - \u001b[1mFinal dataset shape: (1421, 5)\u001b[0m\n",
      "\u001b[32m19:59:57.744\u001b[0m | \u001b[1mINFO    \u001b[0m | \u001b[36m/home/anna/msc_oppgave/fish-forecast/utilities.py\u001b[0m:\u001b[36m133\u001b[0m - \u001b[1mPeriod used (%): 133/183 = 72.68% -> Days w/o: 50\u001b[0m\n",
      "\u001b[32m19:59:57.748\u001b[0m | \u001b[1mINFO    \u001b[0m | \u001b[36m/home/anna/msc_oppgave/fish-forecast/utilities.py\u001b[0m:\u001b[36m171\u001b[0m - \u001b[1mDates with catch (%): 100.00-> Goal: 100.00 -> 133 days\u001b[0m\n",
      "\u001b[32m19:59:57.750\u001b[0m | \u001b[34m\u001b[1mDEBUG   \u001b[0m | \u001b[36m/home/anna/msc_oppgave/fish-forecast/fetch_data.py\u001b[0m:\u001b[36m102\u001b[0m - \u001b[34m\u001b[1mSearching years: 2016 - 2016\u001b[0m\n",
      "\u001b[32m19:59:57.751\u001b[0m | \u001b[34m\u001b[1mDEBUG   \u001b[0m | \u001b[36m/home/anna/msc_oppgave/fish-forecast/fetch_data.py\u001b[0m:\u001b[36m112\u001b[0m - \u001b[34m\u001b[1mSearching for fish species: MAC\u001b[0m\n",
      "\u001b[32m20:00:03.788\u001b[0m | \u001b[34m\u001b[1mDEBUG   \u001b[0m | \u001b[36m/home/anna/msc_oppgave/fish-forecast/fetch_data.py\u001b[0m:\u001b[36m130\u001b[0m - \u001b[34m\u001b[1mFirst and last entry for year 2016: 10.06.2016 20:19:00 - 27.11.2016 16:02:00\u001b[0m\n",
      "\u001b[32m20:00:03.788\u001b[0m | \u001b[34m\u001b[1mDEBUG   \u001b[0m | \u001b[36m/home/anna/msc_oppgave/fish-forecast/fetch_data.py\u001b[0m:\u001b[36m132\u001b[0m - \u001b[34m\u001b[1mData for year 2016 shape: (1105, 9)\u001b[0m\n",
      "\u001b[32m20:00:03.810\u001b[0m | \u001b[34m\u001b[1mDEBUG   \u001b[0m | \u001b[36m/home/anna/msc_oppgave/fish-forecast/fetch_data.py\u001b[0m:\u001b[36m143\u001b[0m - \u001b[34m\u001b[1mDataframe shape after removing outside ROI catch: (1105, 12)\u001b[0m\n",
      "\u001b[32m20:00:03.813\u001b[0m | \u001b[1mINFO    \u001b[0m | \u001b[36m/home/anna/msc_oppgave/fish-forecast/fetch_data.py\u001b[0m:\u001b[36m175\u001b[0m - \u001b[1mFinal dataset shape: (1105, 5)\u001b[0m\n",
      "\u001b[32m20:00:03.817\u001b[0m | \u001b[1mINFO    \u001b[0m | \u001b[36m/home/anna/msc_oppgave/fish-forecast/utilities.py\u001b[0m:\u001b[36m133\u001b[0m - \u001b[1mPeriod used (%): 94/183 = 51.37% -> Days w/o: 89\u001b[0m\n",
      "\u001b[32m20:00:03.821\u001b[0m | \u001b[1mINFO    \u001b[0m | \u001b[36m/home/anna/msc_oppgave/fish-forecast/utilities.py\u001b[0m:\u001b[36m171\u001b[0m - \u001b[1mDates with catch (%): 100.00-> Goal: 100.00 -> 94 days\u001b[0m\n",
      "\u001b[32m20:00:03.822\u001b[0m | \u001b[34m\u001b[1mDEBUG   \u001b[0m | \u001b[36m/home/anna/msc_oppgave/fish-forecast/fetch_data.py\u001b[0m:\u001b[36m102\u001b[0m - \u001b[34m\u001b[1mSearching years: 2017 - 2017\u001b[0m\n",
      "\u001b[32m20:00:03.822\u001b[0m | \u001b[34m\u001b[1mDEBUG   \u001b[0m | \u001b[36m/home/anna/msc_oppgave/fish-forecast/fetch_data.py\u001b[0m:\u001b[36m112\u001b[0m - \u001b[34m\u001b[1mSearching for fish species: MAC\u001b[0m\n",
      "\u001b[32m20:00:09.643\u001b[0m | \u001b[34m\u001b[1mDEBUG   \u001b[0m | \u001b[36m/home/anna/msc_oppgave/fish-forecast/fetch_data.py\u001b[0m:\u001b[36m130\u001b[0m - \u001b[34m\u001b[1mFirst and last entry for year 2017: 24.06.2017 06:26:00 - 30.11.2017 23:06:00\u001b[0m\n",
      "\u001b[32m20:00:09.643\u001b[0m | \u001b[34m\u001b[1mDEBUG   \u001b[0m | \u001b[36m/home/anna/msc_oppgave/fish-forecast/fetch_data.py\u001b[0m:\u001b[36m132\u001b[0m - \u001b[34m\u001b[1mData for year 2017 shape: (1005, 9)\u001b[0m\n",
      "\u001b[32m20:00:09.662\u001b[0m | \u001b[34m\u001b[1mDEBUG   \u001b[0m | \u001b[36m/home/anna/msc_oppgave/fish-forecast/fetch_data.py\u001b[0m:\u001b[36m143\u001b[0m - \u001b[34m\u001b[1mDataframe shape after removing outside ROI catch: (1005, 12)\u001b[0m\n",
      "\u001b[32m20:00:09.665\u001b[0m | \u001b[1mINFO    \u001b[0m | \u001b[36m/home/anna/msc_oppgave/fish-forecast/fetch_data.py\u001b[0m:\u001b[36m175\u001b[0m - \u001b[1mFinal dataset shape: (1005, 5)\u001b[0m\n",
      "\u001b[32m20:00:09.669\u001b[0m | \u001b[1mINFO    \u001b[0m | \u001b[36m/home/anna/msc_oppgave/fish-forecast/utilities.py\u001b[0m:\u001b[36m133\u001b[0m - \u001b[1mPeriod used (%): 96/183 = 52.46% -> Days w/o: 87\u001b[0m\n",
      "\u001b[32m20:00:09.672\u001b[0m | \u001b[1mINFO    \u001b[0m | \u001b[36m/home/anna/msc_oppgave/fish-forecast/utilities.py\u001b[0m:\u001b[36m171\u001b[0m - \u001b[1mDates with catch (%): 100.00-> Goal: 100.00 -> 96 days\u001b[0m\n",
      "\u001b[32m20:00:09.674\u001b[0m | \u001b[34m\u001b[1mDEBUG   \u001b[0m | \u001b[36m/home/anna/msc_oppgave/fish-forecast/fetch_data.py\u001b[0m:\u001b[36m102\u001b[0m - \u001b[34m\u001b[1mSearching years: 2018 - 2018\u001b[0m\n",
      "\u001b[32m20:00:09.675\u001b[0m | \u001b[34m\u001b[1mDEBUG   \u001b[0m | \u001b[36m/home/anna/msc_oppgave/fish-forecast/fetch_data.py\u001b[0m:\u001b[36m112\u001b[0m - \u001b[34m\u001b[1mSearching for fish species: MAC\u001b[0m\n",
      "\u001b[32m20:00:15.725\u001b[0m | \u001b[34m\u001b[1mDEBUG   \u001b[0m | \u001b[36m/home/anna/msc_oppgave/fish-forecast/fetch_data.py\u001b[0m:\u001b[36m130\u001b[0m - \u001b[34m\u001b[1mFirst and last entry for year 2018: 12.06.2018 03:47:00 - 25.11.2018 11:40:00\u001b[0m\n",
      "\u001b[32m20:00:15.725\u001b[0m | \u001b[34m\u001b[1mDEBUG   \u001b[0m | \u001b[36m/home/anna/msc_oppgave/fish-forecast/fetch_data.py\u001b[0m:\u001b[36m132\u001b[0m - \u001b[34m\u001b[1mData for year 2018 shape: (1132, 9)\u001b[0m\n",
      "\u001b[32m20:00:15.748\u001b[0m | \u001b[34m\u001b[1mDEBUG   \u001b[0m | \u001b[36m/home/anna/msc_oppgave/fish-forecast/fetch_data.py\u001b[0m:\u001b[36m143\u001b[0m - \u001b[34m\u001b[1mDataframe shape after removing outside ROI catch: (1132, 12)\u001b[0m\n",
      "\u001b[32m20:00:15.751\u001b[0m | \u001b[1mINFO    \u001b[0m | \u001b[36m/home/anna/msc_oppgave/fish-forecast/fetch_data.py\u001b[0m:\u001b[36m175\u001b[0m - \u001b[1mFinal dataset shape: (1132, 5)\u001b[0m\n",
      "\u001b[32m20:00:15.755\u001b[0m | \u001b[1mINFO    \u001b[0m | \u001b[36m/home/anna/msc_oppgave/fish-forecast/utilities.py\u001b[0m:\u001b[36m133\u001b[0m - \u001b[1mPeriod used (%): 76/183 = 41.53% -> Days w/o: 107\u001b[0m\n",
      "\u001b[32m20:00:15.758\u001b[0m | \u001b[1mINFO    \u001b[0m | \u001b[36m/home/anna/msc_oppgave/fish-forecast/utilities.py\u001b[0m:\u001b[36m171\u001b[0m - \u001b[1mDates with catch (%): 100.00-> Goal: 100.00 -> 76 days\u001b[0m\n",
      "\u001b[32m20:00:15.760\u001b[0m | \u001b[34m\u001b[1mDEBUG   \u001b[0m | \u001b[36m/home/anna/msc_oppgave/fish-forecast/fetch_data.py\u001b[0m:\u001b[36m102\u001b[0m - \u001b[34m\u001b[1mSearching years: 2019 - 2019\u001b[0m\n",
      "\u001b[32m20:00:15.760\u001b[0m | \u001b[34m\u001b[1mDEBUG   \u001b[0m | \u001b[36m/home/anna/msc_oppgave/fish-forecast/fetch_data.py\u001b[0m:\u001b[36m112\u001b[0m - \u001b[34m\u001b[1mSearching for fish species: MAC\u001b[0m\n",
      "\u001b[32m20:00:22.025\u001b[0m | \u001b[34m\u001b[1mDEBUG   \u001b[0m | \u001b[36m/home/anna/msc_oppgave/fish-forecast/fetch_data.py\u001b[0m:\u001b[36m130\u001b[0m - \u001b[34m\u001b[1mFirst and last entry for year 2019: 08.06.2019 08:52:00 - 30.11.2019 17:26:00\u001b[0m\n",
      "\u001b[32m20:00:22.025\u001b[0m | \u001b[34m\u001b[1mDEBUG   \u001b[0m | \u001b[36m/home/anna/msc_oppgave/fish-forecast/fetch_data.py\u001b[0m:\u001b[36m132\u001b[0m - \u001b[34m\u001b[1mData for year 2019 shape: (880, 9)\u001b[0m\n",
      "\u001b[32m20:00:22.043\u001b[0m | \u001b[34m\u001b[1mDEBUG   \u001b[0m | \u001b[36m/home/anna/msc_oppgave/fish-forecast/fetch_data.py\u001b[0m:\u001b[36m143\u001b[0m - \u001b[34m\u001b[1mDataframe shape after removing outside ROI catch: (879, 12)\u001b[0m\n",
      "\u001b[32m20:00:22.046\u001b[0m | \u001b[1mINFO    \u001b[0m | \u001b[36m/home/anna/msc_oppgave/fish-forecast/fetch_data.py\u001b[0m:\u001b[36m175\u001b[0m - \u001b[1mFinal dataset shape: (879, 5)\u001b[0m\n",
      "\u001b[32m20:00:22.050\u001b[0m | \u001b[1mINFO    \u001b[0m | \u001b[36m/home/anna/msc_oppgave/fish-forecast/utilities.py\u001b[0m:\u001b[36m133\u001b[0m - \u001b[1mPeriod used (%): 67/183 = 36.61% -> Days w/o: 116\u001b[0m\n",
      "\u001b[32m20:00:22.054\u001b[0m | \u001b[1mINFO    \u001b[0m | \u001b[36m/home/anna/msc_oppgave/fish-forecast/utilities.py\u001b[0m:\u001b[36m171\u001b[0m - \u001b[1mDates with catch (%): 100.00-> Goal: 100.00 -> 67 days\u001b[0m\n",
      "\u001b[32m20:00:22.055\u001b[0m | \u001b[34m\u001b[1mDEBUG   \u001b[0m | \u001b[36m/home/anna/msc_oppgave/fish-forecast/fetch_data.py\u001b[0m:\u001b[36m102\u001b[0m - \u001b[34m\u001b[1mSearching years: 2020 - 2020\u001b[0m\n",
      "\u001b[32m20:00:22.056\u001b[0m | \u001b[34m\u001b[1mDEBUG   \u001b[0m | \u001b[36m/home/anna/msc_oppgave/fish-forecast/fetch_data.py\u001b[0m:\u001b[36m112\u001b[0m - \u001b[34m\u001b[1mSearching for fish species: MAC\u001b[0m\n",
      "\u001b[32m20:00:28.414\u001b[0m | \u001b[34m\u001b[1mDEBUG   \u001b[0m | \u001b[36m/home/anna/msc_oppgave/fish-forecast/fetch_data.py\u001b[0m:\u001b[36m130\u001b[0m - \u001b[34m\u001b[1mFirst and last entry for year 2020: 14.06.2020 19:27:00 - 24.11.2020 14:06:00\u001b[0m\n",
      "\u001b[32m20:00:28.414\u001b[0m | \u001b[34m\u001b[1mDEBUG   \u001b[0m | \u001b[36m/home/anna/msc_oppgave/fish-forecast/fetch_data.py\u001b[0m:\u001b[36m132\u001b[0m - \u001b[34m\u001b[1mData for year 2020 shape: (1269, 9)\u001b[0m\n",
      "\u001b[32m20:00:28.434\u001b[0m | \u001b[34m\u001b[1mDEBUG   \u001b[0m | \u001b[36m/home/anna/msc_oppgave/fish-forecast/fetch_data.py\u001b[0m:\u001b[36m143\u001b[0m - \u001b[34m\u001b[1mDataframe shape after removing outside ROI catch: (1269, 12)\u001b[0m\n",
      "\u001b[32m20:00:28.438\u001b[0m | \u001b[1mINFO    \u001b[0m | \u001b[36m/home/anna/msc_oppgave/fish-forecast/fetch_data.py\u001b[0m:\u001b[36m175\u001b[0m - \u001b[1mFinal dataset shape: (1269, 5)\u001b[0m\n",
      "\u001b[32m20:00:28.443\u001b[0m | \u001b[1mINFO    \u001b[0m | \u001b[36m/home/anna/msc_oppgave/fish-forecast/utilities.py\u001b[0m:\u001b[36m133\u001b[0m - \u001b[1mPeriod used (%): 77/183 = 42.08% -> Days w/o: 106\u001b[0m\n",
      "\u001b[32m20:00:28.445\u001b[0m | \u001b[1mINFO    \u001b[0m | \u001b[36m/home/anna/msc_oppgave/fish-forecast/utilities.py\u001b[0m:\u001b[36m171\u001b[0m - \u001b[1mDates with catch (%): 100.00-> Goal: 100.00 -> 77 days\u001b[0m\n",
      "\u001b[32m20:00:28.447\u001b[0m | \u001b[34m\u001b[1mDEBUG   \u001b[0m | \u001b[36m/home/anna/msc_oppgave/fish-forecast/fetch_data.py\u001b[0m:\u001b[36m102\u001b[0m - \u001b[34m\u001b[1mSearching years: 2021 - 2021\u001b[0m\n",
      "\u001b[32m20:00:28.447\u001b[0m | \u001b[34m\u001b[1mDEBUG   \u001b[0m | \u001b[36m/home/anna/msc_oppgave/fish-forecast/fetch_data.py\u001b[0m:\u001b[36m112\u001b[0m - \u001b[34m\u001b[1mSearching for fish species: MAC\u001b[0m\n",
      "\u001b[32m20:00:35.391\u001b[0m | \u001b[34m\u001b[1mDEBUG   \u001b[0m | \u001b[36m/home/anna/msc_oppgave/fish-forecast/fetch_data.py\u001b[0m:\u001b[36m130\u001b[0m - \u001b[34m\u001b[1mFirst and last entry for year 2021: 04.06.2021 08:12:00 - 17.11.2021 15:39:00\u001b[0m\n",
      "\u001b[32m20:00:35.392\u001b[0m | \u001b[34m\u001b[1mDEBUG   \u001b[0m | \u001b[36m/home/anna/msc_oppgave/fish-forecast/fetch_data.py\u001b[0m:\u001b[36m132\u001b[0m - \u001b[34m\u001b[1mData for year 2021 shape: (3053, 9)\u001b[0m\n",
      "\u001b[32m20:00:35.423\u001b[0m | \u001b[34m\u001b[1mDEBUG   \u001b[0m | \u001b[36m/home/anna/msc_oppgave/fish-forecast/fetch_data.py\u001b[0m:\u001b[36m143\u001b[0m - \u001b[34m\u001b[1mDataframe shape after removing outside ROI catch: (3053, 12)\u001b[0m\n",
      "\u001b[32m20:00:35.427\u001b[0m | \u001b[1mINFO    \u001b[0m | \u001b[36m/home/anna/msc_oppgave/fish-forecast/fetch_data.py\u001b[0m:\u001b[36m175\u001b[0m - \u001b[1mFinal dataset shape: (3053, 5)\u001b[0m\n",
      "\u001b[32m20:00:35.434\u001b[0m | \u001b[1mINFO    \u001b[0m | \u001b[36m/home/anna/msc_oppgave/fish-forecast/utilities.py\u001b[0m:\u001b[36m133\u001b[0m - \u001b[1mPeriod used (%): 137/183 = 74.86% -> Days w/o: 46\u001b[0m\n",
      "\u001b[32m20:00:35.437\u001b[0m | \u001b[1mINFO    \u001b[0m | \u001b[36m/home/anna/msc_oppgave/fish-forecast/utilities.py\u001b[0m:\u001b[36m171\u001b[0m - \u001b[1mDates with catch (%): 100.00-> Goal: 100.00 -> 137 days\u001b[0m\n",
      "\u001b[32m20:00:35.439\u001b[0m | \u001b[34m\u001b[1mDEBUG   \u001b[0m | \u001b[36m/home/anna/msc_oppgave/fish-forecast/fetch_data.py\u001b[0m:\u001b[36m102\u001b[0m - \u001b[34m\u001b[1mSearching years: 2022 - 2022\u001b[0m\n",
      "\u001b[32m20:00:35.439\u001b[0m | \u001b[34m\u001b[1mDEBUG   \u001b[0m | \u001b[36m/home/anna/msc_oppgave/fish-forecast/fetch_data.py\u001b[0m:\u001b[36m112\u001b[0m - \u001b[34m\u001b[1mSearching for fish species: MAC\u001b[0m\n",
      "\u001b[32m20:00:42.129\u001b[0m | \u001b[34m\u001b[1mDEBUG   \u001b[0m | \u001b[36m/home/anna/msc_oppgave/fish-forecast/fetch_data.py\u001b[0m:\u001b[36m130\u001b[0m - \u001b[34m\u001b[1mFirst and last entry for year 2022: 07.06.2022 16:07:00 - 28.11.2022 20:33:00\u001b[0m\n",
      "\u001b[32m20:00:42.129\u001b[0m | \u001b[34m\u001b[1mDEBUG   \u001b[0m | \u001b[36m/home/anna/msc_oppgave/fish-forecast/fetch_data.py\u001b[0m:\u001b[36m132\u001b[0m - \u001b[34m\u001b[1mData for year 2022 shape: (3942, 9)\u001b[0m\n",
      "\u001b[32m20:00:42.166\u001b[0m | \u001b[34m\u001b[1mDEBUG   \u001b[0m | \u001b[36m/home/anna/msc_oppgave/fish-forecast/fetch_data.py\u001b[0m:\u001b[36m143\u001b[0m - \u001b[34m\u001b[1mDataframe shape after removing outside ROI catch: (3940, 12)\u001b[0m\n",
      "\u001b[32m20:00:42.173\u001b[0m | \u001b[1mINFO    \u001b[0m | \u001b[36m/home/anna/msc_oppgave/fish-forecast/fetch_data.py\u001b[0m:\u001b[36m175\u001b[0m - \u001b[1mFinal dataset shape: (3940, 5)\u001b[0m\n",
      "\u001b[32m20:00:42.178\u001b[0m | \u001b[1mINFO    \u001b[0m | \u001b[36m/home/anna/msc_oppgave/fish-forecast/utilities.py\u001b[0m:\u001b[36m133\u001b[0m - \u001b[1mPeriod used (%): 153/183 = 83.61% -> Days w/o: 30\u001b[0m\n",
      "\u001b[32m20:00:42.182\u001b[0m | \u001b[1mINFO    \u001b[0m | \u001b[36m/home/anna/msc_oppgave/fish-forecast/utilities.py\u001b[0m:\u001b[36m171\u001b[0m - \u001b[1mDates with catch (%): 100.00-> Goal: 100.00 -> 153 days\u001b[0m\n",
      "\u001b[32m20:00:42.184\u001b[0m | \u001b[34m\u001b[1mDEBUG   \u001b[0m | \u001b[36m/home/anna/msc_oppgave/fish-forecast/fetch_data.py\u001b[0m:\u001b[36m102\u001b[0m - \u001b[34m\u001b[1mSearching years: 2023 - 2023\u001b[0m\n",
      "\u001b[32m20:00:42.184\u001b[0m | \u001b[34m\u001b[1mDEBUG   \u001b[0m | \u001b[36m/home/anna/msc_oppgave/fish-forecast/fetch_data.py\u001b[0m:\u001b[36m112\u001b[0m - \u001b[34m\u001b[1mSearching for fish species: MAC\u001b[0m\n",
      "\u001b[32m20:00:49.207\u001b[0m | \u001b[34m\u001b[1mDEBUG   \u001b[0m | \u001b[36m/home/anna/msc_oppgave/fish-forecast/fetch_data.py\u001b[0m:\u001b[36m130\u001b[0m - \u001b[34m\u001b[1mFirst and last entry for year 2023: 05.06.2023 16:06:00 - 28.11.2023 00:42:00\u001b[0m\n",
      "\u001b[32m20:00:49.207\u001b[0m | \u001b[34m\u001b[1mDEBUG   \u001b[0m | \u001b[36m/home/anna/msc_oppgave/fish-forecast/fetch_data.py\u001b[0m:\u001b[36m132\u001b[0m - \u001b[34m\u001b[1mData for year 2023 shape: (2696, 9)\u001b[0m\n",
      "\u001b[32m20:00:49.237\u001b[0m | \u001b[34m\u001b[1mDEBUG   \u001b[0m | \u001b[36m/home/anna/msc_oppgave/fish-forecast/fetch_data.py\u001b[0m:\u001b[36m143\u001b[0m - \u001b[34m\u001b[1mDataframe shape after removing outside ROI catch: (2695, 12)\u001b[0m\n",
      "\u001b[32m20:00:49.244\u001b[0m | \u001b[1mINFO    \u001b[0m | \u001b[36m/home/anna/msc_oppgave/fish-forecast/fetch_data.py\u001b[0m:\u001b[36m175\u001b[0m - \u001b[1mFinal dataset shape: (2695, 5)\u001b[0m\n",
      "\u001b[32m20:00:49.249\u001b[0m | \u001b[1mINFO    \u001b[0m | \u001b[36m/home/anna/msc_oppgave/fish-forecast/utilities.py\u001b[0m:\u001b[36m133\u001b[0m - \u001b[1mPeriod used (%): 128/183 = 69.95% -> Days w/o: 55\u001b[0m\n",
      "\u001b[32m20:00:49.253\u001b[0m | \u001b[1mINFO    \u001b[0m | \u001b[36m/home/anna/msc_oppgave/fish-forecast/utilities.py\u001b[0m:\u001b[36m171\u001b[0m - \u001b[1mDates with catch (%): 100.00-> Goal: 100.00 -> 128 days\u001b[0m\n",
      "\u001b[32m20:00:49.255\u001b[0m | \u001b[34m\u001b[1mDEBUG   \u001b[0m | \u001b[36m/home/anna/msc_oppgave/fish-forecast/fetch_data.py\u001b[0m:\u001b[36m102\u001b[0m - \u001b[34m\u001b[1mSearching years: 2024 - 2024\u001b[0m\n",
      "\u001b[32m20:00:49.256\u001b[0m | \u001b[34m\u001b[1mDEBUG   \u001b[0m | \u001b[36m/home/anna/msc_oppgave/fish-forecast/fetch_data.py\u001b[0m:\u001b[36m112\u001b[0m - \u001b[34m\u001b[1mSearching for fish species: MAC\u001b[0m\n",
      "\u001b[32m20:00:55.932\u001b[0m | \u001b[34m\u001b[1mDEBUG   \u001b[0m | \u001b[36m/home/anna/msc_oppgave/fish-forecast/fetch_data.py\u001b[0m:\u001b[36m130\u001b[0m - \u001b[34m\u001b[1mFirst and last entry for year 2024: 11.06.2024 18:18:00 - 21.11.2024 23:49:00\u001b[0m\n",
      "\u001b[32m20:00:55.933\u001b[0m | \u001b[34m\u001b[1mDEBUG   \u001b[0m | \u001b[36m/home/anna/msc_oppgave/fish-forecast/fetch_data.py\u001b[0m:\u001b[36m132\u001b[0m - \u001b[34m\u001b[1mData for year 2024 shape: (3625, 9)\u001b[0m\n",
      "\u001b[32m20:00:55.973\u001b[0m | \u001b[34m\u001b[1mDEBUG   \u001b[0m | \u001b[36m/home/anna/msc_oppgave/fish-forecast/fetch_data.py\u001b[0m:\u001b[36m143\u001b[0m - \u001b[34m\u001b[1mDataframe shape after removing outside ROI catch: (3622, 12)\u001b[0m\n",
      "\u001b[32m20:00:55.979\u001b[0m | \u001b[1mINFO    \u001b[0m | \u001b[36m/home/anna/msc_oppgave/fish-forecast/fetch_data.py\u001b[0m:\u001b[36m175\u001b[0m - \u001b[1mFinal dataset shape: (3622, 5)\u001b[0m\n",
      "\u001b[32m20:00:55.985\u001b[0m | \u001b[1mINFO    \u001b[0m | \u001b[36m/home/anna/msc_oppgave/fish-forecast/utilities.py\u001b[0m:\u001b[36m133\u001b[0m - \u001b[1mPeriod used (%): 132/183 = 72.13% -> Days w/o: 51\u001b[0m\n",
      "\u001b[32m20:00:55.990\u001b[0m | \u001b[1mINFO    \u001b[0m | \u001b[36m/home/anna/msc_oppgave/fish-forecast/utilities.py\u001b[0m:\u001b[36m171\u001b[0m - \u001b[1mDates with catch (%): 100.00-> Goal: 100.00 -> 132 days\u001b[0m\n"
     ]
    }
   ],
   "source": [
    "REGIONS_PATH = '/home/anna/msc_oppgave/fish-forecast/areas.json'\n",
    "MAC_REGIONS = [\"FA_Makrell_JulNov_winter_download\"]\n",
    "MAC_TIMES = {\"FA_Makrell_JulNov_winter_download\": ['06-01', '11-30']}\n",
    "\n",
    "years = [2011, 2024] # start and end year for the data to inspect\n",
    "\n",
    "region_coords = get_region_border(REGIONS_PATH, MAC_REGIONS[0])\n",
    "df_full = pd.DataFrame()\n",
    "\n",
    "for y in range(years[0], years[1] + 1):\n",
    "\ttest_params_fdir = {\n",
    "\t\t\t\t\"dataset_path\": \"/home/anna/msc_oppgave/data/fiskeridirektoratet/\",\n",
    "\t\t\t\t\"time\": [f\"{y}-{MAC_TIMES[MAC_REGIONS[0]][0]}\", f\"{y}-{MAC_TIMES[MAC_REGIONS[0]][1]}\"],\n",
    "\t\t\t\t\"species\": \"MAC\"\n",
    "\t\t\t}\n",
    "\n",
    "\ttest_params_fdir.update(region_coords)\n",
    "\tds = fetch_data_from_fiskeridirektoratet(test_params_fdir, day_samples=False)\n",
    "\n",
    "\tds = set_catch_ratio(test_params_fdir, ds, 1.0, method='continuous')\n",
    "\n",
    "\tdf_full = pd.concat([df_full, ds])\n",
    "\n",
    "df_full = df_full.reset_index(drop=True)\n",
    "# df_full.to_csv(f\"data_download_area_{years[0]}_{years[1]}_jul_nov.csv\", sep=';', index=False)\n",
    "\n"
   ]
  },
  {
   "cell_type": "code",
   "execution_count": 7,
   "id": "f13fac7c",
   "metadata": {},
   "outputs": [
    {
     "name": "stdout",
     "output_type": "stream",
     "text": [
      "Unique catch days: 1528, total catches: 26255\n"
     ]
    },
    {
     "data": {
      "image/png": "[encoded data removed]",
      "text/plain": [
       "<Figure size 640x480 with 1 Axes>"
      ]
     },
     "metadata": {},
     "output_type": "display_data"
    },
    {
     "name": "stdout",
     "output_type": "stream",
     "text": [
      "Unique catch days without June: 1310, total catches: 24393\n"
     ]
    },
    {
     "data": {
      "image/png": "[encoded data removed]",
      "text/plain": [
       "<Figure size 640x480 with 1 Axes>"
      ]
     },
     "metadata": {},
     "output_type": "display_data"
    }
   ],
   "source": [
    "unique_catch_days = df_full['Date'].unique()\n",
    "print(f\"Unique catch days: {len(unique_catch_days)}, total catches: {df_full.shape[0]}\")\n",
    "\n",
    "plot_all_catches(df_full, region_coords, use_catch_weight=False) \n",
    "\n",
    "df_woJUN = df_full[df_full['Date'].dt.month != 6]\n",
    "print(f\"Unique catch days without June: {len(df_woJUN['Date'].unique())}, total catches: {df_woJUN.shape[0]}\")\n",
    "plot_all_catches(df_woJUN, region_coords, use_catch_weight=False)"
   ]
  },
  {
   "cell_type": "code",
   "execution_count": null,
   "id": "9dceee1b",
   "metadata": {},
   "outputs": [
    {
     "name": "stderr",
     "output_type": "stream",
     "text": [
      "INFO - 2025-06-21T17:06:02Z - Selected dataset version: \"202311\"\n",
      "INFO - 2025-06-21T17:06:02Z - Selected dataset part: \"default\"\n"
     ]
    },
    {
     "data": {
      "text/html": [
       "<div><svg style=\"position: absolute; width: 0; height: 0; overflow: hidden\">\n",
       "<defs>\n",
       "<symbol id=\"icon-database\" viewBox=\"0 0 32 32\">\n",
       "<path d=\"M16 0c-8.837 0-16 2.239-16 5v4c0 2.761 7.163 5 16 5s16-2.239 16-5v-4c0-2.761-7.163-5-16-5z\"></path>\n",
       "<path d=\"M16 17c-8.837 0-16-2.239-16-5v6c0 2.761 7.163 5 16 5s16-2.239 16-5v-6c0 2.761-7.163 5-16 5z\"></path>\n",
       "<path d=\"M16 26c-8.837 0-16-2.239-16-5v6c0 2.761 7.163 5 16 5s16-2.239 16-5v-6c0 2.761-7.163 5-16 5z\"></path>\n",
       "</symbol>\n",
       "<symbol id=\"icon-file-text2\" viewBox=\"0 0 32 32\">\n",
       "<path d=\"M28.681 7.159c-0.694-0.947-1.662-2.053-2.724-3.116s-2.169-2.030-3.116-2.724c-1.612-1.182-2.393-1.319-2.841-1.319h-15.5c-1.378 0-2.5 1.121-2.5 2.5v27c0 1.378 1.122 2.5 2.5 2.5h23c1.378 0 2.5-1.122 2.5-2.5v-19.5c0-0.448-0.137-1.23-1.319-2.841zM24.543 5.457c0.959 0.959 1.712 1.825 2.268 2.543h-4.811v-4.811c0.718 0.556 1.584 1.309 2.543 2.268zM28 29.5c0 0.271-0.229 0.5-0.5 0.5h-23c-0.271 0-0.5-0.229-0.5-0.5v-27c0-0.271 0.229-0.5 0.5-0.5 0 0 15.499-0 15.5 0v7c0 0.552 0.448 1 1 1h7v19.5z\"></path>\n",
       "<path d=\"M23 26h-14c-0.552 0-1-0.448-1-1s0.448-1 1-1h14c0.552 0 1 0.448 1 1s-0.448 1-1 1z\"></path>\n",
       "<path d=\"M23 22h-14c-0.552 0-1-0.448-1-1s0.448-1 1-1h14c0.552 0 1 0.448 1 1s-0.448 1-1 1z\"></path>\n",
       "<path d=\"M23 18h-14c-0.552 0-1-0.448-1-1s0.448-1 1-1h14c0.552 0 1 0.448 1 1s-0.448 1-1 1z\"></path>\n",
       "</symbol>\n",
       "</defs>\n",
       "</svg>\n",
       "<style>/* CSS stylesheet for displaying xarray objects in jupyterlab.\n",
       " *\n",
       " */\n",
       "\n",
       ":root {\n",
       "  --xr-font-color0: var(--jp-content-font-color0, rgba(0, 0, 0, 1));\n",
       "  --xr-font-color2: var(--jp-content-font-color2, rgba(0, 0, 0, 0.54));\n",
       "  --xr-font-color3: var(--jp-content-font-color3, rgba(0, 0, 0, 0.38));\n",
       "  --xr-border-color: var(--jp-border-color2, #e0e0e0);\n",
       "  --xr-disabled-color: var(--jp-layout-color3, #bdbdbd);\n",
       "  --xr-background-color: var(--jp-layout-color0, white);\n",
       "  --xr-background-color-row-even: var(--jp-layout-color1, white);\n",
       "  --xr-background-color-row-odd: var(--jp-layout-color2, #eeeeee);\n",
       "}\n",
       "\n",
       "html[theme=\"dark\"],\n",
       "html[data-theme=\"dark\"],\n",
       "body[data-theme=\"dark\"],\n",
       "body.vscode-dark {\n",
       "  --xr-font-color0: rgba(255, 255, 255, 1);\n",
       "  --xr-font-color2: rgba(255, 255, 255, 0.54);\n",
       "  --xr-font-color3: rgba(255, 255, 255, 0.38);\n",
       "  --xr-border-color: #1f1f1f;\n",
       "  --xr-disabled-color: #515151;\n",
       "  --xr-background-color: #111111;\n",
       "  --xr-background-color-row-even: #111111;\n",
       "  --xr-background-color-row-odd: #313131;\n",
       "}\n",
       "\n",
       ".xr-wrap {\n",
       "  display: block !important;\n",
       "  min-width: 300px;\n",
       "  max-width: 700px;\n",
       "}\n",
       "\n",
       ".xr-text-repr-fallback {\n",
       "  /* fallback to plain text repr when CSS is not injected (untrusted notebook) */\n",
       "  display: none;\n",
       "}\n",
       "\n",
       ".xr-header {\n",
       "  padding-top: 6px;\n",
       "  padding-bottom: 6px;\n",
       "  margin-bottom: 4px;\n",
       "  border-bottom: solid 1px var(--xr-border-color);\n",
       "}\n",
       "\n",
       ".xr-header > div,\n",
       ".xr-header > ul {\n",
       "  display: inline;\n",
       "  margin-top: 0;\n",
       "  margin-bottom: 0;\n",
       "}\n",
       "\n",
       ".xr-obj-type,\n",
       ".xr-array-name {\n",
       "  margin-left: 2px;\n",
       "  margin-right: 10px;\n",
       "}\n",
       "\n",
       ".xr-obj-type {\n",
       "  color: var(--xr-font-color2);\n",
       "}\n",
       "\n",
       ".xr-sections {\n",
       "  padding-left: 0 !important;\n",
       "  display: grid;\n",
       "  grid-template-columns: 150px auto auto 1fr 0 20px 0 20px;\n",
       "}\n",
       "\n",
       ".xr-section-item {\n",
       "  display: contents;\n",
       "}\n",
       "\n",
       ".xr-section-item input {\n",
       "  display: inline-block;\n",
       "  opacity: 0;\n",
       "  height: 0;\n",
       "}\n",
       "\n",
       ".xr-section-item input + label {\n",
       "  color: var(--xr-disabled-color);\n",
       "}\n",
       "\n",
       ".xr-section-item input:enabled + label {\n",
       "  cursor: pointer;\n",
       "  color: var(--xr-font-color2);\n",
       "}\n",
       "\n",
       ".xr-section-item input:focus + label {\n",
       "  border: 2px solid var(--xr-font-color0);\n",
       "}\n",
       "\n",
       ".xr-section-item input:enabled + label:hover {\n",
       "  color: var(--xr-font-color0);\n",
       "}\n",
       "\n",
       ".xr-section-summary {\n",
       "  grid-column: 1;\n",
       "  color: var(--xr-font-color2);\n",
       "  font-weight: 500;\n",
       "}\n",
       "\n",
       ".xr-section-summary > span {\n",
       "  display: inline-block;\n",
       "  padding-left: 0.5em;\n",
       "}\n",
       "\n",
       ".xr-section-summary-in:disabled + label {\n",
       "  color: var(--xr-font-color2);\n",
       "}\n",
       "\n",
       ".xr-section-summary-in + label:before {\n",
       "  display: inline-block;\n",
       "  content: \"►\";\n",
       "  font-size: 11px;\n",
       "  width: 15px;\n",
       "  text-align: center;\n",
       "}\n",
       "\n",
       ".xr-section-summary-in:disabled + label:before {\n",
       "  color: var(--xr-disabled-color);\n",
       "}\n",
       "\n",
       ".xr-section-summary-in:checked + label:before {\n",
       "  content: \"▼\";\n",
       "}\n",
       "\n",
       ".xr-section-summary-in:checked + label > span {\n",
       "  display: none;\n",
       "}\n",
       "\n",
       ".xr-section-summary,\n",
       ".xr-section-inline-details {\n",
       "  padding-top: 4px;\n",
       "  padding-bottom: 4px;\n",
       "}\n",
       "\n",
       ".xr-section-inline-details {\n",
       "  grid-column: 2 / -1;\n",
       "}\n",
       "\n",
       ".xr-section-details {\n",
       "  display: none;\n",
       "  grid-column: 1 / -1;\n",
       "  margin-bottom: 5px;\n",
       "}\n",
       "\n",
       ".xr-section-summary-in:checked ~ .xr-section-details {\n",
       "  display: contents;\n",
       "}\n",
       "\n",
       ".xr-array-wrap {\n",
       "  grid-column: 1 / -1;\n",
       "  display: grid;\n",
       "  grid-template-columns: 20px auto;\n",
       "}\n",
       "\n",
       ".xr-array-wrap > label {\n",
       "  grid-column: 1;\n",
       "  vertical-align: top;\n",
       "}\n",
       "\n",
       ".xr-preview {\n",
       "  color: var(--xr-font-color3);\n",
       "}\n",
       "\n",
       ".xr-array-preview,\n",
       ".xr-array-data {\n",
       "  padding: 0 5px !important;\n",
       "  grid-column: 2;\n",
       "}\n",
       "\n",
       ".xr-array-data,\n",
       ".xr-array-in:checked ~ .xr-array-preview {\n",
       "  display: none;\n",
       "}\n",
       "\n",
       ".xr-array-in:checked ~ .xr-array-data,\n",
       ".xr-array-preview {\n",
       "  display: inline-block;\n",
       "}\n",
       "\n",
       ".xr-dim-list {\n",
       "  display: inline-block !important;\n",
       "  list-style: none;\n",
       "  padding: 0 !important;\n",
       "  margin: 0;\n",
       "}\n",
       "\n",
       ".xr-dim-list li {\n",
       "  display: inline-block;\n",
       "  padding: 0;\n",
       "  margin: 0;\n",
       "}\n",
       "\n",
       ".xr-dim-list:before {\n",
       "  content: \"(\";\n",
       "}\n",
       "\n",
       ".xr-dim-list:after {\n",
       "  content: \")\";\n",
       "}\n",
       "\n",
       ".xr-dim-list li:not(:last-child):after {\n",
       "  content: \",\";\n",
       "  padding-right: 5px;\n",
       "}\n",
       "\n",
       ".xr-has-index {\n",
       "  font-weight: bold;\n",
       "}\n",
       "\n",
       ".xr-var-list,\n",
       ".xr-var-item {\n",
       "  display: contents;\n",
       "}\n",
       "\n",
       ".xr-var-item > div,\n",
       ".xr-var-item label,\n",
       ".xr-var-item > .xr-var-name span {\n",
       "  background-color: var(--xr-background-color-row-even);\n",
       "  margin-bottom: 0;\n",
       "}\n",
       "\n",
       ".xr-var-item > .xr-var-name:hover span {\n",
       "  padding-right: 5px;\n",
       "}\n",
       "\n",
       ".xr-var-list > li:nth-child(odd) > div,\n",
       ".xr-var-list > li:nth-child(odd) > label,\n",
       ".xr-var-list > li:nth-child(odd) > .xr-var-name span {\n",
       "  background-color: var(--xr-background-color-row-odd);\n",
       "}\n",
       "\n",
       ".xr-var-name {\n",
       "  grid-column: 1;\n",
       "}\n",
       "\n",
       ".xr-var-dims {\n",
       "  grid-column: 2;\n",
       "}\n",
       "\n",
       ".xr-var-dtype {\n",
       "  grid-column: 3;\n",
       "  text-align: right;\n",
       "  color: var(--xr-font-color2);\n",
       "}\n",
       "\n",
       ".xr-var-preview {\n",
       "  grid-column: 4;\n",
       "}\n",
       "\n",
       ".xr-index-preview {\n",
       "  grid-column: 2 / 5;\n",
       "  color: var(--xr-font-color2);\n",
       "}\n",
       "\n",
       ".xr-var-name,\n",
       ".xr-var-dims,\n",
       ".xr-var-dtype,\n",
       ".xr-preview,\n",
       ".xr-attrs dt {\n",
       "  white-space: nowrap;\n",
       "  overflow: hidden;\n",
       "  text-overflow: ellipsis;\n",
       "  padding-right: 10px;\n",
       "}\n",
       "\n",
       ".xr-var-name:hover,\n",
       ".xr-var-dims:hover,\n",
       ".xr-var-dtype:hover,\n",
       ".xr-attrs dt:hover {\n",
       "  overflow: visible;\n",
       "  width: auto;\n",
       "  z-index: 1;\n",
       "}\n",
       "\n",
       ".xr-var-attrs,\n",
       ".xr-var-data,\n",
       ".xr-index-data {\n",
       "  display: none;\n",
       "  background-color: var(--xr-background-color) !important;\n",
       "  padding-bottom: 5px !important;\n",
       "}\n",
       "\n",
       ".xr-var-attrs-in:checked ~ .xr-var-attrs,\n",
       ".xr-var-data-in:checked ~ .xr-var-data,\n",
       ".xr-index-data-in:checked ~ .xr-index-data {\n",
       "  display: block;\n",
       "}\n",
       "\n",
       ".xr-var-data > table {\n",
       "  float: right;\n",
       "}\n",
       "\n",
       ".xr-var-name span,\n",
       ".xr-var-data,\n",
       ".xr-index-name div,\n",
       ".xr-index-data,\n",
       ".xr-attrs {\n",
       "  padding-left: 25px !important;\n",
       "}\n",
       "\n",
       ".xr-attrs,\n",
       ".xr-var-attrs,\n",
       ".xr-var-data,\n",
       ".xr-index-data {\n",
       "  grid-column: 1 / -1;\n",
       "}\n",
       "\n",
       "dl.xr-attrs {\n",
       "  padding: 0;\n",
       "  margin: 0;\n",
       "  display: grid;\n",
       "  grid-template-columns: 125px auto;\n",
       "}\n",
       "\n",
       ".xr-attrs dt,\n",
       ".xr-attrs dd {\n",
       "  padding: 0;\n",
       "  margin: 0;\n",
       "  float: left;\n",
       "  padding-right: 10px;\n",
       "  width: auto;\n",
       "}\n",
       "\n",
       ".xr-attrs dt {\n",
       "  font-weight: normal;\n",
       "  grid-column: 1;\n",
       "}\n",
       "\n",
       ".xr-attrs dt:hover span {\n",
       "  display: inline-block;\n",
       "  background: var(--xr-background-color);\n",
       "  padding-right: 10px;\n",
       "}\n",
       "\n",
       ".xr-attrs dd {\n",
       "  grid-column: 2;\n",
       "  white-space: pre-wrap;\n",
       "  word-break: break-all;\n",
       "}\n",
       "\n",
       ".xr-icon-database,\n",
       ".xr-icon-file-text2,\n",
       ".xr-no-icon {\n",
       "  display: inline-block;\n",
       "  vertical-align: middle;\n",
       "  width: 1em;\n",
       "  height: 1.5em !important;\n",
       "  stroke-width: 0;\n",
       "  stroke: currentColor;\n",
       "  fill: currentColor;\n",
       "}\n",
       "</style><pre class='xr-text-repr-fallback'>&lt;xarray.Dataset&gt; Size: 109MB\n",
       "Dimensions:    (depth: 50, latitude: 256, longitude: 256, time: 1)\n",
       "Coordinates:\n",
       "  * depth      (depth) float32 200B 0.494 1.541 2.646 ... 5.275e+03 5.728e+03\n",
       "  * latitude   (latitude) float32 1kB 55.17 55.25 55.33 ... 76.25 76.33 76.42\n",
       "  * longitude  (longitude) float32 1kB -3.167 -3.083 -3.0 ... 17.92 18.0 18.08\n",
       "  * time       (time) datetime64[ns] 8B 2021-06-30\n",
       "Data variables:\n",
       "    bottomT    (time, latitude, longitude) float64 524kB ...\n",
       "    mlotst     (time, latitude, longitude) float64 524kB ...\n",
       "    siconc     (time, latitude, longitude) float64 524kB ...\n",
       "    sithick    (time, latitude, longitude) float64 524kB ...\n",
       "    so         (time, depth, latitude, longitude) float64 26MB ...\n",
       "    thetao     (time, depth, latitude, longitude) float64 26MB ...\n",
       "    uo         (time, depth, latitude, longitude) float64 26MB ...\n",
       "    usi        (time, latitude, longitude) float64 524kB ...\n",
       "    vo         (time, depth, latitude, longitude) float64 26MB ...\n",
       "    vsi        (time, latitude, longitude) float64 524kB ...\n",
       "    zos        (time, latitude, longitude) float64 524kB ...\n",
       "Attributes:\n",
       "    Conventions:  CF-1.4\n",
       "    comment:      CMEMS product\n",
       "    title:        daily mean fields from Global Ocean Physics Analysis and Fo...\n",
       "    institution:  MERCATOR OCEAN\n",
       "    source:       MERCATOR GLORYS12V1\n",
       "    history:      2023/06/01 16:20:05 MERCATOR OCEAN Netcdf creation\n",
       "    references:   http://www.mercator-ocean.fr</pre><div class='xr-wrap' style='display:none'><div class='xr-header'><div class='xr-obj-type'>xarray.Dataset</div></div><ul class='xr-sections'><li class='xr-section-item'><input id='section-1dc9df36-0d43-4f87-a31d-119f0b2eee41' class='xr-section-summary-in' type='checkbox' disabled ><label for='section-1dc9df36-0d43-4f87-a31d-119f0b2eee41' class='xr-section-summary'  title='Expand/collapse section'>Dimensions:</label><div class='xr-section-inline-details'><ul class='xr-dim-list'><li><span class='xr-has-index'>depth</span>: 50</li><li><span class='xr-has-index'>latitude</span>: 256</li><li><span class='xr-has-index'>longitude</span>: 256</li><li><span class='xr-has-index'>time</span>: 1</li></ul></div><div class='xr-section-details'></div></li><li class='xr-section-item'><input id='section-c2352b08-20e7-4764-a258-2987c6cf7204' class='xr-section-summary-in' type='checkbox'  checked><label for='section-c2352b08-20e7-4764-a258-2987c6cf7204' class='xr-section-summary' >Coordinates: <span>(4)</span></label><div class='xr-section-inline-details'></div><div class='xr-section-details'><ul class='xr-var-list'><li class='xr-var-item'><div class='xr-var-name'><span class='xr-has-index'>depth</span></div><div class='xr-var-dims'>(depth)</div><div class='xr-var-dtype'>float32</div><div class='xr-var-preview xr-preview'>0.494 1.541 ... 5.275e+03 5.728e+03</div><input id='attrs-31c75b23-052e-422b-81ac-b8ca5655be1f' class='xr-var-attrs-in' type='checkbox' ><label for='attrs-31c75b23-052e-422b-81ac-b8ca5655be1f' title='Show/Hide attributes'><svg class='icon xr-icon-file-text2'><use xlink:href='#icon-file-text2'></use></svg></label><input id='data-11255795-38f6-44f3-b557-b0fe0d75033e' class='xr-var-data-in' type='checkbox'><label for='data-11255795-38f6-44f3-b557-b0fe0d75033e' title='Show/Hide data repr'><svg class='icon xr-icon-database'><use xlink:href='#icon-database'></use></svg></label><div class='xr-var-attrs'><dl class='xr-attrs'><dt><span>units :</span></dt><dd>m</dd><dt><span>unit_long :</span></dt><dd>Meters</dd><dt><span>standard_name :</span></dt><dd>depth</dd><dt><span>positive :</span></dt><dd>down</dd><dt><span>long_name :</span></dt><dd>Depth</dd><dt><span>axis :</span></dt><dd>Z</dd></dl></div><div class='xr-var-data'><pre>array([4.940250e-01, 1.541375e+00, 2.645669e+00, 3.819495e+00, 5.078224e+00,\n",
       "       6.440614e+00, 7.929560e+00, 9.572997e+00, 1.140500e+01, 1.346714e+01,\n",
       "       1.581007e+01, 1.849556e+01, 2.159882e+01, 2.521141e+01, 2.944473e+01,\n",
       "       3.443415e+01, 4.034405e+01, 4.737369e+01, 5.576429e+01, 6.580727e+01,\n",
       "       7.785385e+01, 9.232607e+01, 1.097293e+02, 1.306660e+02, 1.558507e+02,\n",
       "       1.861256e+02, 2.224752e+02, 2.660403e+02, 3.181274e+02, 3.802130e+02,\n",
       "       4.539377e+02, 5.410889e+02, 6.435668e+02, 7.633331e+02, 9.023393e+02,\n",
       "       1.062440e+03, 1.245291e+03, 1.452251e+03, 1.684284e+03, 1.941893e+03,\n",
       "       2.225078e+03, 2.533336e+03, 2.865703e+03, 3.220820e+03, 3.597032e+03,\n",
       "       3.992484e+03, 4.405224e+03, 4.833291e+03, 5.274784e+03, 5.727917e+03],\n",
       "      dtype=float32)</pre></div></li><li class='xr-var-item'><div class='xr-var-name'><span class='xr-has-index'>latitude</span></div><div class='xr-var-dims'>(latitude)</div><div class='xr-var-dtype'>float32</div><div class='xr-var-preview xr-preview'>55.17 55.25 55.33 ... 76.33 76.42</div><input id='attrs-bc6eff57-8de1-4616-b944-7657db254db5' class='xr-var-attrs-in' type='checkbox' ><label for='attrs-bc6eff57-8de1-4616-b944-7657db254db5' title='Show/Hide attributes'><svg class='icon xr-icon-file-text2'><use xlink:href='#icon-file-text2'></use></svg></label><input id='data-006cac45-37f2-43fa-a169-3393e6fb6469' class='xr-var-data-in' type='checkbox'><label for='data-006cac45-37f2-43fa-a169-3393e6fb6469' title='Show/Hide data repr'><svg class='icon xr-icon-database'><use xlink:href='#icon-database'></use></svg></label><div class='xr-var-attrs'><dl class='xr-attrs'><dt><span>units :</span></dt><dd>degrees_north</dd><dt><span>unit_long :</span></dt><dd>Degrees North</dd><dt><span>standard_name :</span></dt><dd>latitude</dd><dt><span>long_name :</span></dt><dd>Latitude</dd><dt><span>axis :</span></dt><dd>Y</dd></dl></div><div class='xr-var-data'><pre>array([55.166668, 55.25    , 55.333332, ..., 76.25    , 76.333336, 76.416664],\n",
       "      dtype=float32)</pre></div></li><li class='xr-var-item'><div class='xr-var-name'><span class='xr-has-index'>longitude</span></div><div class='xr-var-dims'>(longitude)</div><div class='xr-var-dtype'>float32</div><div class='xr-var-preview xr-preview'>-3.167 -3.083 -3.0 ... 18.0 18.08</div><input id='attrs-2bf7c008-cc89-4c4a-a9c0-4f4b367db442' class='xr-var-attrs-in' type='checkbox' ><label for='attrs-2bf7c008-cc89-4c4a-a9c0-4f4b367db442' title='Show/Hide attributes'><svg class='icon xr-icon-file-text2'><use xlink:href='#icon-file-text2'></use></svg></label><input id='data-fa37b784-7d3b-4e03-8b5b-993b5e60472b' class='xr-var-data-in' type='checkbox'><label for='data-fa37b784-7d3b-4e03-8b5b-993b5e60472b' title='Show/Hide data repr'><svg class='icon xr-icon-database'><use xlink:href='#icon-database'></use></svg></label><div class='xr-var-attrs'><dl class='xr-attrs'><dt><span>units :</span></dt><dd>degrees_east</dd><dt><span>unit_long :</span></dt><dd>Degrees East</dd><dt><span>standard_name :</span></dt><dd>longitude</dd><dt><span>long_name :</span></dt><dd>Longitude</dd><dt><span>axis :</span></dt><dd>X</dd></dl></div><div class='xr-var-data'><pre>array([-3.166667, -3.083333, -3.      , ..., 17.916666, 18.      , 18.083334],\n",
       "      dtype=float32)</pre></div></li><li class='xr-var-item'><div class='xr-var-name'><span class='xr-has-index'>time</span></div><div class='xr-var-dims'>(time)</div><div class='xr-var-dtype'>datetime64[ns]</div><div class='xr-var-preview xr-preview'>2021-06-30</div><input id='attrs-c79f0448-1cb8-4757-bf16-d29fa179fe5e' class='xr-var-attrs-in' type='checkbox' ><label for='attrs-c79f0448-1cb8-4757-bf16-d29fa179fe5e' title='Show/Hide attributes'><svg class='icon xr-icon-file-text2'><use xlink:href='#icon-file-text2'></use></svg></label><input id='data-27ec256d-c9d9-40f9-a6a4-f998d94f70ea' class='xr-var-data-in' type='checkbox'><label for='data-27ec256d-c9d9-40f9-a6a4-f998d94f70ea' title='Show/Hide data repr'><svg class='icon xr-icon-database'><use xlink:href='#icon-database'></use></svg></label><div class='xr-var-attrs'><dl class='xr-attrs'><dt><span>unit_long :</span></dt><dd>Hours Since 1950-01-01</dd><dt><span>standard_name :</span></dt><dd>time</dd><dt><span>axis :</span></dt><dd>T</dd><dt><span>long_name :</span></dt><dd>Time</dd></dl></div><div class='xr-var-data'><pre>array([&#x27;2021-06-30T00:00:00.000000000&#x27;], dtype=&#x27;datetime64[ns]&#x27;)</pre></div></li></ul></div></li><li class='xr-section-item'><input id='section-9a4f6b38-8a4c-4aec-99fb-0279c588c42a' class='xr-section-summary-in' type='checkbox'  checked><label for='section-9a4f6b38-8a4c-4aec-99fb-0279c588c42a' class='xr-section-summary' >Data variables: <span>(11)</span></label><div class='xr-section-inline-details'></div><div class='xr-section-details'><ul class='xr-var-list'><li class='xr-var-item'><div class='xr-var-name'><span>bottomT</span></div><div class='xr-var-dims'>(time, latitude, longitude)</div><div class='xr-var-dtype'>float64</div><div class='xr-var-preview xr-preview'>...</div><input id='attrs-7d35adbb-475d-48e1-94b9-345793ddb41d' class='xr-var-attrs-in' type='checkbox' ><label for='attrs-7d35adbb-475d-48e1-94b9-345793ddb41d' title='Show/Hide attributes'><svg class='icon xr-icon-file-text2'><use xlink:href='#icon-file-text2'></use></svg></label><input id='data-0b7b7d85-b644-4b18-948f-74601d81ab13' class='xr-var-data-in' type='checkbox'><label for='data-0b7b7d85-b644-4b18-948f-74601d81ab13' title='Show/Hide data repr'><svg class='icon xr-icon-database'><use xlink:href='#icon-database'></use></svg></label><div class='xr-var-attrs'><dl class='xr-attrs'><dt><span>units :</span></dt><dd>degrees_C</dd><dt><span>unit_long :</span></dt><dd>Degrees Celsius</dd><dt><span>standard_name :</span></dt><dd>sea_water_potential_temperature_at_sea_floor</dd><dt><span>valid_max :</span></dt><dd>21299</dd><dt><span>valid_min :</span></dt><dd>-32756</dd><dt><span>long_name :</span></dt><dd>Sea floor potential temperature</dd></dl></div><div class='xr-var-data'><pre>[65536 values with dtype=float64]</pre></div></li><li class='xr-var-item'><div class='xr-var-name'><span>mlotst</span></div><div class='xr-var-dims'>(time, latitude, longitude)</div><div class='xr-var-dtype'>float64</div><div class='xr-var-preview xr-preview'>...</div><input id='attrs-ca9e0c10-a8fb-4734-a313-0384630c47f4' class='xr-var-attrs-in' type='checkbox' ><label for='attrs-ca9e0c10-a8fb-4734-a313-0384630c47f4' title='Show/Hide attributes'><svg class='icon xr-icon-file-text2'><use xlink:href='#icon-file-text2'></use></svg></label><input id='data-05dce695-1946-41a2-86b0-fb27940b52d0' class='xr-var-data-in' type='checkbox'><label for='data-05dce695-1946-41a2-86b0-fb27940b52d0' title='Show/Hide data repr'><svg class='icon xr-icon-database'><use xlink:href='#icon-database'></use></svg></label><div class='xr-var-attrs'><dl class='xr-attrs'><dt><span>units :</span></dt><dd>m</dd><dt><span>unit_long :</span></dt><dd>Meters</dd><dt><span>standard_name :</span></dt><dd>ocean_mixed_layer_thickness_defined_by_sigma_theta</dd><dt><span>valid_max :</span></dt><dd>4525</dd><dt><span>valid_min :</span></dt><dd>1</dd><dt><span>long_name :</span></dt><dd>Density ocean mixed layer thickness</dd></dl></div><div class='xr-var-data'><pre>[65536 values with dtype=float64]</pre></div></li><li class='xr-var-item'><div class='xr-var-name'><span>siconc</span></div><div class='xr-var-dims'>(time, latitude, longitude)</div><div class='xr-var-dtype'>float64</div><div class='xr-var-preview xr-preview'>...</div><input id='attrs-ea6ea4f2-5db5-493c-b6d8-61c78f56aadf' class='xr-var-attrs-in' type='checkbox' ><label for='attrs-ea6ea4f2-5db5-493c-b6d8-61c78f56aadf' title='Show/Hide attributes'><svg class='icon xr-icon-file-text2'><use xlink:href='#icon-file-text2'></use></svg></label><input id='data-fbf58a9b-87e0-476c-8fd3-a427921fe4ac' class='xr-var-data-in' type='checkbox'><label for='data-fbf58a9b-87e0-476c-8fd3-a427921fe4ac' title='Show/Hide data repr'><svg class='icon xr-icon-database'><use xlink:href='#icon-database'></use></svg></label><div class='xr-var-attrs'><dl class='xr-attrs'><dt><span>units :</span></dt><dd>1</dd><dt><span>unit_long :</span></dt><dd>Fraction</dd><dt><span>standard_name :</span></dt><dd>sea_ice_area_fraction</dd><dt><span>valid_max :</span></dt><dd>28670</dd><dt><span>valid_min :</span></dt><dd>1</dd><dt><span>long_name :</span></dt><dd>Ice concentration</dd></dl></div><div class='xr-var-data'><pre>[65536 values with dtype=float64]</pre></div></li><li class='xr-var-item'><div class='xr-var-name'><span>sithick</span></div><div class='xr-var-dims'>(time, latitude, longitude)</div><div class='xr-var-dtype'>float64</div><div class='xr-var-preview xr-preview'>...</div><input id='attrs-1a0296df-4ca8-4170-882a-1c3a21b2b201' class='xr-var-attrs-in' type='checkbox' ><label for='attrs-1a0296df-4ca8-4170-882a-1c3a21b2b201' title='Show/Hide attributes'><svg class='icon xr-icon-file-text2'><use xlink:href='#icon-file-text2'></use></svg></label><input id='data-d22cff59-1bc6-41a0-914e-2ad1652508f7' class='xr-var-data-in' type='checkbox'><label for='data-d22cff59-1bc6-41a0-914e-2ad1652508f7' title='Show/Hide data repr'><svg class='icon xr-icon-database'><use xlink:href='#icon-database'></use></svg></label><div class='xr-var-attrs'><dl class='xr-attrs'><dt><span>units :</span></dt><dd>m</dd><dt><span>unit_long :</span></dt><dd>Meters</dd><dt><span>standard_name :</span></dt><dd>sea_ice_thickness</dd><dt><span>valid_max :</span></dt><dd>6179</dd><dt><span>valid_min :</span></dt><dd>1</dd><dt><span>long_name :</span></dt><dd>Sea ice thickness</dd></dl></div><div class='xr-var-data'><pre>[65536 values with dtype=float64]</pre></div></li><li class='xr-var-item'><div class='xr-var-name'><span>so</span></div><div class='xr-var-dims'>(time, depth, latitude, longitude)</div><div class='xr-var-dtype'>float64</div><div class='xr-var-preview xr-preview'>...</div><input id='attrs-ef6b9bf1-1456-4a2c-bd95-b4d237babb2d' class='xr-var-attrs-in' type='checkbox' ><label for='attrs-ef6b9bf1-1456-4a2c-bd95-b4d237babb2d' title='Show/Hide attributes'><svg class='icon xr-icon-file-text2'><use xlink:href='#icon-file-text2'></use></svg></label><input id='data-e5eca1e5-c0b0-4d07-bcd2-ac97336e5de5' class='xr-var-data-in' type='checkbox'><label for='data-e5eca1e5-c0b0-4d07-bcd2-ac97336e5de5' title='Show/Hide data repr'><svg class='icon xr-icon-database'><use xlink:href='#icon-database'></use></svg></label><div class='xr-var-attrs'><dl class='xr-attrs'><dt><span>units :</span></dt><dd>1e-3</dd><dt><span>unit_long :</span></dt><dd>Practical Salinity Unit</dd><dt><span>standard_name :</span></dt><dd>sea_water_salinity</dd><dt><span>valid_max :</span></dt><dd>28249</dd><dt><span>valid_min :</span></dt><dd>1</dd><dt><span>long_name :</span></dt><dd>Salinity</dd></dl></div><div class='xr-var-data'><pre>[3276800 values with dtype=float64]</pre></div></li><li class='xr-var-item'><div class='xr-var-name'><span>thetao</span></div><div class='xr-var-dims'>(time, depth, latitude, longitude)</div><div class='xr-var-dtype'>float64</div><div class='xr-var-preview xr-preview'>...</div><input id='attrs-fdbe351d-a210-49a8-848e-8b4898189343' class='xr-var-attrs-in' type='checkbox' ><label for='attrs-fdbe351d-a210-49a8-848e-8b4898189343' title='Show/Hide attributes'><svg class='icon xr-icon-file-text2'><use xlink:href='#icon-file-text2'></use></svg></label><input id='data-8b155b7a-78da-4ecf-85a5-cd0ab7b1dd2b' class='xr-var-data-in' type='checkbox'><label for='data-8b155b7a-78da-4ecf-85a5-cd0ab7b1dd2b' title='Show/Hide data repr'><svg class='icon xr-icon-database'><use xlink:href='#icon-database'></use></svg></label><div class='xr-var-attrs'><dl class='xr-attrs'><dt><span>units :</span></dt><dd>degrees_C</dd><dt><span>unit_long :</span></dt><dd>Degrees Celsius</dd><dt><span>standard_name :</span></dt><dd>sea_water_potential_temperature</dd><dt><span>valid_max :</span></dt><dd>21306</dd><dt><span>valid_min :</span></dt><dd>-32766</dd><dt><span>long_name :</span></dt><dd>Temperature</dd></dl></div><div class='xr-var-data'><pre>[3276800 values with dtype=float64]</pre></div></li><li class='xr-var-item'><div class='xr-var-name'><span>uo</span></div><div class='xr-var-dims'>(time, depth, latitude, longitude)</div><div class='xr-var-dtype'>float64</div><div class='xr-var-preview xr-preview'>...</div><input id='attrs-f1412080-3659-4a52-ad73-d003b5cea6a3' class='xr-var-attrs-in' type='checkbox' ><label for='attrs-f1412080-3659-4a52-ad73-d003b5cea6a3' title='Show/Hide attributes'><svg class='icon xr-icon-file-text2'><use xlink:href='#icon-file-text2'></use></svg></label><input id='data-b6b088ef-951f-4160-8975-c08037f813e6' class='xr-var-data-in' type='checkbox'><label for='data-b6b088ef-951f-4160-8975-c08037f813e6' title='Show/Hide data repr'><svg class='icon xr-icon-database'><use xlink:href='#icon-database'></use></svg></label><div class='xr-var-attrs'><dl class='xr-attrs'><dt><span>units :</span></dt><dd>m s-1</dd><dt><span>unit_long :</span></dt><dd>Meters per second</dd><dt><span>standard_name :</span></dt><dd>eastward_sea_water_velocity</dd><dt><span>valid_max :</span></dt><dd>4314</dd><dt><span>valid_min :</span></dt><dd>-3123</dd><dt><span>long_name :</span></dt><dd>Eastward velocity</dd></dl></div><div class='xr-var-data'><pre>[3276800 values with dtype=float64]</pre></div></li><li class='xr-var-item'><div class='xr-var-name'><span>usi</span></div><div class='xr-var-dims'>(time, latitude, longitude)</div><div class='xr-var-dtype'>float64</div><div class='xr-var-preview xr-preview'>...</div><input id='attrs-c14179d6-d370-49c3-91b3-7ccd7eddd979' class='xr-var-attrs-in' type='checkbox' ><label for='attrs-c14179d6-d370-49c3-91b3-7ccd7eddd979' title='Show/Hide attributes'><svg class='icon xr-icon-file-text2'><use xlink:href='#icon-file-text2'></use></svg></label><input id='data-46d680f4-465a-4ecc-82f2-53a234a9d85f' class='xr-var-data-in' type='checkbox'><label for='data-46d680f4-465a-4ecc-82f2-53a234a9d85f' title='Show/Hide data repr'><svg class='icon xr-icon-database'><use xlink:href='#icon-database'></use></svg></label><div class='xr-var-attrs'><dl class='xr-attrs'><dt><span>units :</span></dt><dd>m s-1</dd><dt><span>unit_long :</span></dt><dd>Meters per second</dd><dt><span>standard_name :</span></dt><dd>eastward_sea_ice_velocity</dd><dt><span>valid_max :</span></dt><dd>30835</dd><dt><span>valid_min :</span></dt><dd>-31182</dd><dt><span>long_name :</span></dt><dd>Sea ice eastward velocity</dd></dl></div><div class='xr-var-data'><pre>[65536 values with dtype=float64]</pre></div></li><li class='xr-var-item'><div class='xr-var-name'><span>vo</span></div><div class='xr-var-dims'>(time, depth, latitude, longitude)</div><div class='xr-var-dtype'>float64</div><div class='xr-var-preview xr-preview'>...</div><input id='attrs-4f535a93-3001-419a-8978-dde9f1e7e177' class='xr-var-attrs-in' type='checkbox' ><label for='attrs-4f535a93-3001-419a-8978-dde9f1e7e177' title='Show/Hide attributes'><svg class='icon xr-icon-file-text2'><use xlink:href='#icon-file-text2'></use></svg></label><input id='data-8e0d1091-4323-437f-bf98-61d2ad6ddbd7' class='xr-var-data-in' type='checkbox'><label for='data-8e0d1091-4323-437f-bf98-61d2ad6ddbd7' title='Show/Hide data repr'><svg class='icon xr-icon-database'><use xlink:href='#icon-database'></use></svg></label><div class='xr-var-attrs'><dl class='xr-attrs'><dt><span>units :</span></dt><dd>m s-1</dd><dt><span>unit_long :</span></dt><dd>Meters per second</dd><dt><span>standard_name :</span></dt><dd>northward_sea_water_velocity</dd><dt><span>valid_max :</span></dt><dd>3639</dd><dt><span>valid_min :</span></dt><dd>-3680</dd><dt><span>long_name :</span></dt><dd>Northward velocity</dd></dl></div><div class='xr-var-data'><pre>[3276800 values with dtype=float64]</pre></div></li><li class='xr-var-item'><div class='xr-var-name'><span>vsi</span></div><div class='xr-var-dims'>(time, latitude, longitude)</div><div class='xr-var-dtype'>float64</div><div class='xr-var-preview xr-preview'>...</div><input id='attrs-ca1750e4-da50-44d6-b75a-27f249754ed0' class='xr-var-attrs-in' type='checkbox' ><label for='attrs-ca1750e4-da50-44d6-b75a-27f249754ed0' title='Show/Hide attributes'><svg class='icon xr-icon-file-text2'><use xlink:href='#icon-file-text2'></use></svg></label><input id='data-ad23d3d5-6cbe-4a21-9f63-1b53d88b55c6' class='xr-var-data-in' type='checkbox'><label for='data-ad23d3d5-6cbe-4a21-9f63-1b53d88b55c6' title='Show/Hide data repr'><svg class='icon xr-icon-database'><use xlink:href='#icon-database'></use></svg></label><div class='xr-var-attrs'><dl class='xr-attrs'><dt><span>units :</span></dt><dd>m s-1</dd><dt><span>unit_long :</span></dt><dd>Meters per second</dd><dt><span>standard_name :</span></dt><dd>northward_sea_ice_velocity</dd><dt><span>valid_max :</span></dt><dd>19802</dd><dt><span>valid_min :</span></dt><dd>-23416</dd><dt><span>long_name :</span></dt><dd>Sea ice northward velocity</dd></dl></div><div class='xr-var-data'><pre>[65536 values with dtype=float64]</pre></div></li><li class='xr-var-item'><div class='xr-var-name'><span>zos</span></div><div class='xr-var-dims'>(time, latitude, longitude)</div><div class='xr-var-dtype'>float64</div><div class='xr-var-preview xr-preview'>...</div><input id='attrs-b10e5577-eedb-4ce5-932c-94675e421a12' class='xr-var-attrs-in' type='checkbox' ><label for='attrs-b10e5577-eedb-4ce5-932c-94675e421a12' title='Show/Hide attributes'><svg class='icon xr-icon-file-text2'><use xlink:href='#icon-file-text2'></use></svg></label><input id='data-4f454770-a643-4efd-9b12-5bf8e7abbfde' class='xr-var-data-in' type='checkbox'><label for='data-4f454770-a643-4efd-9b12-5bf8e7abbfde' title='Show/Hide data repr'><svg class='icon xr-icon-database'><use xlink:href='#icon-database'></use></svg></label><div class='xr-var-attrs'><dl class='xr-attrs'><dt><span>units :</span></dt><dd>m</dd><dt><span>unit_long :</span></dt><dd>Meters</dd><dt><span>standard_name :</span></dt><dd>sea_surface_height_above_geoid</dd><dt><span>valid_max :</span></dt><dd>5684</dd><dt><span>valid_min :</span></dt><dd>-6228</dd><dt><span>long_name :</span></dt><dd>Sea surface height</dd></dl></div><div class='xr-var-data'><pre>[65536 values with dtype=float64]</pre></div></li></ul></div></li><li class='xr-section-item'><input id='section-2f9e9401-0adf-4981-adfd-d6bbe0a86bc0' class='xr-section-summary-in' type='checkbox'  ><label for='section-2f9e9401-0adf-4981-adfd-d6bbe0a86bc0' class='xr-section-summary' >Indexes: <span>(4)</span></label><div class='xr-section-inline-details'></div><div class='xr-section-details'><ul class='xr-var-list'><li class='xr-var-item'><div class='xr-index-name'><div>depth</div></div><div class='xr-index-preview'>PandasIndex</div><input type='checkbox' disabled/><label></label><input id='index-47603040-e791-4eaa-9dfa-13804d3a007e' class='xr-index-data-in' type='checkbox'/><label for='index-47603040-e791-4eaa-9dfa-13804d3a007e' title='Show/Hide index repr'><svg class='icon xr-icon-database'><use xlink:href='#icon-database'></use></svg></label><div class='xr-index-data'><pre>PandasIndex(Index([0.49402499198913574,  1.5413750410079956,  2.6456689834594727,\n",
       "        3.8194949626922607,   5.078224182128906,   6.440614223480225,\n",
       "          7.92956018447876,   9.572997093200684,  11.404999732971191,\n",
       "        13.467140197753906,  15.810070037841797,  18.495559692382812,\n",
       "        21.598819732666016,  25.211410522460938,  29.444730758666992,\n",
       "         34.43415069580078,  40.344051361083984,   47.37369155883789,\n",
       "         55.76428985595703,   65.80726623535156,   77.85385131835938,\n",
       "          92.3260726928711,  109.72930145263672,  130.66600036621094,\n",
       "        155.85069274902344,  186.12559509277344,  222.47520446777344,\n",
       "         266.0403137207031,   318.1274108886719,   380.2130126953125,\n",
       "         453.9377136230469,   541.0889282226562,   643.5667724609375,\n",
       "         763.3331298828125,   902.3392944335938,    1062.43994140625,\n",
       "            1245.291015625,     1452.2509765625,  1684.2840576171875,\n",
       "        1941.8929443359375,   2225.077880859375,        2533.3359375,\n",
       "         2865.702880859375,   3220.820068359375,   3597.031982421875,\n",
       "          3992.48388671875,    4405.22412109375,      4833.291015625,\n",
       "           5274.7841796875,     5727.9169921875],\n",
       "      dtype=&#x27;float32&#x27;, name=&#x27;depth&#x27;))</pre></div></li><li class='xr-var-item'><div class='xr-index-name'><div>latitude</div></div><div class='xr-index-preview'>PandasIndex</div><input type='checkbox' disabled/><label></label><input id='index-5aea1eb6-e4c7-4ef9-9de4-842b070a627f' class='xr-index-data-in' type='checkbox'/><label for='index-5aea1eb6-e4c7-4ef9-9de4-842b070a627f' title='Show/Hide index repr'><svg class='icon xr-icon-database'><use xlink:href='#icon-database'></use></svg></label><div class='xr-index-data'><pre>PandasIndex(Index([55.16666793823242,             55.25, 55.33333206176758,\n",
       "       55.41666793823242,              55.5, 55.58333206176758,\n",
       "       55.66666793823242,             55.75, 55.83333206176758,\n",
       "       55.91666793823242,\n",
       "       ...\n",
       "       75.66666412353516,             75.75, 75.83333587646484,\n",
       "       75.91666412353516,              76.0, 76.08333587646484,\n",
       "       76.16666412353516,             76.25, 76.33333587646484,\n",
       "       76.41666412353516],\n",
       "      dtype=&#x27;float32&#x27;, name=&#x27;latitude&#x27;, length=256))</pre></div></li><li class='xr-var-item'><div class='xr-index-name'><div>longitude</div></div><div class='xr-index-preview'>PandasIndex</div><input type='checkbox' disabled/><label></label><input id='index-71f9755d-cef7-48e3-a9d4-4f645bd09c8f' class='xr-index-data-in' type='checkbox'/><label for='index-71f9755d-cef7-48e3-a9d4-4f645bd09c8f' title='Show/Hide index repr'><svg class='icon xr-icon-database'><use xlink:href='#icon-database'></use></svg></label><div class='xr-index-data'><pre>PandasIndex(Index([-3.1666667461395264, -3.0833332538604736,                -3.0,\n",
       "       -2.9166667461395264, -2.8333332538604736,               -2.75,\n",
       "       -2.6666667461395264, -2.5833332538604736,                -2.5,\n",
       "       -2.4166667461395264,\n",
       "       ...\n",
       "         17.33333396911621,   17.41666603088379,                17.5,\n",
       "         17.58333396911621,   17.66666603088379,               17.75,\n",
       "         17.83333396911621,   17.91666603088379,                18.0,\n",
       "         18.08333396911621],\n",
       "      dtype=&#x27;float32&#x27;, name=&#x27;longitude&#x27;, length=256))</pre></div></li><li class='xr-var-item'><div class='xr-index-name'><div>time</div></div><div class='xr-index-preview'>PandasIndex</div><input type='checkbox' disabled/><label></label><input id='index-5905f9c5-930f-47de-9646-4ed98fce2264' class='xr-index-data-in' type='checkbox'/><label for='index-5905f9c5-930f-47de-9646-4ed98fce2264' title='Show/Hide index repr'><svg class='icon xr-icon-database'><use xlink:href='#icon-database'></use></svg></label><div class='xr-index-data'><pre>PandasIndex(DatetimeIndex([&#x27;2021-06-30&#x27;], dtype=&#x27;datetime64[ns]&#x27;, name=&#x27;time&#x27;, freq=None))</pre></div></li></ul></div></li><li class='xr-section-item'><input id='section-d23b7de2-4e3c-4c7d-ba8b-30f427fd3609' class='xr-section-summary-in' type='checkbox'  checked><label for='section-d23b7de2-4e3c-4c7d-ba8b-30f427fd3609' class='xr-section-summary' >Attributes: <span>(7)</span></label><div class='xr-section-inline-details'></div><div class='xr-section-details'><dl class='xr-attrs'><dt><span>Conventions :</span></dt><dd>CF-1.4</dd><dt><span>comment :</span></dt><dd>CMEMS product</dd><dt><span>title :</span></dt><dd>daily mean fields from Global Ocean Physics Analysis and Forecast updated Daily</dd><dt><span>institution :</span></dt><dd>MERCATOR OCEAN</dd><dt><span>source :</span></dt><dd>MERCATOR GLORYS12V1</dd><dt><span>history :</span></dt><dd>2023/06/01 16:20:05 MERCATOR OCEAN Netcdf creation</dd><dt><span>references :</span></dt><dd>http://www.mercator-ocean.fr</dd></dl></div></li></ul></div></div>"
      ],
      "text/plain": [
       "<xarray.Dataset> Size: 109MB\n",
       "Dimensions:    (depth: 50, latitude: 256, longitude: 256, time: 1)\n",
       "Coordinates:\n",
       "  * depth      (depth) float32 200B 0.494 1.541 2.646 ... 5.275e+03 5.728e+03\n",
       "  * latitude   (latitude) float32 1kB 55.17 55.25 55.33 ... 76.25 76.33 76.42\n",
       "  * longitude  (longitude) float32 1kB -3.167 -3.083 -3.0 ... 17.92 18.0 18.08\n",
       "  * time       (time) datetime64[ns] 8B 2021-06-30\n",
       "Data variables:\n",
       "    bottomT    (time, latitude, longitude) float64 524kB ...\n",
       "    mlotst     (time, latitude, longitude) float64 524kB ...\n",
       "    siconc     (time, latitude, longitude) float64 524kB ...\n",
       "    sithick    (time, latitude, longitude) float64 524kB ...\n",
       "    so         (time, depth, latitude, longitude) float64 26MB ...\n",
       "    thetao     (time, depth, latitude, longitude) float64 26MB ...\n",
       "    uo         (time, depth, latitude, longitude) float64 26MB ...\n",
       "    usi        (time, latitude, longitude) float64 524kB ...\n",
       "    vo         (time, depth, latitude, longitude) float64 26MB ...\n",
       "    vsi        (time, latitude, longitude) float64 524kB ...\n",
       "    zos        (time, latitude, longitude) float64 524kB ...\n",
       "Attributes:\n",
       "    Conventions:  CF-1.4\n",
       "    comment:      CMEMS product\n",
       "    title:        daily mean fields from Global Ocean Physics Analysis and Fo...\n",
       "    institution:  MERCATOR OCEAN\n",
       "    source:       MERCATOR GLORYS12V1\n",
       "    history:      2023/06/01 16:20:05 MERCATOR OCEAN Netcdf creation\n",
       "    references:   http://www.mercator-ocean.fr"
      ]
     },
     "execution_count": 9,
     "metadata": {},
     "output_type": "execute_result"
    }
   ],
   "source": [
    "\n",
    "\n",
    "dataset_dict = {\n",
    "    \"dataset_id\": \"cmems_mod_glo_phy_my_0.083deg_P1D-m\",\n",
    "    \"longitude\": [region_coords[\"SW\"][\"lon\"], region_coords[\"SE\"][\"lon\"]],\n",
    "    \"latitude\": [region_coords[\"SW\"][\"lat\"], region_coords[\"NE\"][\"lat\"]],\n",
    "    \"time\": [f\"2021-06-30T00:00:00\", f\"2021-06-30T00:00:00\"],\n",
    "    \"variables\": [\"bottomT\", \"mlotst\", \"siconc\", \"sithick\", \"so\", \"thetao\", \"uo\", \"usi\", \"vo\", \"vsi\", \"zos\"]\n",
    "}\n",
    "\n",
    "copernicus_data = fetch_data_from_copernicus_marine(dataset_dict)\n",
    "copernicus_data.to_netcdf('/home/anna/msc_oppgave/fish-forecast/Data-Exploration/existing_areas/test_ds.nc')\n",
    "copernicus_data"
   ]
  },
  {
   "cell_type": "code",
   "execution_count": null,
   "id": "da282fba",
   "metadata": {},
   "outputs": [
    {
     "name": "stderr",
     "output_type": "stream",
     "text": [
      "\u001b[32m17:28:39.273\u001b[0m | \u001b[1mINFO    \u001b[0m | \u001b[36m/tmp/ipykernel_313198/1228870006.py\u001b[0m:\u001b[36m4\u001b[0m - \u001b[1mSaving took 33.51882219314575 seconds\u001b[0m\n",
      "\u001b[32m17:28:39.274\u001b[0m | \u001b[1mINFO    \u001b[0m | \u001b[36m/tmp/ipykernel_313198/1228870006.py\u001b[0m:\u001b[36m9\u001b[0m - \u001b[1mFile size: 82.80 MB\u001b[0m\n"
     ]
    }
   ],
   "source": [
    "start_time = time()\n",
    "copernicus_data_square.to_netcdf('/home/anna/msc_oppgave/fish-forecast/Data-Exploration/existing_areas/test_ds_download.nc')\n",
    "save_time = time() - start_time\n",
    "logger.info(f\"Saving took {save_time} seconds\")\n",
    "\n",
    "# check the size of a file\n",
    "file_path = Path('/home/anna/msc_oppgave/fish-forecast/Data-Exploration/existing_areas/test_ds_square.nc')\n",
    "file_size = file_path.stat().st_size / 1_000_000  # size in MB\n",
    "logger.info(f\"File size: {file_size:.2f} MB\")"
   ]
  },
  {
   "cell_type": "code",
   "execution_count": null,
   "id": "55c3bc52",
   "metadata": {},
   "outputs": [
    {
     "name": "stderr",
     "output_type": "stream",
     "text": [
      "\u001b[32m17:58:57.794\u001b[0m | \u001b[1mINFO    \u001b[0m | \u001b[36m/home/anna/msc_oppgave/fish-forecast/plot_data.py\u001b[0m:\u001b[36m244\u001b[0m - \u001b[1mPlot saved as /home/anna/msc_oppgave/fish-forecast/Data-Exploration/existing_areas/mac_catches_square_region/01/2011_7d_20s.jpg\u001b[0m\n",
      "\u001b[32m17:58:57.795\u001b[0m | \u001b[1mINFO    \u001b[0m | \u001b[36m/tmp/ipykernel_316592/4002579757.py\u001b[0m:\u001b[36m16\u001b[0m - \u001b[1mPlotting for month 1/2011 took 0.14963436126708984 seconds\u001b[0m\n"
     ]
    },
    {
     "name": "stdout",
     "output_type": "stream",
     "text": [
      "Plotting for month 1/2011 with 7days, and 20 data points\n",
      "Plotting for month 6/2011 with 21days, and 145 data points\n"
     ]
    },
    {
     "name": "stderr",
     "output_type": "stream",
     "text": [
      "\u001b[32m17:58:57.954\u001b[0m | \u001b[1mINFO    \u001b[0m | \u001b[36m/home/anna/msc_oppgave/fish-forecast/plot_data.py\u001b[0m:\u001b[36m244\u001b[0m - \u001b[1mPlot saved as /home/anna/msc_oppgave/fish-forecast/Data-Exploration/existing_areas/mac_catches_square_region/06/2011_21d_145s.jpg\u001b[0m\n",
      "\u001b[32m17:58:57.954\u001b[0m | \u001b[1mINFO    \u001b[0m | \u001b[36m/tmp/ipykernel_316592/4002579757.py\u001b[0m:\u001b[36m16\u001b[0m - \u001b[1mPlotting for month 6/2011 took 0.158250093460083 seconds\u001b[0m\n",
      "\u001b[32m17:58:58.105\u001b[0m | \u001b[1mINFO    \u001b[0m | \u001b[36m/home/anna/msc_oppgave/fish-forecast/plot_data.py\u001b[0m:\u001b[36m244\u001b[0m - \u001b[1mPlot saved as /home/anna/msc_oppgave/fish-forecast/Data-Exploration/existing_areas/mac_catches_square_region/07/2011_20d_103s.jpg\u001b[0m\n",
      "\u001b[32m17:58:58.105\u001b[0m | \u001b[1mINFO    \u001b[0m | \u001b[36m/tmp/ipykernel_316592/4002579757.py\u001b[0m:\u001b[36m16\u001b[0m - \u001b[1mPlotting for month 7/2011 took 0.14968466758728027 seconds\u001b[0m\n"
     ]
    },
    {
     "name": "stdout",
     "output_type": "stream",
     "text": [
      "Plotting for month 7/2011 with 20days, and 103 data points\n",
      "Plotting for month 8/2011 with 16days, and 91 data points\n"
     ]
    },
    {
     "name": "stderr",
     "output_type": "stream",
     "text": [
      "\u001b[32m17:58:58.259\u001b[0m | \u001b[1mINFO    \u001b[0m | \u001b[36m/home/anna/msc_oppgave/fish-forecast/plot_data.py\u001b[0m:\u001b[36m244\u001b[0m - \u001b[1mPlot saved as /home/anna/msc_oppgave/fish-forecast/Data-Exploration/existing_areas/mac_catches_square_region/08/2011_16d_91s.jpg\u001b[0m\n",
      "\u001b[32m17:58:58.260\u001b[0m | \u001b[1mINFO    \u001b[0m | \u001b[36m/tmp/ipykernel_316592/4002579757.py\u001b[0m:\u001b[36m16\u001b[0m - \u001b[1mPlotting for month 8/2011 took 0.1536238193511963 seconds\u001b[0m\n"
     ]
    },
    {
     "name": "stdout",
     "output_type": "stream",
     "text": [
      "Plotting for month 9/2011 with 29days, and 986 data points\n"
     ]
    },
    {
     "name": "stderr",
     "output_type": "stream",
     "text": [
      "\u001b[32m17:58:58.491\u001b[0m | \u001b[1mINFO    \u001b[0m | \u001b[36m/home/anna/msc_oppgave/fish-forecast/plot_data.py\u001b[0m:\u001b[36m244\u001b[0m - \u001b[1mPlot saved as /home/anna/msc_oppgave/fish-forecast/Data-Exploration/existing_areas/mac_catches_square_region/09/2011_29d_986s.jpg\u001b[0m\n",
      "\u001b[32m17:58:58.491\u001b[0m | \u001b[1mINFO    \u001b[0m | \u001b[36m/tmp/ipykernel_316592/4002579757.py\u001b[0m:\u001b[36m16\u001b[0m - \u001b[1mPlotting for month 9/2011 took 0.22984075546264648 seconds\u001b[0m\n",
      "\u001b[32m17:58:58.676\u001b[0m | \u001b[1mINFO    \u001b[0m | \u001b[36m/home/anna/msc_oppgave/fish-forecast/plot_data.py\u001b[0m:\u001b[36m244\u001b[0m - \u001b[1mPlot saved as /home/anna/msc_oppgave/fish-forecast/Data-Exploration/existing_areas/mac_catches_square_region/10/2011_14d_234s.jpg\u001b[0m\n",
      "\u001b[32m17:58:58.677\u001b[0m | \u001b[1mINFO    \u001b[0m | \u001b[36m/tmp/ipykernel_316592/4002579757.py\u001b[0m:\u001b[36m16\u001b[0m - \u001b[1mPlotting for month 10/2011 took 0.18432211875915527 seconds\u001b[0m\n"
     ]
    },
    {
     "name": "stdout",
     "output_type": "stream",
     "text": [
      "Plotting for month 10/2011 with 14days, and 234 data points\n",
      "Plotting for month 11/2011 with 5days, and 14 data points\n"
     ]
    },
    {
     "name": "stderr",
     "output_type": "stream",
     "text": [
      "\u001b[32m17:58:58.827\u001b[0m | \u001b[1mINFO    \u001b[0m | \u001b[36m/home/anna/msc_oppgave/fish-forecast/plot_data.py\u001b[0m:\u001b[36m244\u001b[0m - \u001b[1mPlot saved as /home/anna/msc_oppgave/fish-forecast/Data-Exploration/existing_areas/mac_catches_square_region/11/2011_5d_14s.jpg\u001b[0m\n",
      "\u001b[32m17:58:58.827\u001b[0m | \u001b[1mINFO    \u001b[0m | \u001b[36m/tmp/ipykernel_316592/4002579757.py\u001b[0m:\u001b[36m16\u001b[0m - \u001b[1mPlotting for month 11/2011 took 0.148789644241333 seconds\u001b[0m\n",
      "\u001b[32m17:58:58.971\u001b[0m | \u001b[1mINFO    \u001b[0m | \u001b[36m/home/anna/msc_oppgave/fish-forecast/plot_data.py\u001b[0m:\u001b[36m244\u001b[0m - \u001b[1mPlot saved as /home/anna/msc_oppgave/fish-forecast/Data-Exploration/existing_areas/mac_catches_square_region/12/2011_2d_2s.jpg\u001b[0m\n",
      "\u001b[32m17:58:58.972\u001b[0m | \u001b[1mINFO    \u001b[0m | \u001b[36m/tmp/ipykernel_316592/4002579757.py\u001b[0m:\u001b[36m16\u001b[0m - \u001b[1mPlotting for month 12/2011 took 0.14334487915039062 seconds\u001b[0m\n"
     ]
    },
    {
     "name": "stdout",
     "output_type": "stream",
     "text": [
      "Plotting for month 12/2011 with 2days, and 2 data points\n",
      "Plotting for month 5/2012 with 3days, and 6 data points\n"
     ]
    },
    {
     "name": "stderr",
     "output_type": "stream",
     "text": [
      "\u001b[32m17:58:59.117\u001b[0m | \u001b[1mINFO    \u001b[0m | \u001b[36m/home/anna/msc_oppgave/fish-forecast/plot_data.py\u001b[0m:\u001b[36m244\u001b[0m - \u001b[1mPlot saved as /home/anna/msc_oppgave/fish-forecast/Data-Exploration/existing_areas/mac_catches_square_region/05/2012_3d_6s.jpg\u001b[0m\n",
      "\u001b[32m17:58:59.117\u001b[0m | \u001b[1mINFO    \u001b[0m | \u001b[36m/tmp/ipykernel_316592/4002579757.py\u001b[0m:\u001b[36m16\u001b[0m - \u001b[1mPlotting for month 5/2012 took 0.14301753044128418 seconds\u001b[0m\n",
      "\u001b[32m17:58:59.265\u001b[0m | \u001b[1mINFO    \u001b[0m | \u001b[36m/home/anna/msc_oppgave/fish-forecast/plot_data.py\u001b[0m:\u001b[36m244\u001b[0m - \u001b[1mPlot saved as /home/anna/msc_oppgave/fish-forecast/Data-Exploration/existing_areas/mac_catches_square_region/06/2012_18d_82s.jpg\u001b[0m\n",
      "\u001b[32m17:58:59.266\u001b[0m | \u001b[1mINFO    \u001b[0m | \u001b[36m/tmp/ipykernel_316592/4002579757.py\u001b[0m:\u001b[36m16\u001b[0m - \u001b[1mPlotting for month 6/2012 took 0.14728832244873047 seconds\u001b[0m\n"
     ]
    },
    {
     "name": "stdout",
     "output_type": "stream",
     "text": [
      "Plotting for month 6/2012 with 18days, and 82 data points\n",
      "Plotting for month 7/2012 with 5days, and 9 data points\n"
     ]
    },
    {
     "name": "stderr",
     "output_type": "stream",
     "text": [
      "\u001b[32m17:58:59.413\u001b[0m | \u001b[1mINFO    \u001b[0m | \u001b[36m/home/anna/msc_oppgave/fish-forecast/plot_data.py\u001b[0m:\u001b[36m244\u001b[0m - \u001b[1mPlot saved as /home/anna/msc_oppgave/fish-forecast/Data-Exploration/existing_areas/mac_catches_square_region/07/2012_5d_9s.jpg\u001b[0m\n",
      "\u001b[32m17:58:59.413\u001b[0m | \u001b[1mINFO    \u001b[0m | \u001b[36m/tmp/ipykernel_316592/4002579757.py\u001b[0m:\u001b[36m16\u001b[0m - \u001b[1mPlotting for month 7/2012 took 0.1457993984222412 seconds\u001b[0m\n",
      "\u001b[32m17:58:59.561\u001b[0m | \u001b[1mINFO    \u001b[0m | \u001b[36m/home/anna/msc_oppgave/fish-forecast/plot_data.py\u001b[0m:\u001b[36m244\u001b[0m - \u001b[1mPlot saved as /home/anna/msc_oppgave/fish-forecast/Data-Exploration/existing_areas/mac_catches_square_region/08/2012_15d_55s.jpg\u001b[0m\n",
      "\u001b[32m17:58:59.561\u001b[0m | \u001b[1mINFO    \u001b[0m | \u001b[36m/tmp/ipykernel_316592/4002579757.py\u001b[0m:\u001b[36m16\u001b[0m - \u001b[1mPlotting for month 8/2012 took 0.14622879028320312 seconds\u001b[0m\n"
     ]
    },
    {
     "name": "stdout",
     "output_type": "stream",
     "text": [
      "Plotting for month 8/2012 with 15days, and 55 data points\n",
      "Plotting for month 9/2012 with 28days, and 824 data points\n"
     ]
    },
    {
     "name": "stderr",
     "output_type": "stream",
     "text": [
      "\u001b[32m17:58:59.773\u001b[0m | \u001b[1mINFO    \u001b[0m | \u001b[36m/home/anna/msc_oppgave/fish-forecast/plot_data.py\u001b[0m:\u001b[36m244\u001b[0m - \u001b[1mPlot saved as /home/anna/msc_oppgave/fish-forecast/Data-Exploration/existing_areas/mac_catches_square_region/09/2012_28d_824s.jpg\u001b[0m\n",
      "\u001b[32m17:58:59.774\u001b[0m | \u001b[1mINFO    \u001b[0m | \u001b[36m/tmp/ipykernel_316592/4002579757.py\u001b[0m:\u001b[36m16\u001b[0m - \u001b[1mPlotting for month 9/2012 took 0.21076178550720215 seconds\u001b[0m\n",
      "\u001b[32m17:58:59.937\u001b[0m | \u001b[1mINFO    \u001b[0m | \u001b[36m/home/anna/msc_oppgave/fish-forecast/plot_data.py\u001b[0m:\u001b[36m244\u001b[0m - \u001b[1mPlot saved as /home/anna/msc_oppgave/fish-forecast/Data-Exploration/existing_areas/mac_catches_square_region/10/2012_24d_301s.jpg\u001b[0m\n",
      "\u001b[32m17:58:59.937\u001b[0m | \u001b[1mINFO    \u001b[0m | \u001b[36m/tmp/ipykernel_316592/4002579757.py\u001b[0m:\u001b[36m16\u001b[0m - \u001b[1mPlotting for month 10/2012 took 0.16234707832336426 seconds\u001b[0m\n"
     ]
    },
    {
     "name": "stdout",
     "output_type": "stream",
     "text": [
      "Plotting for month 10/2012 with 24days, and 301 data points\n",
      "Plotting for month 11/2012 with 4days, and 5 data points\n"
     ]
    },
    {
     "name": "stderr",
     "output_type": "stream",
     "text": [
      "\u001b[32m17:59:00.079\u001b[0m | \u001b[1mINFO    \u001b[0m | \u001b[36m/home/anna/msc_oppgave/fish-forecast/plot_data.py\u001b[0m:\u001b[36m244\u001b[0m - \u001b[1mPlot saved as /home/anna/msc_oppgave/fish-forecast/Data-Exploration/existing_areas/mac_catches_square_region/11/2012_4d_5s.jpg\u001b[0m\n",
      "\u001b[32m17:59:00.080\u001b[0m | \u001b[1mINFO    \u001b[0m | \u001b[36m/tmp/ipykernel_316592/4002579757.py\u001b[0m:\u001b[36m16\u001b[0m - \u001b[1mPlotting for month 11/2012 took 0.14153409004211426 seconds\u001b[0m\n",
      "\u001b[32m17:59:00.247\u001b[0m | \u001b[1mINFO    \u001b[0m | \u001b[36m/home/anna/msc_oppgave/fish-forecast/plot_data.py\u001b[0m:\u001b[36m244\u001b[0m - \u001b[1mPlot saved as /home/anna/msc_oppgave/fish-forecast/Data-Exploration/existing_areas/mac_catches_square_region/12/2012_3d_5s.jpg\u001b[0m\n",
      "\u001b[32m17:59:00.247\u001b[0m | \u001b[1mINFO    \u001b[0m | \u001b[36m/tmp/ipykernel_316592/4002579757.py\u001b[0m:\u001b[36m16\u001b[0m - \u001b[1mPlotting for month 12/2012 took 0.16579198837280273 seconds\u001b[0m\n"
     ]
    },
    {
     "name": "stdout",
     "output_type": "stream",
     "text": [
      "Plotting for month 12/2012 with 3days, and 5 data points\n",
      "Plotting for month 6/2013 with 24days, and 180 data points\n"
     ]
    },
    {
     "name": "stderr",
     "output_type": "stream",
     "text": [
      "\u001b[32m17:59:00.406\u001b[0m | \u001b[1mINFO    \u001b[0m | \u001b[36m/home/anna/msc_oppgave/fish-forecast/plot_data.py\u001b[0m:\u001b[36m244\u001b[0m - \u001b[1mPlot saved as /home/anna/msc_oppgave/fish-forecast/Data-Exploration/existing_areas/mac_catches_square_region/06/2013_24d_180s.jpg\u001b[0m\n",
      "\u001b[32m17:59:00.407\u001b[0m | \u001b[1mINFO    \u001b[0m | \u001b[36m/tmp/ipykernel_316592/4002579757.py\u001b[0m:\u001b[36m16\u001b[0m - \u001b[1mPlotting for month 6/2013 took 0.1571352481842041 seconds\u001b[0m\n",
      "\u001b[32m17:59:00.553\u001b[0m | \u001b[1mINFO    \u001b[0m | \u001b[36m/home/anna/msc_oppgave/fish-forecast/plot_data.py\u001b[0m:\u001b[36m244\u001b[0m - \u001b[1mPlot saved as /home/anna/msc_oppgave/fish-forecast/Data-Exploration/existing_areas/mac_catches_square_region/07/2013_26d_84s.jpg\u001b[0m\n",
      "\u001b[32m17:59:00.554\u001b[0m | \u001b[1mINFO    \u001b[0m | \u001b[36m/tmp/ipykernel_316592/4002579757.py\u001b[0m:\u001b[36m16\u001b[0m - \u001b[1mPlotting for month 7/2013 took 0.14528560638427734 seconds\u001b[0m\n"
     ]
    },
    {
     "name": "stdout",
     "output_type": "stream",
     "text": [
      "Plotting for month 7/2013 with 26days, and 84 data points\n",
      "Plotting for month 8/2013 with 13days, and 49 data points\n"
     ]
    },
    {
     "name": "stderr",
     "output_type": "stream",
     "text": [
      "\u001b[32m17:59:00.697\u001b[0m | \u001b[1mINFO    \u001b[0m | \u001b[36m/home/anna/msc_oppgave/fish-forecast/plot_data.py\u001b[0m:\u001b[36m244\u001b[0m - \u001b[1mPlot saved as /home/anna/msc_oppgave/fish-forecast/Data-Exploration/existing_areas/mac_catches_square_region/08/2013_13d_49s.jpg\u001b[0m\n",
      "\u001b[32m17:59:00.697\u001b[0m | \u001b[1mINFO    \u001b[0m | \u001b[36m/tmp/ipykernel_316592/4002579757.py\u001b[0m:\u001b[36m16\u001b[0m - \u001b[1mPlotting for month 8/2013 took 0.14213085174560547 seconds\u001b[0m\n",
      "\u001b[32m17:59:00.887\u001b[0m | \u001b[1mINFO    \u001b[0m | \u001b[36m/home/anna/msc_oppgave/fish-forecast/plot_data.py\u001b[0m:\u001b[36m244\u001b[0m - \u001b[1mPlot saved as /home/anna/msc_oppgave/fish-forecast/Data-Exploration/existing_areas/mac_catches_square_region/09/2013_29d_593s.jpg\u001b[0m\n",
      "\u001b[32m17:59:00.888\u001b[0m | \u001b[1mINFO    \u001b[0m | \u001b[36m/tmp/ipykernel_316592/4002579757.py\u001b[0m:\u001b[36m16\u001b[0m - \u001b[1mPlotting for month 9/2013 took 0.18898487091064453 seconds\u001b[0m\n"
     ]
    },
    {
     "name": "stdout",
     "output_type": "stream",
     "text": [
      "Plotting for month 9/2013 with 29days, and 593 data points\n",
      "Plotting for month 10/2013 with 25days, and 445 data points\n"
     ]
    },
    {
     "name": "stderr",
     "output_type": "stream",
     "text": [
      "\u001b[32m17:59:01.063\u001b[0m | \u001b[1mINFO    \u001b[0m | \u001b[36m/home/anna/msc_oppgave/fish-forecast/plot_data.py\u001b[0m:\u001b[36m244\u001b[0m - \u001b[1mPlot saved as /home/anna/msc_oppgave/fish-forecast/Data-Exploration/existing_areas/mac_catches_square_region/10/2013_25d_445s.jpg\u001b[0m\n",
      "\u001b[32m17:59:01.063\u001b[0m | \u001b[1mINFO    \u001b[0m | \u001b[36m/tmp/ipykernel_316592/4002579757.py\u001b[0m:\u001b[36m16\u001b[0m - \u001b[1mPlotting for month 10/2013 took 0.17407655715942383 seconds\u001b[0m\n",
      "\u001b[32m17:59:01.203\u001b[0m | \u001b[1mINFO    \u001b[0m | \u001b[36m/home/anna/msc_oppgave/fish-forecast/plot_data.py\u001b[0m:\u001b[36m244\u001b[0m - \u001b[1mPlot saved as /home/anna/msc_oppgave/fish-forecast/Data-Exploration/existing_areas/mac_catches_square_region/11/2013_2d_2s.jpg\u001b[0m\n",
      "\u001b[32m17:59:01.203\u001b[0m | \u001b[1mINFO    \u001b[0m | \u001b[36m/tmp/ipykernel_316592/4002579757.py\u001b[0m:\u001b[36m16\u001b[0m - \u001b[1mPlotting for month 11/2013 took 0.1384265422821045 seconds\u001b[0m\n"
     ]
    },
    {
     "name": "stdout",
     "output_type": "stream",
     "text": [
      "Plotting for month 11/2013 with 2days, and 2 data points\n",
      "Plotting for month 12/2013 with 1days, and 1 data points\n"
     ]
    },
    {
     "name": "stderr",
     "output_type": "stream",
     "text": [
      "\u001b[32m17:59:01.347\u001b[0m | \u001b[1mINFO    \u001b[0m | \u001b[36m/home/anna/msc_oppgave/fish-forecast/plot_data.py\u001b[0m:\u001b[36m244\u001b[0m - \u001b[1mPlot saved as /home/anna/msc_oppgave/fish-forecast/Data-Exploration/existing_areas/mac_catches_square_region/12/2013_1d_1s.jpg\u001b[0m\n",
      "\u001b[32m17:59:01.347\u001b[0m | \u001b[1mINFO    \u001b[0m | \u001b[36m/tmp/ipykernel_316592/4002579757.py\u001b[0m:\u001b[36m16\u001b[0m - \u001b[1mPlotting for month 12/2013 took 0.14243555068969727 seconds\u001b[0m\n",
      "\u001b[32m17:59:01.485\u001b[0m | \u001b[1mINFO    \u001b[0m | \u001b[36m/home/anna/msc_oppgave/fish-forecast/plot_data.py\u001b[0m:\u001b[36m244\u001b[0m - \u001b[1mPlot saved as /home/anna/msc_oppgave/fish-forecast/Data-Exploration/existing_areas/mac_catches_square_region/05/2014_2d_2s.jpg\u001b[0m\n",
      "\u001b[32m17:59:01.486\u001b[0m | \u001b[1mINFO    \u001b[0m | \u001b[36m/tmp/ipykernel_316592/4002579757.py\u001b[0m:\u001b[36m16\u001b[0m - \u001b[1mPlotting for month 5/2014 took 0.13674402236938477 seconds\u001b[0m\n"
     ]
    },
    {
     "name": "stdout",
     "output_type": "stream",
     "text": [
      "Plotting for month 5/2014 with 2days, and 2 data points\n",
      "Plotting for month 6/2014 with 27days, and 380 data points\n"
     ]
    },
    {
     "name": "stderr",
     "output_type": "stream",
     "text": [
      "\u001b[32m17:59:01.657\u001b[0m | \u001b[1mINFO    \u001b[0m | \u001b[36m/home/anna/msc_oppgave/fish-forecast/plot_data.py\u001b[0m:\u001b[36m244\u001b[0m - \u001b[1mPlot saved as /home/anna/msc_oppgave/fish-forecast/Data-Exploration/existing_areas/mac_catches_square_region/06/2014_27d_380s.jpg\u001b[0m\n",
      "\u001b[32m17:59:01.657\u001b[0m | \u001b[1mINFO    \u001b[0m | \u001b[36m/tmp/ipykernel_316592/4002579757.py\u001b[0m:\u001b[36m16\u001b[0m - \u001b[1mPlotting for month 6/2014 took 0.16983652114868164 seconds\u001b[0m\n",
      "\u001b[32m17:59:01.806\u001b[0m | \u001b[1mINFO    \u001b[0m | \u001b[36m/home/anna/msc_oppgave/fish-forecast/plot_data.py\u001b[0m:\u001b[36m244\u001b[0m - \u001b[1mPlot saved as /home/anna/msc_oppgave/fish-forecast/Data-Exploration/existing_areas/mac_catches_square_region/07/2014_1d_1s.jpg\u001b[0m\n",
      "\u001b[32m17:59:01.806\u001b[0m | \u001b[1mINFO    \u001b[0m | \u001b[36m/tmp/ipykernel_316592/4002579757.py\u001b[0m:\u001b[36m16\u001b[0m - \u001b[1mPlotting for month 7/2014 took 0.1474916934967041 seconds\u001b[0m\n"
     ]
    },
    {
     "name": "stdout",
     "output_type": "stream",
     "text": [
      "Plotting for month 7/2014 with 1days, and 1 data points\n",
      "Plotting for month 8/2014 with 21days, and 123 data points\n"
     ]
    },
    {
     "name": "stderr",
     "output_type": "stream",
     "text": [
      "\u001b[32m17:59:01.979\u001b[0m | \u001b[1mINFO    \u001b[0m | \u001b[36m/home/anna/msc_oppgave/fish-forecast/plot_data.py\u001b[0m:\u001b[36m244\u001b[0m - \u001b[1mPlot saved as /home/anna/msc_oppgave/fish-forecast/Data-Exploration/existing_areas/mac_catches_square_region/08/2014_21d_123s.jpg\u001b[0m\n",
      "\u001b[32m17:59:01.980\u001b[0m | \u001b[1mINFO    \u001b[0m | \u001b[36m/tmp/ipykernel_316592/4002579757.py\u001b[0m:\u001b[36m16\u001b[0m - \u001b[1mPlotting for month 8/2014 took 0.17223453521728516 seconds\u001b[0m\n"
     ]
    },
    {
     "name": "stdout",
     "output_type": "stream",
     "text": [
      "Plotting for month 9/2014 with 28days, and 947 data points\n"
     ]
    },
    {
     "name": "stderr",
     "output_type": "stream",
     "text": [
      "\u001b[32m17:59:02.195\u001b[0m | \u001b[1mINFO    \u001b[0m | \u001b[36m/home/anna/msc_oppgave/fish-forecast/plot_data.py\u001b[0m:\u001b[36m244\u001b[0m - \u001b[1mPlot saved as /home/anna/msc_oppgave/fish-forecast/Data-Exploration/existing_areas/mac_catches_square_region/09/2014_28d_947s.jpg\u001b[0m\n",
      "\u001b[32m17:59:02.195\u001b[0m | \u001b[1mINFO    \u001b[0m | \u001b[36m/tmp/ipykernel_316592/4002579757.py\u001b[0m:\u001b[36m16\u001b[0m - \u001b[1mPlotting for month 9/2014 took 0.21431541442871094 seconds\u001b[0m\n",
      "\u001b[32m17:59:02.373\u001b[0m | \u001b[1mINFO    \u001b[0m | \u001b[36m/home/anna/msc_oppgave/fish-forecast/plot_data.py\u001b[0m:\u001b[36m244\u001b[0m - \u001b[1mPlot saved as /home/anna/msc_oppgave/fish-forecast/Data-Exploration/existing_areas/mac_catches_square_region/10/2014_28d_453s.jpg\u001b[0m\n",
      "\u001b[32m17:59:02.373\u001b[0m | \u001b[1mINFO    \u001b[0m | \u001b[36m/tmp/ipykernel_316592/4002579757.py\u001b[0m:\u001b[36m16\u001b[0m - \u001b[1mPlotting for month 10/2014 took 0.17657804489135742 seconds\u001b[0m\n"
     ]
    },
    {
     "name": "stdout",
     "output_type": "stream",
     "text": [
      "Plotting for month 10/2014 with 28days, and 453 data points\n",
      "Plotting for month 11/2014 with 12days, and 29 data points\n"
     ]
    },
    {
     "name": "stderr",
     "output_type": "stream",
     "text": [
      "\u001b[32m17:59:02.515\u001b[0m | \u001b[1mINFO    \u001b[0m | \u001b[36m/home/anna/msc_oppgave/fish-forecast/plot_data.py\u001b[0m:\u001b[36m244\u001b[0m - \u001b[1mPlot saved as /home/anna/msc_oppgave/fish-forecast/Data-Exploration/existing_areas/mac_catches_square_region/11/2014_12d_29s.jpg\u001b[0m\n",
      "\u001b[32m17:59:02.516\u001b[0m | \u001b[1mINFO    \u001b[0m | \u001b[36m/tmp/ipykernel_316592/4002579757.py\u001b[0m:\u001b[36m16\u001b[0m - \u001b[1mPlotting for month 11/2014 took 0.14123892784118652 seconds\u001b[0m\n",
      "\u001b[32m17:59:02.656\u001b[0m | \u001b[1mINFO    \u001b[0m | \u001b[36m/home/anna/msc_oppgave/fish-forecast/plot_data.py\u001b[0m:\u001b[36m244\u001b[0m - \u001b[1mPlot saved as /home/anna/msc_oppgave/fish-forecast/Data-Exploration/existing_areas/mac_catches_square_region/01/2015_2d_4s.jpg\u001b[0m\n",
      "\u001b[32m17:59:02.656\u001b[0m | \u001b[1mINFO    \u001b[0m | \u001b[36m/tmp/ipykernel_316592/4002579757.py\u001b[0m:\u001b[36m16\u001b[0m - \u001b[1mPlotting for month 1/2015 took 0.13797378540039062 seconds\u001b[0m\n"
     ]
    },
    {
     "name": "stdout",
     "output_type": "stream",
     "text": [
      "Plotting for month 1/2015 with 2days, and 4 data points\n",
      "Plotting for month 2/2015 with 1days, and 1 data points\n"
     ]
    },
    {
     "name": "stderr",
     "output_type": "stream",
     "text": [
      "\u001b[32m17:59:02.803\u001b[0m | \u001b[1mINFO    \u001b[0m | \u001b[36m/home/anna/msc_oppgave/fish-forecast/plot_data.py\u001b[0m:\u001b[36m244\u001b[0m - \u001b[1mPlot saved as /home/anna/msc_oppgave/fish-forecast/Data-Exploration/existing_areas/mac_catches_square_region/02/2015_1d_1s.jpg\u001b[0m\n",
      "\u001b[32m17:59:02.803\u001b[0m | \u001b[1mINFO    \u001b[0m | \u001b[36m/tmp/ipykernel_316592/4002579757.py\u001b[0m:\u001b[36m16\u001b[0m - \u001b[1mPlotting for month 2/2015 took 0.1456897258758545 seconds\u001b[0m\n",
      "\u001b[32m17:59:02.948\u001b[0m | \u001b[1mINFO    \u001b[0m | \u001b[36m/home/anna/msc_oppgave/fish-forecast/plot_data.py\u001b[0m:\u001b[36m244\u001b[0m - \u001b[1mPlot saved as /home/anna/msc_oppgave/fish-forecast/Data-Exploration/existing_areas/mac_catches_square_region/03/2015_1d_1s.jpg\u001b[0m\n",
      "\u001b[32m17:59:02.949\u001b[0m | \u001b[1mINFO    \u001b[0m | \u001b[36m/tmp/ipykernel_316592/4002579757.py\u001b[0m:\u001b[36m16\u001b[0m - \u001b[1mPlotting for month 3/2015 took 0.14395904541015625 seconds\u001b[0m\n"
     ]
    },
    {
     "name": "stdout",
     "output_type": "stream",
     "text": [
      "Plotting for month 3/2015 with 1days, and 1 data points\n",
      "Plotting for month 4/2015 with 1days, and 5 data points\n"
     ]
    },
    {
     "name": "stderr",
     "output_type": "stream",
     "text": [
      "\u001b[32m17:59:03.088\u001b[0m | \u001b[1mINFO    \u001b[0m | \u001b[36m/home/anna/msc_oppgave/fish-forecast/plot_data.py\u001b[0m:\u001b[36m244\u001b[0m - \u001b[1mPlot saved as /home/anna/msc_oppgave/fish-forecast/Data-Exploration/existing_areas/mac_catches_square_region/04/2015_1d_5s.jpg\u001b[0m\n",
      "\u001b[32m17:59:03.088\u001b[0m | \u001b[1mINFO    \u001b[0m | \u001b[36m/tmp/ipykernel_316592/4002579757.py\u001b[0m:\u001b[36m16\u001b[0m - \u001b[1mPlotting for month 4/2015 took 0.1385798454284668 seconds\u001b[0m\n",
      "\u001b[32m17:59:03.254\u001b[0m | \u001b[1mINFO    \u001b[0m | \u001b[36m/home/anna/msc_oppgave/fish-forecast/plot_data.py\u001b[0m:\u001b[36m244\u001b[0m - \u001b[1mPlot saved as /home/anna/msc_oppgave/fish-forecast/Data-Exploration/existing_areas/mac_catches_square_region/06/2015_24d_356s.jpg\u001b[0m\n",
      "\u001b[32m17:59:03.254\u001b[0m | \u001b[1mINFO    \u001b[0m | \u001b[36m/tmp/ipykernel_316592/4002579757.py\u001b[0m:\u001b[36m16\u001b[0m - \u001b[1mPlotting for month 6/2015 took 0.16447043418884277 seconds\u001b[0m\n"
     ]
    },
    {
     "name": "stdout",
     "output_type": "stream",
     "text": [
      "Plotting for month 6/2015 with 24days, and 356 data points\n",
      "Plotting for month 7/2015 with 25days, and 100 data points\n"
     ]
    },
    {
     "name": "stderr",
     "output_type": "stream",
     "text": [
      "\u001b[32m17:59:03.407\u001b[0m | \u001b[1mINFO    \u001b[0m | \u001b[36m/home/anna/msc_oppgave/fish-forecast/plot_data.py\u001b[0m:\u001b[36m244\u001b[0m - \u001b[1mPlot saved as /home/anna/msc_oppgave/fish-forecast/Data-Exploration/existing_areas/mac_catches_square_region/07/2015_25d_100s.jpg\u001b[0m\n",
      "\u001b[32m17:59:03.407\u001b[0m | \u001b[1mINFO    \u001b[0m | \u001b[36m/tmp/ipykernel_316592/4002579757.py\u001b[0m:\u001b[36m16\u001b[0m - \u001b[1mPlotting for month 7/2015 took 0.15185260772705078 seconds\u001b[0m\n",
      "\u001b[32m17:59:03.552\u001b[0m | \u001b[1mINFO    \u001b[0m | \u001b[36m/home/anna/msc_oppgave/fish-forecast/plot_data.py\u001b[0m:\u001b[36m244\u001b[0m - \u001b[1mPlot saved as /home/anna/msc_oppgave/fish-forecast/Data-Exploration/existing_areas/mac_catches_square_region/08/2015_13d_23s.jpg\u001b[0m\n",
      "\u001b[32m17:59:03.553\u001b[0m | \u001b[1mINFO    \u001b[0m | \u001b[36m/tmp/ipykernel_316592/4002579757.py\u001b[0m:\u001b[36m16\u001b[0m - \u001b[1mPlotting for month 8/2015 took 0.1442570686340332 seconds\u001b[0m\n"
     ]
    },
    {
     "name": "stdout",
     "output_type": "stream",
     "text": [
      "Plotting for month 8/2015 with 13days, and 23 data points\n",
      "Plotting for month 9/2015 with 29days, and 565 data points\n"
     ]
    },
    {
     "name": "stderr",
     "output_type": "stream",
     "text": [
      "\u001b[32m17:59:03.742\u001b[0m | \u001b[1mINFO    \u001b[0m | \u001b[36m/home/anna/msc_oppgave/fish-forecast/plot_data.py\u001b[0m:\u001b[36m244\u001b[0m - \u001b[1mPlot saved as /home/anna/msc_oppgave/fish-forecast/Data-Exploration/existing_areas/mac_catches_square_region/09/2015_29d_565s.jpg\u001b[0m\n",
      "\u001b[32m17:59:03.743\u001b[0m | \u001b[1mINFO    \u001b[0m | \u001b[36m/tmp/ipykernel_316592/4002579757.py\u001b[0m:\u001b[36m16\u001b[0m - \u001b[1mPlotting for month 9/2015 took 0.18864965438842773 seconds\u001b[0m\n",
      "\u001b[32m17:59:03.905\u001b[0m | \u001b[1mINFO    \u001b[0m | \u001b[36m/home/anna/msc_oppgave/fish-forecast/plot_data.py\u001b[0m:\u001b[36m244\u001b[0m - \u001b[1mPlot saved as /home/anna/msc_oppgave/fish-forecast/Data-Exploration/existing_areas/mac_catches_square_region/10/2015_29d_326s.jpg\u001b[0m\n",
      "\u001b[32m17:59:03.905\u001b[0m | \u001b[1mINFO    \u001b[0m | \u001b[36m/tmp/ipykernel_316592/4002579757.py\u001b[0m:\u001b[36m16\u001b[0m - \u001b[1mPlotting for month 10/2015 took 0.16081690788269043 seconds\u001b[0m\n"
     ]
    },
    {
     "name": "stdout",
     "output_type": "stream",
     "text": [
      "Plotting for month 10/2015 with 29days, and 326 data points\n",
      "Plotting for month 11/2015 with 13days, and 51 data points\n"
     ]
    },
    {
     "name": "stderr",
     "output_type": "stream",
     "text": [
      "\u001b[32m17:59:04.050\u001b[0m | \u001b[1mINFO    \u001b[0m | \u001b[36m/home/anna/msc_oppgave/fish-forecast/plot_data.py\u001b[0m:\u001b[36m244\u001b[0m - \u001b[1mPlot saved as /home/anna/msc_oppgave/fish-forecast/Data-Exploration/existing_areas/mac_catches_square_region/11/2015_13d_51s.jpg\u001b[0m\n",
      "\u001b[32m17:59:04.051\u001b[0m | \u001b[1mINFO    \u001b[0m | \u001b[36m/tmp/ipykernel_316592/4002579757.py\u001b[0m:\u001b[36m16\u001b[0m - \u001b[1mPlotting for month 11/2015 took 0.14454340934753418 seconds\u001b[0m\n",
      "\u001b[32m17:59:04.193\u001b[0m | \u001b[1mINFO    \u001b[0m | \u001b[36m/home/anna/msc_oppgave/fish-forecast/plot_data.py\u001b[0m:\u001b[36m244\u001b[0m - \u001b[1mPlot saved as /home/anna/msc_oppgave/fish-forecast/Data-Exploration/existing_areas/mac_catches_square_region/12/2015_1d_4s.jpg\u001b[0m\n",
      "\u001b[32m17:59:04.194\u001b[0m | \u001b[1mINFO    \u001b[0m | \u001b[36m/tmp/ipykernel_316592/4002579757.py\u001b[0m:\u001b[36m16\u001b[0m - \u001b[1mPlotting for month 12/2015 took 0.14087128639221191 seconds\u001b[0m\n"
     ]
    },
    {
     "name": "stdout",
     "output_type": "stream",
     "text": [
      "Plotting for month 12/2015 with 1days, and 4 data points\n",
      "Plotting for month 1/2016 with 1days, and 3 data points\n"
     ]
    },
    {
     "name": "stderr",
     "output_type": "stream",
     "text": [
      "\u001b[32m17:59:04.338\u001b[0m | \u001b[1mINFO    \u001b[0m | \u001b[36m/home/anna/msc_oppgave/fish-forecast/plot_data.py\u001b[0m:\u001b[36m244\u001b[0m - \u001b[1mPlot saved as /home/anna/msc_oppgave/fish-forecast/Data-Exploration/existing_areas/mac_catches_square_region/01/2016_1d_3s.jpg\u001b[0m\n",
      "\u001b[32m17:59:04.339\u001b[0m | \u001b[1mINFO    \u001b[0m | \u001b[36m/tmp/ipykernel_316592/4002579757.py\u001b[0m:\u001b[36m16\u001b[0m - \u001b[1mPlotting for month 1/2016 took 0.14278244972229004 seconds\u001b[0m\n",
      "\u001b[32m17:59:04.476\u001b[0m | \u001b[1mINFO    \u001b[0m | \u001b[36m/home/anna/msc_oppgave/fish-forecast/plot_data.py\u001b[0m:\u001b[36m244\u001b[0m - \u001b[1mPlot saved as /home/anna/msc_oppgave/fish-forecast/Data-Exploration/existing_areas/mac_catches_square_region/02/2016_1d_2s.jpg\u001b[0m\n",
      "\u001b[32m17:59:04.477\u001b[0m | \u001b[1mINFO    \u001b[0m | \u001b[36m/tmp/ipykernel_316592/4002579757.py\u001b[0m:\u001b[36m16\u001b[0m - \u001b[1mPlotting for month 2/2016 took 0.13687634468078613 seconds\u001b[0m\n"
     ]
    },
    {
     "name": "stdout",
     "output_type": "stream",
     "text": [
      "Plotting for month 2/2016 with 1days, and 2 data points\n",
      "Plotting for month 5/2016 with 3days, and 12 data points\n"
     ]
    },
    {
     "name": "stderr",
     "output_type": "stream",
     "text": [
      "\u001b[32m17:59:04.622\u001b[0m | \u001b[1mINFO    \u001b[0m | \u001b[36m/home/anna/msc_oppgave/fish-forecast/plot_data.py\u001b[0m:\u001b[36m244\u001b[0m - \u001b[1mPlot saved as /home/anna/msc_oppgave/fish-forecast/Data-Exploration/existing_areas/mac_catches_square_region/05/2016_3d_12s.jpg\u001b[0m\n",
      "\u001b[32m17:59:04.623\u001b[0m | \u001b[1mINFO    \u001b[0m | \u001b[36m/tmp/ipykernel_316592/4002579757.py\u001b[0m:\u001b[36m16\u001b[0m - \u001b[1mPlotting for month 5/2016 took 0.14496779441833496 seconds\u001b[0m\n",
      "\u001b[32m17:59:04.789\u001b[0m | \u001b[1mINFO    \u001b[0m | \u001b[36m/home/anna/msc_oppgave/fish-forecast/plot_data.py\u001b[0m:\u001b[36m244\u001b[0m - \u001b[1mPlot saved as /home/anna/msc_oppgave/fish-forecast/Data-Exploration/existing_areas/mac_catches_square_region/06/2016_11d_77s.jpg\u001b[0m\n",
      "\u001b[32m17:59:04.789\u001b[0m | \u001b[1mINFO    \u001b[0m | \u001b[36m/tmp/ipykernel_316592/4002579757.py\u001b[0m:\u001b[36m16\u001b[0m - \u001b[1mPlotting for month 6/2016 took 0.16475963592529297 seconds\u001b[0m\n"
     ]
    },
    {
     "name": "stdout",
     "output_type": "stream",
     "text": [
      "Plotting for month 6/2016 with 11days, and 77 data points\n",
      "Plotting for month 7/2016 with 2days, and 3 data points\n"
     ]
    },
    {
     "name": "stderr",
     "output_type": "stream",
     "text": [
      "\u001b[32m17:59:04.930\u001b[0m | \u001b[1mINFO    \u001b[0m | \u001b[36m/home/anna/msc_oppgave/fish-forecast/plot_data.py\u001b[0m:\u001b[36m244\u001b[0m - \u001b[1mPlot saved as /home/anna/msc_oppgave/fish-forecast/Data-Exploration/existing_areas/mac_catches_square_region/07/2016_2d_3s.jpg\u001b[0m\n",
      "\u001b[32m17:59:04.930\u001b[0m | \u001b[1mINFO    \u001b[0m | \u001b[36m/tmp/ipykernel_316592/4002579757.py\u001b[0m:\u001b[36m16\u001b[0m - \u001b[1mPlotting for month 7/2016 took 0.1392221450805664 seconds\u001b[0m\n",
      "\u001b[32m17:59:05.070\u001b[0m | \u001b[1mINFO    \u001b[0m | \u001b[36m/home/anna/msc_oppgave/fish-forecast/plot_data.py\u001b[0m:\u001b[36m244\u001b[0m - \u001b[1mPlot saved as /home/anna/msc_oppgave/fish-forecast/Data-Exploration/existing_areas/mac_catches_square_region/08/2016_15d_26s.jpg\u001b[0m\n",
      "\u001b[32m17:59:05.070\u001b[0m | \u001b[1mINFO    \u001b[0m | \u001b[36m/tmp/ipykernel_316592/4002579757.py\u001b[0m:\u001b[36m16\u001b[0m - \u001b[1mPlotting for month 8/2016 took 0.13900136947631836 seconds\u001b[0m\n"
     ]
    },
    {
     "name": "stdout",
     "output_type": "stream",
     "text": [
      "Plotting for month 8/2016 with 15days, and 26 data points\n",
      "Plotting for month 9/2016 with 27days, and 493 data points\n"
     ]
    },
    {
     "name": "stderr",
     "output_type": "stream",
     "text": [
      "\u001b[32m17:59:05.252\u001b[0m | \u001b[1mINFO    \u001b[0m | \u001b[36m/home/anna/msc_oppgave/fish-forecast/plot_data.py\u001b[0m:\u001b[36m244\u001b[0m - \u001b[1mPlot saved as /home/anna/msc_oppgave/fish-forecast/Data-Exploration/existing_areas/mac_catches_square_region/09/2016_27d_493s.jpg\u001b[0m\n",
      "\u001b[32m17:59:05.253\u001b[0m | \u001b[1mINFO    \u001b[0m | \u001b[36m/tmp/ipykernel_316592/4002579757.py\u001b[0m:\u001b[36m16\u001b[0m - \u001b[1mPlotting for month 9/2016 took 0.1809709072113037 seconds\u001b[0m\n",
      "\u001b[32m17:59:05.431\u001b[0m | \u001b[1mINFO    \u001b[0m | \u001b[36m/home/anna/msc_oppgave/fish-forecast/plot_data.py\u001b[0m:\u001b[36m244\u001b[0m - \u001b[1mPlot saved as /home/anna/msc_oppgave/fish-forecast/Data-Exploration/existing_areas/mac_catches_square_region/10/2016_27d_473s.jpg\u001b[0m\n",
      "\u001b[32m17:59:05.432\u001b[0m | \u001b[1mINFO    \u001b[0m | \u001b[36m/tmp/ipykernel_316592/4002579757.py\u001b[0m:\u001b[36m16\u001b[0m - \u001b[1mPlotting for month 10/2016 took 0.17766094207763672 seconds\u001b[0m\n"
     ]
    },
    {
     "name": "stdout",
     "output_type": "stream",
     "text": [
      "Plotting for month 10/2016 with 27days, and 473 data points\n",
      "Plotting for month 11/2016 with 12days, and 33 data points\n"
     ]
    },
    {
     "name": "stderr",
     "output_type": "stream",
     "text": [
      "\u001b[32m17:59:05.582\u001b[0m | \u001b[1mINFO    \u001b[0m | \u001b[36m/home/anna/msc_oppgave/fish-forecast/plot_data.py\u001b[0m:\u001b[36m244\u001b[0m - \u001b[1mPlot saved as /home/anna/msc_oppgave/fish-forecast/Data-Exploration/existing_areas/mac_catches_square_region/11/2016_12d_33s.jpg\u001b[0m\n",
      "\u001b[32m17:59:05.582\u001b[0m | \u001b[1mINFO    \u001b[0m | \u001b[36m/tmp/ipykernel_316592/4002579757.py\u001b[0m:\u001b[36m16\u001b[0m - \u001b[1mPlotting for month 11/2016 took 0.1489729881286621 seconds\u001b[0m\n",
      "\u001b[32m17:59:05.721\u001b[0m | \u001b[1mINFO    \u001b[0m | \u001b[36m/home/anna/msc_oppgave/fish-forecast/plot_data.py\u001b[0m:\u001b[36m244\u001b[0m - \u001b[1mPlot saved as /home/anna/msc_oppgave/fish-forecast/Data-Exploration/existing_areas/mac_catches_square_region/12/2016_1d_2s.jpg\u001b[0m\n",
      "\u001b[32m17:59:05.722\u001b[0m | \u001b[1mINFO    \u001b[0m | \u001b[36m/tmp/ipykernel_316592/4002579757.py\u001b[0m:\u001b[36m16\u001b[0m - \u001b[1mPlotting for month 12/2016 took 0.1383662223815918 seconds\u001b[0m\n"
     ]
    },
    {
     "name": "stdout",
     "output_type": "stream",
     "text": [
      "Plotting for month 12/2016 with 1days, and 2 data points\n",
      "Plotting for month 1/2017 with 4days, and 12 data points\n"
     ]
    },
    {
     "name": "stderr",
     "output_type": "stream",
     "text": [
      "\u001b[32m17:59:05.863\u001b[0m | \u001b[1mINFO    \u001b[0m | \u001b[36m/home/anna/msc_oppgave/fish-forecast/plot_data.py\u001b[0m:\u001b[36m244\u001b[0m - \u001b[1mPlot saved as /home/anna/msc_oppgave/fish-forecast/Data-Exploration/existing_areas/mac_catches_square_region/01/2017_4d_12s.jpg\u001b[0m\n",
      "\u001b[32m17:59:05.863\u001b[0m | \u001b[1mINFO    \u001b[0m | \u001b[36m/tmp/ipykernel_316592/4002579757.py\u001b[0m:\u001b[36m16\u001b[0m - \u001b[1mPlotting for month 1/2017 took 0.13930654525756836 seconds\u001b[0m\n",
      "\u001b[32m17:59:06.004\u001b[0m | \u001b[1mINFO    \u001b[0m | \u001b[36m/home/anna/msc_oppgave/fish-forecast/plot_data.py\u001b[0m:\u001b[36m244\u001b[0m - \u001b[1mPlot saved as /home/anna/msc_oppgave/fish-forecast/Data-Exploration/existing_areas/mac_catches_square_region/06/2017_1d_2s.jpg\u001b[0m\n",
      "\u001b[32m17:59:06.005\u001b[0m | \u001b[1mINFO    \u001b[0m | \u001b[36m/tmp/ipykernel_316592/4002579757.py\u001b[0m:\u001b[36m16\u001b[0m - \u001b[1mPlotting for month 6/2017 took 0.14015960693359375 seconds\u001b[0m\n"
     ]
    },
    {
     "name": "stdout",
     "output_type": "stream",
     "text": [
      "Plotting for month 6/2017 with 1days, and 2 data points\n",
      "Plotting for month 7/2017 with 11days, and 25 data points\n"
     ]
    },
    {
     "name": "stderr",
     "output_type": "stream",
     "text": [
      "\u001b[32m17:59:06.332\u001b[0m | \u001b[1mINFO    \u001b[0m | \u001b[36m/home/anna/msc_oppgave/fish-forecast/plot_data.py\u001b[0m:\u001b[36m244\u001b[0m - \u001b[1mPlot saved as /home/anna/msc_oppgave/fish-forecast/Data-Exploration/existing_areas/mac_catches_square_region/07/2017_11d_25s.jpg\u001b[0m\n",
      "\u001b[32m17:59:06.332\u001b[0m | \u001b[1mINFO    \u001b[0m | \u001b[36m/tmp/ipykernel_316592/4002579757.py\u001b[0m:\u001b[36m16\u001b[0m - \u001b[1mPlotting for month 7/2017 took 0.3261535167694092 seconds\u001b[0m\n",
      "\u001b[32m17:59:06.492\u001b[0m | \u001b[1mINFO    \u001b[0m | \u001b[36m/home/anna/msc_oppgave/fish-forecast/plot_data.py\u001b[0m:\u001b[36m244\u001b[0m - \u001b[1mPlot saved as /home/anna/msc_oppgave/fish-forecast/Data-Exploration/existing_areas/mac_catches_square_region/08/2017_16d_25s.jpg\u001b[0m\n",
      "\u001b[32m17:59:06.493\u001b[0m | \u001b[1mINFO    \u001b[0m | \u001b[36m/tmp/ipykernel_316592/4002579757.py\u001b[0m:\u001b[36m16\u001b[0m - \u001b[1mPlotting for month 8/2017 took 0.15890836715698242 seconds\u001b[0m\n"
     ]
    },
    {
     "name": "stdout",
     "output_type": "stream",
     "text": [
      "Plotting for month 8/2017 with 16days, and 25 data points\n",
      "Plotting for month 9/2017 with 28days, and 413 data points\n"
     ]
    },
    {
     "name": "stderr",
     "output_type": "stream",
     "text": [
      "\u001b[32m17:59:06.676\u001b[0m | \u001b[1mINFO    \u001b[0m | \u001b[36m/home/anna/msc_oppgave/fish-forecast/plot_data.py\u001b[0m:\u001b[36m244\u001b[0m - \u001b[1mPlot saved as /home/anna/msc_oppgave/fish-forecast/Data-Exploration/existing_areas/mac_catches_square_region/09/2017_28d_413s.jpg\u001b[0m\n",
      "\u001b[32m17:59:06.676\u001b[0m | \u001b[1mINFO    \u001b[0m | \u001b[36m/tmp/ipykernel_316592/4002579757.py\u001b[0m:\u001b[36m16\u001b[0m - \u001b[1mPlotting for month 9/2017 took 0.18231678009033203 seconds\u001b[0m\n",
      "\u001b[32m17:59:06.858\u001b[0m | \u001b[1mINFO    \u001b[0m | \u001b[36m/home/anna/msc_oppgave/fish-forecast/plot_data.py\u001b[0m:\u001b[36m244\u001b[0m - \u001b[1mPlot saved as /home/anna/msc_oppgave/fish-forecast/Data-Exploration/existing_areas/mac_catches_square_region/10/2017_26d_427s.jpg\u001b[0m\n",
      "\u001b[32m17:59:06.859\u001b[0m | \u001b[1mINFO    \u001b[0m | \u001b[36m/tmp/ipykernel_316592/4002579757.py\u001b[0m:\u001b[36m16\u001b[0m - \u001b[1mPlotting for month 10/2017 took 0.18122529983520508 seconds\u001b[0m\n"
     ]
    },
    {
     "name": "stdout",
     "output_type": "stream",
     "text": [
      "Plotting for month 10/2017 with 26days, and 427 data points\n",
      "Plotting for month 11/2017 with 14days, and 113 data points\n"
     ]
    },
    {
     "name": "stderr",
     "output_type": "stream",
     "text": [
      "\u001b[32m17:59:07.014\u001b[0m | \u001b[1mINFO    \u001b[0m | \u001b[36m/home/anna/msc_oppgave/fish-forecast/plot_data.py\u001b[0m:\u001b[36m244\u001b[0m - \u001b[1mPlot saved as /home/anna/msc_oppgave/fish-forecast/Data-Exploration/existing_areas/mac_catches_square_region/11/2017_14d_113s.jpg\u001b[0m\n",
      "\u001b[32m17:59:07.014\u001b[0m | \u001b[1mINFO    \u001b[0m | \u001b[36m/tmp/ipykernel_316592/4002579757.py\u001b[0m:\u001b[36m16\u001b[0m - \u001b[1mPlotting for month 11/2017 took 0.15363311767578125 seconds\u001b[0m\n",
      "\u001b[32m17:59:07.164\u001b[0m | \u001b[1mINFO    \u001b[0m | \u001b[36m/home/anna/msc_oppgave/fish-forecast/plot_data.py\u001b[0m:\u001b[36m244\u001b[0m - \u001b[1mPlot saved as /home/anna/msc_oppgave/fish-forecast/Data-Exploration/existing_areas/mac_catches_square_region/12/2017_5d_5s.jpg\u001b[0m\n",
      "\u001b[32m17:59:07.165\u001b[0m | \u001b[1mINFO    \u001b[0m | \u001b[36m/tmp/ipykernel_316592/4002579757.py\u001b[0m:\u001b[36m16\u001b[0m - \u001b[1mPlotting for month 12/2017 took 0.1493678092956543 seconds\u001b[0m\n"
     ]
    },
    {
     "name": "stdout",
     "output_type": "stream",
     "text": [
      "Plotting for month 12/2017 with 5days, and 5 data points\n",
      "Plotting for month 1/2018 with 10days, and 23 data points\n"
     ]
    },
    {
     "name": "stderr",
     "output_type": "stream",
     "text": [
      "\u001b[32m17:59:07.305\u001b[0m | \u001b[1mINFO    \u001b[0m | \u001b[36m/home/anna/msc_oppgave/fish-forecast/plot_data.py\u001b[0m:\u001b[36m244\u001b[0m - \u001b[1mPlot saved as /home/anna/msc_oppgave/fish-forecast/Data-Exploration/existing_areas/mac_catches_square_region/01/2018_10d_23s.jpg\u001b[0m\n",
      "\u001b[32m17:59:07.306\u001b[0m | \u001b[1mINFO    \u001b[0m | \u001b[36m/tmp/ipykernel_316592/4002579757.py\u001b[0m:\u001b[36m16\u001b[0m - \u001b[1mPlotting for month 1/2018 took 0.13829541206359863 seconds\u001b[0m\n",
      "\u001b[32m17:59:07.448\u001b[0m | \u001b[1mINFO    \u001b[0m | \u001b[36m/home/anna/msc_oppgave/fish-forecast/plot_data.py\u001b[0m:\u001b[36m244\u001b[0m - \u001b[1mPlot saved as /home/anna/msc_oppgave/fish-forecast/Data-Exploration/existing_areas/mac_catches_square_region/04/2018_3d_31s.jpg\u001b[0m\n",
      "\u001b[32m17:59:07.449\u001b[0m | \u001b[1mINFO    \u001b[0m | \u001b[36m/tmp/ipykernel_316592/4002579757.py\u001b[0m:\u001b[36m16\u001b[0m - \u001b[1mPlotting for month 4/2018 took 0.14109206199645996 seconds\u001b[0m\n"
     ]
    },
    {
     "name": "stdout",
     "output_type": "stream",
     "text": [
      "Plotting for month 4/2018 with 3days, and 31 data points\n",
      "Plotting for month 6/2018 with 5days, and 7 data points\n"
     ]
    },
    {
     "name": "stderr",
     "output_type": "stream",
     "text": [
      "\u001b[32m17:59:07.587\u001b[0m | \u001b[1mINFO    \u001b[0m | \u001b[36m/home/anna/msc_oppgave/fish-forecast/plot_data.py\u001b[0m:\u001b[36m244\u001b[0m - \u001b[1mPlot saved as /home/anna/msc_oppgave/fish-forecast/Data-Exploration/existing_areas/mac_catches_square_region/06/2018_5d_7s.jpg\u001b[0m\n",
      "\u001b[32m17:59:07.588\u001b[0m | \u001b[1mINFO    \u001b[0m | \u001b[36m/tmp/ipykernel_316592/4002579757.py\u001b[0m:\u001b[36m16\u001b[0m - \u001b[1mPlotting for month 6/2018 took 0.13786792755126953 seconds\u001b[0m\n",
      "\u001b[32m17:59:07.732\u001b[0m | \u001b[1mINFO    \u001b[0m | \u001b[36m/home/anna/msc_oppgave/fish-forecast/plot_data.py\u001b[0m:\u001b[36m244\u001b[0m - \u001b[1mPlot saved as /home/anna/msc_oppgave/fish-forecast/Data-Exploration/existing_areas/mac_catches_square_region/07/2018_3d_3s.jpg\u001b[0m\n",
      "\u001b[32m17:59:07.732\u001b[0m | \u001b[1mINFO    \u001b[0m | \u001b[36m/tmp/ipykernel_316592/4002579757.py\u001b[0m:\u001b[36m16\u001b[0m - \u001b[1mPlotting for month 7/2018 took 0.1430215835571289 seconds\u001b[0m\n"
     ]
    },
    {
     "name": "stdout",
     "output_type": "stream",
     "text": [
      "Plotting for month 7/2018 with 3days, and 3 data points\n",
      "Plotting for month 8/2018 with 10days, and 16 data points\n"
     ]
    },
    {
     "name": "stderr",
     "output_type": "stream",
     "text": [
      "\u001b[32m17:59:07.879\u001b[0m | \u001b[1mINFO    \u001b[0m | \u001b[36m/home/anna/msc_oppgave/fish-forecast/plot_data.py\u001b[0m:\u001b[36m244\u001b[0m - \u001b[1mPlot saved as /home/anna/msc_oppgave/fish-forecast/Data-Exploration/existing_areas/mac_catches_square_region/08/2018_10d_16s.jpg\u001b[0m\n",
      "\u001b[32m17:59:07.879\u001b[0m | \u001b[1mINFO    \u001b[0m | \u001b[36m/tmp/ipykernel_316592/4002579757.py\u001b[0m:\u001b[36m16\u001b[0m - \u001b[1mPlotting for month 8/2018 took 0.14486217498779297 seconds\u001b[0m\n",
      "\u001b[32m17:59:08.053\u001b[0m | \u001b[1mINFO    \u001b[0m | \u001b[36m/home/anna/msc_oppgave/fish-forecast/plot_data.py\u001b[0m:\u001b[36m244\u001b[0m - \u001b[1mPlot saved as /home/anna/msc_oppgave/fish-forecast/Data-Exploration/existing_areas/mac_catches_square_region/09/2018_15d_85s.jpg\u001b[0m\n",
      "\u001b[32m17:59:08.054\u001b[0m | \u001b[1mINFO    \u001b[0m | \u001b[36m/tmp/ipykernel_316592/4002579757.py\u001b[0m:\u001b[36m16\u001b[0m - \u001b[1mPlotting for month 9/2018 took 0.1731407642364502 seconds\u001b[0m\n"
     ]
    },
    {
     "name": "stdout",
     "output_type": "stream",
     "text": [
      "Plotting for month 9/2018 with 15days, and 85 data points\n",
      "Plotting for month 10/2018 with 27days, and 891 data points\n"
     ]
    },
    {
     "name": "stderr",
     "output_type": "stream",
     "text": [
      "\u001b[32m17:59:08.280\u001b[0m | \u001b[1mINFO    \u001b[0m | \u001b[36m/home/anna/msc_oppgave/fish-forecast/plot_data.py\u001b[0m:\u001b[36m244\u001b[0m - \u001b[1mPlot saved as /home/anna/msc_oppgave/fish-forecast/Data-Exploration/existing_areas/mac_catches_square_region/10/2018_27d_891s.jpg\u001b[0m\n",
      "\u001b[32m17:59:08.281\u001b[0m | \u001b[1mINFO    \u001b[0m | \u001b[36m/tmp/ipykernel_316592/4002579757.py\u001b[0m:\u001b[36m16\u001b[0m - \u001b[1mPlotting for month 10/2018 took 0.22599267959594727 seconds\u001b[0m\n",
      "\u001b[32m17:59:08.437\u001b[0m | \u001b[1mINFO    \u001b[0m | \u001b[36m/home/anna/msc_oppgave/fish-forecast/plot_data.py\u001b[0m:\u001b[36m244\u001b[0m - \u001b[1mPlot saved as /home/anna/msc_oppgave/fish-forecast/Data-Exploration/existing_areas/mac_catches_square_region/11/2018_16d_130s.jpg\u001b[0m\n",
      "\u001b[32m17:59:08.437\u001b[0m | \u001b[1mINFO    \u001b[0m | \u001b[36m/tmp/ipykernel_316592/4002579757.py\u001b[0m:\u001b[36m16\u001b[0m - \u001b[1mPlotting for month 11/2018 took 0.15461397171020508 seconds\u001b[0m\n"
     ]
    },
    {
     "name": "stdout",
     "output_type": "stream",
     "text": [
      "Plotting for month 11/2018 with 16days, and 130 data points\n",
      "Plotting for month 12/2018 with 2days, and 5 data points\n"
     ]
    },
    {
     "name": "stderr",
     "output_type": "stream",
     "text": [
      "\u001b[32m17:59:08.578\u001b[0m | \u001b[1mINFO    \u001b[0m | \u001b[36m/home/anna/msc_oppgave/fish-forecast/plot_data.py\u001b[0m:\u001b[36m244\u001b[0m - \u001b[1mPlot saved as /home/anna/msc_oppgave/fish-forecast/Data-Exploration/existing_areas/mac_catches_square_region/12/2018_2d_5s.jpg\u001b[0m\n",
      "\u001b[32m17:59:08.578\u001b[0m | \u001b[1mINFO    \u001b[0m | \u001b[36m/tmp/ipykernel_316592/4002579757.py\u001b[0m:\u001b[36m16\u001b[0m - \u001b[1mPlotting for month 12/2018 took 0.1396338939666748 seconds\u001b[0m\n",
      "\u001b[32m17:59:08.726\u001b[0m | \u001b[1mINFO    \u001b[0m | \u001b[36m/home/anna/msc_oppgave/fish-forecast/plot_data.py\u001b[0m:\u001b[36m244\u001b[0m - \u001b[1mPlot saved as /home/anna/msc_oppgave/fish-forecast/Data-Exploration/existing_areas/mac_catches_square_region/01/2019_14d_58s.jpg\u001b[0m\n",
      "\u001b[32m17:59:08.727\u001b[0m | \u001b[1mINFO    \u001b[0m | \u001b[36m/tmp/ipykernel_316592/4002579757.py\u001b[0m:\u001b[36m16\u001b[0m - \u001b[1mPlotting for month 1/2019 took 0.1454930305480957 seconds\u001b[0m\n"
     ]
    },
    {
     "name": "stdout",
     "output_type": "stream",
     "text": [
      "Plotting for month 1/2019 with 14days, and 58 data points\n",
      "Plotting for month 2/2019 with 2days, and 2 data points\n"
     ]
    },
    {
     "name": "stderr",
     "output_type": "stream",
     "text": [
      "\u001b[32m17:59:08.870\u001b[0m | \u001b[1mINFO    \u001b[0m | \u001b[36m/home/anna/msc_oppgave/fish-forecast/plot_data.py\u001b[0m:\u001b[36m244\u001b[0m - \u001b[1mPlot saved as /home/anna/msc_oppgave/fish-forecast/Data-Exploration/existing_areas/mac_catches_square_region/02/2019_2d_2s.jpg\u001b[0m\n",
      "\u001b[32m17:59:08.871\u001b[0m | \u001b[1mINFO    \u001b[0m | \u001b[36m/tmp/ipykernel_316592/4002579757.py\u001b[0m:\u001b[36m16\u001b[0m - \u001b[1mPlotting for month 2/2019 took 0.14325833320617676 seconds\u001b[0m\n",
      "\u001b[32m17:59:09.020\u001b[0m | \u001b[1mINFO    \u001b[0m | \u001b[36m/home/anna/msc_oppgave/fish-forecast/plot_data.py\u001b[0m:\u001b[36m244\u001b[0m - \u001b[1mPlot saved as /home/anna/msc_oppgave/fish-forecast/Data-Exploration/existing_areas/mac_catches_square_region/06/2019_9d_13s.jpg\u001b[0m\n",
      "\u001b[32m17:59:09.021\u001b[0m | \u001b[1mINFO    \u001b[0m | \u001b[36m/tmp/ipykernel_316592/4002579757.py\u001b[0m:\u001b[36m16\u001b[0m - \u001b[1mPlotting for month 6/2019 took 0.14790678024291992 seconds\u001b[0m\n"
     ]
    },
    {
     "name": "stdout",
     "output_type": "stream",
     "text": [
      "Plotting for month 6/2019 with 9days, and 13 data points\n",
      "Plotting for month 7/2019 with 7days, and 16 data points\n"
     ]
    },
    {
     "name": "stderr",
     "output_type": "stream",
     "text": [
      "\u001b[32m17:59:09.169\u001b[0m | \u001b[1mINFO    \u001b[0m | \u001b[36m/home/anna/msc_oppgave/fish-forecast/plot_data.py\u001b[0m:\u001b[36m244\u001b[0m - \u001b[1mPlot saved as /home/anna/msc_oppgave/fish-forecast/Data-Exploration/existing_areas/mac_catches_square_region/07/2019_7d_16s.jpg\u001b[0m\n",
      "\u001b[32m17:59:09.169\u001b[0m | \u001b[1mINFO    \u001b[0m | \u001b[36m/tmp/ipykernel_316592/4002579757.py\u001b[0m:\u001b[36m16\u001b[0m - \u001b[1mPlotting for month 7/2019 took 0.14727091789245605 seconds\u001b[0m\n",
      "\u001b[32m17:59:09.329\u001b[0m | \u001b[1mINFO    \u001b[0m | \u001b[36m/home/anna/msc_oppgave/fish-forecast/plot_data.py\u001b[0m:\u001b[36m244\u001b[0m - \u001b[1mPlot saved as /home/anna/msc_oppgave/fish-forecast/Data-Exploration/existing_areas/mac_catches_square_region/08/2019_2d_18s.jpg\u001b[0m\n",
      "\u001b[32m17:59:09.330\u001b[0m | \u001b[1mINFO    \u001b[0m | \u001b[36m/tmp/ipykernel_316592/4002579757.py\u001b[0m:\u001b[36m16\u001b[0m - \u001b[1mPlotting for month 8/2019 took 0.158951997756958 seconds\u001b[0m\n"
     ]
    },
    {
     "name": "stdout",
     "output_type": "stream",
     "text": [
      "Plotting for month 8/2019 with 2days, and 18 data points\n",
      "Plotting for month 9/2019 with 13days, and 207 data points\n"
     ]
    },
    {
     "name": "stderr",
     "output_type": "stream",
     "text": [
      "\u001b[32m17:59:09.490\u001b[0m | \u001b[1mINFO    \u001b[0m | \u001b[36m/home/anna/msc_oppgave/fish-forecast/plot_data.py\u001b[0m:\u001b[36m244\u001b[0m - \u001b[1mPlot saved as /home/anna/msc_oppgave/fish-forecast/Data-Exploration/existing_areas/mac_catches_square_region/09/2019_13d_207s.jpg\u001b[0m\n",
      "\u001b[32m17:59:09.490\u001b[0m | \u001b[1mINFO    \u001b[0m | \u001b[36m/tmp/ipykernel_316592/4002579757.py\u001b[0m:\u001b[36m16\u001b[0m - \u001b[1mPlotting for month 9/2019 took 0.1587812900543213 seconds\u001b[0m\n"
     ]
    },
    {
     "name": "stdout",
     "output_type": "stream",
     "text": [
      "Plotting for month 10/2019 with 27days, and 597 data points\n"
     ]
    },
    {
     "name": "stderr",
     "output_type": "stream",
     "text": [
      "\u001b[32m17:59:09.724\u001b[0m | \u001b[1mINFO    \u001b[0m | \u001b[36m/home/anna/msc_oppgave/fish-forecast/plot_data.py\u001b[0m:\u001b[36m244\u001b[0m - \u001b[1mPlot saved as /home/anna/msc_oppgave/fish-forecast/Data-Exploration/existing_areas/mac_catches_square_region/10/2019_27d_597s.jpg\u001b[0m\n",
      "\u001b[32m17:59:09.725\u001b[0m | \u001b[1mINFO    \u001b[0m | \u001b[36m/tmp/ipykernel_316592/4002579757.py\u001b[0m:\u001b[36m16\u001b[0m - \u001b[1mPlotting for month 10/2019 took 0.23307394981384277 seconds\u001b[0m\n",
      "\u001b[32m17:59:09.876\u001b[0m | \u001b[1mINFO    \u001b[0m | \u001b[36m/home/anna/msc_oppgave/fish-forecast/plot_data.py\u001b[0m:\u001b[36m244\u001b[0m - \u001b[1mPlot saved as /home/anna/msc_oppgave/fish-forecast/Data-Exploration/existing_areas/mac_catches_square_region/11/2019_9d_29s.jpg\u001b[0m\n",
      "\u001b[32m17:59:09.877\u001b[0m | \u001b[1mINFO    \u001b[0m | \u001b[36m/tmp/ipykernel_316592/4002579757.py\u001b[0m:\u001b[36m16\u001b[0m - \u001b[1mPlotting for month 11/2019 took 0.1503748893737793 seconds\u001b[0m\n"
     ]
    },
    {
     "name": "stdout",
     "output_type": "stream",
     "text": [
      "Plotting for month 11/2019 with 9days, and 29 data points\n",
      "Plotting for month 12/2019 with 3days, and 5 data points\n"
     ]
    },
    {
     "name": "stderr",
     "output_type": "stream",
     "text": [
      "\u001b[32m17:59:10.018\u001b[0m | \u001b[1mINFO    \u001b[0m | \u001b[36m/home/anna/msc_oppgave/fish-forecast/plot_data.py\u001b[0m:\u001b[36m244\u001b[0m - \u001b[1mPlot saved as /home/anna/msc_oppgave/fish-forecast/Data-Exploration/existing_areas/mac_catches_square_region/12/2019_3d_5s.jpg\u001b[0m\n",
      "\u001b[32m17:59:10.019\u001b[0m | \u001b[1mINFO    \u001b[0m | \u001b[36m/tmp/ipykernel_316592/4002579757.py\u001b[0m:\u001b[36m16\u001b[0m - \u001b[1mPlotting for month 12/2019 took 0.1402268409729004 seconds\u001b[0m\n",
      "\u001b[32m17:59:10.172\u001b[0m | \u001b[1mINFO    \u001b[0m | \u001b[36m/home/anna/msc_oppgave/fish-forecast/plot_data.py\u001b[0m:\u001b[36m244\u001b[0m - \u001b[1mPlot saved as /home/anna/msc_oppgave/fish-forecast/Data-Exploration/existing_areas/mac_catches_square_region/01/2020_13d_84s.jpg\u001b[0m\n",
      "\u001b[32m17:59:10.173\u001b[0m | \u001b[1mINFO    \u001b[0m | \u001b[36m/tmp/ipykernel_316592/4002579757.py\u001b[0m:\u001b[36m16\u001b[0m - \u001b[1mPlotting for month 1/2020 took 0.15174007415771484 seconds\u001b[0m\n"
     ]
    },
    {
     "name": "stdout",
     "output_type": "stream",
     "text": [
      "Plotting for month 1/2020 with 13days, and 84 data points\n",
      "Plotting for month 4/2020 with 1days, and 8 data points\n"
     ]
    },
    {
     "name": "stderr",
     "output_type": "stream",
     "text": [
      "\u001b[32m17:59:10.317\u001b[0m | \u001b[1mINFO    \u001b[0m | \u001b[36m/home/anna/msc_oppgave/fish-forecast/plot_data.py\u001b[0m:\u001b[36m244\u001b[0m - \u001b[1mPlot saved as /home/anna/msc_oppgave/fish-forecast/Data-Exploration/existing_areas/mac_catches_square_region/04/2020_1d_8s.jpg\u001b[0m\n",
      "\u001b[32m17:59:10.318\u001b[0m | \u001b[1mINFO    \u001b[0m | \u001b[36m/tmp/ipykernel_316592/4002579757.py\u001b[0m:\u001b[36m16\u001b[0m - \u001b[1mPlotting for month 4/2020 took 0.14366793632507324 seconds\u001b[0m\n",
      "\u001b[32m17:59:10.460\u001b[0m | \u001b[1mINFO    \u001b[0m | \u001b[36m/home/anna/msc_oppgave/fish-forecast/plot_data.py\u001b[0m:\u001b[36m244\u001b[0m - \u001b[1mPlot saved as /home/anna/msc_oppgave/fish-forecast/Data-Exploration/existing_areas/mac_catches_square_region/05/2020_1d_5s.jpg\u001b[0m\n",
      "\u001b[32m17:59:10.461\u001b[0m | \u001b[1mINFO    \u001b[0m | \u001b[36m/tmp/ipykernel_316592/4002579757.py\u001b[0m:\u001b[36m16\u001b[0m - \u001b[1mPlotting for month 5/2020 took 0.14152312278747559 seconds\u001b[0m\n"
     ]
    },
    {
     "name": "stdout",
     "output_type": "stream",
     "text": [
      "Plotting for month 5/2020 with 1days, and 5 data points\n",
      "Plotting for month 6/2020 with 14days, and 37 data points\n"
     ]
    },
    {
     "name": "stderr",
     "output_type": "stream",
     "text": [
      "\u001b[32m17:59:10.606\u001b[0m | \u001b[1mINFO    \u001b[0m | \u001b[36m/home/anna/msc_oppgave/fish-forecast/plot_data.py\u001b[0m:\u001b[36m244\u001b[0m - \u001b[1mPlot saved as /home/anna/msc_oppgave/fish-forecast/Data-Exploration/existing_areas/mac_catches_square_region/06/2020_14d_37s.jpg\u001b[0m\n",
      "\u001b[32m17:59:10.607\u001b[0m | \u001b[1mINFO    \u001b[0m | \u001b[36m/tmp/ipykernel_316592/4002579757.py\u001b[0m:\u001b[36m16\u001b[0m - \u001b[1mPlotting for month 6/2020 took 0.14510059356689453 seconds\u001b[0m\n",
      "\u001b[32m17:59:10.767\u001b[0m | \u001b[1mINFO    \u001b[0m | \u001b[36m/home/anna/msc_oppgave/fish-forecast/plot_data.py\u001b[0m:\u001b[36m244\u001b[0m - \u001b[1mPlot saved as /home/anna/msc_oppgave/fish-forecast/Data-Exploration/existing_areas/mac_catches_square_region/07/2020_5d_14s.jpg\u001b[0m\n",
      "\u001b[32m17:59:10.768\u001b[0m | \u001b[1mINFO    \u001b[0m | \u001b[36m/tmp/ipykernel_316592/4002579757.py\u001b[0m:\u001b[36m16\u001b[0m - \u001b[1mPlotting for month 7/2020 took 0.15951299667358398 seconds\u001b[0m\n"
     ]
    },
    {
     "name": "stdout",
     "output_type": "stream",
     "text": [
      "Plotting for month 7/2020 with 5days, and 14 data points\n",
      "Plotting for month 8/2020 with 3days, and 15 data points\n"
     ]
    },
    {
     "name": "stderr",
     "output_type": "stream",
     "text": [
      "\u001b[32m17:59:10.912\u001b[0m | \u001b[1mINFO    \u001b[0m | \u001b[36m/home/anna/msc_oppgave/fish-forecast/plot_data.py\u001b[0m:\u001b[36m244\u001b[0m - \u001b[1mPlot saved as /home/anna/msc_oppgave/fish-forecast/Data-Exploration/existing_areas/mac_catches_square_region/08/2020_3d_15s.jpg\u001b[0m\n",
      "\u001b[32m17:59:10.913\u001b[0m | \u001b[1mINFO    \u001b[0m | \u001b[36m/tmp/ipykernel_316592/4002579757.py\u001b[0m:\u001b[36m16\u001b[0m - \u001b[1mPlotting for month 8/2020 took 0.1435697078704834 seconds\u001b[0m\n",
      "\u001b[32m17:59:11.065\u001b[0m | \u001b[1mINFO    \u001b[0m | \u001b[36m/home/anna/msc_oppgave/fish-forecast/plot_data.py\u001b[0m:\u001b[36m244\u001b[0m - \u001b[1mPlot saved as /home/anna/msc_oppgave/fish-forecast/Data-Exploration/existing_areas/mac_catches_square_region/09/2020_12d_110s.jpg\u001b[0m\n",
      "\u001b[32m17:59:11.066\u001b[0m | \u001b[1mINFO    \u001b[0m | \u001b[36m/tmp/ipykernel_316592/4002579757.py\u001b[0m:\u001b[36m16\u001b[0m - \u001b[1mPlotting for month 9/2020 took 0.15195226669311523 seconds\u001b[0m\n"
     ]
    },
    {
     "name": "stdout",
     "output_type": "stream",
     "text": [
      "Plotting for month 9/2020 with 12days, and 110 data points\n",
      "Plotting for month 10/2020 with 31days, and 1010 data points\n"
     ]
    },
    {
     "name": "stderr",
     "output_type": "stream",
     "text": [
      "\u001b[32m17:59:11.331\u001b[0m | \u001b[1mINFO    \u001b[0m | \u001b[36m/home/anna/msc_oppgave/fish-forecast/plot_data.py\u001b[0m:\u001b[36m244\u001b[0m - \u001b[1mPlot saved as /home/anna/msc_oppgave/fish-forecast/Data-Exploration/existing_areas/mac_catches_square_region/10/2020_31d_1010s.jpg\u001b[0m\n",
      "\u001b[32m17:59:11.332\u001b[0m | \u001b[1mINFO    \u001b[0m | \u001b[36m/tmp/ipykernel_316592/4002579757.py\u001b[0m:\u001b[36m16\u001b[0m - \u001b[1mPlotting for month 10/2020 took 0.26496100425720215 seconds\u001b[0m\n",
      "\u001b[32m17:59:11.480\u001b[0m | \u001b[1mINFO    \u001b[0m | \u001b[36m/home/anna/msc_oppgave/fish-forecast/plot_data.py\u001b[0m:\u001b[36m244\u001b[0m - \u001b[1mPlot saved as /home/anna/msc_oppgave/fish-forecast/Data-Exploration/existing_areas/mac_catches_square_region/11/2020_12d_83s.jpg\u001b[0m\n",
      "\u001b[32m17:59:11.480\u001b[0m | \u001b[1mINFO    \u001b[0m | \u001b[36m/tmp/ipykernel_316592/4002579757.py\u001b[0m:\u001b[36m16\u001b[0m - \u001b[1mPlotting for month 11/2020 took 0.14646244049072266 seconds\u001b[0m\n"
     ]
    },
    {
     "name": "stdout",
     "output_type": "stream",
     "text": [
      "Plotting for month 11/2020 with 12days, and 83 data points\n",
      "Plotting for month 5/2021 with 1days, and 2 data points\n"
     ]
    },
    {
     "name": "stderr",
     "output_type": "stream",
     "text": [
      "\u001b[32m17:59:11.621\u001b[0m | \u001b[1mINFO    \u001b[0m | \u001b[36m/home/anna/msc_oppgave/fish-forecast/plot_data.py\u001b[0m:\u001b[36m244\u001b[0m - \u001b[1mPlot saved as /home/anna/msc_oppgave/fish-forecast/Data-Exploration/existing_areas/mac_catches_square_region/05/2021_1d_2s.jpg\u001b[0m\n",
      "\u001b[32m17:59:11.621\u001b[0m | \u001b[1mINFO    \u001b[0m | \u001b[36m/tmp/ipykernel_316592/4002579757.py\u001b[0m:\u001b[36m16\u001b[0m - \u001b[1mPlotting for month 5/2021 took 0.13846540451049805 seconds\u001b[0m\n",
      "\u001b[32m17:59:11.764\u001b[0m | \u001b[1mINFO    \u001b[0m | \u001b[36m/home/anna/msc_oppgave/fish-forecast/plot_data.py\u001b[0m:\u001b[36m244\u001b[0m - \u001b[1mPlot saved as /home/anna/msc_oppgave/fish-forecast/Data-Exploration/existing_areas/mac_catches_square_region/06/2021_12d_63s.jpg\u001b[0m\n",
      "\u001b[32m17:59:11.764\u001b[0m | \u001b[1mINFO    \u001b[0m | \u001b[36m/tmp/ipykernel_316592/4002579757.py\u001b[0m:\u001b[36m16\u001b[0m - \u001b[1mPlotting for month 6/2021 took 0.1417675018310547 seconds\u001b[0m\n"
     ]
    },
    {
     "name": "stdout",
     "output_type": "stream",
     "text": [
      "Plotting for month 6/2021 with 12days, and 63 data points\n",
      "Plotting for month 7/2021 with 29days, and 240 data points\n"
     ]
    },
    {
     "name": "stderr",
     "output_type": "stream",
     "text": [
      "\u001b[32m17:59:11.921\u001b[0m | \u001b[1mINFO    \u001b[0m | \u001b[36m/home/anna/msc_oppgave/fish-forecast/plot_data.py\u001b[0m:\u001b[36m244\u001b[0m - \u001b[1mPlot saved as /home/anna/msc_oppgave/fish-forecast/Data-Exploration/existing_areas/mac_catches_square_region/07/2021_29d_240s.jpg\u001b[0m\n",
      "\u001b[32m17:59:11.921\u001b[0m | \u001b[1mINFO    \u001b[0m | \u001b[36m/tmp/ipykernel_316592/4002579757.py\u001b[0m:\u001b[36m16\u001b[0m - \u001b[1mPlotting for month 7/2021 took 0.15566253662109375 seconds\u001b[0m\n"
     ]
    },
    {
     "name": "stdout",
     "output_type": "stream",
     "text": [
      "Plotting for month 8/2021 with 29days, and 1123 data points\n"
     ]
    },
    {
     "name": "stderr",
     "output_type": "stream",
     "text": [
      "\u001b[32m17:59:12.151\u001b[0m | \u001b[1mINFO    \u001b[0m | \u001b[36m/home/anna/msc_oppgave/fish-forecast/plot_data.py\u001b[0m:\u001b[36m244\u001b[0m - \u001b[1mPlot saved as /home/anna/msc_oppgave/fish-forecast/Data-Exploration/existing_areas/mac_catches_square_region/08/2021_29d_1123s.jpg\u001b[0m\n",
      "\u001b[32m17:59:12.151\u001b[0m | \u001b[1mINFO    \u001b[0m | \u001b[36m/tmp/ipykernel_316592/4002579757.py\u001b[0m:\u001b[36m16\u001b[0m - \u001b[1mPlotting for month 8/2021 took 0.22868800163269043 seconds\u001b[0m\n",
      "\u001b[32m17:59:12.348\u001b[0m | \u001b[1mINFO    \u001b[0m | \u001b[36m/home/anna/msc_oppgave/fish-forecast/plot_data.py\u001b[0m:\u001b[36m244\u001b[0m - \u001b[1mPlot saved as /home/anna/msc_oppgave/fish-forecast/Data-Exploration/existing_areas/mac_catches_square_region/09/2021_27d_755s.jpg\u001b[0m\n",
      "\u001b[32m17:59:12.349\u001b[0m | \u001b[1mINFO    \u001b[0m | \u001b[36m/tmp/ipykernel_316592/4002579757.py\u001b[0m:\u001b[36m16\u001b[0m - \u001b[1mPlotting for month 9/2021 took 0.19577360153198242 seconds\u001b[0m\n"
     ]
    },
    {
     "name": "stdout",
     "output_type": "stream",
     "text": [
      "Plotting for month 9/2021 with 27days, and 755 data points\n",
      "Plotting for month 10/2021 with 29days, and 733 data points\n"
     ]
    },
    {
     "name": "stderr",
     "output_type": "stream",
     "text": [
      "\u001b[32m17:59:12.547\u001b[0m | \u001b[1mINFO    \u001b[0m | \u001b[36m/home/anna/msc_oppgave/fish-forecast/plot_data.py\u001b[0m:\u001b[36m244\u001b[0m - \u001b[1mPlot saved as /home/anna/msc_oppgave/fish-forecast/Data-Exploration/existing_areas/mac_catches_square_region/10/2021_29d_733s.jpg\u001b[0m\n",
      "\u001b[32m17:59:12.547\u001b[0m | \u001b[1mINFO    \u001b[0m | \u001b[36m/tmp/ipykernel_316592/4002579757.py\u001b[0m:\u001b[36m16\u001b[0m - \u001b[1mPlotting for month 10/2021 took 0.19745659828186035 seconds\u001b[0m\n",
      "\u001b[32m17:59:12.705\u001b[0m | \u001b[1mINFO    \u001b[0m | \u001b[36m/home/anna/msc_oppgave/fish-forecast/plot_data.py\u001b[0m:\u001b[36m244\u001b[0m - \u001b[1mPlot saved as /home/anna/msc_oppgave/fish-forecast/Data-Exploration/existing_areas/mac_catches_square_region/11/2021_11d_139s.jpg\u001b[0m\n",
      "\u001b[32m17:59:12.705\u001b[0m | \u001b[1mINFO    \u001b[0m | \u001b[36m/tmp/ipykernel_316592/4002579757.py\u001b[0m:\u001b[36m16\u001b[0m - \u001b[1mPlotting for month 11/2021 took 0.15592622756958008 seconds\u001b[0m\n"
     ]
    },
    {
     "name": "stdout",
     "output_type": "stream",
     "text": [
      "Plotting for month 11/2021 with 11days, and 139 data points\n",
      "Plotting for month 6/2022 with 19days, and 202 data points\n"
     ]
    },
    {
     "name": "stderr",
     "output_type": "stream",
     "text": [
      "\u001b[32m17:59:12.862\u001b[0m | \u001b[1mINFO    \u001b[0m | \u001b[36m/home/anna/msc_oppgave/fish-forecast/plot_data.py\u001b[0m:\u001b[36m244\u001b[0m - \u001b[1mPlot saved as /home/anna/msc_oppgave/fish-forecast/Data-Exploration/existing_areas/mac_catches_square_region/06/2022_19d_202s.jpg\u001b[0m\n",
      "\u001b[32m17:59:12.863\u001b[0m | \u001b[1mINFO    \u001b[0m | \u001b[36m/tmp/ipykernel_316592/4002579757.py\u001b[0m:\u001b[36m16\u001b[0m - \u001b[1mPlotting for month 6/2022 took 0.155106782913208 seconds\u001b[0m\n",
      "\u001b[32m17:59:13.043\u001b[0m | \u001b[1mINFO    \u001b[0m | \u001b[36m/home/anna/msc_oppgave/fish-forecast/plot_data.py\u001b[0m:\u001b[36m244\u001b[0m - \u001b[1mPlot saved as /home/anna/msc_oppgave/fish-forecast/Data-Exploration/existing_areas/mac_catches_square_region/07/2022_29d_211s.jpg\u001b[0m\n",
      "\u001b[32m17:59:13.044\u001b[0m | \u001b[1mINFO    \u001b[0m | \u001b[36m/tmp/ipykernel_316592/4002579757.py\u001b[0m:\u001b[36m16\u001b[0m - \u001b[1mPlotting for month 7/2022 took 0.1796708106994629 seconds\u001b[0m\n"
     ]
    },
    {
     "name": "stdout",
     "output_type": "stream",
     "text": [
      "Plotting for month 7/2022 with 29days, and 211 data points\n",
      "Plotting for month 8/2022 with 27days, and 1065 data points\n"
     ]
    },
    {
     "name": "stderr",
     "output_type": "stream",
     "text": [
      "\u001b[32m17:59:13.278\u001b[0m | \u001b[1mINFO    \u001b[0m | \u001b[36m/home/anna/msc_oppgave/fish-forecast/plot_data.py\u001b[0m:\u001b[36m244\u001b[0m - \u001b[1mPlot saved as /home/anna/msc_oppgave/fish-forecast/Data-Exploration/existing_areas/mac_catches_square_region/08/2022_27d_1065s.jpg\u001b[0m\n",
      "\u001b[32m17:59:13.278\u001b[0m | \u001b[1mINFO    \u001b[0m | \u001b[36m/tmp/ipykernel_316592/4002579757.py\u001b[0m:\u001b[36m16\u001b[0m - \u001b[1mPlotting for month 8/2022 took 0.2330946922302246 seconds\u001b[0m\n"
     ]
    },
    {
     "name": "stdout",
     "output_type": "stream",
     "text": [
      "Plotting for month 9/2022 with 29days, and 1639 data points\n"
     ]
    },
    {
     "name": "stderr",
     "output_type": "stream",
     "text": [
      "\u001b[32m17:59:13.550\u001b[0m | \u001b[1mINFO    \u001b[0m | \u001b[36m/home/anna/msc_oppgave/fish-forecast/plot_data.py\u001b[0m:\u001b[36m244\u001b[0m - \u001b[1mPlot saved as /home/anna/msc_oppgave/fish-forecast/Data-Exploration/existing_areas/mac_catches_square_region/09/2022_29d_1639s.jpg\u001b[0m\n",
      "\u001b[32m17:59:13.550\u001b[0m | \u001b[1mINFO    \u001b[0m | \u001b[36m/tmp/ipykernel_316592/4002579757.py\u001b[0m:\u001b[36m16\u001b[0m - \u001b[1mPlotting for month 9/2022 took 0.2706112861633301 seconds\u001b[0m\n",
      "\u001b[32m17:59:13.739\u001b[0m | \u001b[1mINFO    \u001b[0m | \u001b[36m/home/anna/msc_oppgave/fish-forecast/plot_data.py\u001b[0m:\u001b[36m244\u001b[0m - \u001b[1mPlot saved as /home/anna/msc_oppgave/fish-forecast/Data-Exploration/existing_areas/mac_catches_square_region/10/2022_28d_586s.jpg\u001b[0m\n",
      "\u001b[32m17:59:13.740\u001b[0m | \u001b[1mINFO    \u001b[0m | \u001b[36m/tmp/ipykernel_316592/4002579757.py\u001b[0m:\u001b[36m16\u001b[0m - \u001b[1mPlotting for month 10/2022 took 0.18799519538879395 seconds\u001b[0m\n"
     ]
    },
    {
     "name": "stdout",
     "output_type": "stream",
     "text": [
      "Plotting for month 10/2022 with 28days, and 586 data points\n",
      "Plotting for month 11/2022 with 21days, and 237 data points\n"
     ]
    },
    {
     "name": "stderr",
     "output_type": "stream",
     "text": [
      "\u001b[32m17:59:13.896\u001b[0m | \u001b[1mINFO    \u001b[0m | \u001b[36m/home/anna/msc_oppgave/fish-forecast/plot_data.py\u001b[0m:\u001b[36m244\u001b[0m - \u001b[1mPlot saved as /home/anna/msc_oppgave/fish-forecast/Data-Exploration/existing_areas/mac_catches_square_region/11/2022_21d_237s.jpg\u001b[0m\n",
      "\u001b[32m17:59:13.897\u001b[0m | \u001b[1mINFO    \u001b[0m | \u001b[36m/tmp/ipykernel_316592/4002579757.py\u001b[0m:\u001b[36m16\u001b[0m - \u001b[1mPlotting for month 11/2022 took 0.15552854537963867 seconds\u001b[0m\n",
      "\u001b[32m17:59:14.045\u001b[0m | \u001b[1mINFO    \u001b[0m | \u001b[36m/home/anna/msc_oppgave/fish-forecast/plot_data.py\u001b[0m:\u001b[36m244\u001b[0m - \u001b[1mPlot saved as /home/anna/msc_oppgave/fish-forecast/Data-Exploration/existing_areas/mac_catches_square_region/12/2022_1d_1s.jpg\u001b[0m\n",
      "\u001b[32m17:59:14.045\u001b[0m | \u001b[1mINFO    \u001b[0m | \u001b[36m/tmp/ipykernel_316592/4002579757.py\u001b[0m:\u001b[36m16\u001b[0m - \u001b[1mPlotting for month 12/2022 took 0.14716148376464844 seconds\u001b[0m\n"
     ]
    },
    {
     "name": "stdout",
     "output_type": "stream",
     "text": [
      "Plotting for month 12/2022 with 1days, and 1 data points\n",
      "Plotting for month 4/2023 with 2days, and 6 data points\n"
     ]
    },
    {
     "name": "stderr",
     "output_type": "stream",
     "text": [
      "\u001b[32m17:59:14.189\u001b[0m | \u001b[1mINFO    \u001b[0m | \u001b[36m/home/anna/msc_oppgave/fish-forecast/plot_data.py\u001b[0m:\u001b[36m244\u001b[0m - \u001b[1mPlot saved as /home/anna/msc_oppgave/fish-forecast/Data-Exploration/existing_areas/mac_catches_square_region/04/2023_2d_6s.jpg\u001b[0m\n",
      "\u001b[32m17:59:14.189\u001b[0m | \u001b[1mINFO    \u001b[0m | \u001b[36m/tmp/ipykernel_316592/4002579757.py\u001b[0m:\u001b[36m16\u001b[0m - \u001b[1mPlotting for month 4/2023 took 0.14162945747375488 seconds\u001b[0m\n",
      "\u001b[32m17:59:14.330\u001b[0m | \u001b[1mINFO    \u001b[0m | \u001b[36m/home/anna/msc_oppgave/fish-forecast/plot_data.py\u001b[0m:\u001b[36m244\u001b[0m - \u001b[1mPlot saved as /home/anna/msc_oppgave/fish-forecast/Data-Exploration/existing_areas/mac_catches_square_region/05/2023_3d_10s.jpg\u001b[0m\n",
      "\u001b[32m17:59:14.330\u001b[0m | \u001b[1mINFO    \u001b[0m | \u001b[36m/tmp/ipykernel_316592/4002579757.py\u001b[0m:\u001b[36m16\u001b[0m - \u001b[1mPlotting for month 5/2023 took 0.1393730640411377 seconds\u001b[0m\n"
     ]
    },
    {
     "name": "stdout",
     "output_type": "stream",
     "text": [
      "Plotting for month 5/2023 with 3days, and 10 data points\n",
      "Plotting for month 6/2023 with 17days, and 90 data points\n"
     ]
    },
    {
     "name": "stderr",
     "output_type": "stream",
     "text": [
      "\u001b[32m17:59:14.490\u001b[0m | \u001b[1mINFO    \u001b[0m | \u001b[36m/home/anna/msc_oppgave/fish-forecast/plot_data.py\u001b[0m:\u001b[36m244\u001b[0m - \u001b[1mPlot saved as /home/anna/msc_oppgave/fish-forecast/Data-Exploration/existing_areas/mac_catches_square_region/06/2023_17d_90s.jpg\u001b[0m\n",
      "\u001b[32m17:59:14.491\u001b[0m | \u001b[1mINFO    \u001b[0m | \u001b[36m/tmp/ipykernel_316592/4002579757.py\u001b[0m:\u001b[36m16\u001b[0m - \u001b[1mPlotting for month 6/2023 took 0.15966272354125977 seconds\u001b[0m\n",
      "\u001b[32m17:59:14.646\u001b[0m | \u001b[1mINFO    \u001b[0m | \u001b[36m/home/anna/msc_oppgave/fish-forecast/plot_data.py\u001b[0m:\u001b[36m244\u001b[0m - \u001b[1mPlot saved as /home/anna/msc_oppgave/fish-forecast/Data-Exploration/existing_areas/mac_catches_square_region/07/2023_26d_193s.jpg\u001b[0m\n",
      "\u001b[32m17:59:14.646\u001b[0m | \u001b[1mINFO    \u001b[0m | \u001b[36m/tmp/ipykernel_316592/4002579757.py\u001b[0m:\u001b[36m16\u001b[0m - \u001b[1mPlotting for month 7/2023 took 0.1539294719696045 seconds\u001b[0m\n"
     ]
    },
    {
     "name": "stdout",
     "output_type": "stream",
     "text": [
      "Plotting for month 7/2023 with 26days, and 193 data points\n",
      "Plotting for month 8/2023 with 15days, and 355 data points\n"
     ]
    },
    {
     "name": "stderr",
     "output_type": "stream",
     "text": [
      "\u001b[32m17:59:14.839\u001b[0m | \u001b[1mINFO    \u001b[0m | \u001b[36m/home/anna/msc_oppgave/fish-forecast/plot_data.py\u001b[0m:\u001b[36m244\u001b[0m - \u001b[1mPlot saved as /home/anna/msc_oppgave/fish-forecast/Data-Exploration/existing_areas/mac_catches_square_region/08/2023_15d_355s.jpg\u001b[0m\n",
      "\u001b[32m17:59:14.840\u001b[0m | \u001b[1mINFO    \u001b[0m | \u001b[36m/tmp/ipykernel_316592/4002579757.py\u001b[0m:\u001b[36m16\u001b[0m - \u001b[1mPlotting for month 8/2023 took 0.19167280197143555 seconds\u001b[0m\n"
     ]
    },
    {
     "name": "stdout",
     "output_type": "stream",
     "text": [
      "Plotting for month 9/2023 with 28days, and 941 data points\n"
     ]
    },
    {
     "name": "stderr",
     "output_type": "stream",
     "text": [
      "\u001b[32m17:59:15.058\u001b[0m | \u001b[1mINFO    \u001b[0m | \u001b[36m/home/anna/msc_oppgave/fish-forecast/plot_data.py\u001b[0m:\u001b[36m244\u001b[0m - \u001b[1mPlot saved as /home/anna/msc_oppgave/fish-forecast/Data-Exploration/existing_areas/mac_catches_square_region/09/2023_28d_941s.jpg\u001b[0m\n",
      "\u001b[32m17:59:15.058\u001b[0m | \u001b[1mINFO    \u001b[0m | \u001b[36m/tmp/ipykernel_316592/4002579757.py\u001b[0m:\u001b[36m16\u001b[0m - \u001b[1mPlotting for month 9/2023 took 0.21712398529052734 seconds\u001b[0m\n"
     ]
    },
    {
     "name": "stdout",
     "output_type": "stream",
     "text": [
      "Plotting for month 10/2023 with 29days, and 881 data points\n"
     ]
    },
    {
     "name": "stderr",
     "output_type": "stream",
     "text": [
      "\u001b[32m17:59:15.271\u001b[0m | \u001b[1mINFO    \u001b[0m | \u001b[36m/home/anna/msc_oppgave/fish-forecast/plot_data.py\u001b[0m:\u001b[36m244\u001b[0m - \u001b[1mPlot saved as /home/anna/msc_oppgave/fish-forecast/Data-Exploration/existing_areas/mac_catches_square_region/10/2023_29d_881s.jpg\u001b[0m\n",
      "\u001b[32m17:59:15.272\u001b[0m | \u001b[1mINFO    \u001b[0m | \u001b[36m/tmp/ipykernel_316592/4002579757.py\u001b[0m:\u001b[36m16\u001b[0m - \u001b[1mPlotting for month 10/2023 took 0.21220922470092773 seconds\u001b[0m\n",
      "\u001b[32m17:59:15.431\u001b[0m | \u001b[1mINFO    \u001b[0m | \u001b[36m/home/anna/msc_oppgave/fish-forecast/plot_data.py\u001b[0m:\u001b[36m244\u001b[0m - \u001b[1mPlot saved as /home/anna/msc_oppgave/fish-forecast/Data-Exploration/existing_areas/mac_catches_square_region/11/2023_13d_235s.jpg\u001b[0m\n",
      "\u001b[32m17:59:15.432\u001b[0m | \u001b[1mINFO    \u001b[0m | \u001b[36m/tmp/ipykernel_316592/4002579757.py\u001b[0m:\u001b[36m16\u001b[0m - \u001b[1mPlotting for month 11/2023 took 0.15864992141723633 seconds\u001b[0m\n"
     ]
    },
    {
     "name": "stdout",
     "output_type": "stream",
     "text": [
      "Plotting for month 11/2023 with 13days, and 235 data points\n",
      "Plotting for month 12/2023 with 1days, and 3 data points\n"
     ]
    },
    {
     "name": "stderr",
     "output_type": "stream",
     "text": [
      "\u001b[32m17:59:15.581\u001b[0m | \u001b[1mINFO    \u001b[0m | \u001b[36m/home/anna/msc_oppgave/fish-forecast/plot_data.py\u001b[0m:\u001b[36m244\u001b[0m - \u001b[1mPlot saved as /home/anna/msc_oppgave/fish-forecast/Data-Exploration/existing_areas/mac_catches_square_region/12/2023_1d_3s.jpg\u001b[0m\n",
      "\u001b[32m17:59:15.581\u001b[0m | \u001b[1mINFO    \u001b[0m | \u001b[36m/tmp/ipykernel_316592/4002579757.py\u001b[0m:\u001b[36m16\u001b[0m - \u001b[1mPlotting for month 12/2023 took 0.14783024787902832 seconds\u001b[0m\n",
      "\u001b[32m17:59:15.741\u001b[0m | \u001b[1mINFO    \u001b[0m | \u001b[36m/home/anna/msc_oppgave/fish-forecast/plot_data.py\u001b[0m:\u001b[36m244\u001b[0m - \u001b[1mPlot saved as /home/anna/msc_oppgave/fish-forecast/Data-Exploration/existing_areas/mac_catches_square_region/06/2024_16d_228s.jpg\u001b[0m\n",
      "\u001b[32m17:59:15.742\u001b[0m | \u001b[1mINFO    \u001b[0m | \u001b[36m/tmp/ipykernel_316592/4002579757.py\u001b[0m:\u001b[36m16\u001b[0m - \u001b[1mPlotting for month 6/2024 took 0.1577916145324707 seconds\u001b[0m\n"
     ]
    },
    {
     "name": "stdout",
     "output_type": "stream",
     "text": [
      "Plotting for month 6/2024 with 16days, and 228 data points\n",
      "Plotting for month 7/2024 with 26days, and 297 data points\n"
     ]
    },
    {
     "name": "stderr",
     "output_type": "stream",
     "text": [
      "\u001b[32m17:59:15.910\u001b[0m | \u001b[1mINFO    \u001b[0m | \u001b[36m/home/anna/msc_oppgave/fish-forecast/plot_data.py\u001b[0m:\u001b[36m244\u001b[0m - \u001b[1mPlot saved as /home/anna/msc_oppgave/fish-forecast/Data-Exploration/existing_areas/mac_catches_square_region/07/2024_26d_297s.jpg\u001b[0m\n",
      "\u001b[32m17:59:15.911\u001b[0m | \u001b[1mINFO    \u001b[0m | \u001b[36m/tmp/ipykernel_316592/4002579757.py\u001b[0m:\u001b[36m16\u001b[0m - \u001b[1mPlotting for month 7/2024 took 0.16767191886901855 seconds\u001b[0m\n"
     ]
    },
    {
     "name": "stdout",
     "output_type": "stream",
     "text": [
      "Plotting for month 8/2024 with 31days, and 1255 data points\n"
     ]
    },
    {
     "name": "stderr",
     "output_type": "stream",
     "text": [
      "\u001b[32m17:59:16.158\u001b[0m | \u001b[1mINFO    \u001b[0m | \u001b[36m/home/anna/msc_oppgave/fish-forecast/plot_data.py\u001b[0m:\u001b[36m244\u001b[0m - \u001b[1mPlot saved as /home/anna/msc_oppgave/fish-forecast/Data-Exploration/existing_areas/mac_catches_square_region/08/2024_31d_1255s.jpg\u001b[0m\n",
      "\u001b[32m17:59:16.159\u001b[0m | \u001b[1mINFO    \u001b[0m | \u001b[36m/tmp/ipykernel_316592/4002579757.py\u001b[0m:\u001b[36m16\u001b[0m - \u001b[1mPlotting for month 8/2024 took 0.24639368057250977 seconds\u001b[0m\n"
     ]
    },
    {
     "name": "stdout",
     "output_type": "stream",
     "text": [
      "Plotting for month 9/2024 with 30days, and 1443 data points\n"
     ]
    },
    {
     "name": "stderr",
     "output_type": "stream",
     "text": [
      "\u001b[32m17:59:16.442\u001b[0m | \u001b[1mINFO    \u001b[0m | \u001b[36m/home/anna/msc_oppgave/fish-forecast/plot_data.py\u001b[0m:\u001b[36m244\u001b[0m - \u001b[1mPlot saved as /home/anna/msc_oppgave/fish-forecast/Data-Exploration/existing_areas/mac_catches_square_region/09/2024_30d_1443s.jpg\u001b[0m\n",
      "\u001b[32m17:59:16.443\u001b[0m | \u001b[1mINFO    \u001b[0m | \u001b[36m/tmp/ipykernel_316592/4002579757.py\u001b[0m:\u001b[36m16\u001b[0m - \u001b[1mPlotting for month 9/2024 took 0.28307461738586426 seconds\u001b[0m\n",
      "\u001b[32m17:59:16.613\u001b[0m | \u001b[1mINFO    \u001b[0m | \u001b[36m/home/anna/msc_oppgave/fish-forecast/plot_data.py\u001b[0m:\u001b[36m244\u001b[0m - \u001b[1mPlot saved as /home/anna/msc_oppgave/fish-forecast/Data-Exploration/existing_areas/mac_catches_square_region/10/2024_20d_368s.jpg\u001b[0m\n",
      "\u001b[32m17:59:16.614\u001b[0m | \u001b[1mINFO    \u001b[0m | \u001b[36m/tmp/ipykernel_316592/4002579757.py\u001b[0m:\u001b[36m16\u001b[0m - \u001b[1mPlotting for month 10/2024 took 0.16834378242492676 seconds\u001b[0m\n"
     ]
    },
    {
     "name": "stdout",
     "output_type": "stream",
     "text": [
      "Plotting for month 10/2024 with 20days, and 368 data points\n",
      "Plotting for month 11/2024 with 9days, and 34 data points\n"
     ]
    },
    {
     "name": "stderr",
     "output_type": "stream",
     "text": [
      "\u001b[32m17:59:16.757\u001b[0m | \u001b[1mINFO    \u001b[0m | \u001b[36m/home/anna/msc_oppgave/fish-forecast/plot_data.py\u001b[0m:\u001b[36m244\u001b[0m - \u001b[1mPlot saved as /home/anna/msc_oppgave/fish-forecast/Data-Exploration/existing_areas/mac_catches_square_region/11/2024_9d_34s.jpg\u001b[0m\n",
      "\u001b[32m17:59:16.758\u001b[0m | \u001b[1mINFO    \u001b[0m | \u001b[36m/tmp/ipykernel_316592/4002579757.py\u001b[0m:\u001b[36m16\u001b[0m - \u001b[1mPlotting for month 11/2024 took 0.14289307594299316 seconds\u001b[0m\n"
     ]
    }
   ],
   "source": [
    "# # Plot all catches in the square region for each month\n",
    "# path = Path('/home/anna/msc_oppgave/fish-forecast/Data-Exploration/existing_areas/')\n",
    "# save_path = path / 'mac_catches_download_region'\n",
    "# save_path.mkdir(parents=True, exist_ok=True)\n",
    "# for year in range(years[0], years[1] + 1):\n",
    "# \tdf_year = df_full[df_full['Date'].dt.year == year]\n",
    "# \tfor month in df_year['Date'].dt.month.unique():\n",
    "# \t\tmonth_data = df_year[df_year['Date'].dt.month == month]\n",
    "# \t\tdays = len(month_data['Date'].unique())\n",
    "# \t\tsamples = len(month_data)\n",
    "# \t\tprint(f\"Plotting for month {month}/{year} with {len(month_data['Date'].unique())}days, and {len(month_data)} data points\")\n",
    "# \t\tstart_time = time()\n",
    "# \t\tsave_path_month = save_path / f\"{month:02d}\"\n",
    "# \t\tsave_path_month.mkdir(parents=True, exist_ok=True)\n",
    "# \t\tplot_all_catches(month_data, region_coords, save_path=f\"{save_path_month}/{year}_{days}d_{samples}s.jpg\", use_catch_weight=False)\n",
    "# \t\tlogger.info(f\"Plotting for month {month}/{year} took {time() - start_time} seconds\")"
   ]
  }
 ],
 "metadata": {
  "kernelspec": {
   "display_name": ".venv",
   "language": "python",
   "name": "python3"
  },
  "language_info": {
   "codemirror_mode": {
    "name": "ipython",
    "version": 3
   },
   "file_extension": ".py",
   "mimetype": "text/x-python",
   "name": "python",
   "nbconvert_exporter": "python",
   "pygments_lexer": "ipython3",
   "version": "3.10.12"
  }
 },
 "nbformat": 4,
 "nbformat_minor": 5
}
